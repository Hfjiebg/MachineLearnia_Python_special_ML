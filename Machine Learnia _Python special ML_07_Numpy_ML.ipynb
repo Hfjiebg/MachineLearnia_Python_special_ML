{
 "cells": [
  {
   "cell_type": "markdown",
   "id": "b1b41226-f1c2-4d49-bad6-8e2b51461a0f",
   "metadata": {},
   "source": [
    "# Numpy"
   ]
  },
  {
   "cell_type": "markdown",
   "id": "502b8a9a-b0cc-4375-a360-5c1ef1bff7cb",
   "metadata": {},
   "source": [
    "URL : https://youtu.be/NzDQTrqsxas?si=m27I7Av-n_xck9oD"
   ]
  },
  {
   "cell_type": "markdown",
   "id": "25fc50b2-26f8-4c00-b638-87595dbaf125",
   "metadata": {},
   "source": [
    "## Initialiser un nd.array avec des constructeurs"
   ]
  },
  {
   "cell_type": "code",
   "execution_count": 215,
   "id": "54a0214c-b18c-41dc-b644-eb705da471e0",
   "metadata": {},
   "outputs": [],
   "source": [
    "import numpy as np"
   ]
  },
  {
   "cell_type": "code",
   "execution_count": 216,
   "id": "3089a4fd-dfe0-429d-91bc-499c9d62de0c",
   "metadata": {},
   "outputs": [
    {
     "data": {
      "text/plain": [
       "array([1, 2, 3])"
      ]
     },
     "execution_count": 216,
     "metadata": {},
     "output_type": "execute_result"
    }
   ],
   "source": [
    "# créer un tableau avec 1 dimension qui contient les nbres 1, 2 et 3\n",
    "A = np.array([1,2,3])\n",
    "\n",
    "#afficher A (objet de la classe nd.array)\n",
    "A"
   ]
  },
  {
   "cell_type": "markdown",
   "id": "3d2e61f2-085b-4972-bba7-694ae1f82731",
   "metadata": {},
   "source": [
    "### ndim, shape, size"
   ]
  },
  {
   "cell_type": "code",
   "execution_count": 218,
   "id": "c1262dfb-74cc-4bea-823c-589e4198ddcc",
   "metadata": {},
   "outputs": [
    {
     "data": {
      "text/plain": [
       "1"
      ]
     },
     "execution_count": 218,
     "metadata": {},
     "output_type": "execute_result"
    }
   ],
   "source": [
    "#nombre de dimensions de A\n",
    "A.ndim"
   ]
  },
  {
   "cell_type": "code",
   "execution_count": 219,
   "id": "684ff04e-2f53-4ce6-93c2-8dfc378fb8e4",
   "metadata": {},
   "outputs": [
    {
     "data": {
      "text/plain": [
       "(3,)"
      ]
     },
     "execution_count": 219,
     "metadata": {},
     "output_type": "execute_result"
    }
   ],
   "source": [
    "#la forme de A\n",
    "A.shape"
   ]
  },
  {
   "cell_type": "code",
   "execution_count": 220,
   "id": "3304f0c0-c9b1-4577-b842-018aef7d1564",
   "metadata": {},
   "outputs": [
    {
     "data": {
      "text/plain": [
       "3"
      ]
     },
     "execution_count": 220,
     "metadata": {},
     "output_type": "execute_result"
    }
   ],
   "source": [
    "#la taille de A\n",
    "A.size"
   ]
  },
  {
   "cell_type": "markdown",
   "id": "64059bb4-9cd1-4944-a5b8-52453f70f647",
   "metadata": {},
   "source": [
    "### np.zeros"
   ]
  },
  {
   "cell_type": "code",
   "execution_count": 222,
   "id": "04d70ac3-35f6-47c2-9639-1af4c70a9282",
   "metadata": {},
   "outputs": [
    {
     "data": {
      "text/plain": [
       "array([[0., 0.],\n",
       "       [0., 0.],\n",
       "       [0., 0.]])"
      ]
     },
     "execution_count": 222,
     "metadata": {},
     "output_type": "execute_result"
    }
   ],
   "source": [
    "#tableau rempli de zeros avec 3 lignes et 2 colonnes\n",
    "B = np.zeros((3, 2))\n",
    "\n",
    "#afficher B\n",
    "B"
   ]
  },
  {
   "cell_type": "code",
   "execution_count": 223,
   "id": "28a8495e-1b4f-4874-8e5c-cede3c639057",
   "metadata": {},
   "outputs": [
    {
     "data": {
      "text/plain": [
       "2"
      ]
     },
     "execution_count": 223,
     "metadata": {},
     "output_type": "execute_result"
    }
   ],
   "source": [
    "# nombre de dimensions de B\n",
    "B.ndim"
   ]
  },
  {
   "cell_type": "code",
   "execution_count": 224,
   "id": "3dd7d8c8-701c-4faf-92b7-7fffd2678893",
   "metadata": {},
   "outputs": [
    {
     "data": {
      "text/plain": [
       "(3, 2)"
      ]
     },
     "execution_count": 224,
     "metadata": {},
     "output_type": "execute_result"
    }
   ],
   "source": [
    "#forme de B\n",
    "B.shape"
   ]
  },
  {
   "cell_type": "markdown",
   "id": "4b7a6cdf-9def-49c0-a166-3769b26ad50b",
   "metadata": {},
   "source": [
    "**NB:** shape est un tuple:"
   ]
  },
  {
   "cell_type": "code",
   "execution_count": 226,
   "id": "a2f701e3-9aa5-4c15-a721-d9a69eef7104",
   "metadata": {},
   "outputs": [
    {
     "data": {
      "text/plain": [
       "tuple"
      ]
     },
     "execution_count": 226,
     "metadata": {},
     "output_type": "execute_result"
    }
   ],
   "source": [
    "type(B.shape)"
   ]
  },
  {
   "cell_type": "code",
   "execution_count": 227,
   "id": "d7abbfcb-5a70-4093-a24b-01a80954e212",
   "metadata": {},
   "outputs": [
    {
     "data": {
      "text/plain": [
       "3"
      ]
     },
     "execution_count": 227,
     "metadata": {},
     "output_type": "execute_result"
    }
   ],
   "source": [
    "B.shape[0]"
   ]
  },
  {
   "cell_type": "code",
   "execution_count": 228,
   "id": "18b3429b-ba31-4a4a-9e5f-b36a30e999a2",
   "metadata": {},
   "outputs": [
    {
     "data": {
      "text/plain": [
       "2"
      ]
     },
     "execution_count": 228,
     "metadata": {},
     "output_type": "execute_result"
    }
   ],
   "source": [
    "B.shape[1]"
   ]
  },
  {
   "cell_type": "markdown",
   "id": "cb240e10-350b-4665-8dae-434d55e6239c",
   "metadata": {},
   "source": [
    "### np.ones"
   ]
  },
  {
   "cell_type": "code",
   "execution_count": 230,
   "id": "9b38b0b0-8e1f-4a0f-b6a5-59a0cbdfb0a6",
   "metadata": {},
   "outputs": [
    {
     "data": {
      "text/plain": [
       "array([[0., 0., 0., 0.],\n",
       "       [0., 0., 0., 0.],\n",
       "       [0., 0., 0., 0.]])"
      ]
     },
     "execution_count": 230,
     "metadata": {},
     "output_type": "execute_result"
    }
   ],
   "source": [
    "#tableau rempli de 1 avec 3 lignes et 4 colonnes\n",
    "C = np.zeros((3, 4))\n",
    "\n",
    "#afficher C\n",
    "C"
   ]
  },
  {
   "cell_type": "code",
   "execution_count": 231,
   "id": "570b61dd-35e5-42cd-b9b2-952a6f71c605",
   "metadata": {},
   "outputs": [
    {
     "data": {
      "text/plain": [
       "12"
      ]
     },
     "execution_count": 231,
     "metadata": {},
     "output_type": "execute_result"
    }
   ],
   "source": [
    "#la taille de C (nbre d'éléments du tableau C = 3x4)\n",
    "C.size"
   ]
  },
  {
   "cell_type": "markdown",
   "id": "668c70cb-577d-4160-9d0b-f44d39004969",
   "metadata": {},
   "source": [
    "### np.full"
   ]
  },
  {
   "cell_type": "code",
   "execution_count": 233,
   "id": "6c698a8a-9593-42dc-9c5f-8a851e9ba681",
   "metadata": {},
   "outputs": [
    {
     "data": {
      "text/plain": [
       "array([[9, 9, 9],\n",
       "       [9, 9, 9]])"
      ]
     },
     "execution_count": 233,
     "metadata": {},
     "output_type": "execute_result"
    }
   ],
   "source": [
    "#tableau avec 2 lignes et 3 colonnes rempli de 9\n",
    "D = np.full((2, 3), 9)\n",
    "\n",
    "#afficher D\n",
    "D"
   ]
  },
  {
   "cell_type": "markdown",
   "id": "1e57a2a7-0a42-4681-8da4-0d0798136073",
   "metadata": {},
   "source": [
    "## np.random.randn"
   ]
  },
  {
   "cell_type": "code",
   "execution_count": 235,
   "id": "07d86d8b-ee5d-4ec4-8ebb-a44df8d504e1",
   "metadata": {},
   "outputs": [
    {
     "data": {
      "text/plain": [
       "array([[-1.2928905 ,  0.7461907 ,  1.82452417,  0.79850258],\n",
       "       [ 0.32420224, -0.92201826, -0.1955414 , -0.03682772],\n",
       "       [-0.45777051, -0.43382264,  0.15131969, -1.35161437]])"
      ]
     },
     "execution_count": 235,
     "metadata": {},
     "output_type": "execute_result"
    }
   ],
   "source": [
    "#initialiser un tableau avec des nbrs aléatoires issus de la distribution normale centrée en 0\n",
    "#avec 3 lignes et 4 colonnes\n",
    "np.random.randn(3, 4)"
   ]
  },
  {
   "cell_type": "code",
   "execution_count": 236,
   "id": "6bd76c49-b469-4a77-871e-f455d95953b5",
   "metadata": {},
   "outputs": [
    {
     "data": {
      "text/plain": [
       "array([[-0.66758603,  0.31557699,  1.42307253, -0.06208412],\n",
       "       [-1.36704744, -0.52535433, -1.73922469,  0.73002287],\n",
       "       [-0.30373979, -0.38103185,  0.51362757,  0.18995932]])"
      ]
     },
     "execution_count": 236,
     "metadata": {},
     "output_type": "execute_result"
    }
   ],
   "source": [
    "#le tableau change à chaque fois qu'on exécute le code\n",
    "np.random.randn(3, 4)"
   ]
  },
  {
   "cell_type": "code",
   "execution_count": 237,
   "id": "8c4e641e-fa5a-49fa-a564-688dc9d24fd4",
   "metadata": {},
   "outputs": [
    {
     "data": {
      "text/plain": [
       "array([[ 1.76405235,  0.40015721,  0.97873798,  2.2408932 ],\n",
       "       [ 1.86755799, -0.97727788,  0.95008842, -0.15135721],\n",
       "       [-0.10321885,  0.4105985 ,  0.14404357,  1.45427351]])"
      ]
     },
     "execution_count": 237,
     "metadata": {},
     "output_type": "execute_result"
    }
   ],
   "source": [
    "#pour éviter que le tableau change à chaque fois que le code est exécuté\n",
    "#on emploie la fonction seed()\n",
    "np.random.seed(0)  #fixer avec le nbre 0\n",
    "np.random.randn(3, 4)"
   ]
  },
  {
   "cell_type": "code",
   "execution_count": 238,
   "id": "6dfe8d65-11f2-420b-ade4-53fd8e0c9e18",
   "metadata": {},
   "outputs": [
    {
     "data": {
      "text/plain": [
       "array([[ 1.76405235,  0.40015721,  0.97873798,  2.2408932 ],\n",
       "       [ 1.86755799, -0.97727788,  0.95008842, -0.15135721],\n",
       "       [-0.10321885,  0.4105985 ,  0.14404357,  1.45427351]])"
      ]
     },
     "execution_count": 238,
     "metadata": {},
     "output_type": "execute_result"
    }
   ],
   "source": [
    "np.random.seed(0)\n",
    "np.random.randn(3, 4)\n",
    "\n",
    "#le tableau ne va plus changer"
   ]
  },
  {
   "cell_type": "code",
   "execution_count": 239,
   "id": "fba9e2c9-354a-48fe-a9a3-ac78ca7862dd",
   "metadata": {},
   "outputs": [
    {
     "data": {
      "text/plain": [
       "array([[ 1.35931174,  0.76800742, -1.2632608 , -0.48042586],\n",
       "       [-0.49189972, -0.72595927, -1.71484968,  1.24041464],\n",
       "       [ 1.04295646, -0.02112269,  1.59385897,  0.08259306]])"
      ]
     },
     "execution_count": 239,
     "metadata": {},
     "output_type": "execute_result"
    }
   ],
   "source": [
    "#si on veut un autre tableau (avec des nbres aléatoires et la même taille)\n",
    "np.random.seed(87678)\n",
    "np.random.randn(3, 4)"
   ]
  },
  {
   "cell_type": "code",
   "execution_count": 240,
   "id": "f1870bd2-0054-49c9-bb0a-49dcf794a022",
   "metadata": {},
   "outputs": [
    {
     "data": {
      "text/plain": [
       "array([[ 1.35931174,  0.76800742, -1.2632608 , -0.48042586],\n",
       "       [-0.49189972, -0.72595927, -1.71484968,  1.24041464],\n",
       "       [ 1.04295646, -0.02112269,  1.59385897,  0.08259306]])"
      ]
     },
     "execution_count": 240,
     "metadata": {},
     "output_type": "execute_result"
    }
   ],
   "source": [
    "np.random.seed(87678)\n",
    "np.random.randn(3, 4)\n",
    "\n",
    "#le tableau ne change pas"
   ]
  },
  {
   "cell_type": "markdown",
   "id": "edb59c07-c6cd-4d59-ac3d-101bd87a3806",
   "metadata": {},
   "source": [
    "### np.eye"
   ]
  },
  {
   "cell_type": "code",
   "execution_count": 242,
   "id": "8366f309-933b-4173-b427-c73ed4879cd6",
   "metadata": {},
   "outputs": [
    {
     "data": {
      "text/plain": [
       "array([[1., 0., 0., 0.],\n",
       "       [0., 1., 0., 0.],\n",
       "       [0., 0., 1., 0.],\n",
       "       [0., 0., 0., 1.]])"
      ]
     },
     "execution_count": 242,
     "metadata": {},
     "output_type": "execute_result"
    }
   ],
   "source": [
    "#matrice identité avec 4 lignes et 4 colonnes\n",
    "np.eye(4)"
   ]
  },
  {
   "cell_type": "markdown",
   "id": "b0f466c5-2546-4620-8b28-e10c4b471a35",
   "metadata": {},
   "source": [
    "### np.linspace(debut, fin, nbre d'elements)"
   ]
  },
  {
   "cell_type": "code",
   "execution_count": 244,
   "id": "9fe8505d-749e-4c28-9c5b-27045ec7ec42",
   "metadata": {},
   "outputs": [
    {
     "data": {
      "text/plain": [
       "array([ 0.        ,  0.52631579,  1.05263158,  1.57894737,  2.10526316,\n",
       "        2.63157895,  3.15789474,  3.68421053,  4.21052632,  4.73684211,\n",
       "        5.26315789,  5.78947368,  6.31578947,  6.84210526,  7.36842105,\n",
       "        7.89473684,  8.42105263,  8.94736842,  9.47368421, 10.        ])"
      ]
     },
     "execution_count": 244,
     "metadata": {},
     "output_type": "execute_result"
    }
   ],
   "source": [
    "#tableau à 1 dim, avec 20 éléments entre 0 et 10\n",
    "np.linspace(0, 10, 20)"
   ]
  },
  {
   "cell_type": "markdown",
   "id": "6271738e-a57c-47ce-8fa4-e81d2b73e3de",
   "metadata": {},
   "source": [
    "### np.arange(debut, fin, nbre de pas)"
   ]
  },
  {
   "cell_type": "code",
   "execution_count": 246,
   "id": "9fb153a9-5865-479c-b7c2-6fcb1b7085e2",
   "metadata": {},
   "outputs": [
    {
     "data": {
      "text/plain": [
       "array([0, 1, 2, 3, 4, 5, 6, 7, 8, 9])"
      ]
     },
     "execution_count": 246,
     "metadata": {},
     "output_type": "execute_result"
    }
   ],
   "source": [
    "#tableau à 1 dim, avec un pas = 1, allant de 0 à 10\n",
    "np.arange(0, 10, 1)"
   ]
  },
  {
   "cell_type": "code",
   "execution_count": 247,
   "id": "b7fda8d6-415c-463c-a683-20a66fa46fc8",
   "metadata": {},
   "outputs": [
    {
     "data": {
      "text/plain": [
       "array([0. , 0.5, 1. , 1.5, 2. , 2.5, 3. , 3.5, 4. , 4.5, 5. , 5.5, 6. ,\n",
       "       6.5, 7. , 7.5, 8. , 8.5, 9. , 9.5])"
      ]
     },
     "execution_count": 247,
     "metadata": {},
     "output_type": "execute_result"
    }
   ],
   "source": [
    "#tableau à 1 dim, avec des élémenst allant de 0 à 10 avec un pas = 0,5\n",
    "np.arange(0, 10, 0.5)"
   ]
  },
  {
   "cell_type": "markdown",
   "id": "c0f5ca20-02e6-421d-abab-cb6743a9020a",
   "metadata": {},
   "source": [
    "### dtype"
   ]
  },
  {
   "cell_type": "code",
   "execution_count": 249,
   "id": "0e49e6bf-b6f2-42a9-8912-fcdabcc357ab",
   "metadata": {},
   "outputs": [
    {
     "data": {
      "text/plain": [
       "array([ 0.        ,  0.52631579,  1.05263158,  1.57894737,  2.10526316,\n",
       "        2.63157895,  3.15789474,  3.68421053,  4.21052632,  4.73684211,\n",
       "        5.26315789,  5.78947368,  6.31578947,  6.84210526,  7.36842105,\n",
       "        7.89473684,  8.42105263,  8.94736842,  9.47368421, 10.        ])"
      ]
     },
     "execution_count": 249,
     "metadata": {},
     "output_type": "execute_result"
    }
   ],
   "source": [
    "#tableau à 1 dim, avec 20 éléments entre 0 et 10\n",
    "np.linspace(0, 10, 20, dtype = np.float64)  #grande précision (chaque élément occupe 64 bits en mémoire), programme lent a l'exécution"
   ]
  },
  {
   "cell_type": "code",
   "execution_count": 250,
   "id": "ff721eb3-ede0-4ffc-9a53-155ef355eb8f",
   "metadata": {},
   "outputs": [
    {
     "data": {
      "text/plain": [
       "array([ 0.    ,  0.5264,  1.053 ,  1.579 ,  2.105 ,  2.63  ,  3.158 ,\n",
       "        3.684 ,  4.21  ,  4.74  ,  5.26  ,  5.79  ,  6.316 ,  6.844 ,\n",
       "        7.367 ,  7.895 ,  8.42  ,  8.945 ,  9.48  , 10.    ],\n",
       "      dtype=float16)"
      ]
     },
     "execution_count": 250,
     "metadata": {},
     "output_type": "execute_result"
    }
   ],
   "source": [
    "#tableau à 1 dim, avec 20 éléments entre 0 et 10\n",
    "np.linspace(0, 10, 20, dtype = np.float16)  #(chaque élément occupe 16 bits en mémoire), plus rapide à l'exécution"
   ]
  },
  {
   "cell_type": "markdown",
   "id": "67e3a61d-4f91-4b2f-b76c-96f82c5afa34",
   "metadata": {},
   "source": [
    "## Manipulation des tableaux"
   ]
  },
  {
   "cell_type": "code",
   "execution_count": 252,
   "id": "51312f7b-459d-4b78-97f1-0e04a0aec2b4",
   "metadata": {},
   "outputs": [],
   "source": [
    "#créer 2 tableaux\n",
    "A = np.zeros((3,2)) #tableau de 3 lignes et 2 colonnes rempli de 0 \n",
    "B = np.ones((3,2))  #tableau de 3 lignes et 2 colonnes rempli de 1"
   ]
  },
  {
   "cell_type": "code",
   "execution_count": 253,
   "id": "29e5b19b-1886-4a9b-a302-b4006a759782",
   "metadata": {},
   "outputs": [
    {
     "name": "stdout",
     "output_type": "stream",
     "text": [
      "[[0. 0.]\n",
      " [0. 0.]\n",
      " [0. 0.]]\n"
     ]
    }
   ],
   "source": [
    "#afficher A\n",
    "print(A)"
   ]
  },
  {
   "cell_type": "code",
   "execution_count": 254,
   "id": "41a45640-1ae4-4d92-8822-17e2151c0e5b",
   "metadata": {},
   "outputs": [
    {
     "name": "stdout",
     "output_type": "stream",
     "text": [
      "[[1. 1.]\n",
      " [1. 1.]\n",
      " [1. 1.]]\n"
     ]
    }
   ],
   "source": [
    "#afficher B\n",
    "print(B)"
   ]
  },
  {
   "cell_type": "markdown",
   "id": "a85b9e1a-bb34-45e3-a138-54f757c27fb0",
   "metadata": {},
   "source": [
    "### np.hstack, np.vstack"
   ]
  },
  {
   "cell_type": "code",
   "execution_count": 256,
   "id": "49f65a3a-4378-40d0-a2a0-61cb1ba1310e",
   "metadata": {},
   "outputs": [
    {
     "data": {
      "text/plain": [
       "array([[0., 0.],\n",
       "       [0., 0.],\n",
       "       [0., 0.],\n",
       "       [1., 1.],\n",
       "       [1., 1.],\n",
       "       [1., 1.]])"
      ]
     },
     "execution_count": 256,
     "metadata": {},
     "output_type": "execute_result"
    }
   ],
   "source": [
    "#stacker les tableaux verticalement\n",
    "C = np.vstack((A,B))\n",
    "\n",
    "#afficher C\n",
    "C"
   ]
  },
  {
   "cell_type": "code",
   "execution_count": 257,
   "id": "8f4263ae-2e6c-4840-8e2d-23c41aee2613",
   "metadata": {},
   "outputs": [
    {
     "data": {
      "text/plain": [
       "(6, 2)"
      ]
     },
     "execution_count": 257,
     "metadata": {},
     "output_type": "execute_result"
    }
   ],
   "source": [
    "C.shape"
   ]
  },
  {
   "cell_type": "code",
   "execution_count": 258,
   "id": "662aea23-3b48-4b9e-b29d-c85992eaf483",
   "metadata": {},
   "outputs": [
    {
     "data": {
      "text/plain": [
       "array([[0., 0., 1., 1.],\n",
       "       [0., 0., 1., 1.],\n",
       "       [0., 0., 1., 1.]])"
      ]
     },
     "execution_count": 258,
     "metadata": {},
     "output_type": "execute_result"
    }
   ],
   "source": [
    "#stacker les tableaux horizontalement\n",
    "D = np.hstack((A,B))\n",
    "\n",
    "#afficher D\n",
    "D"
   ]
  },
  {
   "cell_type": "code",
   "execution_count": 259,
   "id": "a9a10d7a-c0db-435f-bedb-ce12e914d122",
   "metadata": {},
   "outputs": [
    {
     "data": {
      "text/plain": [
       "(3, 4)"
      ]
     },
     "execution_count": 259,
     "metadata": {},
     "output_type": "execute_result"
    }
   ],
   "source": [
    "D.shape"
   ]
  },
  {
   "cell_type": "markdown",
   "id": "22d13929-8fa7-4e0e-99d9-e19bf7b8d039",
   "metadata": {},
   "source": [
    "On peut utiliser **np.concatenate** pour avoir les memes resultats."
   ]
  },
  {
   "cell_type": "markdown",
   "id": "e2aa22c2-68e8-4091-9961-ecd3eed2b1bc",
   "metadata": {},
   "source": [
    "### np.concatenate"
   ]
  },
  {
   "cell_type": "code",
   "execution_count": 262,
   "id": "291c3364-daf9-406c-9406-343424b2c903",
   "metadata": {},
   "outputs": [
    {
     "data": {
      "text/plain": [
       "array([[0., 0.],\n",
       "       [0., 0.],\n",
       "       [0., 0.],\n",
       "       [1., 1.],\n",
       "       [1., 1.],\n",
       "       [1., 1.]])"
      ]
     },
     "execution_count": 262,
     "metadata": {},
     "output_type": "execute_result"
    }
   ],
   "source": [
    "#coller les tableaux A et B de façon verticale (axis=0), semblable à np.vstack\n",
    "np.concatenate((A,B), axis = 0)"
   ]
  },
  {
   "cell_type": "code",
   "execution_count": 263,
   "id": "219496b0-99f5-495d-8886-a82d0a57b27b",
   "metadata": {},
   "outputs": [
    {
     "data": {
      "text/plain": [
       "array([[0., 0., 1., 1.],\n",
       "       [0., 0., 1., 1.],\n",
       "       [0., 0., 1., 1.]])"
      ]
     },
     "execution_count": 263,
     "metadata": {},
     "output_type": "execute_result"
    }
   ],
   "source": [
    "#coller les tableaux A et B de façon horizontale (axis=1), semblable à np.hstack\n",
    "np.concatenate((A,B), axis = 1)"
   ]
  },
  {
   "cell_type": "markdown",
   "id": "8c89bd43-d526-4d81-9aeb-6fe54ab565ad",
   "metadata": {},
   "source": [
    "**(NB: Il est preferable d'utiliser np.concatenate)**"
   ]
  },
  {
   "cell_type": "markdown",
   "id": "bbee12df-dea5-425e-9825-a389ac266429",
   "metadata": {},
   "source": [
    "### np.reshape"
   ]
  },
  {
   "cell_type": "code",
   "execution_count": 266,
   "id": "6c760f26-c574-404b-bdff-6a61c447b782",
   "metadata": {},
   "outputs": [
    {
     "data": {
      "text/plain": [
       "array([[0., 0.],\n",
       "       [0., 0.],\n",
       "       [0., 0.],\n",
       "       [1., 1.],\n",
       "       [1., 1.],\n",
       "       [1., 1.]])"
      ]
     },
     "execution_count": 266,
     "metadata": {},
     "output_type": "execute_result"
    }
   ],
   "source": [
    "C"
   ]
  },
  {
   "cell_type": "code",
   "execution_count": 267,
   "id": "2641401b-e1b0-47bd-8e16-b893dd02c53a",
   "metadata": {},
   "outputs": [
    {
     "data": {
      "text/plain": [
       "12"
      ]
     },
     "execution_count": 267,
     "metadata": {},
     "output_type": "execute_result"
    }
   ],
   "source": [
    "C.size"
   ]
  },
  {
   "cell_type": "code",
   "execution_count": 268,
   "id": "ae9b0b07-6826-450a-95db-66b226f819b5",
   "metadata": {},
   "outputs": [
    {
     "data": {
      "text/plain": [
       "(6, 2)"
      ]
     },
     "execution_count": 268,
     "metadata": {},
     "output_type": "execute_result"
    }
   ],
   "source": [
    "C.shape"
   ]
  },
  {
   "cell_type": "code",
   "execution_count": 269,
   "id": "8220720f-124e-4ca5-9ff7-5e80754ddf6e",
   "metadata": {},
   "outputs": [
    {
     "data": {
      "text/plain": [
       "array([[0., 0., 0., 0.],\n",
       "       [0., 0., 1., 1.],\n",
       "       [1., 1., 1., 1.]])"
      ]
     },
     "execution_count": 269,
     "metadata": {},
     "output_type": "execute_result"
    }
   ],
   "source": [
    "#reformer en un tableau avec la forme (3,4)\n",
    "C.reshape((3,4))"
   ]
  },
  {
   "cell_type": "code",
   "execution_count": 270,
   "id": "15101ad3-7994-4d25-84b7-69202a1d654e",
   "metadata": {},
   "outputs": [
    {
     "data": {
      "text/plain": [
       "array([1, 2, 3])"
      ]
     },
     "execution_count": 270,
     "metadata": {},
     "output_type": "execute_result"
    }
   ],
   "source": [
    "A = np.array([1, 2, 3])\n",
    "\n",
    "#afficher A\n",
    "A"
   ]
  },
  {
   "cell_type": "code",
   "execution_count": 271,
   "id": "49427237-b7e6-4a7e-ad63-79520ee5f1b3",
   "metadata": {},
   "outputs": [
    {
     "data": {
      "text/plain": [
       "(3,)"
      ]
     },
     "execution_count": 271,
     "metadata": {},
     "output_type": "execute_result"
    }
   ],
   "source": [
    "A.shape"
   ]
  },
  {
   "cell_type": "markdown",
   "id": "84aee3c5-cd45-4b91-b02a-22b6fabdc85e",
   "metadata": {},
   "source": [
    "Pour manipuler les tableaux, on a parfois besoin de reformer un tableau avec une forme (n,) en (n,1).\n",
    "\n",
    "\"n\" étant le nbre de lignes dans le tableau.\n",
    "\n",
    "Dans ce cas, on applique le code:"
   ]
  },
  {
   "cell_type": "code",
   "execution_count": 273,
   "id": "c4b65350-a88d-4769-ad9c-ef761d02a33b",
   "metadata": {},
   "outputs": [
    {
     "data": {
      "text/plain": [
       "(3, 1)"
      ]
     },
     "execution_count": 273,
     "metadata": {},
     "output_type": "execute_result"
    }
   ],
   "source": [
    "A = np.array([1, 2, 3])\n",
    "\n",
    "#reformer le tableau A de (3,) en (3,1)\n",
    "A = A.reshape((A.shape[0], 1))  #A.shape[0]= 3\n",
    "\n",
    "A.shape"
   ]
  },
  {
   "cell_type": "markdown",
   "id": "01e27a90-4b70-404b-b37a-1b292573be1a",
   "metadata": {},
   "source": [
    "Et parfois, on a besoin de la forme (n,) du tableau plutôt que (n,1).\n",
    "\n",
    "Dans ce cas, on applique la méthode squeeze."
   ]
  },
  {
   "cell_type": "code",
   "execution_count": 275,
   "id": "e019d768-adc1-47e1-a2e7-1e4cd2451de0",
   "metadata": {},
   "outputs": [],
   "source": [
    "A = A.squeeze()"
   ]
  },
  {
   "cell_type": "code",
   "execution_count": 276,
   "id": "7fa442a0-36b2-4b4a-b94b-0b0ec35a591c",
   "metadata": {},
   "outputs": [
    {
     "data": {
      "text/plain": [
       "(3,)"
      ]
     },
     "execution_count": 276,
     "metadata": {},
     "output_type": "execute_result"
    }
   ],
   "source": [
    "#forme de A\n",
    "A.shape"
   ]
  },
  {
   "cell_type": "markdown",
   "id": "16572f47-eba3-4d23-af3e-0f4209ad0e61",
   "metadata": {},
   "source": [
    "### np.ravel()"
   ]
  },
  {
   "cell_type": "markdown",
   "id": "a8f36c66-dc1a-41b9-9ab5-1e99a694020a",
   "metadata": {},
   "source": [
    "Elle permet d'aplatir un tableau en 1 seule dimension."
   ]
  },
  {
   "cell_type": "code",
   "execution_count": 279,
   "id": "93b90bf8-5c3e-421a-b5da-12c6754c9037",
   "metadata": {},
   "outputs": [
    {
     "data": {
      "text/plain": [
       "array([[0., 0., 1., 1.],\n",
       "       [0., 0., 1., 1.],\n",
       "       [0., 0., 1., 1.]])"
      ]
     },
     "execution_count": 279,
     "metadata": {},
     "output_type": "execute_result"
    }
   ],
   "source": [
    "#afficher D\n",
    "D"
   ]
  },
  {
   "cell_type": "code",
   "execution_count": 280,
   "id": "b12ccd24-65f3-4014-bb2f-9c779890f771",
   "metadata": {},
   "outputs": [
    {
     "data": {
      "text/plain": [
       "array([0., 0., 1., 1., 0., 0., 1., 1., 0., 0., 1., 1.])"
      ]
     },
     "execution_count": 280,
     "metadata": {},
     "output_type": "execute_result"
    }
   ],
   "source": [
    "#aplatir le tableau D en 1 dimension\n",
    "D.ravel()"
   ]
  },
  {
   "cell_type": "code",
   "execution_count": 281,
   "id": "7178470e-edd4-408b-baa6-860ac8d2f7b1",
   "metadata": {},
   "outputs": [
    {
     "data": {
      "text/plain": [
       "(12,)"
      ]
     },
     "execution_count": 281,
     "metadata": {},
     "output_type": "execute_result"
    }
   ],
   "source": [
    "#forme de D.ravel()\n",
    "D.ravel().shape"
   ]
  },
  {
   "cell_type": "code",
   "execution_count": null,
   "id": "57f039ab-a84a-4798-9ce8-6e46b5668f67",
   "metadata": {},
   "outputs": [],
   "source": []
  }
 ],
 "metadata": {
  "kernelspec": {
   "display_name": "Python 3 (ipykernel)",
   "language": "python",
   "name": "python3"
  },
  "language_info": {
   "codemirror_mode": {
    "name": "ipython",
    "version": 3
   },
   "file_extension": ".py",
   "mimetype": "text/x-python",
   "name": "python",
   "nbconvert_exporter": "python",
   "pygments_lexer": "ipython3",
   "version": "3.12.7"
  }
 },
 "nbformat": 4,
 "nbformat_minor": 5
}
