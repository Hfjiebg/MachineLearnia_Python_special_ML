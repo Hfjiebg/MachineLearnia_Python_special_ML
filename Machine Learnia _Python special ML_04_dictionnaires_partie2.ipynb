{
 "cells": [
  {
   "cell_type": "markdown",
   "id": "ef05334f-aa08-44ed-9605-5caee7564363",
   "metadata": {},
   "source": [
    "# Les méthodes sur les dictionnaires"
   ]
  },
  {
   "cell_type": "markdown",
   "id": "925bdba6-45b1-42eb-b1fe-6fc85c01579c",
   "metadata": {},
   "source": [
    "URL du tuto : https://youtu.be/QR-gUWAeLqs?si=yxdX3jT_ICgJSXep"
   ]
  },
  {
   "cell_type": "code",
   "execution_count": 209,
   "id": "183f8e9b-9c0e-48b2-81b5-b80fc0faddc4",
   "metadata": {},
   "outputs": [
    {
     "data": {
      "text/plain": [
       "{'bananes': 5000, 'pommes': 2094, 'poires': 412809, 'cerises': 2893}"
      ]
     },
     "execution_count": 209,
     "metadata": {},
     "output_type": "execute_result"
    }
   ],
   "source": [
    "#créer un dictionnaire inventaire\n",
    "inventaire = {\n",
    "    'bananes': 5000,\n",
    "    'pommes': 2094,\n",
    "    'poires': 412809,\n",
    "    'cerises': 2893\n",
    "}\n",
    "\n",
    "#afficher inventaire\n",
    "inventaire"
   ]
  },
  {
   "cell_type": "markdown",
   "id": "75d3faac-68b3-4a4a-b5c6-bfc08066a9d1",
   "metadata": {},
   "source": [
    "## values()"
   ]
  },
  {
   "cell_type": "code",
   "execution_count": 211,
   "id": "93caa1c8-56fb-4607-a2a4-ed5aea2e2a3e",
   "metadata": {},
   "outputs": [
    {
     "data": {
      "text/plain": [
       "dict_values([5000, 2094, 412809, 2893])"
      ]
     },
     "execution_count": 211,
     "metadata": {},
     "output_type": "execute_result"
    }
   ],
   "source": [
    "#afficher les valeurs du dict\n",
    "inventaire.values()"
   ]
  },
  {
   "cell_type": "markdown",
   "id": "f85a9f3a-efa9-420b-ab13-e2459baa4c05",
   "metadata": {},
   "source": [
    "## keys()"
   ]
  },
  {
   "cell_type": "code",
   "execution_count": 213,
   "id": "1e0b080e-ff67-4bc8-840c-6840f5ffce4b",
   "metadata": {},
   "outputs": [
    {
     "data": {
      "text/plain": [
       "dict_keys(['bananes', 'pommes', 'poires', 'cerises'])"
      ]
     },
     "execution_count": 213,
     "metadata": {},
     "output_type": "execute_result"
    }
   ],
   "source": [
    "#afficher les clés du dict\n",
    "inventaire.keys()"
   ]
  },
  {
   "cell_type": "markdown",
   "id": "bfff07bd-5215-41ba-be95-8d669ffeff9a",
   "metadata": {},
   "source": [
    "## items()"
   ]
  },
  {
   "cell_type": "code",
   "execution_count": 215,
   "id": "ab5633c9-9dcd-4bf1-919d-b6668f7f28b7",
   "metadata": {},
   "outputs": [
    {
     "data": {
      "text/plain": [
       "dict_items([('bananes', 5000), ('pommes', 2094), ('poires', 412809), ('cerises', 2893)])"
      ]
     },
     "execution_count": 215,
     "metadata": {},
     "output_type": "execute_result"
    }
   ],
   "source": [
    "#afficher les items du dict\n",
    "inventaire.items()"
   ]
  },
  {
   "cell_type": "markdown",
   "id": "1e279d5f-b36e-4225-b0ea-fdf0e093c36c",
   "metadata": {},
   "source": [
    "## len()"
   ]
  },
  {
   "cell_type": "code",
   "execution_count": 217,
   "id": "0b4c3338-46ce-4857-9159-c658c84acbb3",
   "metadata": {},
   "outputs": [
    {
     "data": {
      "text/plain": [
       "4"
      ]
     },
     "execution_count": 217,
     "metadata": {},
     "output_type": "execute_result"
    }
   ],
   "source": [
    "#afficher la longueur du dict\n",
    "len(inventaire)"
   ]
  },
  {
   "cell_type": "markdown",
   "id": "cc1c2897-691a-4f25-b23a-ab5d263ac93c",
   "metadata": {},
   "source": [
    "## Ajouter une clé et sa valeur au dictionnaire"
   ]
  },
  {
   "cell_type": "code",
   "execution_count": 219,
   "id": "4988668c-4765-4a76-b382-8734ad39ce69",
   "metadata": {},
   "outputs": [
    {
     "data": {
      "text/plain": [
       "{'bananes': 5000,\n",
       " 'pommes': 2094,\n",
       " 'poires': 412809,\n",
       " 'cerises': 2893,\n",
       " 'abricots': 4902}"
      ]
     },
     "execution_count": 219,
     "metadata": {},
     "output_type": "execute_result"
    }
   ],
   "source": [
    "#ajouter une clé et sa valeur au dictionnaire\n",
    "inventaire['abricots'] = 4902\n",
    "\n",
    "#afficher inventaire\n",
    "inventaire"
   ]
  },
  {
   "cell_type": "markdown",
   "id": "df96a225-b9df-45d7-90b7-96dd4d04c56e",
   "metadata": {},
   "source": [
    "## get()"
   ]
  },
  {
   "cell_type": "code",
   "execution_count": 221,
   "id": "4ee5cb61-418e-463c-88ab-8af8450db542",
   "metadata": {},
   "outputs": [],
   "source": [
    "inventaire.get('peches')  #il ne s'affiche rien si la méthode get() ne trouve pas la clé 'peches'"
   ]
  },
  {
   "cell_type": "code",
   "execution_count": 222,
   "id": "0f8d148d-02d8-4805-bf31-49d6539ac5b9",
   "metadata": {},
   "outputs": [
    {
     "name": "stdout",
     "output_type": "stream",
     "text": [
      "None\n"
     ]
    }
   ],
   "source": [
    "print(inventaire.get('peches'))"
   ]
  },
  {
   "cell_type": "code",
   "execution_count": 223,
   "id": "2bbeff2e-64c7-4efa-a17f-99027b33df5f",
   "metadata": {},
   "outputs": [
    {
     "name": "stdout",
     "output_type": "stream",
     "text": [
      "1\n"
     ]
    }
   ],
   "source": [
    "print(inventaire.get('peches', 1))  # affiche 1 si elle ne trouve rien"
   ]
  },
  {
   "cell_type": "code",
   "execution_count": 224,
   "id": "26479cd6-2ac7-4ca4-bcba-596e4d00283f",
   "metadata": {},
   "outputs": [
    {
     "name": "stdout",
     "output_type": "stream",
     "text": [
      "2893\n"
     ]
    }
   ],
   "source": [
    "#afficher la valeur de 'cerises' dans le dict inventaire\n",
    "print(inventaire.get('cerises'))"
   ]
  },
  {
   "cell_type": "markdown",
   "id": "3a682eb8-ebe7-4532-83ae-8aa3db804647",
   "metadata": {},
   "source": [
    "## fromkeys"
   ]
  },
  {
   "cell_type": "code",
   "execution_count": 226,
   "id": "9365d2e5-442e-4417-a59a-560f808711d5",
   "metadata": {},
   "outputs": [
    {
     "data": {
      "text/plain": [
       "{'Paris': None, 'Londres': None, 'Bruxelles': None}"
      ]
     },
     "execution_count": 226,
     "metadata": {},
     "output_type": "execute_result"
    }
   ],
   "source": [
    "# Déclarer la liste des villes\n",
    "liste_1 = ('Paris', 'Londres', 'Bruxelles')\n",
    "\n",
    "# Créer un dictionnaire 'inventaire2' avec comme clés les éléments de la liste 'liste_1'  \n",
    "# Chaque clé sera initialisée avec la valeur par défaut de None  \n",
    "inventaire2 = dict.fromkeys(liste_1)\n",
    "\n",
    "#afficher inventaire2\n",
    "inventaire2"
   ]
  },
  {
   "cell_type": "code",
   "execution_count": 227,
   "id": "864d9ff2-90c6-4b28-813a-3b3808fd0f1e",
   "metadata": {},
   "outputs": [
    {
     "data": {
      "text/plain": [
       "{'Paris': 'defaut', 'Londres': 'defaut', 'Bruxelles': 'defaut'}"
      ]
     },
     "execution_count": 227,
     "metadata": {},
     "output_type": "execute_result"
    }
   ],
   "source": [
    "# Déclarer la liste des villes  \n",
    "liste_1 = ('Paris', 'Londres', 'Bruxelles')  \n",
    "\n",
    "# Créer un dictionnaire 'inventaire3' avec comme clés les éléments de 'liste_1'  \n",
    "# Chaque clé sera initialisée avec la valeur par défaut 'defaut'  \n",
    "inventaire3 = dict.fromkeys(liste_1, 'defaut')\n",
    "\n",
    "#afficher inventaire3\n",
    "inventaire3"
   ]
  },
  {
   "cell_type": "markdown",
   "id": "ed5321d4-3029-4837-a0b3-d38a5e909e3c",
   "metadata": {},
   "source": [
    "## pop()"
   ]
  },
  {
   "cell_type": "code",
   "execution_count": 229,
   "id": "5c2c46be-5bf9-49b2-9214-2acafb9e3f7d",
   "metadata": {},
   "outputs": [
    {
     "data": {
      "text/plain": [
       "{'bananes': 5000,\n",
       " 'pommes': 2094,\n",
       " 'poires': 412809,\n",
       " 'cerises': 2893,\n",
       " 'abricots': 4902}"
      ]
     },
     "execution_count": 229,
     "metadata": {},
     "output_type": "execute_result"
    }
   ],
   "source": [
    "#créer un dictionnaire inventaire\n",
    "inventaire = {\n",
    "    'bananes': 5000,\n",
    "    'pommes': 2094,\n",
    "    'poires': 412809,\n",
    "    'cerises': 2893,\n",
    "    'abricots': 4902\n",
    "}\n",
    "\n",
    "#afficher inventaire\n",
    "inventaire"
   ]
  },
  {
   "cell_type": "code",
   "execution_count": 230,
   "id": "353abd33-2f8c-4496-90ca-13aa60b66a3d",
   "metadata": {},
   "outputs": [
    {
     "data": {
      "text/plain": [
       "4902"
      ]
     },
     "execution_count": 230,
     "metadata": {},
     "output_type": "execute_result"
    }
   ],
   "source": [
    "# Supprimer de la clé 'abricots' du dictionnaire 'inventaire' et assigner sa valeur à la variable 'fruits'\n",
    "fruits = inventaire.pop('abricots')\n",
    "\n",
    "#afficher la variable fruits\n",
    "fruits"
   ]
  },
  {
   "cell_type": "code",
   "execution_count": 231,
   "id": "26138dfe-a4a8-4829-b444-f76e80897855",
   "metadata": {},
   "outputs": [
    {
     "data": {
      "text/plain": [
       "{'bananes': 5000, 'pommes': 2094, 'poires': 412809, 'cerises': 2893}"
      ]
     },
     "execution_count": 231,
     "metadata": {},
     "output_type": "execute_result"
    }
   ],
   "source": [
    "#afficher le dict inventaire\n",
    "inventaire"
   ]
  },
  {
   "cell_type": "markdown",
   "id": "3c169b59-5f7a-4248-9491-224ea0f2af7c",
   "metadata": {},
   "source": [
    "## La boucle For sur le dictionnaire"
   ]
  },
  {
   "cell_type": "code",
   "execution_count": 233,
   "id": "bed95103-da2b-4bee-83a5-01a7be45186f",
   "metadata": {},
   "outputs": [
    {
     "name": "stdout",
     "output_type": "stream",
     "text": [
      "bananes\n",
      "pommes\n",
      "poires\n",
      "cerises\n"
     ]
    }
   ],
   "source": [
    "# Parcourir les clés du dictionnaire 'inventaire' et les afficher une par une  \n",
    "for i in inventaire:  \n",
    "    print(i)  # Affiche chaque clé du dictionnaire"
   ]
  },
  {
   "cell_type": "code",
   "execution_count": 234,
   "id": "a5ade0a8-02a2-40de-8854-caea2a508c13",
   "metadata": {},
   "outputs": [
    {
     "name": "stdout",
     "output_type": "stream",
     "text": [
      "5000\n",
      "2094\n",
      "412809\n",
      "2893\n"
     ]
    }
   ],
   "source": [
    "#Parcourir les valeurs du dictionnaire 'inventaire' et les afficher une par une\n",
    "for i in inventaire.values():\n",
    "    print(i)  # Affiche chaque valeur du dictionnaire"
   ]
  },
  {
   "cell_type": "code",
   "execution_count": 235,
   "id": "273fac65-900f-49e9-bcd9-999367f866a2",
   "metadata": {},
   "outputs": [
    {
     "name": "stdout",
     "output_type": "stream",
     "text": [
      "('bananes', 5000)\n",
      "('pommes', 2094)\n",
      "('poires', 412809)\n",
      "('cerises', 2893)\n"
     ]
    }
   ],
   "source": [
    "#Parcourir les items du dictionnaire 'inventaire' et les afficher une par une\n",
    "for i in inventaire.items():\n",
    "    print(i)  # Affiche chaque valeur du dictionnaire"
   ]
  },
  {
   "cell_type": "code",
   "execution_count": null,
   "id": "fa99de4f-b6d0-4a83-ae0d-b45a5fb4ca97",
   "metadata": {},
   "outputs": [],
   "source": []
  }
 ],
 "metadata": {
  "kernelspec": {
   "display_name": "Python 3 (ipykernel)",
   "language": "python",
   "name": "python3"
  },
  "language_info": {
   "codemirror_mode": {
    "name": "ipython",
    "version": 3
   },
   "file_extension": ".py",
   "mimetype": "text/x-python",
   "name": "python",
   "nbconvert_exporter": "python",
   "pygments_lexer": "ipython3",
   "version": "3.12.7"
  }
 },
 "nbformat": 4,
 "nbformat_minor": 5
}
