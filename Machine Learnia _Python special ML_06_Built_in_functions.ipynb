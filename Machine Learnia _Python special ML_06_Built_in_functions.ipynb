{
 "cells": [
  {
   "cell_type": "markdown",
   "id": "6953fdb8-87e5-46ac-be1b-3f587b3267fa",
   "metadata": {},
   "source": [
    "URL : https://youtu.be/v7OTVy6whEY?si=XHAfpPkZwBdZD6FZ"
   ]
  },
  {
   "cell_type": "markdown",
   "id": "9bb4e1d4-b771-4809-b731-33ec779aea36",
   "metadata": {},
   "source": [
    "# Built-in functions"
   ]
  },
  {
   "cell_type": "markdown",
   "id": "2620067d-9374-474c-87a4-003e453bdd8d",
   "metadata": {},
   "source": [
    "## Fonctions de base: abs(), round(), max(), min(), len(), sum(), any(), all() "
   ]
  },
  {
   "cell_type": "code",
   "execution_count": 118,
   "id": "18c15eae-bcbc-4c36-96c8-813b3deb19d0",
   "metadata": {},
   "outputs": [
    {
     "data": {
      "text/plain": [
       "3"
      ]
     },
     "execution_count": 118,
     "metadata": {},
     "output_type": "execute_result"
    }
   ],
   "source": [
    "x = -3\n",
    "\n",
    "#afficher la valeur absolue de x\n",
    "abs(x)"
   ]
  },
  {
   "cell_type": "code",
   "execution_count": 119,
   "id": "1253547f-53b9-4014-861e-280c89b64a14",
   "metadata": {},
   "outputs": [
    {
     "data": {
      "text/plain": [
       "3"
      ]
     },
     "execution_count": 119,
     "metadata": {},
     "output_type": "execute_result"
    }
   ],
   "source": [
    "x = 3.14\n",
    "\n",
    "#arrondir une decimale\n",
    "round(x)"
   ]
  },
  {
   "cell_type": "code",
   "execution_count": 120,
   "id": "74a73c21-d66b-4c36-b4d0-3522e146e62f",
   "metadata": {},
   "outputs": [
    {
     "data": {
      "text/plain": [
       "23"
      ]
     },
     "execution_count": 120,
     "metadata": {},
     "output_type": "execute_result"
    }
   ],
   "source": [
    "#créer une liste avec des valeurs numériques\n",
    "liste_1 = [0, 23, 14, -19]\n",
    "\n",
    "#afficher l'élément maximum dans liste_1\n",
    "max(liste_1)"
   ]
  },
  {
   "cell_type": "code",
   "execution_count": 121,
   "id": "631e03fd-f398-471c-8412-137b7230cb4b",
   "metadata": {},
   "outputs": [
    {
     "data": {
      "text/plain": [
       "-19"
      ]
     },
     "execution_count": 121,
     "metadata": {},
     "output_type": "execute_result"
    }
   ],
   "source": [
    "#afficher l'élément minimum dans liste_1\n",
    "min(liste_1)"
   ]
  },
  {
   "cell_type": "code",
   "execution_count": 122,
   "id": "bf636b1a-06e9-460a-990e-70e4363eb6d5",
   "metadata": {},
   "outputs": [
    {
     "data": {
      "text/plain": [
       "4"
      ]
     },
     "execution_count": 122,
     "metadata": {},
     "output_type": "execute_result"
    }
   ],
   "source": [
    "#afficher la longueur de liste_1\n",
    "len(liste_1)"
   ]
  },
  {
   "cell_type": "code",
   "execution_count": 123,
   "id": "a5d7c35d-1fcb-41bf-9c80-593e718e1c8a",
   "metadata": {},
   "outputs": [
    {
     "data": {
      "text/plain": [
       "18"
      ]
     },
     "execution_count": 123,
     "metadata": {},
     "output_type": "execute_result"
    }
   ],
   "source": [
    "#afficher la somme des éléments dans liste_1\n",
    "sum(liste_1)"
   ]
  },
  {
   "cell_type": "code",
   "execution_count": 124,
   "id": "5af2fee5-cdda-4e31-a966-27da1f4f0f5b",
   "metadata": {},
   "outputs": [
    {
     "data": {
      "text/plain": [
       "False"
      ]
     },
     "execution_count": 124,
     "metadata": {},
     "output_type": "execute_result"
    }
   ],
   "source": [
    "all(liste_2)  # affiche True si tous les éléments sont égaux à True"
   ]
  },
  {
   "cell_type": "code",
   "execution_count": 125,
   "id": "5bf4fd69-d6e9-42f1-a147-ea4096ccfd4d",
   "metadata": {},
   "outputs": [
    {
     "data": {
      "text/plain": [
       "True"
      ]
     },
     "execution_count": 125,
     "metadata": {},
     "output_type": "execute_result"
    }
   ],
   "source": [
    "liste_2 = [True, True, False]\n",
    "\n",
    "any(liste_2)  # affiche True si au moins un élément dans liste_1 est égal à True"
   ]
  },
  {
   "cell_type": "code",
   "execution_count": 126,
   "id": "3e0712c0-61b4-476c-b719-338ba530acaa",
   "metadata": {},
   "outputs": [
    {
     "data": {
      "text/plain": [
       "True"
      ]
     },
     "execution_count": 126,
     "metadata": {},
     "output_type": "execute_result"
    }
   ],
   "source": [
    "any(liste_1)  # affiche True si au moins un élément dans liste_1 est égal à True (différent de 0)"
   ]
  },
  {
   "cell_type": "markdown",
   "id": "a2ad8bb8-98e5-47c5-b1f6-fd34f02f1995",
   "metadata": {},
   "source": [
    "## Conversion de types de variables: int(), str(), float() et type()"
   ]
  },
  {
   "cell_type": "code",
   "execution_count": 128,
   "id": "6381f28f-79be-4137-93ce-869bdaa58b65",
   "metadata": {},
   "outputs": [
    {
     "data": {
      "text/plain": [
       "int"
      ]
     },
     "execution_count": 128,
     "metadata": {},
     "output_type": "execute_result"
    }
   ],
   "source": [
    "x = 10\n",
    "\n",
    "#afficher le type de la variable x\n",
    "type(x)"
   ]
  },
  {
   "cell_type": "code",
   "execution_count": 129,
   "id": "678c7147-bc53-4a54-9f07-30b6cc23e6d6",
   "metadata": {},
   "outputs": [
    {
     "data": {
      "text/plain": [
       "'10'"
      ]
     },
     "execution_count": 129,
     "metadata": {},
     "output_type": "execute_result"
    }
   ],
   "source": [
    "#transformer (=convertir) x du type integer au type chaîne de caractères\n",
    "str(x)"
   ]
  },
  {
   "cell_type": "code",
   "execution_count": 130,
   "id": "6e05a4b0-39da-4428-a370-661fbc2b0934",
   "metadata": {},
   "outputs": [
    {
     "data": {
      "text/plain": [
       "str"
      ]
     },
     "execution_count": 130,
     "metadata": {},
     "output_type": "execute_result"
    }
   ],
   "source": [
    "#afficher le type de str(x)\n",
    "type(str(x))"
   ]
  },
  {
   "cell_type": "code",
   "execution_count": 131,
   "id": "ac10e0f2-c0b5-42af-949e-646ad43760f0",
   "metadata": {},
   "outputs": [
    {
     "data": {
      "text/plain": [
       "int"
      ]
     },
     "execution_count": 131,
     "metadata": {},
     "output_type": "execute_result"
    }
   ],
   "source": [
    "y = '20'  # y est de type str\n",
    "\n",
    "y = int(y)  # convertir en type int\n",
    "\n",
    "#afficher le type de y\n",
    "type(y)"
   ]
  },
  {
   "cell_type": "code",
   "execution_count": 132,
   "id": "71f7ae92-63e8-4a5d-be88-37178179c104",
   "metadata": {},
   "outputs": [
    {
     "data": {
      "text/plain": [
       "10.0"
      ]
     },
     "execution_count": 132,
     "metadata": {},
     "output_type": "execute_result"
    }
   ],
   "source": [
    "x =10  # nombre entier\n",
    "\n",
    "float(x)  #convertir en float (valeur decimale)"
   ]
  },
  {
   "cell_type": "code",
   "execution_count": 133,
   "id": "d405202e-29d5-4014-974c-f8fda4590874",
   "metadata": {},
   "outputs": [
    {
     "data": {
      "text/plain": [
       "float"
      ]
     },
     "execution_count": 133,
     "metadata": {},
     "output_type": "execute_result"
    }
   ],
   "source": [
    "#afficher le type de float(x)\n",
    "type(float(x))"
   ]
  },
  {
   "cell_type": "markdown",
   "id": "628794e3-6c4f-47bf-8ecf-871764f2f21e",
   "metadata": {},
   "source": [
    "## Conversions de structures de données: list(), tuple(),..."
   ]
  },
  {
   "cell_type": "markdown",
   "id": "face9d15-ad31-49ac-b693-b03ad2f64483",
   "metadata": {},
   "source": [
    "### Convertir une liste en tuple"
   ]
  },
  {
   "cell_type": "code",
   "execution_count": 136,
   "id": "06a8704d-71c5-4c90-8fc9-bc8eb9c7a4b4",
   "metadata": {},
   "outputs": [
    {
     "data": {
      "text/plain": [
       "[0, 61, 63, 243]"
      ]
     },
     "execution_count": 136,
     "metadata": {},
     "output_type": "execute_result"
    }
   ],
   "source": [
    "#créer liste_1\n",
    "liste_1 = [0, 61, 63, 243]\n",
    "\n",
    "#afficher liste_1\n",
    "liste_1"
   ]
  },
  {
   "cell_type": "code",
   "execution_count": 137,
   "id": "1edbf1da-4fc3-485e-a389-5088d94ed64a",
   "metadata": {},
   "outputs": [
    {
     "data": {
      "text/plain": [
       "(0, 61, 63, 243)"
      ]
     },
     "execution_count": 137,
     "metadata": {},
     "output_type": "execute_result"
    }
   ],
   "source": [
    "#convertir liste_1 en tuple\n",
    "tuple_1 = tuple(liste_1)\n",
    "\n",
    "#afficher tuple_1\n",
    "tuple_1"
   ]
  },
  {
   "cell_type": "markdown",
   "id": "2df4a309-30d2-48ab-8ca8-5541500eb9da",
   "metadata": {},
   "source": [
    "#### Convertir le tuple en une liste"
   ]
  },
  {
   "cell_type": "code",
   "execution_count": 139,
   "id": "34a3f038-0afc-4a1f-bfef-fb400706b357",
   "metadata": {},
   "outputs": [
    {
     "data": {
      "text/plain": [
       "[0, 61, 63, 243]"
      ]
     },
     "execution_count": 139,
     "metadata": {},
     "output_type": "execute_result"
    }
   ],
   "source": [
    "list(tuple_1)"
   ]
  },
  {
   "cell_type": "markdown",
   "id": "8c8bbd22-d8d3-4246-84b6-ad350f5bce33",
   "metadata": {},
   "source": [
    "### Convertir les clés d'un dictionnaire en une liste"
   ]
  },
  {
   "cell_type": "code",
   "execution_count": 141,
   "id": "201a4238-dae1-4f88-a806-7db276f96443",
   "metadata": {},
   "outputs": [
    {
     "data": {
      "text/plain": [
       "{'bananes': 5000, 'pommes': 2094, 'poires': 412809}"
      ]
     },
     "execution_count": 141,
     "metadata": {},
     "output_type": "execute_result"
    }
   ],
   "source": [
    "#créer un dict inventaire\n",
    "inventaire = {\n",
    "    'bananes' : 5000,\n",
    "    'pommes' : 2094,\n",
    "    'poires' : 412809\n",
    "    }\n",
    "\n",
    "#afficher le dict inventaire\n",
    "inventaire"
   ]
  },
  {
   "cell_type": "code",
   "execution_count": 142,
   "id": "5833ae34-daa5-4333-b1c2-6a0507ed2916",
   "metadata": {},
   "outputs": [
    {
     "data": {
      "text/plain": [
       "dict_keys(['bananes', 'pommes', 'poires'])"
      ]
     },
     "execution_count": 142,
     "metadata": {},
     "output_type": "execute_result"
    }
   ],
   "source": [
    "#afficher les clés du dict inventaire\n",
    "inventaire.keys()"
   ]
  },
  {
   "cell_type": "code",
   "execution_count": 143,
   "id": "7d26d70c-a756-4d15-b04c-563a43627a3c",
   "metadata": {},
   "outputs": [
    {
     "data": {
      "text/plain": [
       "['bananes', 'pommes', 'poires']"
      ]
     },
     "execution_count": 143,
     "metadata": {},
     "output_type": "execute_result"
    }
   ],
   "source": [
    "#afficher les clés du dict inventaire sous forme de liste\n",
    "list(inventaire.keys())"
   ]
  },
  {
   "cell_type": "markdown",
   "id": "8c6b288a-5412-45e8-8a6e-959c17400e27",
   "metadata": {},
   "source": [
    "## La fonction input()"
   ]
  },
  {
   "cell_type": "code",
   "execution_count": 145,
   "id": "d2d07978-ddbd-435a-b34d-a21789924061",
   "metadata": {},
   "outputs": [
    {
     "name": "stdin",
     "output_type": "stream",
     "text": [
      " Bonjour\n"
     ]
    },
    {
     "data": {
      "text/plain": [
       "'Bonjour'"
      ]
     },
     "execution_count": 145,
     "metadata": {},
     "output_type": "execute_result"
    }
   ],
   "source": [
    "x = input()\n",
    "\n",
    "#afficher x \n",
    "x"
   ]
  },
  {
   "cell_type": "code",
   "execution_count": 146,
   "id": "6881144a-1e3c-4fe4-92d0-7bcc40d41daf",
   "metadata": {},
   "outputs": [
    {
     "name": "stdin",
     "output_type": "stream",
     "text": [
      "Veuillez entrer un nombre:  5\n"
     ]
    },
    {
     "data": {
      "text/plain": [
       "'5'"
      ]
     },
     "execution_count": 146,
     "metadata": {},
     "output_type": "execute_result"
    }
   ],
   "source": [
    "#afficher le message 'Veuillez entrer un nombre: ' pour faire entrer un nbre\n",
    "x = input('Veuillez entrer un nombre: ')\n",
    "\n",
    "#afficher x\n",
    "x"
   ]
  },
  {
   "cell_type": "code",
   "execution_count": 147,
   "id": "175fc660-14de-4382-bb56-005d1bf74eac",
   "metadata": {},
   "outputs": [
    {
     "data": {
      "text/plain": [
       "str"
      ]
     },
     "execution_count": 147,
     "metadata": {},
     "output_type": "execute_result"
    }
   ],
   "source": [
    "#type de la variable x\n",
    "type(x)"
   ]
  },
  {
   "cell_type": "code",
   "execution_count": 148,
   "id": "15257386-c0fd-41f6-8a62-410cc0e002cb",
   "metadata": {},
   "outputs": [
    {
     "name": "stdin",
     "output_type": "stream",
     "text": [
      "Veuillez entrer un nombre:  10\n"
     ]
    },
    {
     "data": {
      "text/plain": [
       "20"
      ]
     },
     "execution_count": 148,
     "metadata": {},
     "output_type": "execute_result"
    }
   ],
   "source": [
    "#convertir x en integer\n",
    "x = int(input('Veuillez entrer un nombre: '))\n",
    "\n",
    "#afficher x +10\n",
    "x + 10"
   ]
  },
  {
   "cell_type": "markdown",
   "id": "5312c6d8-b254-42c5-b082-7efb77084338",
   "metadata": {},
   "source": [
    "## Fonction format()"
   ]
  },
  {
   "cell_type": "markdown",
   "id": "394c6c51-691e-4f7b-be2d-59f6031f0fff",
   "metadata": {},
   "source": [
    "La fonction **format()** permet de personaliser les chaînes de caractères, de les rendre dynamiques (en y intégrant des valeurs de certaines variables)."
   ]
  },
  {
   "cell_type": "code",
   "execution_count": 196,
   "id": "13b95784-5c48-406b-8c7a-fd331de83fdd",
   "metadata": {},
   "outputs": [
    {
     "name": "stdout",
     "output_type": "stream",
     "text": [
      "La température est de 25 degC à Paris\n"
     ]
    }
   ],
   "source": [
    "message = 'La température est de 25 degC à Paris'\n",
    "\n",
    "#afficher message\n",
    "print(message)"
   ]
  },
  {
   "cell_type": "code",
   "execution_count": 197,
   "id": "92c26c73-2908-47cf-bf4b-ef10d0155254",
   "metadata": {},
   "outputs": [
    {
     "name": "stdout",
     "output_type": "stream",
     "text": [
      "La température est de 25 degC à Paris\n"
     ]
    }
   ],
   "source": [
    "#déclarer les variables x et ville\n",
    "x = 25\n",
    "ville = 'Paris'\n",
    "\n",
    "message = 'La température est de {} degC à {}'.format(x, ville)  #chaîne de caractères qui change avec les valeurs de x et ville\n",
    "\n",
    "#afficher message\n",
    "print(message)"
   ]
  },
  {
   "cell_type": "code",
   "execution_count": 198,
   "id": "01dc0ea7-daa5-47cb-920a-47eb2f871450",
   "metadata": {},
   "outputs": [
    {
     "name": "stdout",
     "output_type": "stream",
     "text": [
      "La température est de 30 degC à Paris\n"
     ]
    }
   ],
   "source": [
    "#déclarer la variable x\n",
    "x = 30\n",
    "\n",
    "message_2 = 'La température est de {} degC à {}'.format(x, ville)  #chaîne de caractères qui change avec les valeurs de x et ville\n",
    "\n",
    "#afficher message\n",
    "print(message_2)"
   ]
  },
  {
   "cell_type": "code",
   "execution_count": 199,
   "id": "d84300b5-a351-4cdd-9daf-2af1a7021019",
   "metadata": {},
   "outputs": [
    {
     "name": "stdout",
     "output_type": "stream",
     "text": [
      "La température est de 30 degC à Paris\n"
     ]
    }
   ],
   "source": [
    "#déclarer la variable x\n",
    "x = 30\n",
    "\n",
    "message_3 = f'La température est de {x} degC à {ville}'  #chaîne de caractères qui change avec les valeurs de x et ville\n",
    "\n",
    "#afficher message\n",
    "print(message_3)"
   ]
  },
  {
   "cell_type": "markdown",
   "id": "43178c1d-f849-499b-b6a1-e04c059518e7",
   "metadata": {},
   "source": [
    "## Fonction open()"
   ]
  },
  {
   "cell_type": "code",
   "execution_count": 201,
   "id": "3e03b20d-2450-4273-9258-9b3df0623205",
   "metadata": {},
   "outputs": [],
   "source": [
    "#créer une variable f (f pour fichier) qui est le resultat de la foction open()\n",
    "#le nom du fichier est : fichier.txt\n",
    "# w pour le mode écriture, on crée un fichier pour écrire du contenu\n",
    "f = open('fichier.txt', 'w')"
   ]
  },
  {
   "cell_type": "code",
   "execution_count": 202,
   "id": "5891f7e5-fa81-4f91-bc09-3490e4be580e",
   "metadata": {},
   "outputs": [],
   "source": [
    "f.write('Bonjour') # écrire 'Bonjour' dans notre fichier\n",
    "f.close()   #fermer le fichier"
   ]
  },
  {
   "cell_type": "code",
   "execution_count": 203,
   "id": "7f054b0e-2421-4cfa-b757-6be876d29d08",
   "metadata": {},
   "outputs": [
    {
     "data": {
      "text/plain": [
       "'Bonjour'"
      ]
     },
     "execution_count": 203,
     "metadata": {},
     "output_type": "execute_result"
    }
   ],
   "source": [
    "#créer une variable f (f pour fichier) qui est le resultat de la foction open()\n",
    "#le nom du fichier est : fichier.txt\n",
    "# r pour le mode lecture (read), on crée un fichier pour lire du contenu\n",
    "f = open('fichier.txt', 'r')\n",
    "\n",
    "#lire le fichier\n",
    "f.read()"
   ]
  },
  {
   "cell_type": "code",
   "execution_count": 204,
   "id": "9c455f04-7469-4b4b-b018-2e507c934d38",
   "metadata": {},
   "outputs": [
    {
     "name": "stdout",
     "output_type": "stream",
     "text": [
      "Bonjour\n"
     ]
    }
   ],
   "source": [
    "#utiliser une autre methode pour lire le fichier\n",
    "with open('fichier.txt', 'r') as f:\n",
    "    print(f.read())\n",
    "\n",
    "#en retournant à la tête de la ligne, on ferme le fichier fichier.txt"
   ]
  },
  {
   "cell_type": "code",
   "execution_count": null,
   "id": "c7446c42-ce4a-41e0-9a1b-5ca1cd9cb829",
   "metadata": {},
   "outputs": [],
   "source": []
  }
 ],
 "metadata": {
  "kernelspec": {
   "display_name": "Python 3 (ipykernel)",
   "language": "python",
   "name": "python3"
  },
  "language_info": {
   "codemirror_mode": {
    "name": "ipython",
    "version": 3
   },
   "file_extension": ".py",
   "mimetype": "text/x-python",
   "name": "python",
   "nbconvert_exporter": "python",
   "pygments_lexer": "ipython3",
   "version": "3.12.7"
  }
 },
 "nbformat": 4,
 "nbformat_minor": 5
}
