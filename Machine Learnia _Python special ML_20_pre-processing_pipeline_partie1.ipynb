{
 "cells": [
  {
   "cell_type": "markdown",
   "id": "d7531da6-af3d-4686-bc0d-f2c6178050c9",
   "metadata": {},
   "source": [
    "# PRE-PROCESSING + PIPELINE (partie 1)"
   ]
  },
  {
   "cell_type": "markdown",
   "id": "757e97e8-819a-43be-a6ed-64079d06e968",
   "metadata": {},
   "source": [
    "URL : https://youtu.be/OGWwzm304Xs?si=bx2yG_Azbpkz3gTO"
   ]
  },
  {
   "cell_type": "code",
   "execution_count": 3,
   "id": "d89349e5-dc64-425a-9df2-3fc62a9af813",
   "metadata": {},
   "outputs": [],
   "source": [
    "#importations\n",
    "import numpy as np\n",
    "from sklearn.preprocessing import LabelEncoder,OrdinalEncoder,LabelBinarizer,OneHotEncoder\n",
    "from sklearn.preprocessing import MinMaxScaler,StandardScaler,RobustScaler\n",
    "from sklearn.datasets import load_iris\n",
    "import matplotlib.pyplot as plt"
   ]
  },
  {
   "cell_type": "markdown",
   "id": "d8f4e633-a7a8-4e3f-a9e0-9e46d5068460",
   "metadata": {},
   "source": [
    "## Transformeurs"
   ]
  },
  {
   "cell_type": "code",
   "execution_count": 5,
   "id": "e17c1e55-79ad-4048-b4bc-82e2cea8ec9c",
   "metadata": {},
   "outputs": [],
   "source": [
    "#définir X\n",
    "X = np.array(['Chat',\n",
    "             'Chien',\n",
    "             'Chat',\n",
    "             'Oiseau'])"
   ]
  },
  {
   "cell_type": "markdown",
   "id": "ac4a47ac-cc32-4186-ac4a-8ad9c3378118",
   "metadata": {},
   "source": [
    "Pour transformer les données de façon cohérente, les transformers disposent de 2 méthodes:\n",
    "- la méthode **fit()** permet de **développer une fonction de transformation** en analysant les données du train set.\n",
    "- la méthode **transform()** permet d'**appliquer cette fonction de transformation** sur toutes les données qu'on lui fournit (les données du train set, du test set ou mêmes les données futures)."
   ]
  },
  {
   "cell_type": "code",
   "execution_count": 7,
   "id": "658beab7-1712-4daf-9b7d-dcd7d78142bf",
   "metadata": {},
   "outputs": [
    {
     "data": {
      "text/html": [
       "<style>#sk-container-id-1 {\n",
       "  /* Definition of color scheme common for light and dark mode */\n",
       "  --sklearn-color-text: black;\n",
       "  --sklearn-color-line: gray;\n",
       "  /* Definition of color scheme for unfitted estimators */\n",
       "  --sklearn-color-unfitted-level-0: #fff5e6;\n",
       "  --sklearn-color-unfitted-level-1: #f6e4d2;\n",
       "  --sklearn-color-unfitted-level-2: #ffe0b3;\n",
       "  --sklearn-color-unfitted-level-3: chocolate;\n",
       "  /* Definition of color scheme for fitted estimators */\n",
       "  --sklearn-color-fitted-level-0: #f0f8ff;\n",
       "  --sklearn-color-fitted-level-1: #d4ebff;\n",
       "  --sklearn-color-fitted-level-2: #b3dbfd;\n",
       "  --sklearn-color-fitted-level-3: cornflowerblue;\n",
       "\n",
       "  /* Specific color for light theme */\n",
       "  --sklearn-color-text-on-default-background: var(--sg-text-color, var(--theme-code-foreground, var(--jp-content-font-color1, black)));\n",
       "  --sklearn-color-background: var(--sg-background-color, var(--theme-background, var(--jp-layout-color0, white)));\n",
       "  --sklearn-color-border-box: var(--sg-text-color, var(--theme-code-foreground, var(--jp-content-font-color1, black)));\n",
       "  --sklearn-color-icon: #696969;\n",
       "\n",
       "  @media (prefers-color-scheme: dark) {\n",
       "    /* Redefinition of color scheme for dark theme */\n",
       "    --sklearn-color-text-on-default-background: var(--sg-text-color, var(--theme-code-foreground, var(--jp-content-font-color1, white)));\n",
       "    --sklearn-color-background: var(--sg-background-color, var(--theme-background, var(--jp-layout-color0, #111)));\n",
       "    --sklearn-color-border-box: var(--sg-text-color, var(--theme-code-foreground, var(--jp-content-font-color1, white)));\n",
       "    --sklearn-color-icon: #878787;\n",
       "  }\n",
       "}\n",
       "\n",
       "#sk-container-id-1 {\n",
       "  color: var(--sklearn-color-text);\n",
       "}\n",
       "\n",
       "#sk-container-id-1 pre {\n",
       "  padding: 0;\n",
       "}\n",
       "\n",
       "#sk-container-id-1 input.sk-hidden--visually {\n",
       "  border: 0;\n",
       "  clip: rect(1px 1px 1px 1px);\n",
       "  clip: rect(1px, 1px, 1px, 1px);\n",
       "  height: 1px;\n",
       "  margin: -1px;\n",
       "  overflow: hidden;\n",
       "  padding: 0;\n",
       "  position: absolute;\n",
       "  width: 1px;\n",
       "}\n",
       "\n",
       "#sk-container-id-1 div.sk-dashed-wrapped {\n",
       "  border: 1px dashed var(--sklearn-color-line);\n",
       "  margin: 0 0.4em 0.5em 0.4em;\n",
       "  box-sizing: border-box;\n",
       "  padding-bottom: 0.4em;\n",
       "  background-color: var(--sklearn-color-background);\n",
       "}\n",
       "\n",
       "#sk-container-id-1 div.sk-container {\n",
       "  /* jupyter's `normalize.less` sets `[hidden] { display: none; }`\n",
       "     but bootstrap.min.css set `[hidden] { display: none !important; }`\n",
       "     so we also need the `!important` here to be able to override the\n",
       "     default hidden behavior on the sphinx rendered scikit-learn.org.\n",
       "     See: https://github.com/scikit-learn/scikit-learn/issues/21755 */\n",
       "  display: inline-block !important;\n",
       "  position: relative;\n",
       "}\n",
       "\n",
       "#sk-container-id-1 div.sk-text-repr-fallback {\n",
       "  display: none;\n",
       "}\n",
       "\n",
       "div.sk-parallel-item,\n",
       "div.sk-serial,\n",
       "div.sk-item {\n",
       "  /* draw centered vertical line to link estimators */\n",
       "  background-image: linear-gradient(var(--sklearn-color-text-on-default-background), var(--sklearn-color-text-on-default-background));\n",
       "  background-size: 2px 100%;\n",
       "  background-repeat: no-repeat;\n",
       "  background-position: center center;\n",
       "}\n",
       "\n",
       "/* Parallel-specific style estimator block */\n",
       "\n",
       "#sk-container-id-1 div.sk-parallel-item::after {\n",
       "  content: \"\";\n",
       "  width: 100%;\n",
       "  border-bottom: 2px solid var(--sklearn-color-text-on-default-background);\n",
       "  flex-grow: 1;\n",
       "}\n",
       "\n",
       "#sk-container-id-1 div.sk-parallel {\n",
       "  display: flex;\n",
       "  align-items: stretch;\n",
       "  justify-content: center;\n",
       "  background-color: var(--sklearn-color-background);\n",
       "  position: relative;\n",
       "}\n",
       "\n",
       "#sk-container-id-1 div.sk-parallel-item {\n",
       "  display: flex;\n",
       "  flex-direction: column;\n",
       "}\n",
       "\n",
       "#sk-container-id-1 div.sk-parallel-item:first-child::after {\n",
       "  align-self: flex-end;\n",
       "  width: 50%;\n",
       "}\n",
       "\n",
       "#sk-container-id-1 div.sk-parallel-item:last-child::after {\n",
       "  align-self: flex-start;\n",
       "  width: 50%;\n",
       "}\n",
       "\n",
       "#sk-container-id-1 div.sk-parallel-item:only-child::after {\n",
       "  width: 0;\n",
       "}\n",
       "\n",
       "/* Serial-specific style estimator block */\n",
       "\n",
       "#sk-container-id-1 div.sk-serial {\n",
       "  display: flex;\n",
       "  flex-direction: column;\n",
       "  align-items: center;\n",
       "  background-color: var(--sklearn-color-background);\n",
       "  padding-right: 1em;\n",
       "  padding-left: 1em;\n",
       "}\n",
       "\n",
       "\n",
       "/* Toggleable style: style used for estimator/Pipeline/ColumnTransformer box that is\n",
       "clickable and can be expanded/collapsed.\n",
       "- Pipeline and ColumnTransformer use this feature and define the default style\n",
       "- Estimators will overwrite some part of the style using the `sk-estimator` class\n",
       "*/\n",
       "\n",
       "/* Pipeline and ColumnTransformer style (default) */\n",
       "\n",
       "#sk-container-id-1 div.sk-toggleable {\n",
       "  /* Default theme specific background. It is overwritten whether we have a\n",
       "  specific estimator or a Pipeline/ColumnTransformer */\n",
       "  background-color: var(--sklearn-color-background);\n",
       "}\n",
       "\n",
       "/* Toggleable label */\n",
       "#sk-container-id-1 label.sk-toggleable__label {\n",
       "  cursor: pointer;\n",
       "  display: block;\n",
       "  width: 100%;\n",
       "  margin-bottom: 0;\n",
       "  padding: 0.5em;\n",
       "  box-sizing: border-box;\n",
       "  text-align: center;\n",
       "}\n",
       "\n",
       "#sk-container-id-1 label.sk-toggleable__label-arrow:before {\n",
       "  /* Arrow on the left of the label */\n",
       "  content: \"▸\";\n",
       "  float: left;\n",
       "  margin-right: 0.25em;\n",
       "  color: var(--sklearn-color-icon);\n",
       "}\n",
       "\n",
       "#sk-container-id-1 label.sk-toggleable__label-arrow:hover:before {\n",
       "  color: var(--sklearn-color-text);\n",
       "}\n",
       "\n",
       "/* Toggleable content - dropdown */\n",
       "\n",
       "#sk-container-id-1 div.sk-toggleable__content {\n",
       "  max-height: 0;\n",
       "  max-width: 0;\n",
       "  overflow: hidden;\n",
       "  text-align: left;\n",
       "  /* unfitted */\n",
       "  background-color: var(--sklearn-color-unfitted-level-0);\n",
       "}\n",
       "\n",
       "#sk-container-id-1 div.sk-toggleable__content.fitted {\n",
       "  /* fitted */\n",
       "  background-color: var(--sklearn-color-fitted-level-0);\n",
       "}\n",
       "\n",
       "#sk-container-id-1 div.sk-toggleable__content pre {\n",
       "  margin: 0.2em;\n",
       "  border-radius: 0.25em;\n",
       "  color: var(--sklearn-color-text);\n",
       "  /* unfitted */\n",
       "  background-color: var(--sklearn-color-unfitted-level-0);\n",
       "}\n",
       "\n",
       "#sk-container-id-1 div.sk-toggleable__content.fitted pre {\n",
       "  /* unfitted */\n",
       "  background-color: var(--sklearn-color-fitted-level-0);\n",
       "}\n",
       "\n",
       "#sk-container-id-1 input.sk-toggleable__control:checked~div.sk-toggleable__content {\n",
       "  /* Expand drop-down */\n",
       "  max-height: 200px;\n",
       "  max-width: 100%;\n",
       "  overflow: auto;\n",
       "}\n",
       "\n",
       "#sk-container-id-1 input.sk-toggleable__control:checked~label.sk-toggleable__label-arrow:before {\n",
       "  content: \"▾\";\n",
       "}\n",
       "\n",
       "/* Pipeline/ColumnTransformer-specific style */\n",
       "\n",
       "#sk-container-id-1 div.sk-label input.sk-toggleable__control:checked~label.sk-toggleable__label {\n",
       "  color: var(--sklearn-color-text);\n",
       "  background-color: var(--sklearn-color-unfitted-level-2);\n",
       "}\n",
       "\n",
       "#sk-container-id-1 div.sk-label.fitted input.sk-toggleable__control:checked~label.sk-toggleable__label {\n",
       "  background-color: var(--sklearn-color-fitted-level-2);\n",
       "}\n",
       "\n",
       "/* Estimator-specific style */\n",
       "\n",
       "/* Colorize estimator box */\n",
       "#sk-container-id-1 div.sk-estimator input.sk-toggleable__control:checked~label.sk-toggleable__label {\n",
       "  /* unfitted */\n",
       "  background-color: var(--sklearn-color-unfitted-level-2);\n",
       "}\n",
       "\n",
       "#sk-container-id-1 div.sk-estimator.fitted input.sk-toggleable__control:checked~label.sk-toggleable__label {\n",
       "  /* fitted */\n",
       "  background-color: var(--sklearn-color-fitted-level-2);\n",
       "}\n",
       "\n",
       "#sk-container-id-1 div.sk-label label.sk-toggleable__label,\n",
       "#sk-container-id-1 div.sk-label label {\n",
       "  /* The background is the default theme color */\n",
       "  color: var(--sklearn-color-text-on-default-background);\n",
       "}\n",
       "\n",
       "/* On hover, darken the color of the background */\n",
       "#sk-container-id-1 div.sk-label:hover label.sk-toggleable__label {\n",
       "  color: var(--sklearn-color-text);\n",
       "  background-color: var(--sklearn-color-unfitted-level-2);\n",
       "}\n",
       "\n",
       "/* Label box, darken color on hover, fitted */\n",
       "#sk-container-id-1 div.sk-label.fitted:hover label.sk-toggleable__label.fitted {\n",
       "  color: var(--sklearn-color-text);\n",
       "  background-color: var(--sklearn-color-fitted-level-2);\n",
       "}\n",
       "\n",
       "/* Estimator label */\n",
       "\n",
       "#sk-container-id-1 div.sk-label label {\n",
       "  font-family: monospace;\n",
       "  font-weight: bold;\n",
       "  display: inline-block;\n",
       "  line-height: 1.2em;\n",
       "}\n",
       "\n",
       "#sk-container-id-1 div.sk-label-container {\n",
       "  text-align: center;\n",
       "}\n",
       "\n",
       "/* Estimator-specific */\n",
       "#sk-container-id-1 div.sk-estimator {\n",
       "  font-family: monospace;\n",
       "  border: 1px dotted var(--sklearn-color-border-box);\n",
       "  border-radius: 0.25em;\n",
       "  box-sizing: border-box;\n",
       "  margin-bottom: 0.5em;\n",
       "  /* unfitted */\n",
       "  background-color: var(--sklearn-color-unfitted-level-0);\n",
       "}\n",
       "\n",
       "#sk-container-id-1 div.sk-estimator.fitted {\n",
       "  /* fitted */\n",
       "  background-color: var(--sklearn-color-fitted-level-0);\n",
       "}\n",
       "\n",
       "/* on hover */\n",
       "#sk-container-id-1 div.sk-estimator:hover {\n",
       "  /* unfitted */\n",
       "  background-color: var(--sklearn-color-unfitted-level-2);\n",
       "}\n",
       "\n",
       "#sk-container-id-1 div.sk-estimator.fitted:hover {\n",
       "  /* fitted */\n",
       "  background-color: var(--sklearn-color-fitted-level-2);\n",
       "}\n",
       "\n",
       "/* Specification for estimator info (e.g. \"i\" and \"?\") */\n",
       "\n",
       "/* Common style for \"i\" and \"?\" */\n",
       "\n",
       ".sk-estimator-doc-link,\n",
       "a:link.sk-estimator-doc-link,\n",
       "a:visited.sk-estimator-doc-link {\n",
       "  float: right;\n",
       "  font-size: smaller;\n",
       "  line-height: 1em;\n",
       "  font-family: monospace;\n",
       "  background-color: var(--sklearn-color-background);\n",
       "  border-radius: 1em;\n",
       "  height: 1em;\n",
       "  width: 1em;\n",
       "  text-decoration: none !important;\n",
       "  margin-left: 1ex;\n",
       "  /* unfitted */\n",
       "  border: var(--sklearn-color-unfitted-level-1) 1pt solid;\n",
       "  color: var(--sklearn-color-unfitted-level-1);\n",
       "}\n",
       "\n",
       ".sk-estimator-doc-link.fitted,\n",
       "a:link.sk-estimator-doc-link.fitted,\n",
       "a:visited.sk-estimator-doc-link.fitted {\n",
       "  /* fitted */\n",
       "  border: var(--sklearn-color-fitted-level-1) 1pt solid;\n",
       "  color: var(--sklearn-color-fitted-level-1);\n",
       "}\n",
       "\n",
       "/* On hover */\n",
       "div.sk-estimator:hover .sk-estimator-doc-link:hover,\n",
       ".sk-estimator-doc-link:hover,\n",
       "div.sk-label-container:hover .sk-estimator-doc-link:hover,\n",
       ".sk-estimator-doc-link:hover {\n",
       "  /* unfitted */\n",
       "  background-color: var(--sklearn-color-unfitted-level-3);\n",
       "  color: var(--sklearn-color-background);\n",
       "  text-decoration: none;\n",
       "}\n",
       "\n",
       "div.sk-estimator.fitted:hover .sk-estimator-doc-link.fitted:hover,\n",
       ".sk-estimator-doc-link.fitted:hover,\n",
       "div.sk-label-container:hover .sk-estimator-doc-link.fitted:hover,\n",
       ".sk-estimator-doc-link.fitted:hover {\n",
       "  /* fitted */\n",
       "  background-color: var(--sklearn-color-fitted-level-3);\n",
       "  color: var(--sklearn-color-background);\n",
       "  text-decoration: none;\n",
       "}\n",
       "\n",
       "/* Span, style for the box shown on hovering the info icon */\n",
       ".sk-estimator-doc-link span {\n",
       "  display: none;\n",
       "  z-index: 9999;\n",
       "  position: relative;\n",
       "  font-weight: normal;\n",
       "  right: .2ex;\n",
       "  padding: .5ex;\n",
       "  margin: .5ex;\n",
       "  width: min-content;\n",
       "  min-width: 20ex;\n",
       "  max-width: 50ex;\n",
       "  color: var(--sklearn-color-text);\n",
       "  box-shadow: 2pt 2pt 4pt #999;\n",
       "  /* unfitted */\n",
       "  background: var(--sklearn-color-unfitted-level-0);\n",
       "  border: .5pt solid var(--sklearn-color-unfitted-level-3);\n",
       "}\n",
       "\n",
       ".sk-estimator-doc-link.fitted span {\n",
       "  /* fitted */\n",
       "  background: var(--sklearn-color-fitted-level-0);\n",
       "  border: var(--sklearn-color-fitted-level-3);\n",
       "}\n",
       "\n",
       ".sk-estimator-doc-link:hover span {\n",
       "  display: block;\n",
       "}\n",
       "\n",
       "/* \"?\"-specific style due to the `<a>` HTML tag */\n",
       "\n",
       "#sk-container-id-1 a.estimator_doc_link {\n",
       "  float: right;\n",
       "  font-size: 1rem;\n",
       "  line-height: 1em;\n",
       "  font-family: monospace;\n",
       "  background-color: var(--sklearn-color-background);\n",
       "  border-radius: 1rem;\n",
       "  height: 1rem;\n",
       "  width: 1rem;\n",
       "  text-decoration: none;\n",
       "  /* unfitted */\n",
       "  color: var(--sklearn-color-unfitted-level-1);\n",
       "  border: var(--sklearn-color-unfitted-level-1) 1pt solid;\n",
       "}\n",
       "\n",
       "#sk-container-id-1 a.estimator_doc_link.fitted {\n",
       "  /* fitted */\n",
       "  border: var(--sklearn-color-fitted-level-1) 1pt solid;\n",
       "  color: var(--sklearn-color-fitted-level-1);\n",
       "}\n",
       "\n",
       "/* On hover */\n",
       "#sk-container-id-1 a.estimator_doc_link:hover {\n",
       "  /* unfitted */\n",
       "  background-color: var(--sklearn-color-unfitted-level-3);\n",
       "  color: var(--sklearn-color-background);\n",
       "  text-decoration: none;\n",
       "}\n",
       "\n",
       "#sk-container-id-1 a.estimator_doc_link.fitted:hover {\n",
       "  /* fitted */\n",
       "  background-color: var(--sklearn-color-fitted-level-3);\n",
       "}\n",
       "</style><div id=\"sk-container-id-1\" class=\"sk-top-container\"><div class=\"sk-text-repr-fallback\"><pre>LabelEncoder()</pre><b>In a Jupyter environment, please rerun this cell to show the HTML representation or trust the notebook. <br />On GitHub, the HTML representation is unable to render, please try loading this page with nbviewer.org.</b></div><div class=\"sk-container\" hidden><div class=\"sk-item\"><div class=\"sk-estimator fitted sk-toggleable\"><input class=\"sk-toggleable__control sk-hidden--visually\" id=\"sk-estimator-id-1\" type=\"checkbox\" checked><label for=\"sk-estimator-id-1\" class=\"sk-toggleable__label fitted sk-toggleable__label-arrow fitted\">&nbsp;&nbsp;LabelEncoder<a class=\"sk-estimator-doc-link fitted\" rel=\"noreferrer\" target=\"_blank\" href=\"https://scikit-learn.org/1.5/modules/generated/sklearn.preprocessing.LabelEncoder.html\">?<span>Documentation for LabelEncoder</span></a><span class=\"sk-estimator-doc-link fitted\">i<span>Fitted</span></span></label><div class=\"sk-toggleable__content fitted\"><pre>LabelEncoder()</pre></div> </div></div></div></div>"
      ],
      "text/plain": [
       "LabelEncoder()"
      ]
     },
     "execution_count": 7,
     "metadata": {},
     "output_type": "execute_result"
    }
   ],
   "source": [
    "#définir le transformeur, ici LabelEncoder()\n",
    "transformer = LabelEncoder()\n",
    "\n",
    "#la méthode fit() permet de développer une fonction de transformation en analysant les données du train set (ici X)\n",
    "transformer.fit(X)"
   ]
  },
  {
   "cell_type": "code",
   "execution_count": 8,
   "id": "79481c42-1d22-4fad-addc-e79b8adedf87",
   "metadata": {},
   "outputs": [
    {
     "data": {
      "text/plain": [
       "array([0, 1, 0, 2])"
      ]
     },
     "execution_count": 8,
     "metadata": {},
     "output_type": "execute_result"
    }
   ],
   "source": [
    "#la méthode transform() permet d'appliquer cette fonction de transformation sur toutes les données qu'on lui fournit\n",
    "transformer.transform(X)"
   ]
  },
  {
   "cell_type": "code",
   "execution_count": 9,
   "id": "7c64b7f9-ae24-4793-9fa7-4abb3169fca1",
   "metadata": {},
   "outputs": [],
   "source": [
    "#les données X sont transformées de valeurs non numériques en valeurs numériques:\n",
    "#0 pour Chat\n",
    "#1 pour Chien\n",
    "#2 pour Oiseau"
   ]
  },
  {
   "cell_type": "markdown",
   "id": "cc00b4d9-1f8b-4ca2-805d-bb7104c17e8e",
   "metadata": {},
   "source": [
    "Pour faire d'une pierre 2 coups, il existe une 3ème méthode, appelée **fit_transform()** qui **combine la méthode fit() avec la méthode transform().**"
   ]
  },
  {
   "cell_type": "code",
   "execution_count": 11,
   "id": "d13bc3c9-4a08-4c49-aff7-c7ee1509d36e",
   "metadata": {},
   "outputs": [
    {
     "data": {
      "text/plain": [
       "array([0, 1, 0, 2], dtype=int64)"
      ]
     },
     "execution_count": 11,
     "metadata": {},
     "output_type": "execute_result"
    }
   ],
   "source": [
    "#définir le transformeur, ici LabelEncoder()\n",
    "transformer = LabelEncoder()\n",
    "\n",
    "#la méthode fit_transform() qui combine la méthode fit() avec la méthode transform()\n",
    "transformer.fit_transform(X)"
   ]
  },
  {
   "cell_type": "code",
   "execution_count": 12,
   "id": "7978cd4e-faa8-4c8e-89fb-065b7c605b53",
   "metadata": {},
   "outputs": [],
   "source": [
    "#on a le même résultat!"
   ]
  },
  {
   "cell_type": "markdown",
   "id": "edf6c008-b091-4e59-82d9-c5fb5ec91ab9",
   "metadata": {},
   "source": [
    "### Transformeur et estimateur"
   ]
  },
  {
   "cell_type": "markdown",
   "id": "e5e35ccd-d0f4-4bc6-9453-4c8a5eb62cc2",
   "metadata": {},
   "source": [
    "**Explication:**\n",
    "\n",
    "Dans la pratique, quand on désire développer un modèle de ML:\n",
    "\n",
    "1. on divise le dataset en 2 parties: train set (X_train, y_train) et test set(X_test, y_test).\n",
    "2. Avec les données du train set (X_train, y_train), on développe une fonction de transformation, ce qui permet de traiter les données pour ensuite entraîner un estimateur.\n",
    "3. Après, on peut utiliser le transformeur et l'estimateur tels qu'ils ont été développés, pour transformer les données du test set (X_test, y_test) puis faire de nouvelles prédictions (y_pred).\n",
    "\n",
    "- **En combinant un transformeur avec un estimateur on obtient une pipeline (càd une chaîne de tranformation).**\n",
    "\n",
    "**X_test ----> Pipeline (= transformeur + estimateur) ----> y_pred**"
   ]
  },
  {
   "cell_type": "markdown",
   "id": "522d72ce-23d1-4fee-85e2-49b553d78c8a",
   "metadata": {},
   "source": [
    "## Preprocessing: encodage"
   ]
  },
  {
   "cell_type": "markdown",
   "id": "2a9a3175-e771-4b67-886b-326553e18bd3",
   "metadata": {},
   "source": [
    "### Encodage ordinal"
   ]
  },
  {
   "cell_type": "markdown",
   "id": "0f14c62d-3f18-45af-86b5-4c939a125b99",
   "metadata": {},
   "source": [
    "**Défnition:**\n",
    "\n",
    "L'encodage signifie transformer les données non numériques en données numériques (pour le développement d'un modèle de ML).\n",
    "\n",
    "Dans sklearn, il existe 5 transformeurs d'encodage:\n",
    "\n",
    "- LabelEncoder\n",
    "- LabelBinarizer\n",
    "- MultiLabelBinarizer\n",
    "- OrdinalEncoder\n",
    "- OneHotEncoder\n",
    "\n",
    "Ces transformeurs permettent de faire **2 types d'encodages: l'encodage ordinal et l'encodage OneHot**.\n",
    "\n",
    "- **l'encodage ordinal:**\n",
    "\n",
    "\n",
    "Consiste à associer chaque catégorie (ou classe) d'une variable à une variable décimale unique (exp: 0 pour Chat, 1 pour Chien, 2 pour Oiseau,...etc). Pour ça, on **LabelEncoder et OrdinalEncoder**.\n",
    "\n",
    "  **LabelEncoder** est conçu spécialement pour **encoder la variable y (label/target)**. En prinicipe, il ne traîte qu'une seule colonne.\n"
   ]
  },
  {
   "cell_type": "code",
   "execution_count": 18,
   "id": "d060dca9-a7e9-462b-b8eb-058500c3a6b2",
   "metadata": {},
   "outputs": [
    {
     "data": {
      "text/html": [
       "<style>#sk-container-id-2 {\n",
       "  /* Definition of color scheme common for light and dark mode */\n",
       "  --sklearn-color-text: black;\n",
       "  --sklearn-color-line: gray;\n",
       "  /* Definition of color scheme for unfitted estimators */\n",
       "  --sklearn-color-unfitted-level-0: #fff5e6;\n",
       "  --sklearn-color-unfitted-level-1: #f6e4d2;\n",
       "  --sklearn-color-unfitted-level-2: #ffe0b3;\n",
       "  --sklearn-color-unfitted-level-3: chocolate;\n",
       "  /* Definition of color scheme for fitted estimators */\n",
       "  --sklearn-color-fitted-level-0: #f0f8ff;\n",
       "  --sklearn-color-fitted-level-1: #d4ebff;\n",
       "  --sklearn-color-fitted-level-2: #b3dbfd;\n",
       "  --sklearn-color-fitted-level-3: cornflowerblue;\n",
       "\n",
       "  /* Specific color for light theme */\n",
       "  --sklearn-color-text-on-default-background: var(--sg-text-color, var(--theme-code-foreground, var(--jp-content-font-color1, black)));\n",
       "  --sklearn-color-background: var(--sg-background-color, var(--theme-background, var(--jp-layout-color0, white)));\n",
       "  --sklearn-color-border-box: var(--sg-text-color, var(--theme-code-foreground, var(--jp-content-font-color1, black)));\n",
       "  --sklearn-color-icon: #696969;\n",
       "\n",
       "  @media (prefers-color-scheme: dark) {\n",
       "    /* Redefinition of color scheme for dark theme */\n",
       "    --sklearn-color-text-on-default-background: var(--sg-text-color, var(--theme-code-foreground, var(--jp-content-font-color1, white)));\n",
       "    --sklearn-color-background: var(--sg-background-color, var(--theme-background, var(--jp-layout-color0, #111)));\n",
       "    --sklearn-color-border-box: var(--sg-text-color, var(--theme-code-foreground, var(--jp-content-font-color1, white)));\n",
       "    --sklearn-color-icon: #878787;\n",
       "  }\n",
       "}\n",
       "\n",
       "#sk-container-id-2 {\n",
       "  color: var(--sklearn-color-text);\n",
       "}\n",
       "\n",
       "#sk-container-id-2 pre {\n",
       "  padding: 0;\n",
       "}\n",
       "\n",
       "#sk-container-id-2 input.sk-hidden--visually {\n",
       "  border: 0;\n",
       "  clip: rect(1px 1px 1px 1px);\n",
       "  clip: rect(1px, 1px, 1px, 1px);\n",
       "  height: 1px;\n",
       "  margin: -1px;\n",
       "  overflow: hidden;\n",
       "  padding: 0;\n",
       "  position: absolute;\n",
       "  width: 1px;\n",
       "}\n",
       "\n",
       "#sk-container-id-2 div.sk-dashed-wrapped {\n",
       "  border: 1px dashed var(--sklearn-color-line);\n",
       "  margin: 0 0.4em 0.5em 0.4em;\n",
       "  box-sizing: border-box;\n",
       "  padding-bottom: 0.4em;\n",
       "  background-color: var(--sklearn-color-background);\n",
       "}\n",
       "\n",
       "#sk-container-id-2 div.sk-container {\n",
       "  /* jupyter's `normalize.less` sets `[hidden] { display: none; }`\n",
       "     but bootstrap.min.css set `[hidden] { display: none !important; }`\n",
       "     so we also need the `!important` here to be able to override the\n",
       "     default hidden behavior on the sphinx rendered scikit-learn.org.\n",
       "     See: https://github.com/scikit-learn/scikit-learn/issues/21755 */\n",
       "  display: inline-block !important;\n",
       "  position: relative;\n",
       "}\n",
       "\n",
       "#sk-container-id-2 div.sk-text-repr-fallback {\n",
       "  display: none;\n",
       "}\n",
       "\n",
       "div.sk-parallel-item,\n",
       "div.sk-serial,\n",
       "div.sk-item {\n",
       "  /* draw centered vertical line to link estimators */\n",
       "  background-image: linear-gradient(var(--sklearn-color-text-on-default-background), var(--sklearn-color-text-on-default-background));\n",
       "  background-size: 2px 100%;\n",
       "  background-repeat: no-repeat;\n",
       "  background-position: center center;\n",
       "}\n",
       "\n",
       "/* Parallel-specific style estimator block */\n",
       "\n",
       "#sk-container-id-2 div.sk-parallel-item::after {\n",
       "  content: \"\";\n",
       "  width: 100%;\n",
       "  border-bottom: 2px solid var(--sklearn-color-text-on-default-background);\n",
       "  flex-grow: 1;\n",
       "}\n",
       "\n",
       "#sk-container-id-2 div.sk-parallel {\n",
       "  display: flex;\n",
       "  align-items: stretch;\n",
       "  justify-content: center;\n",
       "  background-color: var(--sklearn-color-background);\n",
       "  position: relative;\n",
       "}\n",
       "\n",
       "#sk-container-id-2 div.sk-parallel-item {\n",
       "  display: flex;\n",
       "  flex-direction: column;\n",
       "}\n",
       "\n",
       "#sk-container-id-2 div.sk-parallel-item:first-child::after {\n",
       "  align-self: flex-end;\n",
       "  width: 50%;\n",
       "}\n",
       "\n",
       "#sk-container-id-2 div.sk-parallel-item:last-child::after {\n",
       "  align-self: flex-start;\n",
       "  width: 50%;\n",
       "}\n",
       "\n",
       "#sk-container-id-2 div.sk-parallel-item:only-child::after {\n",
       "  width: 0;\n",
       "}\n",
       "\n",
       "/* Serial-specific style estimator block */\n",
       "\n",
       "#sk-container-id-2 div.sk-serial {\n",
       "  display: flex;\n",
       "  flex-direction: column;\n",
       "  align-items: center;\n",
       "  background-color: var(--sklearn-color-background);\n",
       "  padding-right: 1em;\n",
       "  padding-left: 1em;\n",
       "}\n",
       "\n",
       "\n",
       "/* Toggleable style: style used for estimator/Pipeline/ColumnTransformer box that is\n",
       "clickable and can be expanded/collapsed.\n",
       "- Pipeline and ColumnTransformer use this feature and define the default style\n",
       "- Estimators will overwrite some part of the style using the `sk-estimator` class\n",
       "*/\n",
       "\n",
       "/* Pipeline and ColumnTransformer style (default) */\n",
       "\n",
       "#sk-container-id-2 div.sk-toggleable {\n",
       "  /* Default theme specific background. It is overwritten whether we have a\n",
       "  specific estimator or a Pipeline/ColumnTransformer */\n",
       "  background-color: var(--sklearn-color-background);\n",
       "}\n",
       "\n",
       "/* Toggleable label */\n",
       "#sk-container-id-2 label.sk-toggleable__label {\n",
       "  cursor: pointer;\n",
       "  display: block;\n",
       "  width: 100%;\n",
       "  margin-bottom: 0;\n",
       "  padding: 0.5em;\n",
       "  box-sizing: border-box;\n",
       "  text-align: center;\n",
       "}\n",
       "\n",
       "#sk-container-id-2 label.sk-toggleable__label-arrow:before {\n",
       "  /* Arrow on the left of the label */\n",
       "  content: \"▸\";\n",
       "  float: left;\n",
       "  margin-right: 0.25em;\n",
       "  color: var(--sklearn-color-icon);\n",
       "}\n",
       "\n",
       "#sk-container-id-2 label.sk-toggleable__label-arrow:hover:before {\n",
       "  color: var(--sklearn-color-text);\n",
       "}\n",
       "\n",
       "/* Toggleable content - dropdown */\n",
       "\n",
       "#sk-container-id-2 div.sk-toggleable__content {\n",
       "  max-height: 0;\n",
       "  max-width: 0;\n",
       "  overflow: hidden;\n",
       "  text-align: left;\n",
       "  /* unfitted */\n",
       "  background-color: var(--sklearn-color-unfitted-level-0);\n",
       "}\n",
       "\n",
       "#sk-container-id-2 div.sk-toggleable__content.fitted {\n",
       "  /* fitted */\n",
       "  background-color: var(--sklearn-color-fitted-level-0);\n",
       "}\n",
       "\n",
       "#sk-container-id-2 div.sk-toggleable__content pre {\n",
       "  margin: 0.2em;\n",
       "  border-radius: 0.25em;\n",
       "  color: var(--sklearn-color-text);\n",
       "  /* unfitted */\n",
       "  background-color: var(--sklearn-color-unfitted-level-0);\n",
       "}\n",
       "\n",
       "#sk-container-id-2 div.sk-toggleable__content.fitted pre {\n",
       "  /* unfitted */\n",
       "  background-color: var(--sklearn-color-fitted-level-0);\n",
       "}\n",
       "\n",
       "#sk-container-id-2 input.sk-toggleable__control:checked~div.sk-toggleable__content {\n",
       "  /* Expand drop-down */\n",
       "  max-height: 200px;\n",
       "  max-width: 100%;\n",
       "  overflow: auto;\n",
       "}\n",
       "\n",
       "#sk-container-id-2 input.sk-toggleable__control:checked~label.sk-toggleable__label-arrow:before {\n",
       "  content: \"▾\";\n",
       "}\n",
       "\n",
       "/* Pipeline/ColumnTransformer-specific style */\n",
       "\n",
       "#sk-container-id-2 div.sk-label input.sk-toggleable__control:checked~label.sk-toggleable__label {\n",
       "  color: var(--sklearn-color-text);\n",
       "  background-color: var(--sklearn-color-unfitted-level-2);\n",
       "}\n",
       "\n",
       "#sk-container-id-2 div.sk-label.fitted input.sk-toggleable__control:checked~label.sk-toggleable__label {\n",
       "  background-color: var(--sklearn-color-fitted-level-2);\n",
       "}\n",
       "\n",
       "/* Estimator-specific style */\n",
       "\n",
       "/* Colorize estimator box */\n",
       "#sk-container-id-2 div.sk-estimator input.sk-toggleable__control:checked~label.sk-toggleable__label {\n",
       "  /* unfitted */\n",
       "  background-color: var(--sklearn-color-unfitted-level-2);\n",
       "}\n",
       "\n",
       "#sk-container-id-2 div.sk-estimator.fitted input.sk-toggleable__control:checked~label.sk-toggleable__label {\n",
       "  /* fitted */\n",
       "  background-color: var(--sklearn-color-fitted-level-2);\n",
       "}\n",
       "\n",
       "#sk-container-id-2 div.sk-label label.sk-toggleable__label,\n",
       "#sk-container-id-2 div.sk-label label {\n",
       "  /* The background is the default theme color */\n",
       "  color: var(--sklearn-color-text-on-default-background);\n",
       "}\n",
       "\n",
       "/* On hover, darken the color of the background */\n",
       "#sk-container-id-2 div.sk-label:hover label.sk-toggleable__label {\n",
       "  color: var(--sklearn-color-text);\n",
       "  background-color: var(--sklearn-color-unfitted-level-2);\n",
       "}\n",
       "\n",
       "/* Label box, darken color on hover, fitted */\n",
       "#sk-container-id-2 div.sk-label.fitted:hover label.sk-toggleable__label.fitted {\n",
       "  color: var(--sklearn-color-text);\n",
       "  background-color: var(--sklearn-color-fitted-level-2);\n",
       "}\n",
       "\n",
       "/* Estimator label */\n",
       "\n",
       "#sk-container-id-2 div.sk-label label {\n",
       "  font-family: monospace;\n",
       "  font-weight: bold;\n",
       "  display: inline-block;\n",
       "  line-height: 1.2em;\n",
       "}\n",
       "\n",
       "#sk-container-id-2 div.sk-label-container {\n",
       "  text-align: center;\n",
       "}\n",
       "\n",
       "/* Estimator-specific */\n",
       "#sk-container-id-2 div.sk-estimator {\n",
       "  font-family: monospace;\n",
       "  border: 1px dotted var(--sklearn-color-border-box);\n",
       "  border-radius: 0.25em;\n",
       "  box-sizing: border-box;\n",
       "  margin-bottom: 0.5em;\n",
       "  /* unfitted */\n",
       "  background-color: var(--sklearn-color-unfitted-level-0);\n",
       "}\n",
       "\n",
       "#sk-container-id-2 div.sk-estimator.fitted {\n",
       "  /* fitted */\n",
       "  background-color: var(--sklearn-color-fitted-level-0);\n",
       "}\n",
       "\n",
       "/* on hover */\n",
       "#sk-container-id-2 div.sk-estimator:hover {\n",
       "  /* unfitted */\n",
       "  background-color: var(--sklearn-color-unfitted-level-2);\n",
       "}\n",
       "\n",
       "#sk-container-id-2 div.sk-estimator.fitted:hover {\n",
       "  /* fitted */\n",
       "  background-color: var(--sklearn-color-fitted-level-2);\n",
       "}\n",
       "\n",
       "/* Specification for estimator info (e.g. \"i\" and \"?\") */\n",
       "\n",
       "/* Common style for \"i\" and \"?\" */\n",
       "\n",
       ".sk-estimator-doc-link,\n",
       "a:link.sk-estimator-doc-link,\n",
       "a:visited.sk-estimator-doc-link {\n",
       "  float: right;\n",
       "  font-size: smaller;\n",
       "  line-height: 1em;\n",
       "  font-family: monospace;\n",
       "  background-color: var(--sklearn-color-background);\n",
       "  border-radius: 1em;\n",
       "  height: 1em;\n",
       "  width: 1em;\n",
       "  text-decoration: none !important;\n",
       "  margin-left: 1ex;\n",
       "  /* unfitted */\n",
       "  border: var(--sklearn-color-unfitted-level-1) 1pt solid;\n",
       "  color: var(--sklearn-color-unfitted-level-1);\n",
       "}\n",
       "\n",
       ".sk-estimator-doc-link.fitted,\n",
       "a:link.sk-estimator-doc-link.fitted,\n",
       "a:visited.sk-estimator-doc-link.fitted {\n",
       "  /* fitted */\n",
       "  border: var(--sklearn-color-fitted-level-1) 1pt solid;\n",
       "  color: var(--sklearn-color-fitted-level-1);\n",
       "}\n",
       "\n",
       "/* On hover */\n",
       "div.sk-estimator:hover .sk-estimator-doc-link:hover,\n",
       ".sk-estimator-doc-link:hover,\n",
       "div.sk-label-container:hover .sk-estimator-doc-link:hover,\n",
       ".sk-estimator-doc-link:hover {\n",
       "  /* unfitted */\n",
       "  background-color: var(--sklearn-color-unfitted-level-3);\n",
       "  color: var(--sklearn-color-background);\n",
       "  text-decoration: none;\n",
       "}\n",
       "\n",
       "div.sk-estimator.fitted:hover .sk-estimator-doc-link.fitted:hover,\n",
       ".sk-estimator-doc-link.fitted:hover,\n",
       "div.sk-label-container:hover .sk-estimator-doc-link.fitted:hover,\n",
       ".sk-estimator-doc-link.fitted:hover {\n",
       "  /* fitted */\n",
       "  background-color: var(--sklearn-color-fitted-level-3);\n",
       "  color: var(--sklearn-color-background);\n",
       "  text-decoration: none;\n",
       "}\n",
       "\n",
       "/* Span, style for the box shown on hovering the info icon */\n",
       ".sk-estimator-doc-link span {\n",
       "  display: none;\n",
       "  z-index: 9999;\n",
       "  position: relative;\n",
       "  font-weight: normal;\n",
       "  right: .2ex;\n",
       "  padding: .5ex;\n",
       "  margin: .5ex;\n",
       "  width: min-content;\n",
       "  min-width: 20ex;\n",
       "  max-width: 50ex;\n",
       "  color: var(--sklearn-color-text);\n",
       "  box-shadow: 2pt 2pt 4pt #999;\n",
       "  /* unfitted */\n",
       "  background: var(--sklearn-color-unfitted-level-0);\n",
       "  border: .5pt solid var(--sklearn-color-unfitted-level-3);\n",
       "}\n",
       "\n",
       ".sk-estimator-doc-link.fitted span {\n",
       "  /* fitted */\n",
       "  background: var(--sklearn-color-fitted-level-0);\n",
       "  border: var(--sklearn-color-fitted-level-3);\n",
       "}\n",
       "\n",
       ".sk-estimator-doc-link:hover span {\n",
       "  display: block;\n",
       "}\n",
       "\n",
       "/* \"?\"-specific style due to the `<a>` HTML tag */\n",
       "\n",
       "#sk-container-id-2 a.estimator_doc_link {\n",
       "  float: right;\n",
       "  font-size: 1rem;\n",
       "  line-height: 1em;\n",
       "  font-family: monospace;\n",
       "  background-color: var(--sklearn-color-background);\n",
       "  border-radius: 1rem;\n",
       "  height: 1rem;\n",
       "  width: 1rem;\n",
       "  text-decoration: none;\n",
       "  /* unfitted */\n",
       "  color: var(--sklearn-color-unfitted-level-1);\n",
       "  border: var(--sklearn-color-unfitted-level-1) 1pt solid;\n",
       "}\n",
       "\n",
       "#sk-container-id-2 a.estimator_doc_link.fitted {\n",
       "  /* fitted */\n",
       "  border: var(--sklearn-color-fitted-level-1) 1pt solid;\n",
       "  color: var(--sklearn-color-fitted-level-1);\n",
       "}\n",
       "\n",
       "/* On hover */\n",
       "#sk-container-id-2 a.estimator_doc_link:hover {\n",
       "  /* unfitted */\n",
       "  background-color: var(--sklearn-color-unfitted-level-3);\n",
       "  color: var(--sklearn-color-background);\n",
       "  text-decoration: none;\n",
       "}\n",
       "\n",
       "#sk-container-id-2 a.estimator_doc_link.fitted:hover {\n",
       "  /* fitted */\n",
       "  background-color: var(--sklearn-color-fitted-level-3);\n",
       "}\n",
       "</style><div id=\"sk-container-id-2\" class=\"sk-top-container\"><div class=\"sk-text-repr-fallback\"><pre>LabelEncoder()</pre><b>In a Jupyter environment, please rerun this cell to show the HTML representation or trust the notebook. <br />On GitHub, the HTML representation is unable to render, please try loading this page with nbviewer.org.</b></div><div class=\"sk-container\" hidden><div class=\"sk-item\"><div class=\"sk-estimator fitted sk-toggleable\"><input class=\"sk-toggleable__control sk-hidden--visually\" id=\"sk-estimator-id-2\" type=\"checkbox\" checked><label for=\"sk-estimator-id-2\" class=\"sk-toggleable__label fitted sk-toggleable__label-arrow fitted\">&nbsp;&nbsp;LabelEncoder<a class=\"sk-estimator-doc-link fitted\" rel=\"noreferrer\" target=\"_blank\" href=\"https://scikit-learn.org/1.5/modules/generated/sklearn.preprocessing.LabelEncoder.html\">?<span>Documentation for LabelEncoder</span></a><span class=\"sk-estimator-doc-link fitted\">i<span>Fitted</span></span></label><div class=\"sk-toggleable__content fitted\"><pre>LabelEncoder()</pre></div> </div></div></div></div>"
      ],
      "text/plain": [
       "LabelEncoder()"
      ]
     },
     "execution_count": 18,
     "metadata": {},
     "output_type": "execute_result"
    }
   ],
   "source": [
    "#définir y\n",
    "y = np.array(['Chat','Chien','Chat','Oiseau'])\n",
    "\n",
    "#définir le transformeur, ici LabelEncoder()\n",
    "encoder = LabelEncoder()\n",
    "\n",
    "#la méthode fit() permet de développer une fonction de transformation en analysant les données (ici y)\n",
    "encoder.fit(y)"
   ]
  },
  {
   "cell_type": "code",
   "execution_count": 19,
   "id": "a1d80457-77dd-422d-8fde-dbc5c7780c1a",
   "metadata": {},
   "outputs": [
    {
     "data": {
      "text/plain": [
       "array(['Chat', 'Chien', 'Oiseau'], dtype='<U6')"
      ]
     },
     "execution_count": 19,
     "metadata": {},
     "output_type": "execute_result"
    }
   ],
   "source": [
    "#classes_: contient l'étiquette de chaque classe\n",
    "encoder.classes_"
   ]
  },
  {
   "cell_type": "code",
   "execution_count": 20,
   "id": "6f01bc07-a5c7-4c7d-a8e1-0373c7b19d73",
   "metadata": {},
   "outputs": [
    {
     "data": {
      "text/plain": [
       "array([0, 1, 0, 2])"
      ]
     },
     "execution_count": 20,
     "metadata": {},
     "output_type": "execute_result"
    }
   ],
   "source": [
    "#la méthode transform() permet d'appliquer cette fonction de transformation sur toutes les données qu'on lui fournit\n",
    "encoder.transform(y)"
   ]
  },
  {
   "cell_type": "code",
   "execution_count": 21,
   "id": "e01f518b-6b5b-4b12-baa2-e737c786ba03",
   "metadata": {},
   "outputs": [],
   "source": [
    "#0 pour Chat\n",
    "#1 pour Chien\n",
    "#2 pour Oiseau"
   ]
  },
  {
   "cell_type": "code",
   "execution_count": 22,
   "id": "dfa6bcee-0742-4275-b958-f9228d49fcf1",
   "metadata": {},
   "outputs": [
    {
     "data": {
      "text/plain": [
       "array([0, 1, 0, 2], dtype=int64)"
      ]
     },
     "execution_count": 22,
     "metadata": {},
     "output_type": "execute_result"
    }
   ],
   "source": [
    "#on peut aussi utiliser la méthode fit_transform() comme tout à l'heure\n",
    "#la méthode fit_transform() combine la méthode fit() avec la méthode transform()\n",
    "encoder.fit_transform(y)"
   ]
  },
  {
   "cell_type": "code",
   "execution_count": 23,
   "id": "4665025e-6326-453c-8c2f-a733e0820f3b",
   "metadata": {},
   "outputs": [],
   "source": [
    "#on obtient le même résultat!"
   ]
  },
  {
   "cell_type": "markdown",
   "id": "ce3b220d-4a7a-4590-8358-167c6332a97b",
   "metadata": {},
   "source": [
    "- Pour certains transformeurs, dont LabelEncoder, il existe une méthode appelée **inverse_tansform() qui permet d'appliquer la transformation dans le sens contraire**, donc elle permet de décoder les données.\n",
    "\n",
    "**Exp:** si on a développé un modèle de ML à identifier des animaux, et que ce modèle donne des valeurs numériques, si on ne sait pas ce que signifient ces valeurs numériques alors on peut utiliser la méthode inverse_tansform() pour décoder les données."
   ]
  },
  {
   "cell_type": "code",
   "execution_count": 25,
   "id": "d6779cbb-2e77-4d89-a298-aae4e8173df4",
   "metadata": {},
   "outputs": [
    {
     "data": {
      "text/plain": [
       "array(['Chat', 'Chat', 'Oiseau', 'Oiseau'], dtype='<U6')"
      ]
     },
     "execution_count": 25,
     "metadata": {},
     "output_type": "execute_result"
    }
   ],
   "source": [
    "#on fait passer un tableau numpy np.array([0, 0, 2, 2]) à la méthode inverse_tansform()\n",
    "encoder.inverse_transform(np.array([0, 0, 2, 2]))"
   ]
  },
  {
   "cell_type": "markdown",
   "id": "d4961e79-8b01-4b4d-8629-a710eab253a6",
   "metadata": {},
   "source": [
    "**Si on désire encoder un tableau qui contient plusieurs variables, LabelEncoder ne va pas fonctionner.**\n",
    "\n",
    "Démonstration:"
   ]
  },
  {
   "cell_type": "code",
   "execution_count": 27,
   "id": "05127760-1a3f-4bd8-98a4-8efa5d3773fc",
   "metadata": {},
   "outputs": [
    {
     "ename": "ValueError",
     "evalue": "y should be a 1d array, got an array of shape (4, 2) instead.",
     "output_type": "error",
     "traceback": [
      "\u001b[1;31m---------------------------------------------------------------------------\u001b[0m",
      "\u001b[1;31mValueError\u001b[0m                                Traceback (most recent call last)",
      "Cell \u001b[1;32mIn[27], line 11\u001b[0m\n\u001b[0;32m      8\u001b[0m encoder \u001b[38;5;241m=\u001b[39m LabelEncoder()\n\u001b[0;32m     10\u001b[0m \u001b[38;5;66;03m#la méthode fit() permet de développer une fonction de transformation en analysant les données (ici X)\u001b[39;00m\n\u001b[1;32m---> 11\u001b[0m encoder\u001b[38;5;241m.\u001b[39mfit(X)\n\u001b[0;32m     13\u001b[0m \u001b[38;5;66;03m#la méthode fit_transform() qui combine la méthode fit() avec la méthode transform()\u001b[39;00m\n\u001b[0;32m     14\u001b[0m encoder\u001b[38;5;241m.\u001b[39mfit_transform(X)\n",
      "File \u001b[1;32m~\\anaconda3\\Lib\\site-packages\\sklearn\\preprocessing\\_label.py:97\u001b[0m, in \u001b[0;36mLabelEncoder.fit\u001b[1;34m(self, y)\u001b[0m\n\u001b[0;32m     84\u001b[0m \u001b[38;5;28;01mdef\u001b[39;00m \u001b[38;5;21mfit\u001b[39m(\u001b[38;5;28mself\u001b[39m, y):\n\u001b[0;32m     85\u001b[0m \u001b[38;5;250m    \u001b[39m\u001b[38;5;124;03m\"\"\"Fit label encoder.\u001b[39;00m\n\u001b[0;32m     86\u001b[0m \n\u001b[0;32m     87\u001b[0m \u001b[38;5;124;03m    Parameters\u001b[39;00m\n\u001b[1;32m   (...)\u001b[0m\n\u001b[0;32m     95\u001b[0m \u001b[38;5;124;03m        Fitted label encoder.\u001b[39;00m\n\u001b[0;32m     96\u001b[0m \u001b[38;5;124;03m    \"\"\"\u001b[39;00m\n\u001b[1;32m---> 97\u001b[0m     y \u001b[38;5;241m=\u001b[39m column_or_1d(y, warn\u001b[38;5;241m=\u001b[39m\u001b[38;5;28;01mTrue\u001b[39;00m)\n\u001b[0;32m     98\u001b[0m     \u001b[38;5;28mself\u001b[39m\u001b[38;5;241m.\u001b[39mclasses_ \u001b[38;5;241m=\u001b[39m _unique(y)\n\u001b[0;32m     99\u001b[0m     \u001b[38;5;28;01mreturn\u001b[39;00m \u001b[38;5;28mself\u001b[39m\n",
      "File \u001b[1;32m~\\anaconda3\\Lib\\site-packages\\sklearn\\utils\\validation.py:1406\u001b[0m, in \u001b[0;36mcolumn_or_1d\u001b[1;34m(y, dtype, warn)\u001b[0m\n\u001b[0;32m   1395\u001b[0m         warnings\u001b[38;5;241m.\u001b[39mwarn(\n\u001b[0;32m   1396\u001b[0m             (\n\u001b[0;32m   1397\u001b[0m                 \u001b[38;5;124m\"\u001b[39m\u001b[38;5;124mA column-vector y was passed when a 1d array was\u001b[39m\u001b[38;5;124m\"\u001b[39m\n\u001b[1;32m   (...)\u001b[0m\n\u001b[0;32m   1402\u001b[0m             stacklevel\u001b[38;5;241m=\u001b[39m\u001b[38;5;241m2\u001b[39m,\n\u001b[0;32m   1403\u001b[0m         )\n\u001b[0;32m   1404\u001b[0m     \u001b[38;5;28;01mreturn\u001b[39;00m _asarray_with_order(xp\u001b[38;5;241m.\u001b[39mreshape(y, (\u001b[38;5;241m-\u001b[39m\u001b[38;5;241m1\u001b[39m,)), order\u001b[38;5;241m=\u001b[39m\u001b[38;5;124m\"\u001b[39m\u001b[38;5;124mC\u001b[39m\u001b[38;5;124m\"\u001b[39m, xp\u001b[38;5;241m=\u001b[39mxp)\n\u001b[1;32m-> 1406\u001b[0m \u001b[38;5;28;01mraise\u001b[39;00m \u001b[38;5;167;01mValueError\u001b[39;00m(\n\u001b[0;32m   1407\u001b[0m     \u001b[38;5;124m\"\u001b[39m\u001b[38;5;124my should be a 1d array, got an array of shape \u001b[39m\u001b[38;5;132;01m{}\u001b[39;00m\u001b[38;5;124m instead.\u001b[39m\u001b[38;5;124m\"\u001b[39m\u001b[38;5;241m.\u001b[39mformat(shape)\n\u001b[0;32m   1408\u001b[0m )\n",
      "\u001b[1;31mValueError\u001b[0m: y should be a 1d array, got an array of shape (4, 2) instead."
     ]
    }
   ],
   "source": [
    "#définir X\n",
    "X = np.array([['Chat', 'Poils'],\n",
    "             ['Chien', 'Poils'],\n",
    "             ['Chat', 'Poils'],\n",
    "             ['Oiseau', 'Plumes']])\n",
    "\n",
    "#définir le transformeur, ici LabelEncoder()\n",
    "encoder = LabelEncoder()\n",
    "\n",
    "#la méthode fit() permet de développer une fonction de transformation en analysant les données (ici X)\n",
    "encoder.fit(X)\n",
    "\n",
    "#la méthode fit_transform() qui combine la méthode fit() avec la méthode transform()\n",
    "encoder.fit_transform(X)"
   ]
  },
  {
   "cell_type": "markdown",
   "id": "210e1e68-2c0a-4ebf-ae2d-bfeb49264866",
   "metadata": {},
   "source": [
    "Il faut dans ce cas utiliser **OrdinalEncoder**. En fait, il fait la même chose que LabelEncoder sauf qu'il est utilisé **pour traîter les données X, càd plusieurs variables à la fois**."
   ]
  },
  {
   "cell_type": "code",
   "execution_count": 48,
   "id": "2b2879fc-33be-4567-a9a8-3d9a2fb0449c",
   "metadata": {},
   "outputs": [
    {
     "data": {
      "text/plain": [
       "array([[0., 1.],\n",
       "       [1., 1.],\n",
       "       [0., 1.],\n",
       "       [2., 0.]])"
      ]
     },
     "execution_count": 48,
     "metadata": {},
     "output_type": "execute_result"
    }
   ],
   "source": [
    "#on remplace LabelEncoder par OrdinalEncoder:\n",
    "\n",
    "#définir X\n",
    "X = np.array([['Chat', 'Poils'],\n",
    "             ['Chien', 'Poils'],\n",
    "             ['Chat', 'Poils'],\n",
    "             ['Oiseau', 'Plumes']])\n",
    "\n",
    "#définir le transformeur, ici OrdinalEncoder()\n",
    "encoder = OrdinalEncoder()\n",
    "\n",
    "#la méthode fit() permet de développer une fonction de transformation en analysant les données (ici X)\n",
    "encoder.fit(X)\n",
    "\n",
    "#la méthode fit_transform() qui combine la méthode fit() avec la méthode transform()\n",
    "encoder.fit_transform(X)"
   ]
  },
  {
   "cell_type": "markdown",
   "id": "07637e97-ddad-4ef4-b878-a425ef78077a",
   "metadata": {},
   "source": [
    "L'inconvéniant avec cette technique d'encodage, c'est que d'un point de vue arithmétique, ça revient à dire que:\n",
    "\n",
    "Chat < Chien < Oiseau\n",
    "\n",
    "(0 < 1 < 2)\n",
    "\n",
    "Mais cela n'a aucun sens, car ces catégories ne sont pas ordinales. Celà risque de pénaliser les modèles de ML, à l'exception des modèles qui sont basés sur les arbres de décision car ceux là ne sont pas sensibles aux relations d'ordre dans les données qu'on leur présente.\n",
    "\n",
    "Pour éviter ça, il existe un autre type d'encodage: **l'encodage OneHot**."
   ]
  },
  {
   "cell_type": "markdown",
   "id": "ffb92e92-88ef-4580-9631-6c9fcf56ba45",
   "metadata": {},
   "source": [
    "### OneHot encoding"
   ]
  },
  {
   "cell_type": "markdown",
   "id": "35946578-c9ec-490a-87d4-a9d0ab9975a4",
   "metadata": {},
   "source": [
    "Avec cette technique, chaque catégorie (ou classe) est représentée de façon binaire dans une colonne qui lui est propre, on décompose ainsi la variable initiale en plusieurs sous-variables créant donc autant de colonnes que l'on a de catégories (ou de classes) dans cette variable. De cette manière, les algorithmes de ML ne peuvent plus comparer les valeurs, Chat Chien et Oiseau, sur un seul est même axe, car ces catégories sont désormais séparées en plusieurs dimensions.\n",
    "\n",
    "Alors pour faire ça dans sklearn, on dispose de 3 transformeurs:\n",
    "- LabelBinarizer()\n",
    "- MultiLabelBinarizer()\n",
    "- OneHotEncoder() \n",
    "\n",
    "**Démonstration:**"
   ]
  },
  {
   "cell_type": "code",
   "execution_count": 52,
   "id": "4b8f27b4-647f-46e0-9434-2fb3f3cc5ddf",
   "metadata": {},
   "outputs": [
    {
     "data": {
      "text/plain": [
       "array([[1, 0, 0],\n",
       "       [0, 1, 0],\n",
       "       [1, 0, 0],\n",
       "       [0, 0, 1]])"
      ]
     },
     "execution_count": 52,
     "metadata": {},
     "output_type": "execute_result"
    }
   ],
   "source": [
    "#définir y\n",
    "y = np.array(['Chat','Chien','Chat','Oiseau'])\n",
    "\n",
    "#définir le transformeur, ici LabelBinarizer()\n",
    "encoder = LabelBinarizer()\n",
    "\n",
    "#la méthode fit_transform() qui combine la méthode fit() avec la méthode transform()\n",
    "encoder.fit_transform(y)"
   ]
  },
  {
   "cell_type": "code",
   "execution_count": 53,
   "id": "e1763700-202e-4220-935c-ad6974688cab",
   "metadata": {},
   "outputs": [],
   "source": [
    "#[1, 0, 0] pour Chat\n",
    "#[0, 1, 0] pour Chien\n",
    "#[0, 0, 1] pour Oiseau"
   ]
  },
  {
   "cell_type": "markdown",
   "id": "e2ac96dd-e43d-43c1-9fa7-b60c68e31f1f",
   "metadata": {},
   "source": [
    "Beaucoup de gens pensent que l'encodage OneHot présente lui aussi un inconvénient, en effet dans le cas où on a un très grand nombre de catégories, par exemple plusieurs centaines de villes dans un dataset d'immobilier, alors le résultat de l'encodage OneHot va nous donner un tableau extrêmement large et difficile à manipuler, mais en réalité ce n'est pas vraiment un problème, parce que ce tableau, bien qu'il soit très large ne va pas peser très lourd sur la mémoire de l'ordinateur, la raison à cela est qu'on est ici en présence d'une matrice creuse (sparse matrix) c'est à dire une matrice qui est remplie en grande majorité de nombres 0, celle-ci peut donc être présentée dans un format très léger dans lequel le chiffre 0 n'est tout simplement pas stocké dans la mémoire de l'ordinateur (puisqu'il ne sert à rien)."
   ]
  },
  {
   "cell_type": "markdown",
   "id": "cfc62399-8326-4a82-af5a-9b726f992812",
   "metadata": {},
   "source": [
    "### Matrice creuse (sparse matrix)"
   ]
  },
  {
   "cell_type": "code",
   "execution_count": 56,
   "id": "26369956-499d-4c27-a3eb-53b091a0b4b5",
   "metadata": {},
   "outputs": [
    {
     "data": {
      "text/plain": [
       "<Compressed Sparse Row sparse matrix of dtype 'int32'\n",
       "\twith 4 stored elements and shape (4, 3)>"
      ]
     },
     "execution_count": 56,
     "metadata": {},
     "output_type": "execute_result"
    }
   ],
   "source": [
    "#définir y\n",
    "y = np.array(['Chat','Chien','Chat','Oiseau'])\n",
    "\n",
    "#définir le transformeur, ici LabelBinarizer()\n",
    "#True signifie que le tableau renvoyé par la transformation doit être au format CSR (Compressed Sparse Row)\n",
    "encoder = LabelBinarizer(sparse_output=True)\n",
    "\n",
    "#la méthode fit_transform() qui combine la méthode fit() avec la méthode transform()\n",
    "encoder.fit_transform(y)"
   ]
  },
  {
   "cell_type": "markdown",
   "id": "19e2e2b2-bfef-4e0c-b62d-7b3377c363f8",
   "metadata": {},
   "source": [
    "- Pour le transformer OneHotEncoder, c'est même le choix par défaut (Compressed Sparse Row), puisqu'en principe si on effectue une opération d'encodage OneHot sur toutes les variable X, on va se retrouver avec un tableau très large, donc sklearn de base décide de compresser ce résultat avec un format CSR. On peut le voir ici:"
   ]
  },
  {
   "cell_type": "code",
   "execution_count": 58,
   "id": "538c200f-aae0-4acf-bc19-a795a6d37587",
   "metadata": {},
   "outputs": [
    {
     "data": {
      "text/plain": [
       "<Compressed Sparse Row sparse matrix of dtype 'float64'\n",
       "\twith 8 stored elements and shape (4, 5)>"
      ]
     },
     "execution_count": 58,
     "metadata": {},
     "output_type": "execute_result"
    }
   ],
   "source": [
    "#définir X\n",
    "X = np.array([['Chat', 'Poils'],\n",
    "             ['Chien', 'Poils'],\n",
    "             ['Chat', 'Poils'],\n",
    "             ['Oiseau', 'Plumes']])\n",
    "\n",
    "#définir le transformeur, ici OrdinalEncoder()\n",
    "encoder = OneHotEncoder()\n",
    "\n",
    "#la méthode fit_transform() qui combine la méthode fit() avec la méthode transform()\n",
    "encoder.fit_transform(X)"
   ]
  },
  {
   "cell_type": "markdown",
   "id": "0a21d30f-0498-412d-958b-a61ee8bdd5ab",
   "metadata": {},
   "source": [
    "**En résumé:**\n",
    "\n",
    "**Encodage ordinal:**\n",
    "- **y: LabelEncoder()**\n",
    "- **X: OrdinalEncoder()**\n",
    "\n",
    "**Encodage One-Hot:**\n",
    "- **y: LabelBinarizer(), MultiLabelBinarizer()**\n",
    "- **X: OneHotEncoder()**"
   ]
  },
  {
   "cell_type": "markdown",
   "id": "6b2782aa-dd74-4d78-a3d9-1a7e9c327a45",
   "metadata": {},
   "source": [
    "## Preprocessing: normalisation"
   ]
  },
  {
   "cell_type": "markdown",
   "id": "6500f2b2-460d-4abd-b5d4-903fd9940ba3",
   "metadata": {},
   "source": [
    "en DA il est indispensable de normaliser les données quantitatives, c'est à dire les mettre tout sur une même échelle, cela facilite considérablement l'apprentissage des modèles de ML qui sont basés sur la descente de gradient, les calculs de distance ou les calculs de variance, par exemple dans le cas d'une descente de gradient lorsqu'une variable prend le dessus sur une autre alors il devient plus difficile pour la fonction coût de converger vers son minimum c'est pourquoi il est très important de normaliser nos données avant leur passage dans la machine, pour ça, il existe beaucoup de techniques de normalisation, et on va voir les 3 plus connues, à savoir **la normalisation minimax, la standardisation (StandardScaler) ainsi que le transformer RobustScaler** de sklearn."
   ]
  },
  {
   "cell_type": "markdown",
   "id": "6fdd1a2b-c50e-401b-968e-53cbd47319b3",
   "metadata": {},
   "source": [
    "### Normalisation MinMax"
   ]
  },
  {
   "cell_type": "markdown",
   "id": "282ac853-b7a3-4f7c-a696-007130d10538",
   "metadata": {},
   "source": [
    "Consiste à transformer chaque variable X de telle sorte à ce que les valeurs soient toutes comprises **entre 0 et 1**."
   ]
  },
  {
   "cell_type": "code",
   "execution_count": 64,
   "id": "b46c599b-52a1-4762-801d-3dbbd9935a01",
   "metadata": {},
   "outputs": [
    {
     "data": {
      "text/plain": [
       "array([[0. ],\n",
       "       [0.2],\n",
       "       [1. ]])"
      ]
     },
     "execution_count": 64,
     "metadata": {},
     "output_type": "execute_result"
    }
   ],
   "source": [
    "#définir X (exp. de surfaces d'appartements)\n",
    "X = np.array([[70],\n",
    "             [80],\n",
    "             [120]])\n",
    "\n",
    "#définir le scaler, ici MinMaxScaler()\n",
    "scaler = MinMaxScaler()\n",
    "\n",
    "#la méthode fit_transform() qui combine la méthode fit() avec la méthode transform()\n",
    "scaler.fit_transform(X)"
   ]
  },
  {
   "cell_type": "markdown",
   "id": "33fa3312-f4e8-4b7f-936f-4e5cf1830de0",
   "metadata": {},
   "source": [
    "Même si on déforme ainsi nos données, on ne perd aucune information, car les normalisations ont conservé les rapports de distance qu'il y avait dans nos données, c'est à dire que l'écart qu'il y a entre 0 et 0,2 et complètement équivalent à l'écart qu'il ya entre 70 et 80 pour la machine ça ne change absolument rien."
   ]
  },
  {
   "cell_type": "code",
   "execution_count": 66,
   "id": "ea5f8850-9015-4fe0-a2ac-812e0a129dea",
   "metadata": {},
   "outputs": [
    {
     "data": {
      "text/plain": [
       "(150, 4)"
      ]
     },
     "execution_count": 66,
     "metadata": {},
     "output_type": "execute_result"
    }
   ],
   "source": [
    "#charger le jeu de données Iris et l'enregistrer dans une variable appelée iris\n",
    "iris = load_iris()\n",
    "\n",
    "#extraire les caractéristiques (features) du dataset\n",
    "#et les enregister dans la variable X\n",
    "X = iris.data\n",
    "\n",
    "#afficher la forme du tableau des caractéristiques  \n",
    "X.shape"
   ]
  },
  {
   "cell_type": "code",
   "execution_count": 67,
   "id": "bdf3f51e-fa92-4db3-a32c-97adb07817ab",
   "metadata": {},
   "outputs": [
    {
     "data": {
      "text/plain": [
       "(150,)"
      ]
     },
     "execution_count": 67,
     "metadata": {},
     "output_type": "execute_result"
    }
   ],
   "source": [
    "#extraire les cibles (labels/target) du dataset (ici ce sont les espèces de la fleur d'Iris)\n",
    "y = iris.target\n",
    "\n",
    "#afficher la forme du tableau de la target  \n",
    "y.shape"
   ]
  },
  {
   "cell_type": "code",
   "execution_count": 68,
   "id": "2dbcc5fb-58f8-4e3e-a950-0e1cd5527bb7",
   "metadata": {},
   "outputs": [
    {
     "data": {
      "text/plain": [
       "Text(0.5, 1.0, 'Nuage de points des longueurs et largeurs du pétale')"
      ]
     },
     "execution_count": 68,
     "metadata": {},
     "output_type": "execute_result"
    },
    {
     "data": {
      "image/png": "[encoded data removed]",
      "text/plain": [
       "<Figure size 640x480 with 1 Axes>"
      ]
     },
     "metadata": {},
     "output_type": "display_data"
    }
   ],
   "source": [
    "#créer un nuage de points avec la longueur et la largeur des pétales  \n",
    "#X[:, 2] correspond à la 3ème caractéristique (longueur des pétales)  \n",
    "#X[:, 3] correspond à la 4ème caractéristique (largeur des pétales)\n",
    "plt.scatter(X[:, 2], X[:, 3])\n",
    "plt.xlabel('Longueur du pétale')  #axe des x\n",
    "plt.ylabel('Largeur du pétale')   #axe des y\n",
    "plt.title('Nuage de points des longueurs et largeurs du pétale')  #titre du graphique"
   ]
  },
  {
   "cell_type": "markdown",
   "id": "dc9537b4-1e4b-48a4-932f-3054b5fa10b9",
   "metadata": {},
   "source": [
    "Si on veut normaliser les données:"
   ]
  },
  {
   "cell_type": "code",
   "execution_count": 70,
   "id": "5e4bac32-e5c3-4efc-b37b-1adec3de2fd4",
   "metadata": {},
   "outputs": [
    {
     "data": {
      "text/plain": [
       "<matplotlib.legend.Legend at 0x226de977cb0>"
      ]
     },
     "execution_count": 70,
     "metadata": {},
     "output_type": "execute_result"
    },
    {
     "data": {
      "image/png": "[encoded data removed]",
      "text/plain": [
       "<Figure size 640x480 with 1 Axes>"
      ]
     },
     "metadata": {},
     "output_type": "display_data"
    }
   ],
   "source": [
    "#entraîner MinMaxScaler() sur les données X avec fit_transform()\n",
    "X_minmax = MinMaxScaler().fit_transform(X)\n",
    "\n",
    "#créer un nuage de points avec la longueur et la largeur des pétales  \n",
    "\n",
    "#X[:, 2] correspond à la 3ème caractéristique (longueur des pétales)  \n",
    "#X[:, 3] correspond à la 4ème caractéristique (largeur des pétales)\n",
    "#alpha=0.5 définit l'opacité des points (plus plus c'est opaque, plus il y a de points les uns sur les autres)\n",
    "plt.scatter(X[:, 2], X[:, 3], label= 'Original', alpha=0.5)\n",
    "\n",
    "#X_minmax[:, 2] correspond à X[:, 2] avec les valeurs de X normalisées\n",
    "#X_minmax[:, 3] correspond à X[:, 3] avec les valeurs de X normalisées\n",
    "#alpha=0.5 définit l'opacité des points (plus plus c'est opaque, plus il y a de points les uns sur les autres)\n",
    "plt.scatter(X_minmax[:, 2], X_minmax[:, 3], label= 'MinMax', alpha=0.5)\n",
    "\n",
    "\n",
    "plt.xlabel('Longueur du pétale')  #axe des x\n",
    "plt.ylabel('Largeur du pétale')   #axe des y\n",
    "plt.title('Nuage de points des longueurs et largeurs du pétale')  #titre du graphique\n",
    "plt.legend()     #ajouter une légende"
   ]
  },
  {
   "cell_type": "code",
   "execution_count": 71,
   "id": "8ba37666-74fa-40c6-bd6f-911b772e2aa3",
   "metadata": {},
   "outputs": [],
   "source": [
    "#on voit que les valeurs de x (Longueur du pétale) et y (Largeur du pétale) sont toutes entre 0 et 1"
   ]
  },
  {
   "cell_type": "markdown",
   "id": "e4685e35-3420-43f9-aa02-e619d736fba7",
   "metadata": {},
   "source": [
    "### Standardisation"
   ]
  },
  {
   "cell_type": "markdown",
   "id": "4acd5e7c-0b10-488a-80a2-d729ae10b54d",
   "metadata": {},
   "source": [
    "Elle standardise chaque variable X: **la moyenne est nulle, et l'écart-type est égal à 1**.\n",
    "\n",
    "On obtient alors des données simples à utiliser pour la plupart des modèles statistiques comme les supports de vector machine."
   ]
  },
  {
   "cell_type": "code",
   "execution_count": 74,
   "id": "0d14b3a2-78d1-46bf-905d-10f9833e76b2",
   "metadata": {},
   "outputs": [
    {
     "data": {
      "text/plain": [
       "array([[-0.9258201 ],\n",
       "       [-0.46291005],\n",
       "       [ 1.38873015]])"
      ]
     },
     "execution_count": 74,
     "metadata": {},
     "output_type": "execute_result"
    }
   ],
   "source": [
    "#définir X (exp. de surfaces d'appartements)\n",
    "X = np.array([[70],\n",
    "             [80],\n",
    "             [120]])\n",
    "\n",
    "#définir le scaler, ici StandardScaler()\n",
    "scaler = StandardScaler()\n",
    "\n",
    "#la méthode fit_transform() qui combine la méthode fit() avec la méthode transform()\n",
    "scaler.fit_transform(X)"
   ]
  },
  {
   "cell_type": "code",
   "execution_count": 75,
   "id": "e73e250d-3d07-4449-bde8-1a85465d89ae",
   "metadata": {},
   "outputs": [
    {
     "data": {
      "text/plain": [
       "<matplotlib.legend.Legend at 0x226e09bd730>"
      ]
     },
     "execution_count": 75,
     "metadata": {},
     "output_type": "execute_result"
    },
    {
     "data": {
      "image/png": "[encoded data removed]",
      "text/plain": [
       "<Figure size 640x480 with 1 Axes>"
      ]
     },
     "metadata": {},
     "output_type": "display_data"
    }
   ],
   "source": [
    "#charger le jeu de données Iris et l'enregistrer dans une variable appelée iris\n",
    "iris = load_iris()\n",
    "\n",
    "#extraire les caractéristiques (features) du dataset\n",
    "#et les enregister dans la variable X\n",
    "X = iris.data\n",
    "\n",
    "#entraîner MinMaxScaler() sur les données X avec fit_transform()\n",
    "X_minmax = MinMaxScaler().fit_transform(X)\n",
    "\n",
    "#entraîner StandardScaler() sur les données X avec fit_transform()\n",
    "X_stdscl = StandardScaler().fit_transform(X)\n",
    "\n",
    "#créer un nuage de points avec la longueur et la largeur des pétales  \n",
    "\n",
    "#X[:, 2] correspond à la 3ème caractéristique (longueur des pétales)  \n",
    "#X[:, 3] correspond à la 4ème caractéristique (largeur des pétales)\n",
    "#alpha=0.5 définit l'opacité des points (plus plus c'est opaque, plus il y a de points les uns sur les autres)\n",
    "plt.scatter(X[:, 2], X[:, 3], label= 'Original', alpha=0.5)\n",
    "\n",
    "#X_minmax[:, 2] correspond à X[:, 2] avec les valeurs de X normalisées\n",
    "#X_minmax[:, 3] correspond à X[:, 3] avec les valeurs de X normalisées\n",
    "#alpha=0.5 définit l'opacité des points (plus plus c'est opaque, plus il y a de points les uns sur les autres)\n",
    "plt.scatter(X_minmax[:, 2], X_minmax[:, 3], label= 'MinMax', alpha=0.5)\n",
    "\n",
    "#X_stdscl[:, 2] correspond à X[:, 2] avec les valeurs de X standardisées\n",
    "#X_stdscl[:, 3] correspond à X[:, 3] avec les valeurs de X standardisées\n",
    "#alpha=0.5 définit l'opacité des points (plus plus c'est opaque, plus il y a de points les uns sur les autres)\n",
    "plt.scatter(X_stdscl[:, 2], X_stdscl[:, 3], label= 'Standard', alpha=0.5)\n",
    "\n",
    "plt.xlabel('Longueur du pétale')  #axe des x\n",
    "plt.ylabel('Largeur du pétale')   #axe des y\n",
    "plt.title('Nuage de points des longueurs et largeurs du pétale')  #titre du graphique\n",
    "plt.legend()     #ajouter une légende"
   ]
  },
  {
   "cell_type": "code",
   "execution_count": 76,
   "id": "3ad7d221-0a3b-4a84-9a72-12e909fe8762",
   "metadata": {},
   "outputs": [],
   "source": [
    "#on voit que les données dans Standard ne sont pas ecrasées comme MinMax\n",
    "#la moyenne des données (x et y) est égale à 0\n",
    "#l'écart type pour chaque variable est égal à 1"
   ]
  },
  {
   "cell_type": "markdown",
   "id": "59254566-4cca-41c2-984a-44293f7bd535",
   "metadata": {},
   "source": [
    "Ces deux techniques sont utilisées très souvent en ML, néanmoins elles ont un gros inconvénient: **elles sont sensibles aux valeurs aberrantes (les outliers)**.\n",
    "\n",
    "**Démonstration:**"
   ]
  },
  {
   "cell_type": "code",
   "execution_count": 78,
   "id": "2826aba0-80b0-4137-a2cb-33bf6054d59b",
   "metadata": {},
   "outputs": [
    {
     "data": {
      "text/plain": [
       "<matplotlib.legend.Legend at 0x226dfabdf10>"
      ]
     },
     "execution_count": 78,
     "metadata": {},
     "output_type": "execute_result"
    },
    {
     "data": {
      "image/png": "[encoded data removed]",
      "text/plain": [
       "<Figure size 1200x400 with 1 Axes>"
      ]
     },
     "metadata": {},
     "output_type": "display_data"
    }
   ],
   "source": [
    "#charger le jeu de données Iris et l'enregistrer dans une variable appelée iris\n",
    "iris = load_iris()\n",
    "\n",
    "#extraire les caractéristiques (features) du dataset\n",
    "#et les enregister dans la variable X\n",
    "X = iris.data\n",
    "\n",
    "#créer un tableau d'outliers (valeurs aberrantes)  \n",
    "#ici, on crée un tableau de forme (10, 4) rempli de 100  \n",
    "#et on ajoute des valeurs aléatoires provenant d'une distribution normale  \n",
    "outliers = np.full((10, 4), 100) + np.random.randn(10, 4) \n",
    "\n",
    "#combiner les données d'origine avec les outliers et les enregistrer dans la variable X\n",
    "X = np.vstack((X, outliers))\n",
    "\n",
    "#entraîner MinMaxScaler() sur les données X avec fit_transform()\n",
    "X_minmax = MinMaxScaler().fit_transform(X)\n",
    "\n",
    "#entraîner StandardScaler() sur les données X avec fit_transform()\n",
    "X_stdscl = StandardScaler().fit_transform(X)\n",
    "\n",
    "#créer un nuage de points avec la longueur et la largeur des pétales  \n",
    "\n",
    "#créer une figure avec des dimensions personalisées\n",
    "plt.figure(figsize= (12, 4))\n",
    "\n",
    "#X[:, 2] correspond à la 3ème caractéristique (longueur des pétales)  \n",
    "#X[:, 3] correspond à la 4ème caractéristique (largeur des pétales)\n",
    "#alpha=0.5 définit l'opacité des points (plus plus c'est opaque, plus il y a de points les uns sur les autres)\n",
    "plt.scatter(X[:, 2], X[:, 3], label= 'Original', alpha=0.5)\n",
    "\n",
    "#X_minmax[:, 2] correspond à X[:, 2] avec les valeurs de X normalisées\n",
    "#X_minmax[:, 3] correspond à X[:, 3] avec les valeurs de X normalisées\n",
    "#alpha=0.5 définit l'opacité des points (plus plus c'est opaque, plus il y a de points les uns sur les autres)\n",
    "plt.scatter(X_minmax[:, 2], X_minmax[:, 3], label= 'MinMax', alpha=0.5)\n",
    "\n",
    "#X_stdscl[:, 2] correspond à X[:, 2] avec les valeurs de X standardisées\n",
    "#X_stdscl[:, 3] correspond à X[:, 3] avec les valeurs de X standardisées\n",
    "#alpha=0.5 définit l'opacité des points (plus plus c'est opaque, plus il y a de points les uns sur les autres)\n",
    "plt.scatter(X_stdscl[:, 2], X_stdscl[:, 3], label= 'Standard', alpha=0.5)\n",
    "\n",
    "plt.xlabel('Longueur du pétale')  #axe des x\n",
    "plt.ylabel('Largeur du pétale')   #axe des y\n",
    "plt.title('Nuage de points des longueurs et largeurs du pétale')  #titre du graphique\n",
    "plt.legend()     #ajouter une légende"
   ]
  },
  {
   "cell_type": "code",
   "execution_count": 79,
   "id": "d0677282-649d-463a-a2ed-3bea73f54da1",
   "metadata": {},
   "outputs": [],
   "source": [
    "#les outliers rendent difficile la visualisation et l'exploitation des données"
   ]
  },
  {
   "cell_type": "markdown",
   "id": "907991db-9ccf-4910-91c3-6227ed849fb3",
   "metadata": {},
   "source": [
    "Dans ce cas, on fait appel à un transformer très peu sensible aux outliers: le **RobustScaler**."
   ]
  },
  {
   "cell_type": "markdown",
   "id": "de9fc90e-6e21-4023-898b-eaa00cf1660b",
   "metadata": {},
   "source": [
    "### RobustScaler"
   ]
  },
  {
   "cell_type": "markdown",
   "id": "0b21f369-d80b-4ed0-ab13-142a75f017e9",
   "metadata": {},
   "source": [
    "On reprend le même exemple que tout à l'heure, utilisant des données avec des valeurs aberrantes (des outliers)."
   ]
  },
  {
   "cell_type": "code",
   "execution_count": 83,
   "id": "9ccce302-c616-4de0-be65-16692f1d2c7b",
   "metadata": {},
   "outputs": [
    {
     "data": {
      "text/plain": [
       "<matplotlib.legend.Legend at 0x226e01da900>"
      ]
     },
     "execution_count": 83,
     "metadata": {},
     "output_type": "execute_result"
    },
    {
     "data": {
      "image/png": "[encoded data removed]",
      "text/plain": [
       "<Figure size 1200x400 with 1 Axes>"
      ]
     },
     "metadata": {},
     "output_type": "display_data"
    }
   ],
   "source": [
    "#charger le jeu de données Iris et l'enregistrer dans une variable appelée iris\n",
    "iris = load_iris()\n",
    "\n",
    "#extraire les caractéristiques (features) du dataset\n",
    "#et les enregister dans la variable X\n",
    "X = iris.data\n",
    "\n",
    "#créer un tableau d'outliers (valeurs aberrantes)  \n",
    "#ici, on crée un tableau de forme (10, 4) rempli de 100  \n",
    "#et on ajoute des valeurs aléatoires provenant d'une distribution normale  \n",
    "outliers = np.full((10, 4), 100) + np.random.randn(10, 4) \n",
    "\n",
    "#combiner les données d'origine avec les outliers et les enregistrer dans la variable X\n",
    "X = np.vstack((X, outliers))\n",
    "\n",
    "#entraîner MinMaxScaler() sur les données X avec fit_transform()\n",
    "X_minmax = MinMaxScaler().fit_transform(X)\n",
    "\n",
    "#entraîner StandardScaler() sur les données X avec fit_transform()\n",
    "X_stdscl = StandardScaler().fit_transform(X)\n",
    "\n",
    "#entraîner RobustScaler() sur les données X avec fit_transform()\n",
    "X_robust = RobustScaler().fit_transform(X)\n",
    "\n",
    "#créer un nuage de points avec la longueur et la largeur des pétales  \n",
    "\n",
    "#créer une figure avec des dimensions personalisées\n",
    "plt.figure(figsize= (12, 4))\n",
    "\n",
    "#X[:, 2] correspond à la 3ème caractéristique (longueur des pétales)  \n",
    "#X[:, 3] correspond à la 4ème caractéristique (largeur des pétales)\n",
    "#alpha=0.5 définit l'opacité des points (plus plus c'est opaque, plus il y a de points les uns sur les autres)\n",
    "plt.scatter(X[:, 2], X[:, 3], label= 'Original', alpha=0.5)\n",
    "\n",
    "#X_minmax[:, 2] correspond à X[:, 2] avec les valeurs de X normalisées\n",
    "#X_minmax[:, 3] correspond à X[:, 3] avec les valeurs de X normalisées\n",
    "#alpha=0.5 définit l'opacité des points (plus plus c'est opaque, plus il y a de points les uns sur les autres)\n",
    "plt.scatter(X_minmax[:, 2], X_minmax[:, 3], label= 'MinMax', alpha=0.5)\n",
    "\n",
    "#X_stdscl[:, 2] correspond à X[:, 2] avec les valeurs de X standardisées\n",
    "#X_stdscl[:, 3] correspond à X[:, 3] avec les valeurs de X standardisées\n",
    "#alpha=0.5 définit l'opacité des points (plus plus c'est opaque, plus il y a de points les uns sur les autres)\n",
    "plt.scatter(X_stdscl[:, 2], X_stdscl[:, 3], label= 'Standard', alpha=0.5)\n",
    "\n",
    "#X_robust[:, 2] correspond à X[:, 2] avec les valeurs de X_robust\n",
    "#X_robust[:, 3] correspond à X[:, 3] avec les valeurs de X_robust\n",
    "#alpha=0.5 définit l'opacité des points (plus plus c'est opaque, plus il y a de points les uns sur les autres)\n",
    "plt.scatter(X_robust[:, 2], X_robust[:, 3], label= 'Robust', alpha=0.5)\n",
    "\n",
    "plt.xlabel('Longueur du pétale')  #axe des x\n",
    "plt.ylabel('Largeur du pétale')   #axe des y\n",
    "plt.title('Nuage de points des longueurs et largeurs du pétale')  #titre du graphique\n",
    "plt.legend()     #ajouter une légende"
   ]
  },
  {
   "cell_type": "code",
   "execution_count": 84,
   "id": "218e53ce-a936-42e4-a532-7f0c7cb57115",
   "metadata": {},
   "outputs": [],
   "source": [
    "#On obtient, grâce à RobustScaler, des données plus faciles à exploiter qu'avec StandardScaler ou MinMaxScaler! "
   ]
  },
  {
   "cell_type": "code",
   "execution_count": null,
   "id": "937de940-e043-4af0-a54b-84777223842d",
   "metadata": {},
   "outputs": [],
   "source": []
  }
 ],
 "metadata": {
  "kernelspec": {
   "display_name": "Python [conda env:base] *",
   "language": "python",
   "name": "conda-base-py"
  },
  "language_info": {
   "codemirror_mode": {
    "name": "ipython",
    "version": 3
   },
   "file_extension": ".py",
   "mimetype": "text/x-python",
   "name": "python",
   "nbconvert_exporter": "python",
   "pygments_lexer": "ipython3",
   "version": "3.12.7"
  }
 },
 "nbformat": 4,
 "nbformat_minor": 5
}
