{
 "cells": [
  {
   "cell_type": "markdown",
   "id": "c050dc82-dec2-4a59-9b19-972aeafadfb8",
   "metadata": {},
   "source": [
    "URL : https://youtu.be/5UOSiCPu5aM?si=m16qr6kPgpIo4x3i"
   ]
  },
  {
   "cell_type": "markdown",
   "id": "b828723e-2c2f-4129-8ff1-7092709ef54b",
   "metadata": {},
   "source": [
    "## Méthodes sur les listes"
   ]
  },
  {
   "cell_type": "code",
   "execution_count": 72,
   "id": "02fcad22-66f5-46db-a43c-5020c7c49330",
   "metadata": {},
   "outputs": [],
   "source": [
    "villes = ['Paris', 'Berlin', 'Londres', 'Bruxelles']"
   ]
  },
  {
   "cell_type": "markdown",
   "id": "5e17aaa1-0976-49cc-a8bf-d42ad06805e4",
   "metadata": {},
   "source": [
    "### append()"
   ]
  },
  {
   "cell_type": "code",
   "execution_count": 74,
   "id": "8ba5c4bc-6b02-42d9-b2ff-5fd3f62b7eda",
   "metadata": {},
   "outputs": [
    {
     "data": {
      "text/plain": [
       "['Paris', 'Berlin', 'Londres', 'Bruxelles', 'Dublin']"
      ]
     },
     "execution_count": 74,
     "metadata": {},
     "output_type": "execute_result"
    }
   ],
   "source": [
    "#ajouter un élément 'Dublin' à la fin de la liste villes\n",
    "villes.append('Dublin')\n",
    "\n",
    "#afficher la liste villes\n",
    "villes"
   ]
  },
  {
   "cell_type": "markdown",
   "id": "81bae6f6-8894-41ab-b35f-3832e09bf491",
   "metadata": {},
   "source": [
    "### insert()"
   ]
  },
  {
   "cell_type": "code",
   "execution_count": 76,
   "id": "81433630-6f99-48ca-a375-25407ab764ee",
   "metadata": {},
   "outputs": [
    {
     "data": {
      "text/plain": [
       "['Paris', 'Berlin', 'Madrid', 'Londres', 'Bruxelles', 'Dublin']"
      ]
     },
     "execution_count": 76,
     "metadata": {},
     "output_type": "execute_result"
    }
   ],
   "source": [
    "#ajouter un élément au milieu de la liste villes\n",
    "# à l'index 2, ajouter l'élément 'Madrid'\n",
    "villes.insert(2, 'Madrid')\n",
    "\n",
    "#afficher la liste villes\n",
    "villes"
   ]
  },
  {
   "cell_type": "markdown",
   "id": "ac3739c5-fd68-4572-904f-8e204931a1a0",
   "metadata": {},
   "source": [
    "### extend()"
   ]
  },
  {
   "cell_type": "code",
   "execution_count": 78,
   "id": "495c6fdb-bf42-41c0-9281-75a98c8f4d6f",
   "metadata": {},
   "outputs": [
    {
     "data": {
      "text/plain": [
       "['Paris',\n",
       " 'Berlin',\n",
       " 'Madrid',\n",
       " 'Londres',\n",
       " 'Bruxelles',\n",
       " 'Dublin',\n",
       " 'Amsterdam',\n",
       " 'Rome']"
      ]
     },
     "execution_count": 78,
     "metadata": {},
     "output_type": "execute_result"
    }
   ],
   "source": [
    "#ajouter une liste à la liste villes\n",
    "villes_2 = ['Amsterdam', 'Rome']\n",
    "\n",
    "villes.extend(villes_2)\n",
    "\n",
    "#afficher la liste villes\n",
    "villes"
   ]
  },
  {
   "cell_type": "markdown",
   "id": "ac82773d-a434-46f4-a953-2ef3f1d946e1",
   "metadata": {},
   "source": [
    "### Len()"
   ]
  },
  {
   "cell_type": "code",
   "execution_count": 80,
   "id": "4a85cc8a-cc70-43bb-b8ec-4e4875a26aaa",
   "metadata": {},
   "outputs": [
    {
     "data": {
      "text/plain": [
       "8"
      ]
     },
     "execution_count": 80,
     "metadata": {},
     "output_type": "execute_result"
    }
   ],
   "source": [
    "#nombre d'éléments dans la liste villes\n",
    "len(villes)"
   ]
  },
  {
   "cell_type": "markdown",
   "id": "7d24abcc-6a18-40e2-a1c9-d86bdd7c0ef0",
   "metadata": {},
   "source": [
    "### Sort()"
   ]
  },
  {
   "cell_type": "code",
   "execution_count": 82,
   "id": "53af1106-73ee-469a-a4ce-6616c5582b7c",
   "metadata": {},
   "outputs": [
    {
     "data": {
      "text/plain": [
       "['Amsterdam',\n",
       " 'Berlin',\n",
       " 'Bruxelles',\n",
       " 'Dublin',\n",
       " 'Londres',\n",
       " 'Madrid',\n",
       " 'Paris',\n",
       " 'Rome']"
      ]
     },
     "execution_count": 82,
     "metadata": {},
     "output_type": "execute_result"
    }
   ],
   "source": [
    "# trier la liste villes par ordre alphabétique\n",
    "villes.sort()\n",
    "\n",
    "#afficher la liste villes\n",
    "villes"
   ]
  },
  {
   "cell_type": "code",
   "execution_count": 83,
   "id": "f5051be1-b00d-47a9-929b-85216d0a354c",
   "metadata": {},
   "outputs": [
    {
     "data": {
      "text/plain": [
       "['Rome',\n",
       " 'Paris',\n",
       " 'Madrid',\n",
       " 'Londres',\n",
       " 'Dublin',\n",
       " 'Bruxelles',\n",
       " 'Berlin',\n",
       " 'Amsterdam']"
      ]
     },
     "execution_count": 83,
     "metadata": {},
     "output_type": "execute_result"
    }
   ],
   "source": [
    "# trier la liste villes par ordre anti-alphabétique\n",
    "villes.sort(reverse = True)\n",
    "\n",
    "#afficher la liste villes\n",
    "villes"
   ]
  },
  {
   "cell_type": "code",
   "execution_count": 84,
   "id": "98362d84-c559-47e4-a683-4a2a6bac92fc",
   "metadata": {},
   "outputs": [],
   "source": [
    "liste_2 = [52, 51, 23, 61, 3, 2, 78, 24]"
   ]
  },
  {
   "cell_type": "code",
   "execution_count": 85,
   "id": "908f2e46-afad-4137-b31a-1bf4b9616b17",
   "metadata": {},
   "outputs": [
    {
     "data": {
      "text/plain": [
       "[2, 3, 23, 24, 51, 52, 61, 78]"
      ]
     },
     "execution_count": 85,
     "metadata": {},
     "output_type": "execute_result"
    }
   ],
   "source": [
    "# trier la liste liste_2 par ordre alphabétique\n",
    "liste_2.sort()\n",
    "\n",
    "#afficher la liste liste_2\n",
    "liste_2"
   ]
  },
  {
   "cell_type": "markdown",
   "id": "7feabeeb-f0ad-49de-a763-f89e735f4b24",
   "metadata": {},
   "source": [
    "### Count()"
   ]
  },
  {
   "cell_type": "code",
   "execution_count": 87,
   "id": "794b80dd-1951-4ed4-b45f-ae4d617e4d08",
   "metadata": {},
   "outputs": [
    {
     "data": {
      "text/plain": [
       "1"
      ]
     },
     "execution_count": 87,
     "metadata": {},
     "output_type": "execute_result"
    }
   ],
   "source": [
    "# combien de fois l'élément 'Paris' apparait dans la liste villes\n",
    "villes.count('Paris')"
   ]
  },
  {
   "cell_type": "code",
   "execution_count": 88,
   "id": "6c8bb7b3-2ed4-416a-b946-a687d0a92320",
   "metadata": {},
   "outputs": [
    {
     "data": {
      "text/plain": [
       "2"
      ]
     },
     "execution_count": 88,
     "metadata": {},
     "output_type": "execute_result"
    }
   ],
   "source": [
    "#remplacer l'élément à l'index 3 par l'élément 'Paris'\n",
    "villes[3] = 'Paris'\n",
    "\n",
    "# combien de fois l'élément 'Paris' apparait dans la liste villes\n",
    "villes.count('Paris')"
   ]
  },
  {
   "cell_type": "code",
   "execution_count": 89,
   "id": "24c81bf8-d1f1-4eef-a2cf-f4cf8e16c670",
   "metadata": {},
   "outputs": [
    {
     "data": {
      "text/plain": [
       "['Rome',\n",
       " 'Paris',\n",
       " 'Madrid',\n",
       " 'Paris',\n",
       " 'Dublin',\n",
       " 'Bruxelles',\n",
       " 'Berlin',\n",
       " 'Amsterdam']"
      ]
     },
     "execution_count": 89,
     "metadata": {},
     "output_type": "execute_result"
    }
   ],
   "source": [
    "villes"
   ]
  },
  {
   "cell_type": "markdown",
   "id": "6be8eaf7-b65b-44c7-a320-66cc1158eadc",
   "metadata": {},
   "source": [
    "### If else et la boucle For sur une liste"
   ]
  },
  {
   "cell_type": "markdown",
   "id": "57823b37-a842-4ba1-b59a-6ba0cf564442",
   "metadata": {},
   "source": [
    "### If else sur une liste"
   ]
  },
  {
   "cell_type": "code",
   "execution_count": 92,
   "id": "7121fbb1-29f1-4e5f-9679-8c1b1bf94d88",
   "metadata": {},
   "outputs": [
    {
     "name": "stdout",
     "output_type": "stream",
     "text": [
      "Oui\n"
     ]
    }
   ],
   "source": [
    "if 'Paris' in villes:\n",
    "    print ('Oui')\n",
    "else:\n",
    "    print ('Non')"
   ]
  },
  {
   "cell_type": "code",
   "execution_count": 93,
   "id": "f83d2aae-ccfd-493a-9b0b-633912b146c8",
   "metadata": {},
   "outputs": [
    {
     "name": "stdout",
     "output_type": "stream",
     "text": [
      "Non\n"
     ]
    }
   ],
   "source": [
    "if 'Belfast' in villes:\n",
    "    print ('Oui')\n",
    "else:\n",
    "    print ('Non')"
   ]
  },
  {
   "cell_type": "markdown",
   "id": "6bdf5167-13ab-4f6a-ae26-6c2530009b91",
   "metadata": {},
   "source": [
    "### La boucle For sur une liste"
   ]
  },
  {
   "cell_type": "code",
   "execution_count": 95,
   "id": "cd9cc67e-e305-426c-9f68-ad27c6846fb1",
   "metadata": {},
   "outputs": [
    {
     "name": "stdout",
     "output_type": "stream",
     "text": [
      "Rome\n",
      "Paris\n",
      "Madrid\n",
      "Paris\n",
      "Dublin\n",
      "Bruxelles\n",
      "Berlin\n",
      "Amsterdam\n"
     ]
    }
   ],
   "source": [
    "#afficher les éléments de la liste villes\n",
    "for i in villes:\n",
    "    print(i)"
   ]
  },
  {
   "cell_type": "code",
   "execution_count": 96,
   "id": "4e3b2cc6-55c9-4efa-ac48-09b2e5d3007f",
   "metadata": {
    "scrolled": true
   },
   "outputs": [
    {
     "name": "stdout",
     "output_type": "stream",
     "text": [
      "0 Rome\n",
      "1 Paris\n",
      "2 Madrid\n",
      "3 Paris\n",
      "4 Dublin\n",
      "5 Bruxelles\n",
      "6 Berlin\n",
      "7 Amsterdam\n"
     ]
    }
   ],
   "source": [
    "#afficher les index et leurs valeurs (les éléments) de la liste villes\n",
    "for index, valeur in enumerate(villes):\n",
    "    print(index, valeur)"
   ]
  },
  {
   "cell_type": "code",
   "execution_count": 97,
   "id": "beb895a6-739e-4552-8e4e-d905edf1d549",
   "metadata": {},
   "outputs": [
    {
     "data": {
      "text/plain": [
       "['Rome',\n",
       " 'Paris',\n",
       " 'Madrid',\n",
       " 'Paris',\n",
       " 'Dublin',\n",
       " 'Bruxelles',\n",
       " 'Berlin',\n",
       " 'Amsterdam']"
      ]
     },
     "execution_count": 97,
     "metadata": {},
     "output_type": "execute_result"
    }
   ],
   "source": [
    "#afficher la liste villes\n",
    "villes"
   ]
  },
  {
   "cell_type": "code",
   "execution_count": 98,
   "id": "c6698ec8-dcde-4c82-9bd2-b036d3c60025",
   "metadata": {},
   "outputs": [
    {
     "data": {
      "text/plain": [
       "[2, 3, 23, 24, 51, 52, 61, 78]"
      ]
     },
     "execution_count": 98,
     "metadata": {},
     "output_type": "execute_result"
    }
   ],
   "source": [
    "#afficher la liste liste_2\n",
    "liste_2"
   ]
  },
  {
   "cell_type": "code",
   "execution_count": 99,
   "id": "42d82f57-c44c-4fc8-aea0-0633dc293dfc",
   "metadata": {},
   "outputs": [
    {
     "name": "stdout",
     "output_type": "stream",
     "text": [
      "Rome 2\n",
      "Paris 3\n",
      "Madrid 23\n",
      "Paris 24\n",
      "Dublin 51\n",
      "Bruxelles 52\n",
      "Berlin 61\n",
      "Amsterdam 78\n"
     ]
    }
   ],
   "source": [
    "#utiliser la boucle For dans 2 listes (villes, liste_2) en parallèle avec la commande zip\n",
    "for a, b in zip(villes, liste_2):\n",
    "    print(a, b)"
   ]
  },
  {
   "cell_type": "code",
   "execution_count": 100,
   "id": "de3163ba-1714-4bc3-ba91-904caa5e07ff",
   "metadata": {},
   "outputs": [],
   "source": [
    "liste_2 = [52, 51, 23, 61]"
   ]
  },
  {
   "cell_type": "code",
   "execution_count": 101,
   "id": "20f82565-4f99-4629-a256-507df6d0ca4d",
   "metadata": {},
   "outputs": [
    {
     "data": {
      "text/plain": [
       "[52, 51, 23, 61]"
      ]
     },
     "execution_count": 101,
     "metadata": {},
     "output_type": "execute_result"
    }
   ],
   "source": [
    "liste_2"
   ]
  },
  {
   "cell_type": "code",
   "execution_count": 102,
   "id": "add92923-31e9-4e18-8260-659c9a3e9651",
   "metadata": {},
   "outputs": [
    {
     "name": "stdout",
     "output_type": "stream",
     "text": [
      "Rome 52\n",
      "Paris 51\n",
      "Madrid 23\n",
      "Paris 61\n"
     ]
    }
   ],
   "source": [
    "#utiliser la boucle For dans 2 listes avec des longeurs différentes (villes, liste_2) en parallèle avec la commande zip\n",
    "for a, b in zip(villes, liste_2):\n",
    "    print(a, b)"
   ]
  },
  {
   "cell_type": "code",
   "execution_count": null,
   "id": "adf600d3-e047-4a08-8fee-02cfa77b37a9",
   "metadata": {},
   "outputs": [],
   "source": []
  }
 ],
 "metadata": {
  "kernelspec": {
   "display_name": "Python 3 (ipykernel)",
   "language": "python",
   "name": "python3"
  },
  "language_info": {
   "codemirror_mode": {
    "name": "ipython",
    "version": 3
   },
   "file_extension": ".py",
   "mimetype": "text/x-python",
   "name": "python",
   "nbconvert_exporter": "python",
   "pygments_lexer": "ipython3",
   "version": "3.12.7"
  }
 },
 "nbformat": 4,
 "nbformat_minor": 5
}
