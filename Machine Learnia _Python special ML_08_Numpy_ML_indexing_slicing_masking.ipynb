{
 "cells": [
  {
   "cell_type": "markdown",
   "id": "5023de89-dafc-4f60-94c5-5c9669df3da9",
   "metadata": {},
   "source": [
    "# Numpy: indexing slicing masking"
   ]
  },
  {
   "cell_type": "markdown",
   "id": "ad84c9e8-2c5a-4cb4-bf01-55c66f89d339",
   "metadata": {},
   "source": [
    "URL : https://youtu.be/vw4u9uBFFqU?si=SSWillBGAW5XPmY_"
   ]
  },
  {
   "cell_type": "code",
   "execution_count": 118,
   "id": "1401fde0-541c-4d4f-8ede-6d165e1f1287",
   "metadata": {},
   "outputs": [],
   "source": [
    "import numpy as np"
   ]
  },
  {
   "cell_type": "code",
   "execution_count": 119,
   "id": "e8254dca-c5d7-4103-91ea-c21dcac7ed9a",
   "metadata": {},
   "outputs": [
    {
     "data": {
      "text/plain": [
       "array([[1, 2, 3],\n",
       "       [4, 5, 6],\n",
       "       [7, 8, 9]])"
      ]
     },
     "execution_count": 119,
     "metadata": {},
     "output_type": "execute_result"
    }
   ],
   "source": [
    "#créer un tableau A avec 2 dimensions, 3 lignes et 3 colonnes\n",
    "A = np.array([[1, 2, 3], [4, 5, 6], [7, 8, 9]])\n",
    "\n",
    "#Afficher A\n",
    "A"
   ]
  },
  {
   "cell_type": "markdown",
   "id": "7677763b-d62d-43ba-9481-065ed0fd519b",
   "metadata": {},
   "source": [
    "## Indexing"
   ]
  },
  {
   "cell_type": "code",
   "execution_count": 121,
   "id": "a9cf1766-17e6-48a3-adb6-a0f8d3102559",
   "metadata": {},
   "outputs": [
    {
     "data": {
      "text/plain": [
       "1"
      ]
     },
     "execution_count": 121,
     "metadata": {},
     "output_type": "execute_result"
    }
   ],
   "source": [
    "#l'élément de la 1ère ligne et 1ère colonne\n",
    "A[0,0]"
   ]
  },
  {
   "cell_type": "code",
   "execution_count": 122,
   "id": "9ae68b2e-da79-44e0-8351-7e5039389d1e",
   "metadata": {},
   "outputs": [
    {
     "data": {
      "text/plain": [
       "2"
      ]
     },
     "execution_count": 122,
     "metadata": {},
     "output_type": "execute_result"
    }
   ],
   "source": [
    "#l'élément de la 1ère ligne et 2ème colonne\n",
    "A[0,1]"
   ]
  },
  {
   "cell_type": "code",
   "execution_count": 123,
   "id": "1b00af74-7488-46f7-b8b2-dae3f1781b54",
   "metadata": {},
   "outputs": [
    {
     "data": {
      "text/plain": [
       "5"
      ]
     },
     "execution_count": 123,
     "metadata": {},
     "output_type": "execute_result"
    }
   ],
   "source": [
    "#obtenir l'élément 5 du tableau\n",
    "A[1,1]  #èeme ligne, 2ème colonne"
   ]
  },
  {
   "cell_type": "markdown",
   "id": "b11109f2-8edc-437f-9713-dbeac5f1faad",
   "metadata": {},
   "source": [
    "## Slicing"
   ]
  },
  {
   "cell_type": "code",
   "execution_count": 125,
   "id": "57273d91-6d2b-48d1-bbbb-4356da97f1c3",
   "metadata": {},
   "outputs": [
    {
     "data": {
      "text/plain": [
       "array([1, 4, 7])"
      ]
     },
     "execution_count": 125,
     "metadata": {},
     "output_type": "execute_result"
    }
   ],
   "source": [
    "#afficher toute la 1ère colonne dans le tableau A\n",
    "A[:,0]   # : signifie toutes les lignes, 0 pour la 1ère colonne"
   ]
  },
  {
   "cell_type": "code",
   "execution_count": 126,
   "id": "d3bb6d13-e2b6-44c8-ba6c-2921f5163491",
   "metadata": {},
   "outputs": [
    {
     "data": {
      "text/plain": [
       "array([1, 2, 3])"
      ]
     },
     "execution_count": 126,
     "metadata": {},
     "output_type": "execute_result"
    }
   ],
   "source": [
    " #afficher tous les éléments de la 1ère ligne dans le tableau A\n",
    "A[0,:]   # 0 pour la 1ère ligne, et : signifie toutes les colonnes"
   ]
  },
  {
   "cell_type": "markdown",
   "id": "02bce817-4861-4d47-974f-9f0496525cd0",
   "metadata": {},
   "source": [
    "**Remarque:**\n",
    "\n",
    "Si on veut accéder à une ligne d'un tableau Numpy, On peut juste écrire **nom_du_tableau[index_de_la_ligne]**.\n",
    "\n",
    "L'axe des lignes étant l'axe principal, (axis = 0), Numpy comprend par défaut qu'on veut accéder aux éléments de cet axe.\n",
    "\n",
    "Exemple:"
   ]
  },
  {
   "cell_type": "code",
   "execution_count": 128,
   "id": "b9bb4bd1-9ea6-4572-b37d-4f1337eddc09",
   "metadata": {},
   "outputs": [
    {
     "data": {
      "text/plain": [
       "array([4, 5, 6])"
      ]
     },
     "execution_count": 128,
     "metadata": {},
     "output_type": "execute_result"
    }
   ],
   "source": [
    "##Afficher la 2ème ligne du tableau A\n",
    "A[1]"
   ]
  },
  {
   "cell_type": "code",
   "execution_count": 129,
   "id": "7aa7612f-364e-4752-bd61-6eef0b267ab4",
   "metadata": {},
   "outputs": [
    {
     "data": {
      "text/plain": [
       "array([7, 8, 9])"
      ]
     },
     "execution_count": 129,
     "metadata": {},
     "output_type": "execute_result"
    }
   ],
   "source": [
    "##Afficher la 3ème ligne du tableau A\n",
    "A[2]"
   ]
  },
  {
   "cell_type": "markdown",
   "id": "23e02e6d-3a00-47e1-b2e0-bb46444da98a",
   "metadata": {},
   "source": [
    "### Selectionner un bloc dans le tableau Numpy"
   ]
  },
  {
   "cell_type": "code",
   "execution_count": 131,
   "id": "1a9c3e16-ad12-4af9-80fc-b883c9046469",
   "metadata": {},
   "outputs": [
    {
     "data": {
      "text/plain": [
       "array([[1, 2],\n",
       "       [4, 5]])"
      ]
     },
     "execution_count": 131,
     "metadata": {},
     "output_type": "execute_result"
    }
   ],
   "source": [
    "##Afficher les 2 premières lignes et les 2 premières colonnes du tableau A\n",
    "A[0:2, 0:2]"
   ]
  },
  {
   "cell_type": "markdown",
   "id": "19d56ca3-e8ee-48f8-b096-8f4a45501d9d",
   "metadata": {},
   "source": [
    "### Subsetting"
   ]
  },
  {
   "cell_type": "code",
   "execution_count": 133,
   "id": "c5e560bf-7f1d-49cb-97ef-d1ee858b1f08",
   "metadata": {},
   "outputs": [],
   "source": [
    "#subsetting : réduire la taille d'un ensemble de données en sélectionnant une partie des données qui nous intéresse\n",
    "B = A[0:2, 0:2]"
   ]
  },
  {
   "cell_type": "code",
   "execution_count": 134,
   "id": "f090748a-f439-4bcb-92ad-88cb45e7ff25",
   "metadata": {},
   "outputs": [
    {
     "data": {
      "text/plain": [
       "array([[1, 2],\n",
       "       [4, 5]])"
      ]
     },
     "execution_count": 134,
     "metadata": {},
     "output_type": "execute_result"
    }
   ],
   "source": [
    "#afficher B\n",
    "B"
   ]
  },
  {
   "cell_type": "code",
   "execution_count": 135,
   "id": "bdb688b2-d0a3-4815-b369-090995e97467",
   "metadata": {},
   "outputs": [
    {
     "data": {
      "text/plain": [
       "(2, 2)"
      ]
     },
     "execution_count": 135,
     "metadata": {},
     "output_type": "execute_result"
    }
   ],
   "source": [
    "#la forme de B\n",
    "B.shape"
   ]
  },
  {
   "cell_type": "markdown",
   "id": "f34460c2-cecd-4fd0-a13e-4b37477a0446",
   "metadata": {},
   "source": [
    "### Changer les éléments d'un tableau"
   ]
  },
  {
   "cell_type": "code",
   "execution_count": 137,
   "id": "4639b303-1b2f-4d0c-8860-743b0c537f9e",
   "metadata": {},
   "outputs": [
    {
     "data": {
      "text/plain": [
       "array([[10, 10,  3],\n",
       "       [10, 10,  6],\n",
       "       [ 7,  8,  9]])"
      ]
     },
     "execution_count": 137,
     "metadata": {},
     "output_type": "execute_result"
    }
   ],
   "source": [
    "#changer les éléments de cette partie du tableau A en 10\n",
    "A[0:2, 0:2] = 10\n",
    "\n",
    "#afficher A\n",
    "A"
   ]
  },
  {
   "cell_type": "code",
   "execution_count": 138,
   "id": "e23ed1cb-4b71-4bc7-a966-c69abf49b4cc",
   "metadata": {},
   "outputs": [
    {
     "data": {
      "text/plain": [
       "array([[10,  3],\n",
       "       [10,  6],\n",
       "       [ 8,  9]])"
      ]
     },
     "execution_count": 138,
     "metadata": {},
     "output_type": "execute_result"
    }
   ],
   "source": [
    "# exercice: afficher toutes les lignes et les 2 dernières colonnes de A\n",
    "A[:, -2:]"
   ]
  },
  {
   "cell_type": "code",
   "execution_count": 139,
   "id": "1bda8ee3-47c1-410a-b443-f57520771625",
   "metadata": {},
   "outputs": [
    {
     "data": {
      "text/plain": [
       "array([[0., 0., 0., 0.],\n",
       "       [0., 0., 0., 0.],\n",
       "       [0., 0., 0., 0.],\n",
       "       [0., 0., 0., 0.]])"
      ]
     },
     "execution_count": 139,
     "metadata": {},
     "output_type": "execute_result"
    }
   ],
   "source": [
    "#tableau B rempli de zéros avec les dimensions (4,4)\n",
    "B = np.zeros((4,4))\n",
    "\n",
    "#afficher B\n",
    "B"
   ]
  },
  {
   "cell_type": "code",
   "execution_count": 140,
   "id": "3150e0e3-bf70-4d16-9afc-cbb25696e5bc",
   "metadata": {},
   "outputs": [
    {
     "data": {
      "text/plain": [
       "array([[0., 0., 0., 0.],\n",
       "       [0., 1., 1., 0.],\n",
       "       [0., 1., 1., 0.],\n",
       "       [0., 0., 0., 0.]])"
      ]
     },
     "execution_count": 140,
     "metadata": {},
     "output_type": "execute_result"
    }
   ],
   "source": [
    "#changer le milieu du tableau par la valeur 1\n",
    "B[1:3, 1:3] = 1\n",
    "\n",
    "#afficher B\n",
    "B"
   ]
  },
  {
   "cell_type": "markdown",
   "id": "023cd436-d624-40e5-b131-94ce10055624",
   "metadata": {},
   "source": [
    "### Slicing A[début:fin:pas,début:fin:pas]"
   ]
  },
  {
   "cell_type": "code",
   "execution_count": 142,
   "id": "526cd98b-123d-4dbe-8583-e24496c4be3f",
   "metadata": {},
   "outputs": [
    {
     "data": {
      "text/plain": [
       "array([[0., 0., 0., 0., 0.],\n",
       "       [0., 0., 0., 0., 0.],\n",
       "       [0., 0., 0., 0., 0.],\n",
       "       [0., 0., 0., 0., 0.],\n",
       "       [0., 0., 0., 0., 0.]])"
      ]
     },
     "execution_count": 142,
     "metadata": {},
     "output_type": "execute_result"
    }
   ],
   "source": [
    "#créer un tableau C rempli de zéros avec les dimensions (5,5)\n",
    "C = np.zeros((5,5))\n",
    "\n",
    "#afficher C\n",
    "C"
   ]
  },
  {
   "cell_type": "code",
   "execution_count": 143,
   "id": "e6432ef4-56c3-4a71-9385-8459ec42cdff",
   "metadata": {},
   "outputs": [
    {
     "data": {
      "text/plain": [
       "array([[1., 0., 1., 0., 1.],\n",
       "       [0., 0., 0., 0., 0.],\n",
       "       [1., 0., 1., 0., 1.],\n",
       "       [0., 0., 0., 0., 0.],\n",
       "       [1., 0., 1., 0., 1.]])"
      ]
     },
     "execution_count": 143,
     "metadata": {},
     "output_type": "execute_result"
    }
   ],
   "source": [
    "#séléctionner tous les éléments du tableau avec un pas = 2, pour les lignes et les colonnes\n",
    "#et changer leurs valeurs en 1\n",
    "C[::2, ::2] = 1\n",
    "\n",
    "#afficher C\n",
    "C\n",
    "\n",
    "#On n'a pas besoin de retenir cette partie pour la Data Science"
   ]
  },
  {
   "cell_type": "markdown",
   "id": "38a3974e-b10d-4681-a643-787ab967df2b",
   "metadata": {},
   "source": [
    "## Boolean indexing"
   ]
  },
  {
   "cell_type": "markdown",
   "id": "593ecde0-12f7-4c82-8e91-63dc1bcd7aba",
   "metadata": {},
   "source": [
    "C'est une technique qui permet de filtrer les données dans un DataFrame en fonction de conditions spécifiques."
   ]
  },
  {
   "cell_type": "markdown",
   "id": "7f28c1f8-65de-4ec6-bc0c-8263d8bf59fb",
   "metadata": {},
   "source": [
    "### Boolean indexing avec 1 condition"
   ]
  },
  {
   "cell_type": "code",
   "execution_count": 147,
   "id": "9345b6a1-9ce3-45a7-b5e4-498b95578f6e",
   "metadata": {},
   "outputs": [
    {
     "data": {
      "text/plain": [
       "array([[3, 2, 3, 2, 0],\n",
       "       [6, 6, 2, 4, 6],\n",
       "       [4, 2, 8, 0, 7],\n",
       "       [1, 1, 9, 0, 3],\n",
       "       [4, 9, 9, 5, 3]])"
      ]
     },
     "execution_count": 147,
     "metadata": {},
     "output_type": "execute_result"
    }
   ],
   "source": [
    "#créer un tableau D de dimensions (5,5)\n",
    "#rempli de nbres entiers aléatoires compris entre 1 et 10\n",
    "\n",
    "D = np.random.randint(0,10 , [5,5])\n",
    "\n",
    "#afficher D\n",
    "D"
   ]
  },
  {
   "cell_type": "code",
   "execution_count": 148,
   "id": "566ecf21-20a5-440c-a486-2458b75ede4a",
   "metadata": {},
   "outputs": [
    {
     "data": {
      "text/plain": [
       "array([[ True,  True,  True,  True,  True],\n",
       "       [False, False,  True,  True, False],\n",
       "       [ True,  True, False,  True, False],\n",
       "       [ True,  True, False,  True,  True],\n",
       "       [ True, False, False, False,  True]])"
      ]
     },
     "execution_count": 148,
     "metadata": {},
     "output_type": "execute_result"
    }
   ],
   "source": [
    "#créer un masque a partir du tableau D\n",
    "#avec les valeurs <5\n",
    "D < 5"
   ]
  },
  {
   "cell_type": "code",
   "execution_count": 149,
   "id": "0c2799ff-2566-47b0-93c2-6f16548bf9d4",
   "metadata": {},
   "outputs": [],
   "source": [
    "#True signifie que l'élément du tableau D est < 5\n",
    "#False signifie que l'élément du tableau D est >= 5"
   ]
  },
  {
   "cell_type": "code",
   "execution_count": 150,
   "id": "35d86c94-638b-47db-9811-64ab5dc52040",
   "metadata": {},
   "outputs": [
    {
     "data": {
      "text/plain": [
       "array([[10, 10, 10, 10, 10],\n",
       "       [ 6,  6, 10, 10,  6],\n",
       "       [10, 10,  8, 10,  7],\n",
       "       [10, 10,  9, 10, 10],\n",
       "       [10,  9,  9,  5, 10]])"
      ]
     },
     "execution_count": 150,
     "metadata": {},
     "output_type": "execute_result"
    }
   ],
   "source": [
    "#remplacer True dans le tableau D par 10\n",
    "D[D<5] = 10\n",
    "\n",
    "#afficher D\n",
    "D"
   ]
  },
  {
   "cell_type": "markdown",
   "id": "7f9502fd-6013-4650-a3bd-edbe7b5d3121",
   "metadata": {},
   "source": [
    "### Boolean indexing avec 2 conditions"
   ]
  },
  {
   "cell_type": "code",
   "execution_count": 152,
   "id": "833d0b22-68e3-44d2-b968-9b8b269998d1",
   "metadata": {},
   "outputs": [
    {
     "data": {
      "text/plain": [
       "array([[5, 9, 5, 8, 0],\n",
       "       [5, 5, 7, 3, 5],\n",
       "       [7, 3, 5, 8, 3],\n",
       "       [3, 8, 1, 1, 7],\n",
       "       [5, 5, 6, 4, 7]])"
      ]
     },
     "execution_count": 152,
     "metadata": {},
     "output_type": "execute_result"
    }
   ],
   "source": [
    "#créer un tableau E de dimensions (5,5)\n",
    "#rempli de nbres entiers aléatoires compris entre 1 et 10\n",
    "\n",
    "E = np.random.randint(0,10 , [5,5])\n",
    "\n",
    "#afficher E\n",
    "E"
   ]
  },
  {
   "cell_type": "code",
   "execution_count": 153,
   "id": "abd6db28-7fd8-47da-826f-144787398dbb",
   "metadata": {},
   "outputs": [
    {
     "data": {
      "text/plain": [
       "array([[False, False, False, False, False],\n",
       "       [False, False, False,  True, False],\n",
       "       [False,  True, False, False,  True],\n",
       "       [ True, False, False, False, False],\n",
       "       [False, False, False,  True, False]])"
      ]
     },
     "execution_count": 153,
     "metadata": {},
     "output_type": "execute_result"
    }
   ],
   "source": [
    "#créer un masque a partir du tableau E\n",
    "#avec les valeurs à la fois <5 et >2 \n",
    "(E<5) & (E>2)"
   ]
  },
  {
   "cell_type": "code",
   "execution_count": 154,
   "id": "db75583b-0225-41b5-84fc-22b28b4514f5",
   "metadata": {},
   "outputs": [],
   "source": [
    "#True signifie que l'élément du tableau E est est à la fois <5 et >2\n",
    "#False signifie que l'élément du tableau E est à la fois >= 5 et =<2"
   ]
  },
  {
   "cell_type": "code",
   "execution_count": 155,
   "id": "b34492fd-29d1-4dc4-bca7-6ddb10b16826",
   "metadata": {},
   "outputs": [
    {
     "data": {
      "text/plain": [
       "array([[ 5,  9,  5,  8,  0],\n",
       "       [ 5,  5,  7, 10,  5],\n",
       "       [ 7, 10,  5,  8, 10],\n",
       "       [10,  8,  1,  1,  7],\n",
       "       [ 5,  5,  6, 10,  7]])"
      ]
     },
     "execution_count": 155,
     "metadata": {},
     "output_type": "execute_result"
    }
   ],
   "source": [
    "#remplacer True dans le tableau D par 10\n",
    "E[(E<5) & (E>2)] = 10\n",
    "\n",
    "#afficher D\n",
    "E"
   ]
  },
  {
   "cell_type": "code",
   "execution_count": 156,
   "id": "bfe105d8-a553-4035-ab84-5c809e123b75",
   "metadata": {},
   "outputs": [
    {
     "data": {
      "text/plain": [
       "array([0, 1, 1])"
      ]
     },
     "execution_count": 156,
     "metadata": {},
     "output_type": "execute_result"
    }
   ],
   "source": [
    "#utiliser le boolean indexing pour filtrer les donnees du tableau E\n",
    "#séléctionner une partie du tableau E où la condition est remplie\n",
    "#cad où les valeurs sont <5\n",
    "E[E<5]"
   ]
  },
  {
   "cell_type": "code",
   "execution_count": 157,
   "id": "3785c202-3f71-4d69-8e8c-8e8ee9c09148",
   "metadata": {},
   "outputs": [
    {
     "data": {
      "text/plain": [
       "(3,)"
      ]
     },
     "execution_count": 157,
     "metadata": {},
     "output_type": "execute_result"
    }
   ],
   "source": [
    "#la forme du tableau obtenue change\n",
    "E[E<5].shape    #E est de dimensions (5,5)"
   ]
  },
  {
   "cell_type": "code",
   "execution_count": 158,
   "id": "a0f2b017-b60b-42d1-bb63-6aff3c8a7fc9",
   "metadata": {},
   "outputs": [],
   "source": [
    "#et bien sur, on obtient (en général) moins d'éléments que le tableau initial"
   ]
  },
  {
   "cell_type": "code",
   "execution_count": 159,
   "id": "7af6956b-b950-4a97-868b-a9ff8d807bfa",
   "metadata": {},
   "outputs": [],
   "source": [
    "#on peut appliquer le boolean indexing du tableau E\n",
    "#sur un tableau F avec les mêmes dimensions que le tableau E (5,5)"
   ]
  },
  {
   "cell_type": "code",
   "execution_count": 160,
   "id": "9ee799d9-d760-446a-bb02-4779b0aae984",
   "metadata": {},
   "outputs": [
    {
     "data": {
      "text/plain": [
       "array([[5, 5, 8, 2, 2],\n",
       "       [4, 1, 5, 7, 5],\n",
       "       [0, 2, 3, 4, 2],\n",
       "       [3, 2, 6, 4, 6],\n",
       "       [9, 7, 0, 3, 7]])"
      ]
     },
     "execution_count": 160,
     "metadata": {},
     "output_type": "execute_result"
    }
   ],
   "source": [
    "#créer un tableau F de dimensions (5,5)\n",
    "#rempli de nbres entiers aléatoires compris entre 1 et 10\n",
    "\n",
    "F = np.random.randint(0,10 , [5,5])\n",
    "\n",
    "#afficher F\n",
    "F"
   ]
  },
  {
   "cell_type": "code",
   "execution_count": 161,
   "id": "c4f0e273-458e-45ae-a42b-2b13a7890b78",
   "metadata": {},
   "outputs": [
    {
     "data": {
      "text/plain": [
       "array([[ 5,  9,  5,  8,  0],\n",
       "       [ 5,  5,  7, 10,  5],\n",
       "       [ 7, 10,  5,  8, 10],\n",
       "       [10,  8,  1,  1,  7],\n",
       "       [ 5,  5,  6, 10,  7]])"
      ]
     },
     "execution_count": 161,
     "metadata": {},
     "output_type": "execute_result"
    }
   ],
   "source": [
    "#afficher E\n",
    "E"
   ]
  },
  {
   "cell_type": "code",
   "execution_count": 162,
   "id": "c07edd66-2554-4cfc-ac11-ba26b7bc9ca1",
   "metadata": {},
   "outputs": [
    {
     "data": {
      "text/plain": [
       "array([[False, False, False, False,  True],\n",
       "       [False, False, False, False, False],\n",
       "       [False, False, False, False, False],\n",
       "       [False, False,  True,  True, False],\n",
       "       [False, False, False, False, False]])"
      ]
     },
     "execution_count": 162,
     "metadata": {},
     "output_type": "execute_result"
    }
   ],
   "source": [
    "#créer le masque\n",
    "E<5"
   ]
  },
  {
   "cell_type": "code",
   "execution_count": 163,
   "id": "df49e048-524b-450a-b329-7462d471eaf8",
   "metadata": {},
   "outputs": [
    {
     "data": {
      "text/plain": [
       "array([[5, 5, 8, 2, 2],\n",
       "       [4, 1, 5, 7, 5],\n",
       "       [0, 2, 3, 4, 2],\n",
       "       [3, 2, 6, 4, 6],\n",
       "       [9, 7, 0, 3, 7]])"
      ]
     },
     "execution_count": 163,
     "metadata": {},
     "output_type": "execute_result"
    }
   ],
   "source": [
    "#afficher F où l'on va appliquer le masque\n",
    "F"
   ]
  },
  {
   "cell_type": "code",
   "execution_count": 164,
   "id": "ca2e2797-917f-413a-a666-48dabe02ca63",
   "metadata": {},
   "outputs": [
    {
     "data": {
      "text/plain": [
       "array([2, 6, 4])"
      ]
     },
     "execution_count": 164,
     "metadata": {},
     "output_type": "execute_result"
    }
   ],
   "source": [
    "#utiliser le boolean indexing du taleau E pour filtrer les données du tableau F\n",
    "#séléctionner une partie du tableau F où la condition est remplie\n",
    "\n",
    "F[E<5]"
   ]
  },
  {
   "cell_type": "code",
   "execution_count": null,
   "id": "a7219a1a-2b7e-4514-a4e1-746e2a8b45aa",
   "metadata": {},
   "outputs": [],
   "source": []
  }
 ],
 "metadata": {
  "kernelspec": {
   "display_name": "Python 3 (ipykernel)",
   "language": "python",
   "name": "python3"
  },
  "language_info": {
   "codemirror_mode": {
    "name": "ipython",
    "version": 3
   },
   "file_extension": ".py",
   "mimetype": "text/x-python",
   "name": "python",
   "nbconvert_exporter": "python",
   "pygments_lexer": "ipython3",
   "version": "3.12.7"
  }
 },
 "nbformat": 4,
 "nbformat_minor": 5
}
