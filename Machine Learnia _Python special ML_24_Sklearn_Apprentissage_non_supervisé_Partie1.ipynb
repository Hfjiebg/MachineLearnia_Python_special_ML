{
 "cells": [
  {
   "cell_type": "markdown",
   "id": "f1a20730-367c-4889-80f7-319fc6f9a30b",
   "metadata": {},
   "source": [
    "# Sklearn: Apprentissage non-supervisé (Partie 1)"
   ]
  },
  {
   "cell_type": "markdown",
   "id": "8c9c122e-d68f-4c90-a26f-4c9b3429a4f3",
   "metadata": {},
   "source": [
    "URL : https://youtu.be/FTtzd31IAOw?si=xcb7eU8fH2IrWjnB"
   ]
  },
  {
   "cell_type": "code",
   "execution_count": 4,
   "id": "0beeeb14-9c18-4fbf-bbdd-2bc1247fe804",
   "metadata": {},
   "outputs": [],
   "source": [
    "#importations\n",
    "import numpy as np\n",
    "import matplotlib.pyplot as plt\n",
    "from sklearn.datasets import make_blobs\n",
    "from sklearn.cluster import KMeans"
   ]
  },
  {
   "cell_type": "markdown",
   "id": "213623d0-b31c-44b4-96ab-eb58288ebd70",
   "metadata": {},
   "source": [
    "L’apprentissage supervisé est une technique d’apprentissage qui consiste à montrer à la machine des exemples X, y de ce qu’elle doit apprendre.\n",
    "\n",
    "À l’inverse, l’apprentissage non-supervisé consiste à fournir à la machine uniquement des données X, et lui demander d’analyser la structure de ces données pour apprendre elle-même à réaliser certaines tâches."
   ]
  },
  {
   "cell_type": "markdown",
   "id": "73a965ab-524d-4bd9-8815-56b1fbabc121",
   "metadata": {},
   "source": [
    "## Clustering"
   ]
  },
  {
   "cell_type": "markdown",
   "id": "7405677b-e33e-4290-8374-d8bfe8452287",
   "metadata": {},
   "source": [
    "Une des applications les plus populaires de l’apprentissage non-supervisé est le Clustering. Le principe est de laisser la machine apprendre à trier des données selon leurs ressemblances (et donc en analysant uniquement les features X).\n",
    "\n",
    "Les algorithmes à connaitre :\n",
    "\n",
    "- **K-Means :** Tres rapide, mais non-efficace sur les clusters non-convexes.\n",
    "- **AgglomerativeClustering :** assez lent, mais efficace sur les données non-convexes.\n",
    "- **DBSCAN :** efficace sur les données non-convexes, mais sélection du nombre de clusters automatique.\n",
    "\n",
    "**Applications :** \n",
    "- Trier des documents, des photos, des tweets.\n",
    "- Segmenter la clientèle d’une entreprise.\n",
    "- Optimiser l’organisation d’un système informatique, etc…"
   ]
  },
  {
   "cell_type": "code",
   "execution_count": 8,
   "id": "16c799b1-abc5-469a-8e7b-8c7e17d393fc",
   "metadata": {},
   "outputs": [],
   "source": [
    "#générer des données de test sous la forme de blobs\n",
    "#make_blobs(n_samples=100, centers=3, cluster_std=0.4, random_state=0):\n",
    "#génère 100 échantillons répartis sur 3 centres\n",
    "#cluster_std détermine la dispersion des points autour de chaque centre\n",
    "#random_state=0: fixe la graine aléatoire du générateur de nombres aléatoires, ce qui assure la reproductibilité des résultats\n",
    "#X contient les caractéristiques des échantillons\n",
    "#y est les étiquettes des clusters (non utilisées ici) \n",
    "X, y = make_blobs(n_samples=100, centers=3, cluster_std=0.4, random_state=0)"
   ]
  },
  {
   "cell_type": "code",
   "execution_count": 9,
   "id": "93b04906-37df-48e8-819b-c41550435cf6",
   "metadata": {},
   "outputs": [
    {
     "data": {
      "text/plain": [
       "Text(0, 0.5, 'Caractéristique 2')"
      ]
     },
     "execution_count": 9,
     "metadata": {},
     "output_type": "execute_result"
    },
    {
     "data": {
      "image/png": "[encoded data removed]",
      "text/plain": [
       "<Figure size 640x480 with 1 Axes>"
      ]
     },
     "metadata": {},
     "output_type": "display_data"
    }
   ],
   "source": [
    "#tracer le graphique avec les deux premières caractéristiques des données générées\n",
    "#les données X[:, 1] en fonction de X[:, 0]\n",
    "#X[:, 0] représente toues les lignes de la 1ère colonne de X\n",
    "#X[:, 1] représente toues les lignes de la 2ème colonne de X\n",
    "plt.scatter(X[:, 0], X[:, 1])  \n",
    "plt.title('Données de Blobs')    #titre du graphique\n",
    "plt.xlabel('Caractéristique 1')  #axe des x\n",
    "plt.ylabel('Caractéristique 2')  #axe des y"
   ]
  },
  {
   "cell_type": "code",
   "execution_count": 10,
   "id": "e89df061-2ed2-4f43-b03b-f169a690cf9a",
   "metadata": {},
   "outputs": [],
   "source": [
    "#créer un modèle KMeans en spécifiant:\n",
    "#n_clusters=3: le nombre de clusters à former ainsi que le nombre de centroïdes à générer (par défaut=8)\n",
    "#n_init=10: nombre d'initialisations, càd le nombre de fois l'algorithme doit être exécuté (par défaut='auto')\n",
    "#max_iter=300: nombre maximal d'itérations de l'algorithme k-means pour une seule exécution (par défaut=300)\n",
    "#init='k-means++': méthode d'initialisation (par défaut='k-means++')\n",
    "model = KMeans(n_clusters=3, n_init=10, max_iter=300, init='k-means++')\n",
    "\n",
    "#on peut juste écrire: model = KMeans(n_clusters=3)"
   ]
  },
  {
   "cell_type": "code",
   "execution_count": 11,
   "id": "5b3454c1-aabd-40b6-95e2-745f4d2767f1",
   "metadata": {},
   "outputs": [
    {
     "name": "stderr",
     "output_type": "stream",
     "text": [
      "C:\\Users\\HP\\anaconda3\\Lib\\site-packages\\sklearn\\cluster\\_kmeans.py:1429: UserWarning: KMeans is known to have a memory leak on Windows with MKL, when there are less chunks than available threads. You can avoid it by setting the environment variable OMP_NUM_THREADS=1.\n",
      "  warnings.warn(\n"
     ]
    },
    {
     "data": {
      "text/html": [
       "<style>#sk-container-id-1 {\n",
       "  /* Definition of color scheme common for light and dark mode */\n",
       "  --sklearn-color-text: black;\n",
       "  --sklearn-color-line: gray;\n",
       "  /* Definition of color scheme for unfitted estimators */\n",
       "  --sklearn-color-unfitted-level-0: #fff5e6;\n",
       "  --sklearn-color-unfitted-level-1: #f6e4d2;\n",
       "  --sklearn-color-unfitted-level-2: #ffe0b3;\n",
       "  --sklearn-color-unfitted-level-3: chocolate;\n",
       "  /* Definition of color scheme for fitted estimators */\n",
       "  --sklearn-color-fitted-level-0: #f0f8ff;\n",
       "  --sklearn-color-fitted-level-1: #d4ebff;\n",
       "  --sklearn-color-fitted-level-2: #b3dbfd;\n",
       "  --sklearn-color-fitted-level-3: cornflowerblue;\n",
       "\n",
       "  /* Specific color for light theme */\n",
       "  --sklearn-color-text-on-default-background: var(--sg-text-color, var(--theme-code-foreground, var(--jp-content-font-color1, black)));\n",
       "  --sklearn-color-background: var(--sg-background-color, var(--theme-background, var(--jp-layout-color0, white)));\n",
       "  --sklearn-color-border-box: var(--sg-text-color, var(--theme-code-foreground, var(--jp-content-font-color1, black)));\n",
       "  --sklearn-color-icon: #696969;\n",
       "\n",
       "  @media (prefers-color-scheme: dark) {\n",
       "    /* Redefinition of color scheme for dark theme */\n",
       "    --sklearn-color-text-on-default-background: var(--sg-text-color, var(--theme-code-foreground, var(--jp-content-font-color1, white)));\n",
       "    --sklearn-color-background: var(--sg-background-color, var(--theme-background, var(--jp-layout-color0, #111)));\n",
       "    --sklearn-color-border-box: var(--sg-text-color, var(--theme-code-foreground, var(--jp-content-font-color1, white)));\n",
       "    --sklearn-color-icon: #878787;\n",
       "  }\n",
       "}\n",
       "\n",
       "#sk-container-id-1 {\n",
       "  color: var(--sklearn-color-text);\n",
       "}\n",
       "\n",
       "#sk-container-id-1 pre {\n",
       "  padding: 0;\n",
       "}\n",
       "\n",
       "#sk-container-id-1 input.sk-hidden--visually {\n",
       "  border: 0;\n",
       "  clip: rect(1px 1px 1px 1px);\n",
       "  clip: rect(1px, 1px, 1px, 1px);\n",
       "  height: 1px;\n",
       "  margin: -1px;\n",
       "  overflow: hidden;\n",
       "  padding: 0;\n",
       "  position: absolute;\n",
       "  width: 1px;\n",
       "}\n",
       "\n",
       "#sk-container-id-1 div.sk-dashed-wrapped {\n",
       "  border: 1px dashed var(--sklearn-color-line);\n",
       "  margin: 0 0.4em 0.5em 0.4em;\n",
       "  box-sizing: border-box;\n",
       "  padding-bottom: 0.4em;\n",
       "  background-color: var(--sklearn-color-background);\n",
       "}\n",
       "\n",
       "#sk-container-id-1 div.sk-container {\n",
       "  /* jupyter's `normalize.less` sets `[hidden] { display: none; }`\n",
       "     but bootstrap.min.css set `[hidden] { display: none !important; }`\n",
       "     so we also need the `!important` here to be able to override the\n",
       "     default hidden behavior on the sphinx rendered scikit-learn.org.\n",
       "     See: https://github.com/scikit-learn/scikit-learn/issues/21755 */\n",
       "  display: inline-block !important;\n",
       "  position: relative;\n",
       "}\n",
       "\n",
       "#sk-container-id-1 div.sk-text-repr-fallback {\n",
       "  display: none;\n",
       "}\n",
       "\n",
       "div.sk-parallel-item,\n",
       "div.sk-serial,\n",
       "div.sk-item {\n",
       "  /* draw centered vertical line to link estimators */\n",
       "  background-image: linear-gradient(var(--sklearn-color-text-on-default-background), var(--sklearn-color-text-on-default-background));\n",
       "  background-size: 2px 100%;\n",
       "  background-repeat: no-repeat;\n",
       "  background-position: center center;\n",
       "}\n",
       "\n",
       "/* Parallel-specific style estimator block */\n",
       "\n",
       "#sk-container-id-1 div.sk-parallel-item::after {\n",
       "  content: \"\";\n",
       "  width: 100%;\n",
       "  border-bottom: 2px solid var(--sklearn-color-text-on-default-background);\n",
       "  flex-grow: 1;\n",
       "}\n",
       "\n",
       "#sk-container-id-1 div.sk-parallel {\n",
       "  display: flex;\n",
       "  align-items: stretch;\n",
       "  justify-content: center;\n",
       "  background-color: var(--sklearn-color-background);\n",
       "  position: relative;\n",
       "}\n",
       "\n",
       "#sk-container-id-1 div.sk-parallel-item {\n",
       "  display: flex;\n",
       "  flex-direction: column;\n",
       "}\n",
       "\n",
       "#sk-container-id-1 div.sk-parallel-item:first-child::after {\n",
       "  align-self: flex-end;\n",
       "  width: 50%;\n",
       "}\n",
       "\n",
       "#sk-container-id-1 div.sk-parallel-item:last-child::after {\n",
       "  align-self: flex-start;\n",
       "  width: 50%;\n",
       "}\n",
       "\n",
       "#sk-container-id-1 div.sk-parallel-item:only-child::after {\n",
       "  width: 0;\n",
       "}\n",
       "\n",
       "/* Serial-specific style estimator block */\n",
       "\n",
       "#sk-container-id-1 div.sk-serial {\n",
       "  display: flex;\n",
       "  flex-direction: column;\n",
       "  align-items: center;\n",
       "  background-color: var(--sklearn-color-background);\n",
       "  padding-right: 1em;\n",
       "  padding-left: 1em;\n",
       "}\n",
       "\n",
       "\n",
       "/* Toggleable style: style used for estimator/Pipeline/ColumnTransformer box that is\n",
       "clickable and can be expanded/collapsed.\n",
       "- Pipeline and ColumnTransformer use this feature and define the default style\n",
       "- Estimators will overwrite some part of the style using the `sk-estimator` class\n",
       "*/\n",
       "\n",
       "/* Pipeline and ColumnTransformer style (default) */\n",
       "\n",
       "#sk-container-id-1 div.sk-toggleable {\n",
       "  /* Default theme specific background. It is overwritten whether we have a\n",
       "  specific estimator or a Pipeline/ColumnTransformer */\n",
       "  background-color: var(--sklearn-color-background);\n",
       "}\n",
       "\n",
       "/* Toggleable label */\n",
       "#sk-container-id-1 label.sk-toggleable__label {\n",
       "  cursor: pointer;\n",
       "  display: block;\n",
       "  width: 100%;\n",
       "  margin-bottom: 0;\n",
       "  padding: 0.5em;\n",
       "  box-sizing: border-box;\n",
       "  text-align: center;\n",
       "}\n",
       "\n",
       "#sk-container-id-1 label.sk-toggleable__label-arrow:before {\n",
       "  /* Arrow on the left of the label */\n",
       "  content: \"▸\";\n",
       "  float: left;\n",
       "  margin-right: 0.25em;\n",
       "  color: var(--sklearn-color-icon);\n",
       "}\n",
       "\n",
       "#sk-container-id-1 label.sk-toggleable__label-arrow:hover:before {\n",
       "  color: var(--sklearn-color-text);\n",
       "}\n",
       "\n",
       "/* Toggleable content - dropdown */\n",
       "\n",
       "#sk-container-id-1 div.sk-toggleable__content {\n",
       "  max-height: 0;\n",
       "  max-width: 0;\n",
       "  overflow: hidden;\n",
       "  text-align: left;\n",
       "  /* unfitted */\n",
       "  background-color: var(--sklearn-color-unfitted-level-0);\n",
       "}\n",
       "\n",
       "#sk-container-id-1 div.sk-toggleable__content.fitted {\n",
       "  /* fitted */\n",
       "  background-color: var(--sklearn-color-fitted-level-0);\n",
       "}\n",
       "\n",
       "#sk-container-id-1 div.sk-toggleable__content pre {\n",
       "  margin: 0.2em;\n",
       "  border-radius: 0.25em;\n",
       "  color: var(--sklearn-color-text);\n",
       "  /* unfitted */\n",
       "  background-color: var(--sklearn-color-unfitted-level-0);\n",
       "}\n",
       "\n",
       "#sk-container-id-1 div.sk-toggleable__content.fitted pre {\n",
       "  /* unfitted */\n",
       "  background-color: var(--sklearn-color-fitted-level-0);\n",
       "}\n",
       "\n",
       "#sk-container-id-1 input.sk-toggleable__control:checked~div.sk-toggleable__content {\n",
       "  /* Expand drop-down */\n",
       "  max-height: 200px;\n",
       "  max-width: 100%;\n",
       "  overflow: auto;\n",
       "}\n",
       "\n",
       "#sk-container-id-1 input.sk-toggleable__control:checked~label.sk-toggleable__label-arrow:before {\n",
       "  content: \"▾\";\n",
       "}\n",
       "\n",
       "/* Pipeline/ColumnTransformer-specific style */\n",
       "\n",
       "#sk-container-id-1 div.sk-label input.sk-toggleable__control:checked~label.sk-toggleable__label {\n",
       "  color: var(--sklearn-color-text);\n",
       "  background-color: var(--sklearn-color-unfitted-level-2);\n",
       "}\n",
       "\n",
       "#sk-container-id-1 div.sk-label.fitted input.sk-toggleable__control:checked~label.sk-toggleable__label {\n",
       "  background-color: var(--sklearn-color-fitted-level-2);\n",
       "}\n",
       "\n",
       "/* Estimator-specific style */\n",
       "\n",
       "/* Colorize estimator box */\n",
       "#sk-container-id-1 div.sk-estimator input.sk-toggleable__control:checked~label.sk-toggleable__label {\n",
       "  /* unfitted */\n",
       "  background-color: var(--sklearn-color-unfitted-level-2);\n",
       "}\n",
       "\n",
       "#sk-container-id-1 div.sk-estimator.fitted input.sk-toggleable__control:checked~label.sk-toggleable__label {\n",
       "  /* fitted */\n",
       "  background-color: var(--sklearn-color-fitted-level-2);\n",
       "}\n",
       "\n",
       "#sk-container-id-1 div.sk-label label.sk-toggleable__label,\n",
       "#sk-container-id-1 div.sk-label label {\n",
       "  /* The background is the default theme color */\n",
       "  color: var(--sklearn-color-text-on-default-background);\n",
       "}\n",
       "\n",
       "/* On hover, darken the color of the background */\n",
       "#sk-container-id-1 div.sk-label:hover label.sk-toggleable__label {\n",
       "  color: var(--sklearn-color-text);\n",
       "  background-color: var(--sklearn-color-unfitted-level-2);\n",
       "}\n",
       "\n",
       "/* Label box, darken color on hover, fitted */\n",
       "#sk-container-id-1 div.sk-label.fitted:hover label.sk-toggleable__label.fitted {\n",
       "  color: var(--sklearn-color-text);\n",
       "  background-color: var(--sklearn-color-fitted-level-2);\n",
       "}\n",
       "\n",
       "/* Estimator label */\n",
       "\n",
       "#sk-container-id-1 div.sk-label label {\n",
       "  font-family: monospace;\n",
       "  font-weight: bold;\n",
       "  display: inline-block;\n",
       "  line-height: 1.2em;\n",
       "}\n",
       "\n",
       "#sk-container-id-1 div.sk-label-container {\n",
       "  text-align: center;\n",
       "}\n",
       "\n",
       "/* Estimator-specific */\n",
       "#sk-container-id-1 div.sk-estimator {\n",
       "  font-family: monospace;\n",
       "  border: 1px dotted var(--sklearn-color-border-box);\n",
       "  border-radius: 0.25em;\n",
       "  box-sizing: border-box;\n",
       "  margin-bottom: 0.5em;\n",
       "  /* unfitted */\n",
       "  background-color: var(--sklearn-color-unfitted-level-0);\n",
       "}\n",
       "\n",
       "#sk-container-id-1 div.sk-estimator.fitted {\n",
       "  /* fitted */\n",
       "  background-color: var(--sklearn-color-fitted-level-0);\n",
       "}\n",
       "\n",
       "/* on hover */\n",
       "#sk-container-id-1 div.sk-estimator:hover {\n",
       "  /* unfitted */\n",
       "  background-color: var(--sklearn-color-unfitted-level-2);\n",
       "}\n",
       "\n",
       "#sk-container-id-1 div.sk-estimator.fitted:hover {\n",
       "  /* fitted */\n",
       "  background-color: var(--sklearn-color-fitted-level-2);\n",
       "}\n",
       "\n",
       "/* Specification for estimator info (e.g. \"i\" and \"?\") */\n",
       "\n",
       "/* Common style for \"i\" and \"?\" */\n",
       "\n",
       ".sk-estimator-doc-link,\n",
       "a:link.sk-estimator-doc-link,\n",
       "a:visited.sk-estimator-doc-link {\n",
       "  float: right;\n",
       "  font-size: smaller;\n",
       "  line-height: 1em;\n",
       "  font-family: monospace;\n",
       "  background-color: var(--sklearn-color-background);\n",
       "  border-radius: 1em;\n",
       "  height: 1em;\n",
       "  width: 1em;\n",
       "  text-decoration: none !important;\n",
       "  margin-left: 1ex;\n",
       "  /* unfitted */\n",
       "  border: var(--sklearn-color-unfitted-level-1) 1pt solid;\n",
       "  color: var(--sklearn-color-unfitted-level-1);\n",
       "}\n",
       "\n",
       ".sk-estimator-doc-link.fitted,\n",
       "a:link.sk-estimator-doc-link.fitted,\n",
       "a:visited.sk-estimator-doc-link.fitted {\n",
       "  /* fitted */\n",
       "  border: var(--sklearn-color-fitted-level-1) 1pt solid;\n",
       "  color: var(--sklearn-color-fitted-level-1);\n",
       "}\n",
       "\n",
       "/* On hover */\n",
       "div.sk-estimator:hover .sk-estimator-doc-link:hover,\n",
       ".sk-estimator-doc-link:hover,\n",
       "div.sk-label-container:hover .sk-estimator-doc-link:hover,\n",
       ".sk-estimator-doc-link:hover {\n",
       "  /* unfitted */\n",
       "  background-color: var(--sklearn-color-unfitted-level-3);\n",
       "  color: var(--sklearn-color-background);\n",
       "  text-decoration: none;\n",
       "}\n",
       "\n",
       "div.sk-estimator.fitted:hover .sk-estimator-doc-link.fitted:hover,\n",
       ".sk-estimator-doc-link.fitted:hover,\n",
       "div.sk-label-container:hover .sk-estimator-doc-link.fitted:hover,\n",
       ".sk-estimator-doc-link.fitted:hover {\n",
       "  /* fitted */\n",
       "  background-color: var(--sklearn-color-fitted-level-3);\n",
       "  color: var(--sklearn-color-background);\n",
       "  text-decoration: none;\n",
       "}\n",
       "\n",
       "/* Span, style for the box shown on hovering the info icon */\n",
       ".sk-estimator-doc-link span {\n",
       "  display: none;\n",
       "  z-index: 9999;\n",
       "  position: relative;\n",
       "  font-weight: normal;\n",
       "  right: .2ex;\n",
       "  padding: .5ex;\n",
       "  margin: .5ex;\n",
       "  width: min-content;\n",
       "  min-width: 20ex;\n",
       "  max-width: 50ex;\n",
       "  color: var(--sklearn-color-text);\n",
       "  box-shadow: 2pt 2pt 4pt #999;\n",
       "  /* unfitted */\n",
       "  background: var(--sklearn-color-unfitted-level-0);\n",
       "  border: .5pt solid var(--sklearn-color-unfitted-level-3);\n",
       "}\n",
       "\n",
       ".sk-estimator-doc-link.fitted span {\n",
       "  /* fitted */\n",
       "  background: var(--sklearn-color-fitted-level-0);\n",
       "  border: var(--sklearn-color-fitted-level-3);\n",
       "}\n",
       "\n",
       ".sk-estimator-doc-link:hover span {\n",
       "  display: block;\n",
       "}\n",
       "\n",
       "/* \"?\"-specific style due to the `<a>` HTML tag */\n",
       "\n",
       "#sk-container-id-1 a.estimator_doc_link {\n",
       "  float: right;\n",
       "  font-size: 1rem;\n",
       "  line-height: 1em;\n",
       "  font-family: monospace;\n",
       "  background-color: var(--sklearn-color-background);\n",
       "  border-radius: 1rem;\n",
       "  height: 1rem;\n",
       "  width: 1rem;\n",
       "  text-decoration: none;\n",
       "  /* unfitted */\n",
       "  color: var(--sklearn-color-unfitted-level-1);\n",
       "  border: var(--sklearn-color-unfitted-level-1) 1pt solid;\n",
       "}\n",
       "\n",
       "#sk-container-id-1 a.estimator_doc_link.fitted {\n",
       "  /* fitted */\n",
       "  border: var(--sklearn-color-fitted-level-1) 1pt solid;\n",
       "  color: var(--sklearn-color-fitted-level-1);\n",
       "}\n",
       "\n",
       "/* On hover */\n",
       "#sk-container-id-1 a.estimator_doc_link:hover {\n",
       "  /* unfitted */\n",
       "  background-color: var(--sklearn-color-unfitted-level-3);\n",
       "  color: var(--sklearn-color-background);\n",
       "  text-decoration: none;\n",
       "}\n",
       "\n",
       "#sk-container-id-1 a.estimator_doc_link.fitted:hover {\n",
       "  /* fitted */\n",
       "  background-color: var(--sklearn-color-fitted-level-3);\n",
       "}\n",
       "</style><div id=\"sk-container-id-1\" class=\"sk-top-container\"><div class=\"sk-text-repr-fallback\"><pre>KMeans(n_clusters=3, n_init=10)</pre><b>In a Jupyter environment, please rerun this cell to show the HTML representation or trust the notebook. <br />On GitHub, the HTML representation is unable to render, please try loading this page with nbviewer.org.</b></div><div class=\"sk-container\" hidden><div class=\"sk-item\"><div class=\"sk-estimator fitted sk-toggleable\"><input class=\"sk-toggleable__control sk-hidden--visually\" id=\"sk-estimator-id-1\" type=\"checkbox\" checked><label for=\"sk-estimator-id-1\" class=\"sk-toggleable__label fitted sk-toggleable__label-arrow fitted\">&nbsp;&nbsp;KMeans<a class=\"sk-estimator-doc-link fitted\" rel=\"noreferrer\" target=\"_blank\" href=\"https://scikit-learn.org/1.5/modules/generated/sklearn.cluster.KMeans.html\">?<span>Documentation for KMeans</span></a><span class=\"sk-estimator-doc-link fitted\">i<span>Fitted</span></span></label><div class=\"sk-toggleable__content fitted\"><pre>KMeans(n_clusters=3, n_init=10)</pre></div> </div></div></div></div>"
      ],
      "text/plain": [
       "KMeans(n_clusters=3, n_init=10)"
      ]
     },
     "execution_count": 11,
     "metadata": {},
     "output_type": "execute_result"
    }
   ],
   "source": [
    "#ajuster le modèle aux données X (entraîner le modèle)\n",
    "model.fit(X)"
   ]
  },
  {
   "cell_type": "code",
   "execution_count": 12,
   "id": "b63a9bac-d6eb-4df5-8481-337126d28d0d",
   "metadata": {},
   "outputs": [
    {
     "data": {
      "text/plain": [
       "array([1, 2, 1, 2, 2, 2, 0, 0, 1, 2, 2, 2, 1, 2, 0, 1, 0, 2, 0, 0, 0, 0,\n",
       "       0, 2, 1, 1, 1, 1, 0, 0, 2, 1, 1, 2, 0, 0, 2, 1, 1, 0, 0, 1, 1, 2,\n",
       "       2, 2, 1, 1, 0, 0, 0, 1, 2, 1, 0, 0, 1, 1, 2, 1, 1, 0, 0, 0, 0, 1,\n",
       "       2, 0, 1, 2, 0, 2, 2, 1, 1, 2, 2, 2, 0, 1, 2, 2, 1, 2, 1, 2, 2, 2,\n",
       "       1, 2, 1, 1, 0, 0, 0, 0, 2, 2, 0, 0])"
      ]
     },
     "execution_count": 12,
     "metadata": {},
     "output_type": "execute_result"
    }
   ],
   "source": [
    "#prédire à quel cluster chaque point appartient, basé sur le modèle ajusté\n",
    "#en utilisant model.labels_\n",
    "model.labels_"
   ]
  },
  {
   "cell_type": "code",
   "execution_count": 13,
   "id": "c372251a-7edd-46db-9e81-fbf03d132438",
   "metadata": {},
   "outputs": [
    {
     "data": {
      "text/plain": [
       "array([1, 2, 1, 2, 2, 2, 0, 0, 1, 2, 2, 2, 1, 2, 0, 1, 0, 2, 0, 0, 0, 0,\n",
       "       0, 2, 1, 1, 1, 1, 0, 0, 2, 1, 1, 2, 0, 0, 2, 1, 1, 0, 0, 1, 1, 2,\n",
       "       2, 2, 1, 1, 0, 0, 0, 1, 2, 1, 0, 0, 1, 1, 2, 1, 1, 0, 0, 0, 0, 1,\n",
       "       2, 0, 1, 2, 0, 2, 2, 1, 1, 2, 2, 2, 0, 1, 2, 2, 1, 2, 1, 2, 2, 2,\n",
       "       1, 2, 1, 1, 0, 0, 0, 0, 2, 2, 0, 0])"
      ]
     },
     "execution_count": 13,
     "metadata": {},
     "output_type": "execute_result"
    }
   ],
   "source": [
    "#prédire à quel cluster chaque point appartient, basé sur le modèle ajusté\n",
    "#en utilisant model.predict(X)\n",
    "model.predict(X)"
   ]
  },
  {
   "cell_type": "code",
   "execution_count": 14,
   "id": "ae8f1d64-ca9a-44a5-94b0-c7cf92294817",
   "metadata": {},
   "outputs": [],
   "source": [
    "#on obtient le même résultat!"
   ]
  },
  {
   "cell_type": "code",
   "execution_count": 15,
   "id": "5a82cef7-dfe7-48d0-a8a0-d94dba1c0b3a",
   "metadata": {},
   "outputs": [],
   "source": [
    "#enregistrer les prédictions dans la variable predictions\n",
    "predictions = model.predict(X)"
   ]
  },
  {
   "cell_type": "code",
   "execution_count": 16,
   "id": "95d1d67d-a5a7-45b6-b634-86c9f4712a44",
   "metadata": {},
   "outputs": [
    {
     "data": {
      "text/plain": [
       "Text(0, 0.5, 'Caractéristique 2')"
      ]
     },
     "execution_count": 16,
     "metadata": {},
     "output_type": "execute_result"
    },
    {
     "data": {
      "image/png": "[encoded data removed]",
      "text/plain": [
       "<Figure size 640x480 with 1 Axes>"
      ]
     },
     "metadata": {},
     "output_type": "display_data"
    }
   ],
   "source": [
    "#tracer les points colorés selon le cluster auquel ils appartiennent\n",
    "#les données X[:, 1] en fonction de X[:, 0]\n",
    "#X[:, 0] représente toues les lignes de la 1ère colonne de X\n",
    "#X[:, 1] représente toues les lignes de la 2ème colonne de X\n",
    "#en précisant la couleur : c=predictions\n",
    "plt.scatter(X[:, 0], X[:, 1], c=predictions)  \n",
    "plt.title('Clusters KMeans')       #titre du graph\n",
    "plt.xlabel('Caractéristique 1')    #axe des x\n",
    "plt.ylabel('Caractéristique 2')    #axe des y"
   ]
  },
  {
   "cell_type": "code",
   "execution_count": 17,
   "id": "2f5cc2c4-7aae-4fae-ad3e-2c1e2db00df4",
   "metadata": {},
   "outputs": [
    {
     "data": {
      "text/plain": [
       "array([[-1.55022199,  2.90542155],\n",
       "       [ 2.08889087,  1.07930405],\n",
       "       [ 0.92702654,  4.27385438]])"
      ]
     },
     "execution_count": 17,
     "metadata": {},
     "output_type": "execute_result"
    }
   ],
   "source": [
    "#afficher la position finale des centroïdes\n",
    "model.cluster_centers_"
   ]
  },
  {
   "cell_type": "code",
   "execution_count": 18,
   "id": "7a8ca53e-59c0-43f0-815d-c89e9b1104b6",
   "metadata": {},
   "outputs": [
    {
     "data": {
      "text/plain": [
       "\"\\nOn obtient un tableau numpy à 2 dimensions, avec 3 lignes et 2 colonnes:\\n- 3 lignes correspendent aux 3 centroïdes (n_clusters=3)\\n- 2 colonnes correspendent aux 2 variables de X (features, les caractéristiques 1 et 2)\\n\\n- Chaque ligne du tableau correspond à un centre de cluster\\n- Chaque colonne correspond à une caractéristique dans l'espace de données\\n\\narray([[-1.55022199,  2.90542155],   # Coordonées du 1er centroïde  (centre du cluster 0)\\n       [ 2.08889087,  1.07930405],   # Coordonées du 2ème centroïde (centre du cluster 1)\\n       [ 0.92702654,  4.27385438]])  # Coordonées du 3ème centroïde (centre du cluster 2)\\n\""
      ]
     },
     "execution_count": 18,
     "metadata": {},
     "output_type": "execute_result"
    }
   ],
   "source": [
    "'''\n",
    "On obtient un tableau numpy à 2 dimensions, avec 3 lignes et 2 colonnes:\n",
    "- 3 lignes correspendent aux 3 centroïdes (n_clusters=3)\n",
    "- 2 colonnes correspendent aux 2 variables de X (features, les caractéristiques 1 et 2)\n",
    "\n",
    "- Chaque ligne du tableau correspond à un centre de cluster\n",
    "- Chaque colonne correspond à une caractéristique dans l'espace de données\n",
    "\n",
    "array([[-1.55022199,  2.90542155],   # Coordonées du 1er centroïde  (centre du cluster 0)\n",
    "       [ 2.08889087,  1.07930405],   # Coordonées du 2ème centroïde (centre du cluster 1)\n",
    "       [ 0.92702654,  4.27385438]])  # Coordonées du 3ème centroïde (centre du cluster 2)\n",
    "'''"
   ]
  },
  {
   "cell_type": "code",
   "execution_count": 19,
   "id": "7be3bbf6-b17d-41a9-8368-bce0a2f0d822",
   "metadata": {},
   "outputs": [
    {
     "name": "stderr",
     "output_type": "stream",
     "text": [
      "C:\\Users\\HP\\AppData\\Local\\Temp\\ipykernel_16688\\1262019505.py:6: UserWarning: No artists with labels found to put in legend.  Note that artists whose label start with an underscore are ignored when legend() is called with no argument.\n",
      "  plt.legend()  # ajouter une légende\n"
     ]
    },
    {
     "data": {
      "text/plain": [
       "<matplotlib.legend.Legend at 0x1e5b0e2ee40>"
      ]
     },
     "execution_count": 19,
     "metadata": {},
     "output_type": "execute_result"
    },
    {
     "data": {
      "image/png": "[encoded data removed]",
      "text/plain": [
       "<Figure size 640x480 with 1 Axes>"
      ]
     },
     "metadata": {},
     "output_type": "display_data"
    }
   ],
   "source": [
    "#afficher les centres des clusters\n",
    "#model.cluster_centers_[:, 0]: tous les centroïdes de la 1ère caractéristique (feature)\n",
    "#model.cluster_centers_[:, 1]: tous les centroïdes de la 2ème caractéristique (feature)\n",
    "#c='r': couleur rouge\n",
    "plt.scatter(model.cluster_centers_[:, 0], model.cluster_centers_[:, 1], c='r')  \n",
    "plt.legend()  # ajouter une légende"
   ]
  },
  {
   "cell_type": "code",
   "execution_count": 20,
   "id": "ed862b14-4a00-4157-9b0e-ec3f503602b3",
   "metadata": {},
   "outputs": [
    {
     "data": {
      "text/plain": [
       "<matplotlib.legend.Legend at 0x1e5b6899340>"
      ]
     },
     "execution_count": 20,
     "metadata": {},
     "output_type": "execute_result"
    },
    {
     "data": {
      "image/png": "[encoded data removed]",
      "text/plain": [
       "<Figure size 640x480 with 1 Axes>"
      ]
     },
     "metadata": {},
     "output_type": "display_data"
    }
   ],
   "source": [
    "#tracer les points colorés selon le cluster auquel ils appartiennent\n",
    "\n",
    "#les données X[:, 1] en fonction de X[:, 0]\n",
    "#X[:, 0] représente toues les lignes de la 1ère colonne de X\n",
    "#X[:, 1] représente toues les lignes de la 2ème colonne de X\n",
    "#en précisant la couleur : c=predictions\n",
    "plt.scatter(X[:, 0], X[:, 1], c=predictions)  \n",
    "plt.title('Clusters KMeans')       #titre du graph\n",
    "plt.xlabel('Caractéristique 1')    #axe des x\n",
    "plt.ylabel('Caractéristique 2')    #axe des y\n",
    "\n",
    "#afficher les centres des clusters\n",
    "\n",
    "#model.cluster_centers_[:, 0]: tous les centroïdes de la 1ère caractéristique de X (feature)\n",
    "#model.cluster_centers_[:, 1]: tous les centroïdes de la 2ème caractéristique de X (feature)\n",
    "#c='r': couleur rouge\n",
    "plt.scatter(model.cluster_centers_[:, 0], model.cluster_centers_[:, 1], c='r', label='Centres des clusters (centroïdes)')  \n",
    "\n",
    "plt.legend()  # ajouter une légende"
   ]
  },
  {
   "cell_type": "code",
   "execution_count": 21,
   "id": "a8cb04a0-3ae6-40b2-a5e2-85b64431e1e5",
   "metadata": {},
   "outputs": [
    {
     "data": {
      "text/plain": [
       "30.87053128014067"
      ]
     },
     "execution_count": 21,
     "metadata": {},
     "output_type": "execute_result"
    }
   ],
   "source": [
    "#calculer l'inertia (lafonction coût du modèle)\n",
    "model.inertia_"
   ]
  },
  {
   "cell_type": "code",
   "execution_count": 22,
   "id": "0082b91e-f044-43b9-a8a6-33941d74badf",
   "metadata": {},
   "outputs": [],
   "source": [
    "#c'est la somme des distances entre les points d'un cluster et 1 centroïde\n",
    "#son unité dépend de l'unité qu'on travaille avec dans le dataset"
   ]
  },
  {
   "cell_type": "code",
   "execution_count": 23,
   "id": "2b3d2f2b-bb96-4cd4-8d48-b2f331448803",
   "metadata": {},
   "outputs": [
    {
     "name": "stdout",
     "output_type": "stream",
     "text": [
      "Score du modèle (inertie): -30.87053128014068\n"
     ]
    }
   ],
   "source": [
    "#évaluer la qualité du clustering en utilisant la méthode score  \n",
    "score = model.score(X)  \n",
    "print('Score du modèle (inertie):', score)"
   ]
  },
  {
   "cell_type": "code",
   "execution_count": 24,
   "id": "576ebcf9-a8b5-42c7-ac84-99b3685776b5",
   "metadata": {},
   "outputs": [],
   "source": [
    "#on obtient la même valeur négative de model.inertia_"
   ]
  },
  {
   "cell_type": "markdown",
   "id": "084d8cc7-d39c-443b-8457-268216f216ce",
   "metadata": {},
   "source": [
    "### K-means clustering: Elbow method"
   ]
  },
  {
   "cell_type": "markdown",
   "id": "e538d18a-4f43-4ee9-9095-786117e45836",
   "metadata": {},
   "source": [
    "**Parfois il est diffcile de savoir le nombre de clusters en regardant le dataset. Comment alors déterminer n_clusters?**\n",
    "\n",
    "- **Elbow method:** Cette méthode est utilisée pour trouver le bon nombre de clusters. Elle détecte une zone de \"coude\" dans la minimisation du coût (inertia_).\n",
    "\n",
    "Elle consiste en fait à tracer l'évolution du coût du modèle (inertia) en fonction du nombre de clusters, et de détecter dans le graphique une zone de 'coude', cette zone indique le nombre de clusters optimal, càd celui qui permet de réduire au maximum le coût du modèle tout en conservant un nombre raisonable de clusters. (Si le but est de simplement minimiser la fonction coût, il suffit alors de créer autant de clusters que l'on a de points dans le dataset, et donc le coût sera égal 0)\n",
    "\n",
    "**Démonstration:**"
   ]
  },
  {
   "cell_type": "code",
   "execution_count": 27,
   "id": "54c5a0bc-460f-42b0-8b3d-893351fe23cc",
   "metadata": {},
   "outputs": [
    {
     "name": "stderr",
     "output_type": "stream",
     "text": [
      "C:\\Users\\HP\\anaconda3\\Lib\\site-packages\\sklearn\\cluster\\_kmeans.py:1429: UserWarning: KMeans is known to have a memory leak on Windows with MKL, when there are less chunks than available threads. You can avoid it by setting the environment variable OMP_NUM_THREADS=1.\n",
      "  warnings.warn(\n",
      "C:\\Users\\HP\\anaconda3\\Lib\\site-packages\\sklearn\\cluster\\_kmeans.py:1429: UserWarning: KMeans is known to have a memory leak on Windows with MKL, when there are less chunks than available threads. You can avoid it by setting the environment variable OMP_NUM_THREADS=1.\n",
      "  warnings.warn(\n",
      "C:\\Users\\HP\\anaconda3\\Lib\\site-packages\\sklearn\\cluster\\_kmeans.py:1429: UserWarning: KMeans is known to have a memory leak on Windows with MKL, when there are less chunks than available threads. You can avoid it by setting the environment variable OMP_NUM_THREADS=1.\n",
      "  warnings.warn(\n",
      "C:\\Users\\HP\\anaconda3\\Lib\\site-packages\\sklearn\\cluster\\_kmeans.py:1429: UserWarning: KMeans is known to have a memory leak on Windows with MKL, when there are less chunks than available threads. You can avoid it by setting the environment variable OMP_NUM_THREADS=1.\n",
      "  warnings.warn(\n",
      "C:\\Users\\HP\\anaconda3\\Lib\\site-packages\\sklearn\\cluster\\_kmeans.py:1429: UserWarning: KMeans is known to have a memory leak on Windows with MKL, when there are less chunks than available threads. You can avoid it by setting the environment variable OMP_NUM_THREADS=1.\n",
      "  warnings.warn(\n",
      "C:\\Users\\HP\\anaconda3\\Lib\\site-packages\\sklearn\\cluster\\_kmeans.py:1429: UserWarning: KMeans is known to have a memory leak on Windows with MKL, when there are less chunks than available threads. You can avoid it by setting the environment variable OMP_NUM_THREADS=1.\n",
      "  warnings.warn(\n",
      "C:\\Users\\HP\\anaconda3\\Lib\\site-packages\\sklearn\\cluster\\_kmeans.py:1429: UserWarning: KMeans is known to have a memory leak on Windows with MKL, when there are less chunks than available threads. You can avoid it by setting the environment variable OMP_NUM_THREADS=1.\n",
      "  warnings.warn(\n",
      "C:\\Users\\HP\\anaconda3\\Lib\\site-packages\\sklearn\\cluster\\_kmeans.py:1429: UserWarning: KMeans is known to have a memory leak on Windows with MKL, when there are less chunks than available threads. You can avoid it by setting the environment variable OMP_NUM_THREADS=1.\n",
      "  warnings.warn(\n",
      "C:\\Users\\HP\\anaconda3\\Lib\\site-packages\\sklearn\\cluster\\_kmeans.py:1429: UserWarning: KMeans is known to have a memory leak on Windows with MKL, when there are less chunks than available threads. You can avoid it by setting the environment variable OMP_NUM_THREADS=1.\n",
      "  warnings.warn(\n",
      "C:\\Users\\HP\\anaconda3\\Lib\\site-packages\\sklearn\\cluster\\_kmeans.py:1429: UserWarning: KMeans is known to have a memory leak on Windows with MKL, when there are less chunks than available threads. You can avoid it by setting the environment variable OMP_NUM_THREADS=1.\n",
      "  warnings.warn(\n",
      "C:\\Users\\HP\\anaconda3\\Lib\\site-packages\\sklearn\\cluster\\_kmeans.py:1429: UserWarning: KMeans is known to have a memory leak on Windows with MKL, when there are less chunks than available threads. You can avoid it by setting the environment variable OMP_NUM_THREADS=1.\n",
      "  warnings.warn(\n",
      "C:\\Users\\HP\\anaconda3\\Lib\\site-packages\\sklearn\\cluster\\_kmeans.py:1429: UserWarning: KMeans is known to have a memory leak on Windows with MKL, when there are less chunks than available threads. You can avoid it by setting the environment variable OMP_NUM_THREADS=1.\n",
      "  warnings.warn(\n",
      "C:\\Users\\HP\\anaconda3\\Lib\\site-packages\\sklearn\\cluster\\_kmeans.py:1429: UserWarning: KMeans is known to have a memory leak on Windows with MKL, when there are less chunks than available threads. You can avoid it by setting the environment variable OMP_NUM_THREADS=1.\n",
      "  warnings.warn(\n",
      "C:\\Users\\HP\\anaconda3\\Lib\\site-packages\\sklearn\\cluster\\_kmeans.py:1429: UserWarning: KMeans is known to have a memory leak on Windows with MKL, when there are less chunks than available threads. You can avoid it by setting the environment variable OMP_NUM_THREADS=1.\n",
      "  warnings.warn(\n",
      "C:\\Users\\HP\\anaconda3\\Lib\\site-packages\\sklearn\\cluster\\_kmeans.py:1429: UserWarning: KMeans is known to have a memory leak on Windows with MKL, when there are less chunks than available threads. You can avoid it by setting the environment variable OMP_NUM_THREADS=1.\n",
      "  warnings.warn(\n",
      "C:\\Users\\HP\\anaconda3\\Lib\\site-packages\\sklearn\\cluster\\_kmeans.py:1429: UserWarning: KMeans is known to have a memory leak on Windows with MKL, when there are less chunks than available threads. You can avoid it by setting the environment variable OMP_NUM_THREADS=1.\n",
      "  warnings.warn(\n",
      "C:\\Users\\HP\\anaconda3\\Lib\\site-packages\\sklearn\\cluster\\_kmeans.py:1429: UserWarning: KMeans is known to have a memory leak on Windows with MKL, when there are less chunks than available threads. You can avoid it by setting the environment variable OMP_NUM_THREADS=1.\n",
      "  warnings.warn(\n",
      "C:\\Users\\HP\\anaconda3\\Lib\\site-packages\\sklearn\\cluster\\_kmeans.py:1429: UserWarning: KMeans is known to have a memory leak on Windows with MKL, when there are less chunks than available threads. You can avoid it by setting the environment variable OMP_NUM_THREADS=1.\n",
      "  warnings.warn(\n",
      "C:\\Users\\HP\\anaconda3\\Lib\\site-packages\\sklearn\\cluster\\_kmeans.py:1429: UserWarning: KMeans is known to have a memory leak on Windows with MKL, when there are less chunks than available threads. You can avoid it by setting the environment variable OMP_NUM_THREADS=1.\n",
      "  warnings.warn(\n"
     ]
    },
    {
     "data": {
      "text/plain": [
       "Text(0, 0.5, 'Coût du modèle (Inertia)')"
      ]
     },
     "execution_count": 27,
     "metadata": {},
     "output_type": "execute_result"
    },
    {
     "data": {
      "image/png": "[encoded data removed]",
      "text/plain": [
       "<Figure size 640x480 with 1 Axes>"
      ]
     },
     "metadata": {},
     "output_type": "display_data"
    }
   ],
   "source": [
    "#créer une liste vide et l'enregistrer sous une variable appelée inertia\n",
    "#elle va contenir les coûts des différents modèles pour des valeurs de k allant de 1 à 20\n",
    "inertia = []\n",
    "\n",
    "#créer des valeurs de k allant de 1 à 20\n",
    "#c'est la rangée de valeurs qu'on veut tester\n",
    "K_range = range(1, 20)\n",
    "\n",
    "for k in K_range:\n",
    "    model = KMeans(n_clusters=k).fit(X)     #modèle entraîné sur les données X\n",
    "    inertia.append(model.inertia_)          #calculer le coûp du modèle (model.inertia_) et le faire rentrer dans la liste vide (inertia)\n",
    "\n",
    "#tracer le graphique inertia (fonction coût) en fonction de K_range (les valeurs de k = n_clusters)\n",
    "plt.plot(K_range, inertia)\n",
    "plt.xlabel('Nombre de clusters (n_clusters)')         #l'axe des abscisses (les x)\n",
    "plt.ylabel('Coût du modèle (Inertia)')   #l'axe des ordonnées (les y)"
   ]
  },
  {
   "cell_type": "code",
   "execution_count": 28,
   "id": "32180c83-8305-4155-b977-9f13525494f5",
   "metadata": {},
   "outputs": [],
   "source": [
    "#en regardant la zone de \"coude\", on voit que le nombre de clusters optimal pour ce modèle est effectivement n_clusters = 3"
   ]
  },
  {
   "cell_type": "code",
   "execution_count": null,
   "id": "4648a8c7-bb37-41b8-9b59-61f42d03d506",
   "metadata": {},
   "outputs": [],
   "source": []
  }
 ],
 "metadata": {
  "kernelspec": {
   "display_name": "Python [conda env:base] *",
   "language": "python",
   "name": "conda-base-py"
  },
  "language_info": {
   "codemirror_mode": {
    "name": "ipython",
    "version": 3
   },
   "file_extension": ".py",
   "mimetype": "text/x-python",
   "name": "python",
   "nbconvert_exporter": "python",
   "pygments_lexer": "ipython3",
   "version": "3.12.7"
  }
 },
 "nbformat": 4,
 "nbformat_minor": 5
}
