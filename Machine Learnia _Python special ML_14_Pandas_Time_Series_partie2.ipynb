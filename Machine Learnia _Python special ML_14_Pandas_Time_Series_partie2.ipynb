{
 "cells": [
  {
   "cell_type": "markdown",
   "id": "0e67aa73-1cfe-442c-8998-2e3a1ee22c47",
   "metadata": {},
   "source": [
    "# PANDAS PYTHON - Time Series (partie 2)"
   ]
  },
  {
   "cell_type": "markdown",
   "id": "07efd339-8f1d-4728-b26f-46d32d3a8b6d",
   "metadata": {},
   "source": [
    "URL : https://youtu.be/qHRLG5hsW9I?si=d7vYaqzNSINM0wrY"
   ]
  },
  {
   "cell_type": "code",
   "execution_count": 3,
   "id": "10bee3ba-bd8c-45fc-931f-cccd62203786",
   "metadata": {},
   "outputs": [],
   "source": [
    "#importations\n",
    "import numpy as np\n",
    "import matplotlib.pyplot as plt\n",
    "import pandas as pd"
   ]
  },
  {
   "cell_type": "markdown",
   "id": "404db51d-ba6d-40fc-8f96-a804da0fbed5",
   "metadata": {},
   "source": [
    "# Transformer les catégories en données numériques:\n",
    "# map(), replace(), cat.codes"
   ]
  },
  {
   "cell_type": "code",
   "execution_count": 5,
   "id": "d3b75bdc-2df5-44ba-a467-c3358e803f53",
   "metadata": {},
   "outputs": [
    {
     "data": {
      "text/html": [
       "<div>\n",
       "<style scoped>\n",
       "    .dataframe tbody tr th:only-of-type {\n",
       "        vertical-align: middle;\n",
       "    }\n",
       "\n",
       "    .dataframe tbody tr th {\n",
       "        vertical-align: top;\n",
       "    }\n",
       "\n",
       "    .dataframe thead th {\n",
       "        text-align: right;\n",
       "    }\n",
       "</style>\n",
       "<table border=\"1\" class=\"dataframe\">\n",
       "  <thead>\n",
       "    <tr style=\"text-align: right;\">\n",
       "      <th></th>\n",
       "      <th>pclass</th>\n",
       "      <th>survived</th>\n",
       "      <th>name</th>\n",
       "      <th>sex</th>\n",
       "      <th>age</th>\n",
       "      <th>sibsp</th>\n",
       "      <th>parch</th>\n",
       "      <th>ticket</th>\n",
       "      <th>fare</th>\n",
       "      <th>cabin</th>\n",
       "      <th>embarked</th>\n",
       "      <th>boat</th>\n",
       "      <th>body</th>\n",
       "      <th>home.dest</th>\n",
       "    </tr>\n",
       "  </thead>\n",
       "  <tbody>\n",
       "    <tr>\n",
       "      <th>0</th>\n",
       "      <td>1</td>\n",
       "      <td>1</td>\n",
       "      <td>Allen, Miss. Elisabeth Walton</td>\n",
       "      <td>female</td>\n",
       "      <td>29.0000</td>\n",
       "      <td>0</td>\n",
       "      <td>0</td>\n",
       "      <td>24160</td>\n",
       "      <td>211.3375</td>\n",
       "      <td>B5</td>\n",
       "      <td>S</td>\n",
       "      <td>2</td>\n",
       "      <td>NaN</td>\n",
       "      <td>St Louis, MO</td>\n",
       "    </tr>\n",
       "    <tr>\n",
       "      <th>1</th>\n",
       "      <td>1</td>\n",
       "      <td>1</td>\n",
       "      <td>Allison, Master. Hudson Trevor</td>\n",
       "      <td>male</td>\n",
       "      <td>0.9167</td>\n",
       "      <td>1</td>\n",
       "      <td>2</td>\n",
       "      <td>113781</td>\n",
       "      <td>151.5500</td>\n",
       "      <td>C22 C26</td>\n",
       "      <td>S</td>\n",
       "      <td>11</td>\n",
       "      <td>NaN</td>\n",
       "      <td>Montreal, PQ / Chesterville, ON</td>\n",
       "    </tr>\n",
       "    <tr>\n",
       "      <th>2</th>\n",
       "      <td>1</td>\n",
       "      <td>0</td>\n",
       "      <td>Allison, Miss. Helen Loraine</td>\n",
       "      <td>female</td>\n",
       "      <td>2.0000</td>\n",
       "      <td>1</td>\n",
       "      <td>2</td>\n",
       "      <td>113781</td>\n",
       "      <td>151.5500</td>\n",
       "      <td>C22 C26</td>\n",
       "      <td>S</td>\n",
       "      <td>NaN</td>\n",
       "      <td>NaN</td>\n",
       "      <td>Montreal, PQ / Chesterville, ON</td>\n",
       "    </tr>\n",
       "    <tr>\n",
       "      <th>3</th>\n",
       "      <td>1</td>\n",
       "      <td>0</td>\n",
       "      <td>Allison, Mr. Hudson Joshua Creighton</td>\n",
       "      <td>male</td>\n",
       "      <td>30.0000</td>\n",
       "      <td>1</td>\n",
       "      <td>2</td>\n",
       "      <td>113781</td>\n",
       "      <td>151.5500</td>\n",
       "      <td>C22 C26</td>\n",
       "      <td>S</td>\n",
       "      <td>NaN</td>\n",
       "      <td>135.0</td>\n",
       "      <td>Montreal, PQ / Chesterville, ON</td>\n",
       "    </tr>\n",
       "    <tr>\n",
       "      <th>4</th>\n",
       "      <td>1</td>\n",
       "      <td>0</td>\n",
       "      <td>Allison, Mrs. Hudson J C (Bessie Waldo Daniels)</td>\n",
       "      <td>female</td>\n",
       "      <td>25.0000</td>\n",
       "      <td>1</td>\n",
       "      <td>2</td>\n",
       "      <td>113781</td>\n",
       "      <td>151.5500</td>\n",
       "      <td>C22 C26</td>\n",
       "      <td>S</td>\n",
       "      <td>NaN</td>\n",
       "      <td>NaN</td>\n",
       "      <td>Montreal, PQ / Chesterville, ON</td>\n",
       "    </tr>\n",
       "  </tbody>\n",
       "</table>\n",
       "</div>"
      ],
      "text/plain": [
       "   pclass  survived                                             name     sex  \\\n",
       "0       1         1                    Allen, Miss. Elisabeth Walton  female   \n",
       "1       1         1                   Allison, Master. Hudson Trevor    male   \n",
       "2       1         0                     Allison, Miss. Helen Loraine  female   \n",
       "3       1         0             Allison, Mr. Hudson Joshua Creighton    male   \n",
       "4       1         0  Allison, Mrs. Hudson J C (Bessie Waldo Daniels)  female   \n",
       "\n",
       "       age  sibsp  parch  ticket      fare    cabin embarked boat   body  \\\n",
       "0  29.0000      0      0   24160  211.3375       B5        S    2    NaN   \n",
       "1   0.9167      1      2  113781  151.5500  C22 C26        S   11    NaN   \n",
       "2   2.0000      1      2  113781  151.5500  C22 C26        S  NaN    NaN   \n",
       "3  30.0000      1      2  113781  151.5500  C22 C26        S  NaN  135.0   \n",
       "4  25.0000      1      2  113781  151.5500  C22 C26        S  NaN    NaN   \n",
       "\n",
       "                         home.dest  \n",
       "0                     St Louis, MO  \n",
       "1  Montreal, PQ / Chesterville, ON  \n",
       "2  Montreal, PQ / Chesterville, ON  \n",
       "3  Montreal, PQ / Chesterville, ON  \n",
       "4  Montreal, PQ / Chesterville, ON  "
      ]
     },
     "execution_count": 5,
     "metadata": {},
     "output_type": "execute_result"
    }
   ],
   "source": [
    "#lire le fichier excel des passagers du Titanic (PANDAS PYTHON - Introduction + Analyse du Titanic)\n",
    "#enregistrer le dataset dans une variable appelée data\n",
    "data= pd.read_excel('titanic3.xls')\n",
    "\n",
    "#afficher les 5 premières lignes de data\n",
    "data.head()"
   ]
  },
  {
   "cell_type": "markdown",
   "id": "a6852341-e287-4245-88b0-d28f85e773e6",
   "metadata": {},
   "source": [
    "Pour faire des calculs (ML, stats,...etc), il faut absolument avoir des données numériques.\n",
    "\n",
    "**Pour convertir les données**, on utilise:\n",
    "- map()\n",
    "- replace()\n",
    "- cat.codes"
   ]
  },
  {
   "cell_type": "markdown",
   "id": "53ec9952-deb8-4590-8e75-4b8485c1dc96",
   "metadata": {},
   "source": [
    "## cat.codes"
   ]
  },
  {
   "cell_type": "markdown",
   "id": "d8846e78-21cf-44d6-863e-ea2158e41f3c",
   "metadata": {},
   "source": [
    "Cette méthode est la plus facile à utiliser, surtout si on a beaucoup de valeurs (non numériques) à convertir (en données numériques) dans une colonne."
   ]
  },
  {
   "cell_type": "code",
   "execution_count": 9,
   "id": "763f2341-ee73-4ae3-80aa-b10491c5e0e5",
   "metadata": {},
   "outputs": [
    {
     "data": {
      "text/plain": [
       "0       female\n",
       "1         male\n",
       "2       female\n",
       "3         male\n",
       "4       female\n",
       "         ...  \n",
       "1304    female\n",
       "1305    female\n",
       "1306      male\n",
       "1307      male\n",
       "1308      male\n",
       "Name: sex, Length: 1309, dtype: object"
      ]
     },
     "execution_count": 9,
     "metadata": {},
     "output_type": "execute_result"
    }
   ],
   "source": [
    "#afficher la colonne sex de data\n",
    "data['sex']"
   ]
  },
  {
   "cell_type": "code",
   "execution_count": 10,
   "id": "6c3362ff-a24e-49f9-a1ad-4ee56284eade",
   "metadata": {},
   "outputs": [],
   "source": [
    "#dtype: object"
   ]
  },
  {
   "cell_type": "code",
   "execution_count": 11,
   "id": "55eedb45-5662-42ca-a1c2-95f88dd59650",
   "metadata": {},
   "outputs": [
    {
     "data": {
      "text/plain": [
       "0       female\n",
       "1         male\n",
       "2       female\n",
       "3         male\n",
       "4       female\n",
       "         ...  \n",
       "1304    female\n",
       "1305    female\n",
       "1306      male\n",
       "1307      male\n",
       "1308      male\n",
       "Name: sex, Length: 1309, dtype: category\n",
       "Categories (2, object): ['female', 'male']"
      ]
     },
     "execution_count": 11,
     "metadata": {},
     "output_type": "execute_result"
    }
   ],
   "source": [
    "data['sex'].astype('category')"
   ]
  },
  {
   "cell_type": "markdown",
   "id": "a8b02e4d-eb61-4a51-b8ac-ec0a42bb86d2",
   "metadata": {},
   "source": [
    "**.astype('category') :** Cette méthode de pandas est utilisée pour changer le type des données de la colonne. En passant 'category', on indique que les valeurs de cette colonne doivent être traitées comme des catégories distinctes."
   ]
  },
  {
   "cell_type": "code",
   "execution_count": 13,
   "id": "89b71ee1-a6cc-4135-a9e4-edef61bf4c90",
   "metadata": {},
   "outputs": [],
   "source": [
    "#dtype: category\n",
    "#Categories (2, object): ['female', 'male']\n",
    "\n",
    "#ça determine le type de la colonne, les valeurs dans cette colonne et le nombre de ces valeurs,...etc"
   ]
  },
  {
   "cell_type": "code",
   "execution_count": 14,
   "id": "85603a9a-a467-4e86-a36e-6e7aacdcdd25",
   "metadata": {},
   "outputs": [
    {
     "data": {
      "text/plain": [
       "0       0\n",
       "1       1\n",
       "2       0\n",
       "3       1\n",
       "4       0\n",
       "       ..\n",
       "1304    0\n",
       "1305    0\n",
       "1306    1\n",
       "1307    1\n",
       "1308    1\n",
       "Length: 1309, dtype: int8"
      ]
     },
     "execution_count": 14,
     "metadata": {},
     "output_type": "execute_result"
    }
   ],
   "source": [
    "#cat.codes pour convertir la colonne sex en données numériques\n",
    "data['sex'].astype('category').cat.codes"
   ]
  },
  {
   "cell_type": "markdown",
   "id": "fa851a04-90b7-4056-8ece-1026c31bf9ef",
   "metadata": {},
   "source": [
    "## replace()"
   ]
  },
  {
   "cell_type": "code",
   "execution_count": 16,
   "id": "8eda97a2-f210-4fb2-84b5-d1246dbd4fd0",
   "metadata": {},
   "outputs": [
    {
     "data": {
      "text/plain": [
       "0       female\n",
       "1         male\n",
       "2       female\n",
       "3         male\n",
       "4       female\n",
       "         ...  \n",
       "1304    female\n",
       "1305    female\n",
       "1306      male\n",
       "1307      male\n",
       "1308      male\n",
       "Name: sex, Length: 1309, dtype: object"
      ]
     },
     "execution_count": 16,
     "metadata": {},
     "output_type": "execute_result"
    }
   ],
   "source": [
    "#afficher la colonne sex du dataframe data\n",
    "data['sex']"
   ]
  },
  {
   "cell_type": "code",
   "execution_count": 17,
   "id": "7931b0d1-2481-4d56-ba97-3fab079579f0",
   "metadata": {},
   "outputs": [
    {
     "name": "stderr",
     "output_type": "stream",
     "text": [
      "C:\\Users\\HP\\AppData\\Local\\Temp\\ipykernel_15936\\3736847801.py:3: FutureWarning: Downcasting behavior in `replace` is deprecated and will be removed in a future version. To retain the old behavior, explicitly call `result.infer_objects(copy=False)`. To opt-in to the future behavior, set `pd.set_option('future.no_silent_downcasting', True)`\n",
      "  data['sex'].replace(['male', 'female'], [0, 1])\n"
     ]
    },
    {
     "data": {
      "text/plain": [
       "0       1\n",
       "1       0\n",
       "2       1\n",
       "3       0\n",
       "4       1\n",
       "       ..\n",
       "1304    1\n",
       "1305    1\n",
       "1306    0\n",
       "1307    0\n",
       "1308    0\n",
       "Name: sex, Length: 1309, dtype: int64"
      ]
     },
     "execution_count": 17,
     "metadata": {},
     "output_type": "execute_result"
    }
   ],
   "source": [
    "#convertir la colonne sex en données numériques en utilisant replace()\n",
    "#ça permet de remplacer les éléments de la 1ère liste par les éléments de la 2ème liste\n",
    "data['sex'].replace(['male', 'female'], [0, 1])"
   ]
  },
  {
   "cell_type": "markdown",
   "id": "0f19e403-ffe6-4fb4-a27d-9ee163288519",
   "metadata": {},
   "source": [
    "## map()"
   ]
  },
  {
   "cell_type": "code",
   "execution_count": 19,
   "id": "e2ea2b4f-b860-444f-b9b7-0aa260a11cd7",
   "metadata": {},
   "outputs": [
    {
     "data": {
      "text/plain": [
       "0       1\n",
       "1       0\n",
       "2       1\n",
       "3       0\n",
       "4       1\n",
       "       ..\n",
       "1304    1\n",
       "1305    1\n",
       "1306    0\n",
       "1307    0\n",
       "1308    0\n",
       "Name: sex, Length: 1309, dtype: int64"
      ]
     },
     "execution_count": 19,
     "metadata": {},
     "output_type": "execute_result"
    }
   ],
   "source": [
    "#convertir la colonne sex en données numériques en utilisant map()\n",
    "#on change les valeurs une par une\n",
    "data['sex'].map({'male': 0, 'female': 1})"
   ]
  },
  {
   "cell_type": "code",
   "execution_count": null,
   "id": "78e319bf-7c22-4bf6-8ed9-2df5f2e4d253",
   "metadata": {},
   "outputs": [],
   "source": []
  }
 ],
 "metadata": {
  "kernelspec": {
   "display_name": "Python 3 (ipykernel)",
   "language": "python",
   "name": "python3"
  },
  "language_info": {
   "codemirror_mode": {
    "name": "ipython",
    "version": 3
   },
   "file_extension": ".py",
   "mimetype": "text/x-python",
   "name": "python",
   "nbconvert_exporter": "python",
   "pygments_lexer": "ipython3",
   "version": "3.12.7"
  }
 },
 "nbformat": 4,
 "nbformat_minor": 5
}
