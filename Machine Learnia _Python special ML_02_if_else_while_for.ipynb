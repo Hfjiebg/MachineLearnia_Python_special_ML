{
 "cells": [
  {
   "cell_type": "markdown",
   "id": "0847e63e-b817-4fe2-9b7c-e4b8e9f7c63b",
   "metadata": {},
   "source": [
    "Le lien pour la vidéo (du tutoriel): https://youtu.be/x_Jeyvw7n9I?si=ob1KZ9lFkyvP67c3"
   ]
  },
  {
   "cell_type": "markdown",
   "id": "d4bf5132-e189-44ed-82fc-1b0bf0f305c2",
   "metadata": {},
   "source": [
    "# If elif else"
   ]
  },
  {
   "cell_type": "markdown",
   "id": "582850b2-8fad-4d1e-9f73-089d05bfc7fd",
   "metadata": {},
   "source": [
    "## if"
   ]
  },
  {
   "cell_type": "code",
   "execution_count": 66,
   "id": "d2046f64-05d6-4cf5-910a-a67f24ad40c6",
   "metadata": {},
   "outputs": [
    {
     "name": "stdout",
     "output_type": "stream",
     "text": [
      "1 est positif\n"
     ]
    }
   ],
   "source": [
    "x = 1\n",
    "\n",
    "if x>0:\n",
    "    print( x, 'est positif')"
   ]
  },
  {
   "cell_type": "markdown",
   "id": "44953dcf-6074-4568-b2ec-10d6cae29252",
   "metadata": {},
   "source": [
    "## if,else"
   ]
  },
  {
   "cell_type": "code",
   "execution_count": 68,
   "id": "9829f384-d853-41b3-9708-cc4789322e40",
   "metadata": {},
   "outputs": [
    {
     "name": "stdout",
     "output_type": "stream",
     "text": [
      "-1 est négatif\n"
     ]
    }
   ],
   "source": [
    "x = -1\n",
    "\n",
    "if x>0:\n",
    "    print( x, 'est positif')\n",
    "else:\n",
    "    print( x, 'est négatif')"
   ]
  },
  {
   "cell_type": "markdown",
   "id": "5cd046f4-554a-472f-a706-f91551682b69",
   "metadata": {},
   "source": [
    "### if, elif, else"
   ]
  },
  {
   "cell_type": "code",
   "execution_count": 70,
   "id": "d69f115f-cdfb-4072-afda-7ba793ef09ed",
   "metadata": {},
   "outputs": [
    {
     "name": "stdout",
     "output_type": "stream",
     "text": [
      "0 est nul\n"
     ]
    }
   ],
   "source": [
    "x = 0\n",
    "\n",
    "if x>0:\n",
    "    print( x, 'est positif')\n",
    "elif x == 0:\n",
    "    print( x, 'est nul')\n",
    "else:\n",
    "    print( x, 'est négatif')"
   ]
  },
  {
   "cell_type": "code",
   "execution_count": 71,
   "id": "5b10547e-4989-4f2e-beb9-2b56d3821920",
   "metadata": {},
   "outputs": [
    {
     "name": "stdout",
     "output_type": "stream",
     "text": [
      "0 est positif\n"
     ]
    }
   ],
   "source": [
    "x = 0\n",
    "\n",
    "if True:\n",
    "    print( x, 'est positif')\n",
    "elif x == 0:\n",
    "    print( x, 'est nul')\n",
    "else:\n",
    "    print( x, 'est négatif')"
   ]
  },
  {
   "cell_type": "markdown",
   "id": "aa52c248-3573-4e42-9164-feba24061ca5",
   "metadata": {},
   "source": [
    "### 2 variables x et y"
   ]
  },
  {
   "cell_type": "code",
   "execution_count": 73,
   "id": "202b04b9-e508-4d02-a28f-f514f9a628d9",
   "metadata": {},
   "outputs": [
    {
     "name": "stdout",
     "output_type": "stream",
     "text": [
      "1 et 2 sont positifs\n"
     ]
    }
   ],
   "source": [
    "x = 1\n",
    "y = 2\n",
    "\n",
    "if (x>0) & (y>x):\n",
    "    print( x, 'et', y, 'sont positifs')\n",
    "elif x == 0:\n",
    "    print( x, 'est nul')\n",
    "else:\n",
    "    print( x, 'est négatif')"
   ]
  },
  {
   "cell_type": "markdown",
   "id": "6b869dee-bf92-45c1-9868-c4a6a15c8cd3",
   "metadata": {},
   "source": [
    "### fonction avec une variable x"
   ]
  },
  {
   "cell_type": "code",
   "execution_count": 75,
   "id": "141e1a2e-5896-4ac7-ba3a-004147bb47ee",
   "metadata": {},
   "outputs": [],
   "source": [
    "def signe(x):\n",
    "    if x>0:\n",
    "        print( x, 'est positif')\n",
    "    elif x == 0:\n",
    "        print( x, 'est nul')\n",
    "    else:\n",
    "        print( x, 'est négatif')"
   ]
  },
  {
   "cell_type": "code",
   "execution_count": 76,
   "id": "053cbc4e-db55-4952-a0ee-34e8bf082f6b",
   "metadata": {},
   "outputs": [
    {
     "name": "stdout",
     "output_type": "stream",
     "text": [
      "5 est positif\n"
     ]
    }
   ],
   "source": [
    "signe(5)"
   ]
  },
  {
   "cell_type": "code",
   "execution_count": 77,
   "id": "31167307-0daf-4d27-96bb-f49f8768bbef",
   "metadata": {},
   "outputs": [
    {
     "name": "stdout",
     "output_type": "stream",
     "text": [
      "-5 est négatif\n"
     ]
    }
   ],
   "source": [
    "signe(-5)"
   ]
  },
  {
   "cell_type": "code",
   "execution_count": 78,
   "id": "3829ea06-f92c-49ae-83d5-bf53962a3437",
   "metadata": {},
   "outputs": [
    {
     "name": "stdout",
     "output_type": "stream",
     "text": [
      "0 est nul\n"
     ]
    }
   ],
   "source": [
    "signe(0)"
   ]
  },
  {
   "cell_type": "markdown",
   "id": "c92cb4c7-cc39-49e8-9865-6be9c5b8892c",
   "metadata": {},
   "source": [
    "# La boucle For"
   ]
  },
  {
   "cell_type": "code",
   "execution_count": 80,
   "id": "1fac036e-e15d-4bcf-8b47-9f86b8bd67a1",
   "metadata": {},
   "outputs": [
    {
     "name": "stdout",
     "output_type": "stream",
     "text": [
      "Bonjour\n",
      "Bonjour\n",
      "Bonjour\n",
      "Bonjour\n",
      "Bonjour\n",
      "Bonjour\n",
      "Bonjour\n",
      "Bonjour\n",
      "Bonjour\n",
      "Bonjour\n"
     ]
    }
   ],
   "source": [
    "for i in range (10):\n",
    "    print ('Bonjour')"
   ]
  },
  {
   "cell_type": "code",
   "execution_count": 81,
   "id": "088c1051-b64e-4b44-aa7b-e215e7defd81",
   "metadata": {},
   "outputs": [
    {
     "name": "stdout",
     "output_type": "stream",
     "text": [
      "element\n",
      "element\n",
      "element\n",
      "element\n",
      "element\n",
      "element\n",
      "element\n",
      "element\n",
      "element\n",
      "element\n"
     ]
    }
   ],
   "source": [
    "for element in range (10):\n",
    "    print ('element')"
   ]
  },
  {
   "cell_type": "markdown",
   "id": "07ff5ee8-75a3-4ae3-9bc4-73900f220b54",
   "metadata": {},
   "source": [
    "### Range()"
   ]
  },
  {
   "cell_type": "code",
   "execution_count": 83,
   "id": "b8ee66e0-5350-4eba-8451-992b23540adb",
   "metadata": {},
   "outputs": [
    {
     "name": "stdout",
     "output_type": "stream",
     "text": [
      "0\n",
      "1\n",
      "2\n",
      "3\n",
      "4\n",
      "5\n",
      "6\n",
      "7\n",
      "8\n",
      "9\n"
     ]
    }
   ],
   "source": [
    "# depuis 0 jusqu'à 9\n",
    "for element in range (10):\n",
    "    print (element)"
   ]
  },
  {
   "cell_type": "markdown",
   "id": "3011be66-c19f-4d7b-b0d5-078830465036",
   "metadata": {},
   "source": [
    "### Range (début, fin)"
   ]
  },
  {
   "cell_type": "code",
   "execution_count": 85,
   "id": "4cbdafc7-ea20-4148-ac41-3f76f9a114bd",
   "metadata": {},
   "outputs": [
    {
     "name": "stdout",
     "output_type": "stream",
     "text": [
      "5\n",
      "6\n",
      "7\n",
      "8\n",
      "9\n"
     ]
    }
   ],
   "source": [
    "# depuis 5 jusqu'à 9\n",
    "for element in range (5, 10):\n",
    "    print (element)"
   ]
  },
  {
   "cell_type": "markdown",
   "id": "7a8eedf0-dc96-4c53-b4c4-5adad191b021",
   "metadata": {},
   "source": [
    "### Range (début, fin, pas)"
   ]
  },
  {
   "cell_type": "code",
   "execution_count": 87,
   "id": "5f341e34-cbac-4986-900d-7fe41dc51157",
   "metadata": {},
   "outputs": [
    {
     "name": "stdout",
     "output_type": "stream",
     "text": [
      "5\n",
      "7\n",
      "9\n"
     ]
    }
   ],
   "source": [
    "# depuis 5 jusqu'à 9, le pas = 2\n",
    "for element in range (5, 10, 2):\n",
    "    print (element)"
   ]
  },
  {
   "cell_type": "code",
   "execution_count": 88,
   "id": "0722528a-fc78-4295-891b-a80d526cdd86",
   "metadata": {},
   "outputs": [
    {
     "name": "stdout",
     "output_type": "stream",
     "text": [
      "10\n",
      "9\n",
      "8\n",
      "7\n",
      "6\n",
      "5\n",
      "4\n",
      "3\n",
      "2\n",
      "1\n",
      "0\n",
      "-1\n",
      "-2\n",
      "-3\n",
      "-4\n",
      "-5\n",
      "-6\n",
      "-7\n",
      "-8\n",
      "-9\n"
     ]
    }
   ],
   "source": [
    "# depuis 10 jusqu'à -9, le pas = -1\n",
    "for element in range (10, -10, -1):\n",
    "    print (element)"
   ]
  },
  {
   "cell_type": "markdown",
   "id": "cb2b5d0b-a96b-446c-ae9c-c031cf1d2643",
   "metadata": {},
   "source": [
    "### Boucle For + fonction"
   ]
  },
  {
   "cell_type": "code",
   "execution_count": 90,
   "id": "1a00a13b-1467-46ab-a7be-e668c01c5f10",
   "metadata": {},
   "outputs": [
    {
     "name": "stdout",
     "output_type": "stream",
     "text": [
      "10 est positif\n",
      "7 est positif\n",
      "4 est positif\n",
      "1 est positif\n",
      "-2 est négatif\n",
      "-5 est négatif\n",
      "-8 est négatif\n"
     ]
    }
   ],
   "source": [
    "# depuis 10 jusqu'à -9, le pas = -3\n",
    "for element in range (10, -10, -3):\n",
    "    signe (element)"
   ]
  },
  {
   "cell_type": "markdown",
   "id": "c0a343f1-ff52-4abd-ad7d-2cf4298d7984",
   "metadata": {},
   "source": [
    "# La boucle While"
   ]
  },
  {
   "cell_type": "code",
   "execution_count": 92,
   "id": "e36cdd48-f04a-43f5-a19c-e782d118a5b6",
   "metadata": {},
   "outputs": [
    {
     "name": "stdout",
     "output_type": "stream",
     "text": [
      "0\n",
      "1\n",
      "2\n",
      "3\n",
      "4\n",
      "5\n",
      "6\n",
      "7\n",
      "8\n",
      "9\n"
     ]
    }
   ],
   "source": [
    "x = 0\n",
    "\n",
    "while x<10:\n",
    "    print (x)\n",
    "    x+=1  # x = x+1"
   ]
  },
  {
   "cell_type": "code",
   "execution_count": null,
   "id": "937787c9-c4a4-4adc-a5cc-e610bac54d29",
   "metadata": {},
   "outputs": [],
   "source": []
  }
 ],
 "metadata": {
  "kernelspec": {
   "display_name": "Python 3 (ipykernel)",
   "language": "python",
   "name": "python3"
  },
  "language_info": {
   "codemirror_mode": {
    "name": "ipython",
    "version": 3
   },
   "file_extension": ".py",
   "mimetype": "text/x-python",
   "name": "python",
   "nbconvert_exporter": "python",
   "pygments_lexer": "ipython3",
   "version": "3.12.7"
  }
 },
 "nbformat": 4,
 "nbformat_minor": 5
}
