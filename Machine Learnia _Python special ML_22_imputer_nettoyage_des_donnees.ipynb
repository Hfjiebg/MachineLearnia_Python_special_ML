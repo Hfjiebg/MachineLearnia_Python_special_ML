{
 "cells": [
  {
   "cell_type": "markdown",
   "id": "f5de01f7-7af3-4477-a0c8-2392f498796f",
   "metadata": {},
   "source": [
    "# SKLEARN IMPUTER : NETTOYAGE DE DONNÉES"
   ]
  },
  {
   "cell_type": "markdown",
   "id": "b74aa62b-132d-4c36-934e-c81e7b368bc3",
   "metadata": {},
   "source": [
    "URL : https://youtu.be/QVEJJNsz-eM?si=RL-6qOSD9CyRQJ6C"
   ]
  },
  {
   "cell_type": "code",
   "execution_count": 4,
   "id": "006497ba-6740-48d1-8e74-64f5567a3c58",
   "metadata": {},
   "outputs": [],
   "source": [
    "#importations\n",
    "import numpy as np\n",
    "from sklearn.impute import SimpleImputer, KNNImputer, MissingIndicator"
   ]
  },
  {
   "cell_type": "markdown",
   "id": "d66c457b-4c27-44cb-b9ca-4ed4856a389f",
   "metadata": {},
   "source": [
    "## SimpleImputer"
   ]
  },
  {
   "cell_type": "markdown",
   "id": "675e8349-e5d6-45f4-a3f0-edb7c964babb",
   "metadata": {},
   "source": [
    "Il remplace toutes les valeurs manquantes par une valeur statistique.\n",
    "1. On indique le **type des valeurs manquantes** (Nan, ou valeurs négatives,...etc)\n",
    "2. On indique la **stratégie** pour remplacer ces valeurs manquantes:\n",
    "   - mean (la moyenne)\n",
    "   - median (la médiane)\n",
    "   - most_frequent (la valeur la plus fréquente)\n",
    "   - constant (remplacer par une constante)\n",
    "3. On applique **fill_value pour strategy = 'constant'**"
   ]
  },
  {
   "cell_type": "code",
   "execution_count": 7,
   "id": "dfcf6719-fc55-4858-86b2-52199d7866ea",
   "metadata": {},
   "outputs": [],
   "source": [
    "#définir X\n",
    "X = np.array([[10, 3],\n",
    "             [0, 4],\n",
    "             [5, 3],\n",
    "             [np.nan, 3]])"
   ]
  },
  {
   "cell_type": "code",
   "execution_count": 8,
   "id": "90c575fb-7791-4e7c-8ca3-a5b018b4bb62",
   "metadata": {},
   "outputs": [
    {
     "data": {
      "text/plain": [
       "array([[10.,  3.],\n",
       "       [ 0.,  4.],\n",
       "       [ 5.,  3.],\n",
       "       [ 5.,  3.]])"
      ]
     },
     "execution_count": 8,
     "metadata": {},
     "output_type": "execute_result"
    }
   ],
   "source": [
    "#définir imputer\n",
    "#on nettoye les valeurs Nan dans X avec SimpleImputer\n",
    "#on les remplace avec la moyenne\n",
    "imputer = SimpleImputer(missing_values=np.nan,\n",
    "             strategy='mean')\n",
    "\n",
    "#transformer les données X avec SimpleImputer() avec la méthode fit_transform()\n",
    "imputer.fit_transform(X)"
   ]
  },
  {
   "cell_type": "code",
   "execution_count": 9,
   "id": "bd0fd2c0-acc8-45f3-b1b3-26e95f559cf4",
   "metadata": {},
   "outputs": [],
   "source": [
    "#np.nan est remplacée par la moyenne de la 1ère colonne qui est 5\n",
    "#la moyenne de la 2ème colonne est calculée aussi, mais il n'y a pas de valeurs à remplacer dans la 2ème colonne"
   ]
  },
  {
   "cell_type": "code",
   "execution_count": 10,
   "id": "1b7edde5-5662-478a-89cd-b7ebc2578fa8",
   "metadata": {},
   "outputs": [
    {
     "data": {
      "text/plain": [
       "array([[12.  ,  5.  ],\n",
       "       [40.  ,  2.  ],\n",
       "       [ 5.  ,  5.  ],\n",
       "       [ 5.  ,  3.25]])"
      ]
     },
     "execution_count": 10,
     "metadata": {},
     "output_type": "execute_result"
    }
   ],
   "source": [
    "#X_test\n",
    "X_test = np.array([[12, 5],\n",
    "                   [40, 2],\n",
    "                   [5, 5],\n",
    "                   [np.nan, np.nan]])\n",
    "\n",
    "#transformer les données X_test avec SimpleImputer() avec la méthode transform()\n",
    "imputer.transform(X_test)"
   ]
  },
  {
   "cell_type": "code",
   "execution_count": 11,
   "id": "fc315f4a-3ddc-4732-84f6-0ef81fef9d4b",
   "metadata": {},
   "outputs": [],
   "source": [
    "#les valeurs manquantes dans le test set (X_test) sont remplacées par les moyennes calculées dans le train set (X)\n",
    "#même si les moyennes du test set sont différentes de celles du train set\n",
    "#le transformer traite toutes les données futures de la même manière dont a été traité le train set"
   ]
  },
  {
   "cell_type": "markdown",
   "id": "f20550fb-a96e-4b99-902e-28f5e9136aec",
   "metadata": {},
   "source": [
    "## KNNImputer"
   ]
  },
  {
   "cell_type": "markdown",
   "id": "d9f3189a-4f13-4198-9257-c164ae6ccd75",
   "metadata": {},
   "source": [
    "Il remplace toutes les valeurs manquantes par les valeurs des plus proches voisins.\n",
    "\n",
    "**Exemple:** si on connait 2 des 3 valeurs de variables d'une donné, alors on peut savoir la valeur de la 3ème variable en comparant avec les données du dataset."
   ]
  },
  {
   "cell_type": "code",
   "execution_count": 14,
   "id": "7a3a44e1-f278-41db-80f9-16cc7e7b6e2a",
   "metadata": {},
   "outputs": [],
   "source": [
    "#définir X\n",
    "X = np.array([[1, 100],\n",
    "             [2, 30],\n",
    "             [3, 15],\n",
    "             [np.nan, 20]])"
   ]
  },
  {
   "cell_type": "code",
   "execution_count": 15,
   "id": "cf42195c-3f1a-4862-874e-aafe431bb041",
   "metadata": {},
   "outputs": [
    {
     "data": {
      "text/plain": [
       "array([[  1., 100.],\n",
       "       [  2.,  30.],\n",
       "       [  3.,  15.],\n",
       "       [  3.,  20.]])"
      ]
     },
     "execution_count": 15,
     "metadata": {},
     "output_type": "execute_result"
    }
   ],
   "source": [
    "#définir imputer\n",
    "#n_neighbors=1\n",
    "imputer = KNNImputer(n_neighbors=1)\n",
    "\n",
    "#transformer les données X avec KNNImputer() avec la méthode fit_transform()\n",
    "imputer.fit_transform(X)"
   ]
  },
  {
   "cell_type": "code",
   "execution_count": 16,
   "id": "4e3b65e7-fbf5-4e3d-9256-44aba0642e4f",
   "metadata": {},
   "outputs": [],
   "source": [
    "#KNNImputer analyse les données de X pour voir celles aui sont les plus sempblables à la valeur manquante pour la remplacer"
   ]
  },
  {
   "cell_type": "markdown",
   "id": "25ca744f-950d-46e5-9e81-7f1295e6d65d",
   "metadata": {},
   "source": [
    "## MissingIndicator"
   ]
  },
  {
   "cell_type": "markdown",
   "id": "6f061e5f-f484-4c7b-b5a1-f49e8c3e0b75",
   "metadata": {},
   "source": [
    "Il donne des variables booléennes qui indiquent l'absence des valeurs dans le dataset."
   ]
  },
  {
   "cell_type": "code",
   "execution_count": 19,
   "id": "2f2bbce2-183f-46c3-9128-1eb7c54fb10a",
   "metadata": {},
   "outputs": [],
   "source": [
    "#définir X\n",
    "X = np.array([[1, 100],\n",
    "              [2, 30],\n",
    "              [3, 15],\n",
    "              [np.nan, np.nan]])"
   ]
  },
  {
   "cell_type": "code",
   "execution_count": 20,
   "id": "24b6032b-623d-4198-9e7b-a9dd6417d0e5",
   "metadata": {},
   "outputs": [
    {
     "data": {
      "text/plain": [
       "array([[False, False],\n",
       "       [False, False],\n",
       "       [False, False],\n",
       "       [ True,  True]])"
      ]
     },
     "execution_count": 20,
     "metadata": {},
     "output_type": "execute_result"
    }
   ],
   "source": [
    "#transformer les données X avec MissingIndicator() avec la méthode fit_transform()\n",
    "MissingIndicator().fit_transform(X)"
   ]
  },
  {
   "cell_type": "code",
   "execution_count": null,
   "id": "8607c2df-1794-4332-b961-a81fb670cc43",
   "metadata": {},
   "outputs": [],
   "source": []
  }
 ],
 "metadata": {
  "kernelspec": {
   "display_name": "Python [conda env:base] *",
   "language": "python",
   "name": "conda-base-py"
  },
  "language_info": {
   "codemirror_mode": {
    "name": "ipython",
    "version": 3
   },
   "file_extension": ".py",
   "mimetype": "text/x-python",
   "name": "python",
   "nbconvert_exporter": "python",
   "pygments_lexer": "ipython3",
   "version": "3.12.7"
  }
 },
 "nbformat": 4,
 "nbformat_minor": 5
}
