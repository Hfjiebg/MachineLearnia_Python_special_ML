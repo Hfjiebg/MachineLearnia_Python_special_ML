{
 "cells": [
  {
   "cell_type": "markdown",
   "id": "04d7b2d7-49fb-483e-a5a0-da38d21490e9",
   "metadata": {},
   "source": [
    "URL : https://youtu.be/Whoe3p-sGEY?si=nbngLU_qpVn-nh_u"
   ]
  },
  {
   "cell_type": "markdown",
   "id": "0064bcd8-d2fd-4292-b60c-e0001133f2be",
   "metadata": {},
   "source": [
    "## List comprehension"
   ]
  },
  {
   "cell_type": "code",
   "execution_count": 60,
   "id": "ff253d08-62c0-4f21-a86a-fbcc74176f24",
   "metadata": {},
   "outputs": [
    {
     "name": "stdout",
     "output_type": "stream",
     "text": [
      "[0, 1, 4, 9, 16, 25, 36, 49, 64, 81]\n"
     ]
    }
   ],
   "source": [
    "#tous les carrés de 0 à 9\n",
    "liste_1 = []  #liste vide\n",
    "\n",
    "for i in range (10):  # de 0 à 9\n",
    "    liste_1.append(i**2)  #0^2, 1^2 ,2^2, 3^2 ,..., 9^2\n",
    "\n",
    "#afficher liste_1\n",
    "print (liste_1)"
   ]
  },
  {
   "cell_type": "code",
   "execution_count": 61,
   "id": "ea63d724-dcca-471f-8fdc-c40c29a795de",
   "metadata": {},
   "outputs": [
    {
     "name": "stdout",
     "output_type": "stream",
     "text": [
      "[0, 1, 4, 9, 16, 25, 36, 49, 64, 81]\n"
     ]
    }
   ],
   "source": [
    "#une liste comprehension consiste à insérer la boucle For à l'intérieur de la liste elle même:\n",
    "liste_2 = [i**2 for i in range (10)]\n",
    "\n",
    "#afficher liste_2\n",
    "print (liste_2)  # on obtient le même resultat précédent"
   ]
  },
  {
   "cell_type": "code",
   "execution_count": 62,
   "id": "59ffc795-dd96-4547-a646-00caa96afd3b",
   "metadata": {},
   "outputs": [],
   "source": [
    "# [i**2 for i in range (10)] est ce qu'on appelle une Liste comprehension"
   ]
  },
  {
   "cell_type": "markdown",
   "id": "6b82303b-7505-4901-95ce-20d9b3bffaae",
   "metadata": {},
   "source": [
    "### Nested list (liste dans une liste)"
   ]
  },
  {
   "cell_type": "code",
   "execution_count": 64,
   "id": "3a0afae9-2290-4298-8d56-2b58111c933a",
   "metadata": {},
   "outputs": [
    {
     "data": {
      "text/plain": [
       "[0, 1, 2]"
      ]
     },
     "execution_count": 64,
     "metadata": {},
     "output_type": "execute_result"
    }
   ],
   "source": [
    "liste_3 = [i for i in range (3)]   #liste de 0->2\n",
    "\n",
    "#afficher liste_3\n",
    "liste_3"
   ]
  },
  {
   "cell_type": "code",
   "execution_count": 65,
   "id": "4f0b9de1-2539-4caf-9b3b-ec5602f954e1",
   "metadata": {},
   "outputs": [
    {
     "data": {
      "text/plain": [
       "[[0, 1, 2], [0, 1, 2], [0, 1, 2]]"
      ]
     },
     "execution_count": 65,
     "metadata": {},
     "output_type": "execute_result"
    }
   ],
   "source": [
    "liste_4 = [[i for i in range (3)] for j in range (3)]   #la liste précédente répétée à l'intérieur d'une liste\n",
    "\n",
    "#afficher liste_4\n",
    "liste_4"
   ]
  },
  {
   "cell_type": "code",
   "execution_count": 66,
   "id": "91e5e3c9-b9eb-4783-86f9-10a4c3f0e602",
   "metadata": {},
   "outputs": [
    {
     "data": {
      "text/plain": [
       "[[0, 1, 2], [1, 2, 3], [2, 3, 4]]"
      ]
     },
     "execution_count": 66,
     "metadata": {},
     "output_type": "execute_result"
    }
   ],
   "source": [
    "liste_4 = [[i + j for i in range(3)] for j in range(3)]\n",
    "\n",
    "#afficher liste_4\n",
    "liste_4"
   ]
  },
  {
   "cell_type": "code",
   "execution_count": 67,
   "id": "55ae095b-27ca-49e2-8061-c9fccba620ba",
   "metadata": {},
   "outputs": [
    {
     "data": {
      "text/plain": [
       "[[0, 1], [0, 1], [0, 1], [0, 1]]"
      ]
     },
     "execution_count": 67,
     "metadata": {},
     "output_type": "execute_result"
    }
   ],
   "source": [
    "liste_5 = [[i for i in range(2)] for j in range(4)]\n",
    "\n",
    "#afficher liste_5\n",
    "liste_5"
   ]
  },
  {
   "cell_type": "markdown",
   "id": "57446c17-f851-4a20-b07b-511da71df9de",
   "metadata": {},
   "source": [
    "## Dictionnaire comprehension"
   ]
  },
  {
   "cell_type": "code",
   "execution_count": 69,
   "id": "9249cbb9-b886-4aec-9bb1-3b8bc648e77e",
   "metadata": {},
   "outputs": [],
   "source": [
    "#créer un dict\n",
    "dictionnaire ={'0': 'Pierre',\n",
    "               '1': 'Jean',\n",
    "               '2': 'Julie',\n",
    "               '3': 'Sophie'\n",
    "              }"
   ]
  },
  {
   "cell_type": "code",
   "execution_count": 70,
   "id": "02208593-b783-468f-9b5d-5cab241e8ea0",
   "metadata": {},
   "outputs": [
    {
     "data": {
      "text/plain": [
       "{'0': 'Pierre', '1': 'Jean', '2': 'Julie', '3': 'Sophie'}"
      ]
     },
     "execution_count": 70,
     "metadata": {},
     "output_type": "execute_result"
    }
   ],
   "source": [
    "dictionnaire"
   ]
  },
  {
   "cell_type": "code",
   "execution_count": 71,
   "id": "49fa73c5-908b-430a-9d6a-c3886412f76a",
   "metadata": {},
   "outputs": [],
   "source": [
    "#créer une liste\n",
    "prenoms = ['Pierre', 'Jean', 'Julie', 'Sophie']"
   ]
  },
  {
   "cell_type": "code",
   "execution_count": 72,
   "id": "aaf396f4-5c8a-41a0-85c1-791db381bc2b",
   "metadata": {},
   "outputs": [
    {
     "data": {
      "text/plain": [
       "{0: 'Pierre', 1: 'Jean', 2: 'Julie', 3: 'Sophie'}"
      ]
     },
     "execution_count": 72,
     "metadata": {},
     "output_type": "execute_result"
    }
   ],
   "source": [
    "#créer un dict avec la technique de la comprehension\n",
    "#qui va créer un couple k,v (k pour key,v pour value)\n",
    "#pour tous les éléments de la liste prenoms, \n",
    "dico = {k:v for k,v in enumerate (prenoms)}\n",
    "\n",
    "#afficher dico\n",
    "dico"
   ]
  },
  {
   "cell_type": "code",
   "execution_count": 73,
   "id": "74c4c6a0-7630-413e-9b3b-ed0c732cfa67",
   "metadata": {},
   "outputs": [
    {
     "data": {
      "text/plain": [
       "dict_keys([0, 1, 2, 3])"
      ]
     },
     "execution_count": 73,
     "metadata": {},
     "output_type": "execute_result"
    }
   ],
   "source": [
    "#afficher les clés de dico\n",
    "dico.keys()"
   ]
  },
  {
   "cell_type": "code",
   "execution_count": 74,
   "id": "0619af05-369c-4fa0-a72b-8b7d39b8e8f1",
   "metadata": {},
   "outputs": [
    {
     "data": {
      "text/plain": [
       "dict_values(['Pierre', 'Jean', 'Julie', 'Sophie'])"
      ]
     },
     "execution_count": 74,
     "metadata": {},
     "output_type": "execute_result"
    }
   ],
   "source": [
    "#afficher les valeurs de dico\n",
    "dico.values()"
   ]
  },
  {
   "cell_type": "code",
   "execution_count": 75,
   "id": "8d263441-0c36-460e-b9cb-7889683e51b5",
   "metadata": {},
   "outputs": [],
   "source": [
    "#créer une liste ages\n",
    "ages = [24, 62, 10, 23]"
   ]
  },
  {
   "cell_type": "code",
   "execution_count": 76,
   "id": "29491999-aa34-44cf-9b9e-48776ca9522b",
   "metadata": {},
   "outputs": [
    {
     "data": {
      "text/plain": [
       "{'Pierre': 24, 'Jean': 62, 'Julie': 10, 'Sophie': 23}"
      ]
     },
     "execution_count": 76,
     "metadata": {},
     "output_type": "execute_result"
    }
   ],
   "source": [
    "#créer un dict où les clés sont les prénoms (dans la liste prenoms)\n",
    "#et les valeurs sont les âges (dans la liste ages)\n",
    "dico_2 = {prenom:age for prenom,age in zip (prenoms,ages)}\n",
    "\n",
    "#afficher dico_2\n",
    "dico_2"
   ]
  },
  {
   "cell_type": "code",
   "execution_count": 77,
   "id": "c5cce276-c9e0-4936-9865-16034c77d1a9",
   "metadata": {},
   "outputs": [
    {
     "data": {
      "text/plain": [
       "{'Jean': 62}"
      ]
     },
     "execution_count": 77,
     "metadata": {},
     "output_type": "execute_result"
    }
   ],
   "source": [
    "#créer un dict où les clés sont les prénoms (dans la liste prenoms)\n",
    "#et les valeurs sont les âges (dans la liste ages)\n",
    "#seulement si age qui provient de la liste ages est > 30\n",
    "dico_3 = {prenom:age for prenom,age in zip (prenoms,ages) if age > 30}\n",
    "\n",
    "#afficher dico_3\n",
    "dico_3"
   ]
  },
  {
   "cell_type": "code",
   "execution_count": 78,
   "id": "5dce3b3e-027f-4b40-827c-3acf2df22ecd",
   "metadata": {},
   "outputs": [
    {
     "data": {
      "text/plain": [
       "{'Pierre': 24, 'Jean': 62, 'Sophie': 23}"
      ]
     },
     "execution_count": 78,
     "metadata": {},
     "output_type": "execute_result"
    }
   ],
   "source": [
    "#créer un dict où les clés sont les prénoms (dans la liste prenoms)\n",
    "#et les valeurs sont les âges (dans la liste ages)\n",
    "#seulement si age qui provient de la liste ages est > 20\n",
    "dico_4 = {prenom:age for prenom,age in zip (prenoms,ages) if age > 20}\n",
    "\n",
    "#afficher dico_4\n",
    "dico_4"
   ]
  },
  {
   "cell_type": "markdown",
   "id": "762202bb-58c6-401e-a053-f8af35ececf4",
   "metadata": {},
   "source": [
    "## Tuple comprehension"
   ]
  },
  {
   "cell_type": "code",
   "execution_count": 80,
   "id": "63aa748f-9176-44e3-b808-05d712555456",
   "metadata": {},
   "outputs": [
    {
     "data": {
      "text/plain": [
       "<generator object <genexpr> at 0x000001B61E61CFB0>"
      ]
     },
     "execution_count": 80,
     "metadata": {},
     "output_type": "execute_result"
    }
   ],
   "source": [
    "tuple_1 = (i**2 for i in range (10)) # crée en fait un générateur\n",
    "\n",
    "#afficher tuple_1\n",
    "tuple_1"
   ]
  },
  {
   "cell_type": "code",
   "execution_count": 81,
   "id": "2a5b8c37-f3ba-400e-8bc6-4a3e19badf0c",
   "metadata": {},
   "outputs": [
    {
     "data": {
      "text/plain": [
       "(0, 1, 4, 9, 16, 25, 36, 49, 64, 81)"
      ]
     },
     "execution_count": 81,
     "metadata": {},
     "output_type": "execute_result"
    }
   ],
   "source": [
    "tuple_2 = tuple ((i**2 for i in range (10)))  # tuple() crée un tuple\n",
    "\n",
    "#afficher tuple_2\n",
    "tuple_2"
   ]
  },
  {
   "cell_type": "code",
   "execution_count": null,
   "id": "809b7d8a-3c4e-47c1-a81d-196a1fbf0634",
   "metadata": {},
   "outputs": [],
   "source": []
  }
 ],
 "metadata": {
  "kernelspec": {
   "display_name": "Python 3 (ipykernel)",
   "language": "python",
   "name": "python3"
  },
  "language_info": {
   "codemirror_mode": {
    "name": "ipython",
    "version": 3
   },
   "file_extension": ".py",
   "mimetype": "text/x-python",
   "name": "python",
   "nbconvert_exporter": "python",
   "pygments_lexer": "ipython3",
   "version": "3.12.7"
  }
 },
 "nbformat": 4,
 "nbformat_minor": 5
}
