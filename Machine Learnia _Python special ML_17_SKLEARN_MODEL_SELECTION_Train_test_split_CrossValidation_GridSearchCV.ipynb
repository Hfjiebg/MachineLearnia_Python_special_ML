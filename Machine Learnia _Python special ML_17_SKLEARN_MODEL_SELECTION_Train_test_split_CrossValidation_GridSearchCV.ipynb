{
 "cells": [
  {
   "cell_type": "markdown",
   "id": "2e8802a6-86e9-4779-b337-1fe7a51d3c25",
   "metadata": {},
   "source": [
    "# PYTHON SKLEARN - MODEL SELECTION : Train_test_split, Cross Validation, GridSearchCV"
   ]
  },
  {
   "cell_type": "markdown",
   "id": "62b7ae73-9457-4cac-90e1-838178d57176",
   "metadata": {},
   "source": [
    "URL : \n",
    "\n",
    "https://youtu.be/w_bLGK4Pteo?si=6sry7hoZaoFnDQur\n",
    "\n",
    "https://youtu.be/VoyMOVfCSfc?si=WiSQUw4NCitAN0OY - **Cross Validation (techniques expliquées)**"
   ]
  },
  {
   "cell_type": "markdown",
   "id": "7370b053-473e-4f63-82b6-97851ebe630e",
   "metadata": {},
   "source": [
    "## Train_test_split"
   ]
  },
  {
   "cell_type": "code",
   "execution_count": 4,
   "id": "64893d16-6e66-436a-9f9c-0b357d863ae5",
   "metadata": {},
   "outputs": [],
   "source": [
    "#importations\n",
    "import numpy as np\n",
    "import pandas as pd\n",
    "import matplotlib.pyplot as plt\n",
    "from sklearn.datasets import load_iris\n",
    "from sklearn.model_selection import train_test_split\n",
    "from sklearn.neighbors import KNeighborsClassifier\n",
    "from sklearn.model_selection import cross_val_score\n",
    "from sklearn.model_selection import validation_curve\n",
    "from sklearn.model_selection import GridSearchCV\n",
    "from sklearn.metrics import confusion_matrix\n",
    "from sklearn.model_selection import learning_curve"
   ]
  },
  {
   "cell_type": "code",
   "execution_count": 5,
   "id": "6c873622-48fd-41dc-987d-5edf53f1a0b1",
   "metadata": {
    "scrolled": true
   },
   "outputs": [
    {
     "data": {
      "text/plain": [
       "{'data': array([[5.1, 3.5, 1.4, 0.2],\n",
       "        [4.9, 3. , 1.4, 0.2],\n",
       "        [4.7, 3.2, 1.3, 0.2],\n",
       "        [4.6, 3.1, 1.5, 0.2],\n",
       "        [5. , 3.6, 1.4, 0.2],\n",
       "        [5.4, 3.9, 1.7, 0.4],\n",
       "        [4.6, 3.4, 1.4, 0.3],\n",
       "        [5. , 3.4, 1.5, 0.2],\n",
       "        [4.4, 2.9, 1.4, 0.2],\n",
       "        [4.9, 3.1, 1.5, 0.1],\n",
       "        [5.4, 3.7, 1.5, 0.2],\n",
       "        [4.8, 3.4, 1.6, 0.2],\n",
       "        [4.8, 3. , 1.4, 0.1],\n",
       "        [4.3, 3. , 1.1, 0.1],\n",
       "        [5.8, 4. , 1.2, 0.2],\n",
       "        [5.7, 4.4, 1.5, 0.4],\n",
       "        [5.4, 3.9, 1.3, 0.4],\n",
       "        [5.1, 3.5, 1.4, 0.3],\n",
       "        [5.7, 3.8, 1.7, 0.3],\n",
       "        [5.1, 3.8, 1.5, 0.3],\n",
       "        [5.4, 3.4, 1.7, 0.2],\n",
       "        [5.1, 3.7, 1.5, 0.4],\n",
       "        [4.6, 3.6, 1. , 0.2],\n",
       "        [5.1, 3.3, 1.7, 0.5],\n",
       "        [4.8, 3.4, 1.9, 0.2],\n",
       "        [5. , 3. , 1.6, 0.2],\n",
       "        [5. , 3.4, 1.6, 0.4],\n",
       "        [5.2, 3.5, 1.5, 0.2],\n",
       "        [5.2, 3.4, 1.4, 0.2],\n",
       "        [4.7, 3.2, 1.6, 0.2],\n",
       "        [4.8, 3.1, 1.6, 0.2],\n",
       "        [5.4, 3.4, 1.5, 0.4],\n",
       "        [5.2, 4.1, 1.5, 0.1],\n",
       "        [5.5, 4.2, 1.4, 0.2],\n",
       "        [4.9, 3.1, 1.5, 0.2],\n",
       "        [5. , 3.2, 1.2, 0.2],\n",
       "        [5.5, 3.5, 1.3, 0.2],\n",
       "        [4.9, 3.6, 1.4, 0.1],\n",
       "        [4.4, 3. , 1.3, 0.2],\n",
       "        [5.1, 3.4, 1.5, 0.2],\n",
       "        [5. , 3.5, 1.3, 0.3],\n",
       "        [4.5, 2.3, 1.3, 0.3],\n",
       "        [4.4, 3.2, 1.3, 0.2],\n",
       "        [5. , 3.5, 1.6, 0.6],\n",
       "        [5.1, 3.8, 1.9, 0.4],\n",
       "        [4.8, 3. , 1.4, 0.3],\n",
       "        [5.1, 3.8, 1.6, 0.2],\n",
       "        [4.6, 3.2, 1.4, 0.2],\n",
       "        [5.3, 3.7, 1.5, 0.2],\n",
       "        [5. , 3.3, 1.4, 0.2],\n",
       "        [7. , 3.2, 4.7, 1.4],\n",
       "        [6.4, 3.2, 4.5, 1.5],\n",
       "        [6.9, 3.1, 4.9, 1.5],\n",
       "        [5.5, 2.3, 4. , 1.3],\n",
       "        [6.5, 2.8, 4.6, 1.5],\n",
       "        [5.7, 2.8, 4.5, 1.3],\n",
       "        [6.3, 3.3, 4.7, 1.6],\n",
       "        [4.9, 2.4, 3.3, 1. ],\n",
       "        [6.6, 2.9, 4.6, 1.3],\n",
       "        [5.2, 2.7, 3.9, 1.4],\n",
       "        [5. , 2. , 3.5, 1. ],\n",
       "        [5.9, 3. , 4.2, 1.5],\n",
       "        [6. , 2.2, 4. , 1. ],\n",
       "        [6.1, 2.9, 4.7, 1.4],\n",
       "        [5.6, 2.9, 3.6, 1.3],\n",
       "        [6.7, 3.1, 4.4, 1.4],\n",
       "        [5.6, 3. , 4.5, 1.5],\n",
       "        [5.8, 2.7, 4.1, 1. ],\n",
       "        [6.2, 2.2, 4.5, 1.5],\n",
       "        [5.6, 2.5, 3.9, 1.1],\n",
       "        [5.9, 3.2, 4.8, 1.8],\n",
       "        [6.1, 2.8, 4. , 1.3],\n",
       "        [6.3, 2.5, 4.9, 1.5],\n",
       "        [6.1, 2.8, 4.7, 1.2],\n",
       "        [6.4, 2.9, 4.3, 1.3],\n",
       "        [6.6, 3. , 4.4, 1.4],\n",
       "        [6.8, 2.8, 4.8, 1.4],\n",
       "        [6.7, 3. , 5. , 1.7],\n",
       "        [6. , 2.9, 4.5, 1.5],\n",
       "        [5.7, 2.6, 3.5, 1. ],\n",
       "        [5.5, 2.4, 3.8, 1.1],\n",
       "        [5.5, 2.4, 3.7, 1. ],\n",
       "        [5.8, 2.7, 3.9, 1.2],\n",
       "        [6. , 2.7, 5.1, 1.6],\n",
       "        [5.4, 3. , 4.5, 1.5],\n",
       "        [6. , 3.4, 4.5, 1.6],\n",
       "        [6.7, 3.1, 4.7, 1.5],\n",
       "        [6.3, 2.3, 4.4, 1.3],\n",
       "        [5.6, 3. , 4.1, 1.3],\n",
       "        [5.5, 2.5, 4. , 1.3],\n",
       "        [5.5, 2.6, 4.4, 1.2],\n",
       "        [6.1, 3. , 4.6, 1.4],\n",
       "        [5.8, 2.6, 4. , 1.2],\n",
       "        [5. , 2.3, 3.3, 1. ],\n",
       "        [5.6, 2.7, 4.2, 1.3],\n",
       "        [5.7, 3. , 4.2, 1.2],\n",
       "        [5.7, 2.9, 4.2, 1.3],\n",
       "        [6.2, 2.9, 4.3, 1.3],\n",
       "        [5.1, 2.5, 3. , 1.1],\n",
       "        [5.7, 2.8, 4.1, 1.3],\n",
       "        [6.3, 3.3, 6. , 2.5],\n",
       "        [5.8, 2.7, 5.1, 1.9],\n",
       "        [7.1, 3. , 5.9, 2.1],\n",
       "        [6.3, 2.9, 5.6, 1.8],\n",
       "        [6.5, 3. , 5.8, 2.2],\n",
       "        [7.6, 3. , 6.6, 2.1],\n",
       "        [4.9, 2.5, 4.5, 1.7],\n",
       "        [7.3, 2.9, 6.3, 1.8],\n",
       "        [6.7, 2.5, 5.8, 1.8],\n",
       "        [7.2, 3.6, 6.1, 2.5],\n",
       "        [6.5, 3.2, 5.1, 2. ],\n",
       "        [6.4, 2.7, 5.3, 1.9],\n",
       "        [6.8, 3. , 5.5, 2.1],\n",
       "        [5.7, 2.5, 5. , 2. ],\n",
       "        [5.8, 2.8, 5.1, 2.4],\n",
       "        [6.4, 3.2, 5.3, 2.3],\n",
       "        [6.5, 3. , 5.5, 1.8],\n",
       "        [7.7, 3.8, 6.7, 2.2],\n",
       "        [7.7, 2.6, 6.9, 2.3],\n",
       "        [6. , 2.2, 5. , 1.5],\n",
       "        [6.9, 3.2, 5.7, 2.3],\n",
       "        [5.6, 2.8, 4.9, 2. ],\n",
       "        [7.7, 2.8, 6.7, 2. ],\n",
       "        [6.3, 2.7, 4.9, 1.8],\n",
       "        [6.7, 3.3, 5.7, 2.1],\n",
       "        [7.2, 3.2, 6. , 1.8],\n",
       "        [6.2, 2.8, 4.8, 1.8],\n",
       "        [6.1, 3. , 4.9, 1.8],\n",
       "        [6.4, 2.8, 5.6, 2.1],\n",
       "        [7.2, 3. , 5.8, 1.6],\n",
       "        [7.4, 2.8, 6.1, 1.9],\n",
       "        [7.9, 3.8, 6.4, 2. ],\n",
       "        [6.4, 2.8, 5.6, 2.2],\n",
       "        [6.3, 2.8, 5.1, 1.5],\n",
       "        [6.1, 2.6, 5.6, 1.4],\n",
       "        [7.7, 3. , 6.1, 2.3],\n",
       "        [6.3, 3.4, 5.6, 2.4],\n",
       "        [6.4, 3.1, 5.5, 1.8],\n",
       "        [6. , 3. , 4.8, 1.8],\n",
       "        [6.9, 3.1, 5.4, 2.1],\n",
       "        [6.7, 3.1, 5.6, 2.4],\n",
       "        [6.9, 3.1, 5.1, 2.3],\n",
       "        [5.8, 2.7, 5.1, 1.9],\n",
       "        [6.8, 3.2, 5.9, 2.3],\n",
       "        [6.7, 3.3, 5.7, 2.5],\n",
       "        [6.7, 3. , 5.2, 2.3],\n",
       "        [6.3, 2.5, 5. , 1.9],\n",
       "        [6.5, 3. , 5.2, 2. ],\n",
       "        [6.2, 3.4, 5.4, 2.3],\n",
       "        [5.9, 3. , 5.1, 1.8]]),\n",
       " 'target': array([0, 0, 0, 0, 0, 0, 0, 0, 0, 0, 0, 0, 0, 0, 0, 0, 0, 0, 0, 0, 0, 0,\n",
       "        0, 0, 0, 0, 0, 0, 0, 0, 0, 0, 0, 0, 0, 0, 0, 0, 0, 0, 0, 0, 0, 0,\n",
       "        0, 0, 0, 0, 0, 0, 1, 1, 1, 1, 1, 1, 1, 1, 1, 1, 1, 1, 1, 1, 1, 1,\n",
       "        1, 1, 1, 1, 1, 1, 1, 1, 1, 1, 1, 1, 1, 1, 1, 1, 1, 1, 1, 1, 1, 1,\n",
       "        1, 1, 1, 1, 1, 1, 1, 1, 1, 1, 1, 1, 2, 2, 2, 2, 2, 2, 2, 2, 2, 2,\n",
       "        2, 2, 2, 2, 2, 2, 2, 2, 2, 2, 2, 2, 2, 2, 2, 2, 2, 2, 2, 2, 2, 2,\n",
       "        2, 2, 2, 2, 2, 2, 2, 2, 2, 2, 2, 2, 2, 2, 2, 2, 2, 2]),\n",
       " 'frame': None,\n",
       " 'target_names': array(['setosa', 'versicolor', 'virginica'], dtype='<U10'),\n",
       " 'DESCR': '.. _iris_dataset:\\n\\nIris plants dataset\\n--------------------\\n\\n**Data Set Characteristics:**\\n\\n:Number of Instances: 150 (50 in each of three classes)\\n:Number of Attributes: 4 numeric, predictive attributes and the class\\n:Attribute Information:\\n    - sepal length in cm\\n    - sepal width in cm\\n    - petal length in cm\\n    - petal width in cm\\n    - class:\\n            - Iris-Setosa\\n            - Iris-Versicolour\\n            - Iris-Virginica\\n\\n:Summary Statistics:\\n\\n============== ==== ==== ======= ===== ====================\\n                Min  Max   Mean    SD   Class Correlation\\n============== ==== ==== ======= ===== ====================\\nsepal length:   4.3  7.9   5.84   0.83    0.7826\\nsepal width:    2.0  4.4   3.05   0.43   -0.4194\\npetal length:   1.0  6.9   3.76   1.76    0.9490  (high!)\\npetal width:    0.1  2.5   1.20   0.76    0.9565  (high!)\\n============== ==== ==== ======= ===== ====================\\n\\n:Missing Attribute Values: None\\n:Class Distribution: 33.3% for each of 3 classes.\\n:Creator: R.A. Fisher\\n:Donor: Michael Marshall (MARSHALL%PLU@io.arc.nasa.gov)\\n:Date: July, 1988\\n\\nThe famous Iris database, first used by Sir R.A. Fisher. The dataset is taken\\nfrom Fisher\\'s paper. Note that it\\'s the same as in R, but not as in the UCI\\nMachine Learning Repository, which has two wrong data points.\\n\\nThis is perhaps the best known database to be found in the\\npattern recognition literature.  Fisher\\'s paper is a classic in the field and\\nis referenced frequently to this day.  (See Duda & Hart, for example.)  The\\ndata set contains 3 classes of 50 instances each, where each class refers to a\\ntype of iris plant.  One class is linearly separable from the other 2; the\\nlatter are NOT linearly separable from each other.\\n\\n.. dropdown:: References\\n\\n  - Fisher, R.A. \"The use of multiple measurements in taxonomic problems\"\\n    Annual Eugenics, 7, Part II, 179-188 (1936); also in \"Contributions to\\n    Mathematical Statistics\" (John Wiley, NY, 1950).\\n  - Duda, R.O., & Hart, P.E. (1973) Pattern Classification and Scene Analysis.\\n    (Q327.D83) John Wiley & Sons.  ISBN 0-471-22361-1.  See page 218.\\n  - Dasarathy, B.V. (1980) \"Nosing Around the Neighborhood: A New System\\n    Structure and Classification Rule for Recognition in Partially Exposed\\n    Environments\".  IEEE Transactions on Pattern Analysis and Machine\\n    Intelligence, Vol. PAMI-2, No. 1, 67-71.\\n  - Gates, G.W. (1972) \"The Reduced Nearest Neighbor Rule\".  IEEE Transactions\\n    on Information Theory, May 1972, 431-433.\\n  - See also: 1988 MLC Proceedings, 54-64.  Cheeseman et al\"s AUTOCLASS II\\n    conceptual clustering system finds 3 classes in the data.\\n  - Many, many more ...\\n',\n",
       " 'feature_names': ['sepal length (cm)',\n",
       "  'sepal width (cm)',\n",
       "  'petal length (cm)',\n",
       "  'petal width (cm)'],\n",
       " 'filename': 'iris.csv',\n",
       " 'data_module': 'sklearn.datasets.data'}"
      ]
     },
     "execution_count": 5,
     "metadata": {},
     "output_type": "execute_result"
    }
   ],
   "source": [
    "#charger le jeu de données Iris et l'enregistrer dans une variable appelée iris \n",
    "iris = load_iris()\n",
    "\n",
    "#afficher iris\n",
    "iris"
   ]
  },
  {
   "cell_type": "code",
   "execution_count": 6,
   "id": "d5013058-f0c2-48b4-add6-0a72f4800a36",
   "metadata": {},
   "outputs": [
    {
     "data": {
      "text/plain": [
       "array([[5.1, 3.5, 1.4, 0.2],\n",
       "       [4.9, 3. , 1.4, 0.2],\n",
       "       [4.7, 3.2, 1.3, 0.2],\n",
       "       [4.6, 3.1, 1.5, 0.2],\n",
       "       [5. , 3.6, 1.4, 0.2],\n",
       "       [5.4, 3.9, 1.7, 0.4],\n",
       "       [4.6, 3.4, 1.4, 0.3],\n",
       "       [5. , 3.4, 1.5, 0.2],\n",
       "       [4.4, 2.9, 1.4, 0.2],\n",
       "       [4.9, 3.1, 1.5, 0.1],\n",
       "       [5.4, 3.7, 1.5, 0.2],\n",
       "       [4.8, 3.4, 1.6, 0.2],\n",
       "       [4.8, 3. , 1.4, 0.1],\n",
       "       [4.3, 3. , 1.1, 0.1],\n",
       "       [5.8, 4. , 1.2, 0.2],\n",
       "       [5.7, 4.4, 1.5, 0.4],\n",
       "       [5.4, 3.9, 1.3, 0.4],\n",
       "       [5.1, 3.5, 1.4, 0.3],\n",
       "       [5.7, 3.8, 1.7, 0.3],\n",
       "       [5.1, 3.8, 1.5, 0.3],\n",
       "       [5.4, 3.4, 1.7, 0.2],\n",
       "       [5.1, 3.7, 1.5, 0.4],\n",
       "       [4.6, 3.6, 1. , 0.2],\n",
       "       [5.1, 3.3, 1.7, 0.5],\n",
       "       [4.8, 3.4, 1.9, 0.2],\n",
       "       [5. , 3. , 1.6, 0.2],\n",
       "       [5. , 3.4, 1.6, 0.4],\n",
       "       [5.2, 3.5, 1.5, 0.2],\n",
       "       [5.2, 3.4, 1.4, 0.2],\n",
       "       [4.7, 3.2, 1.6, 0.2],\n",
       "       [4.8, 3.1, 1.6, 0.2],\n",
       "       [5.4, 3.4, 1.5, 0.4],\n",
       "       [5.2, 4.1, 1.5, 0.1],\n",
       "       [5.5, 4.2, 1.4, 0.2],\n",
       "       [4.9, 3.1, 1.5, 0.2],\n",
       "       [5. , 3.2, 1.2, 0.2],\n",
       "       [5.5, 3.5, 1.3, 0.2],\n",
       "       [4.9, 3.6, 1.4, 0.1],\n",
       "       [4.4, 3. , 1.3, 0.2],\n",
       "       [5.1, 3.4, 1.5, 0.2],\n",
       "       [5. , 3.5, 1.3, 0.3],\n",
       "       [4.5, 2.3, 1.3, 0.3],\n",
       "       [4.4, 3.2, 1.3, 0.2],\n",
       "       [5. , 3.5, 1.6, 0.6],\n",
       "       [5.1, 3.8, 1.9, 0.4],\n",
       "       [4.8, 3. , 1.4, 0.3],\n",
       "       [5.1, 3.8, 1.6, 0.2],\n",
       "       [4.6, 3.2, 1.4, 0.2],\n",
       "       [5.3, 3.7, 1.5, 0.2],\n",
       "       [5. , 3.3, 1.4, 0.2],\n",
       "       [7. , 3.2, 4.7, 1.4],\n",
       "       [6.4, 3.2, 4.5, 1.5],\n",
       "       [6.9, 3.1, 4.9, 1.5],\n",
       "       [5.5, 2.3, 4. , 1.3],\n",
       "       [6.5, 2.8, 4.6, 1.5],\n",
       "       [5.7, 2.8, 4.5, 1.3],\n",
       "       [6.3, 3.3, 4.7, 1.6],\n",
       "       [4.9, 2.4, 3.3, 1. ],\n",
       "       [6.6, 2.9, 4.6, 1.3],\n",
       "       [5.2, 2.7, 3.9, 1.4],\n",
       "       [5. , 2. , 3.5, 1. ],\n",
       "       [5.9, 3. , 4.2, 1.5],\n",
       "       [6. , 2.2, 4. , 1. ],\n",
       "       [6.1, 2.9, 4.7, 1.4],\n",
       "       [5.6, 2.9, 3.6, 1.3],\n",
       "       [6.7, 3.1, 4.4, 1.4],\n",
       "       [5.6, 3. , 4.5, 1.5],\n",
       "       [5.8, 2.7, 4.1, 1. ],\n",
       "       [6.2, 2.2, 4.5, 1.5],\n",
       "       [5.6, 2.5, 3.9, 1.1],\n",
       "       [5.9, 3.2, 4.8, 1.8],\n",
       "       [6.1, 2.8, 4. , 1.3],\n",
       "       [6.3, 2.5, 4.9, 1.5],\n",
       "       [6.1, 2.8, 4.7, 1.2],\n",
       "       [6.4, 2.9, 4.3, 1.3],\n",
       "       [6.6, 3. , 4.4, 1.4],\n",
       "       [6.8, 2.8, 4.8, 1.4],\n",
       "       [6.7, 3. , 5. , 1.7],\n",
       "       [6. , 2.9, 4.5, 1.5],\n",
       "       [5.7, 2.6, 3.5, 1. ],\n",
       "       [5.5, 2.4, 3.8, 1.1],\n",
       "       [5.5, 2.4, 3.7, 1. ],\n",
       "       [5.8, 2.7, 3.9, 1.2],\n",
       "       [6. , 2.7, 5.1, 1.6],\n",
       "       [5.4, 3. , 4.5, 1.5],\n",
       "       [6. , 3.4, 4.5, 1.6],\n",
       "       [6.7, 3.1, 4.7, 1.5],\n",
       "       [6.3, 2.3, 4.4, 1.3],\n",
       "       [5.6, 3. , 4.1, 1.3],\n",
       "       [5.5, 2.5, 4. , 1.3],\n",
       "       [5.5, 2.6, 4.4, 1.2],\n",
       "       [6.1, 3. , 4.6, 1.4],\n",
       "       [5.8, 2.6, 4. , 1.2],\n",
       "       [5. , 2.3, 3.3, 1. ],\n",
       "       [5.6, 2.7, 4.2, 1.3],\n",
       "       [5.7, 3. , 4.2, 1.2],\n",
       "       [5.7, 2.9, 4.2, 1.3],\n",
       "       [6.2, 2.9, 4.3, 1.3],\n",
       "       [5.1, 2.5, 3. , 1.1],\n",
       "       [5.7, 2.8, 4.1, 1.3],\n",
       "       [6.3, 3.3, 6. , 2.5],\n",
       "       [5.8, 2.7, 5.1, 1.9],\n",
       "       [7.1, 3. , 5.9, 2.1],\n",
       "       [6.3, 2.9, 5.6, 1.8],\n",
       "       [6.5, 3. , 5.8, 2.2],\n",
       "       [7.6, 3. , 6.6, 2.1],\n",
       "       [4.9, 2.5, 4.5, 1.7],\n",
       "       [7.3, 2.9, 6.3, 1.8],\n",
       "       [6.7, 2.5, 5.8, 1.8],\n",
       "       [7.2, 3.6, 6.1, 2.5],\n",
       "       [6.5, 3.2, 5.1, 2. ],\n",
       "       [6.4, 2.7, 5.3, 1.9],\n",
       "       [6.8, 3. , 5.5, 2.1],\n",
       "       [5.7, 2.5, 5. , 2. ],\n",
       "       [5.8, 2.8, 5.1, 2.4],\n",
       "       [6.4, 3.2, 5.3, 2.3],\n",
       "       [6.5, 3. , 5.5, 1.8],\n",
       "       [7.7, 3.8, 6.7, 2.2],\n",
       "       [7.7, 2.6, 6.9, 2.3],\n",
       "       [6. , 2.2, 5. , 1.5],\n",
       "       [6.9, 3.2, 5.7, 2.3],\n",
       "       [5.6, 2.8, 4.9, 2. ],\n",
       "       [7.7, 2.8, 6.7, 2. ],\n",
       "       [6.3, 2.7, 4.9, 1.8],\n",
       "       [6.7, 3.3, 5.7, 2.1],\n",
       "       [7.2, 3.2, 6. , 1.8],\n",
       "       [6.2, 2.8, 4.8, 1.8],\n",
       "       [6.1, 3. , 4.9, 1.8],\n",
       "       [6.4, 2.8, 5.6, 2.1],\n",
       "       [7.2, 3. , 5.8, 1.6],\n",
       "       [7.4, 2.8, 6.1, 1.9],\n",
       "       [7.9, 3.8, 6.4, 2. ],\n",
       "       [6.4, 2.8, 5.6, 2.2],\n",
       "       [6.3, 2.8, 5.1, 1.5],\n",
       "       [6.1, 2.6, 5.6, 1.4],\n",
       "       [7.7, 3. , 6.1, 2.3],\n",
       "       [6.3, 3.4, 5.6, 2.4],\n",
       "       [6.4, 3.1, 5.5, 1.8],\n",
       "       [6. , 3. , 4.8, 1.8],\n",
       "       [6.9, 3.1, 5.4, 2.1],\n",
       "       [6.7, 3.1, 5.6, 2.4],\n",
       "       [6.9, 3.1, 5.1, 2.3],\n",
       "       [5.8, 2.7, 5.1, 1.9],\n",
       "       [6.8, 3.2, 5.9, 2.3],\n",
       "       [6.7, 3.3, 5.7, 2.5],\n",
       "       [6.7, 3. , 5.2, 2.3],\n",
       "       [6.3, 2.5, 5. , 1.9],\n",
       "       [6.5, 3. , 5.2, 2. ],\n",
       "       [6.2, 3.4, 5.4, 2.3],\n",
       "       [5.9, 3. , 5.1, 1.8]])"
      ]
     },
     "execution_count": 6,
     "metadata": {},
     "output_type": "execute_result"
    }
   ],
   "source": [
    "#extraire les caractéristiques (features) du dataset\n",
    "#et les enregister dans la variable X\n",
    "X = iris.data\n",
    "\n",
    "#afficher X\n",
    "X"
   ]
  },
  {
   "cell_type": "code",
   "execution_count": 7,
   "id": "3665aa01-cc7e-4d86-8de7-6bfb9567916f",
   "metadata": {},
   "outputs": [
    {
     "data": {
      "text/plain": [
       "(150, 4)"
      ]
     },
     "execution_count": 7,
     "metadata": {},
     "output_type": "execute_result"
    }
   ],
   "source": [
    "#afficher la forme du tableau des caractéristiques  \n",
    "X.shape"
   ]
  },
  {
   "cell_type": "code",
   "execution_count": 8,
   "id": "5a5024f7-1450-462b-b03b-79be2a43a3f6",
   "metadata": {},
   "outputs": [
    {
     "data": {
      "text/plain": [
       "array([0, 0, 0, 0, 0, 0, 0, 0, 0, 0, 0, 0, 0, 0, 0, 0, 0, 0, 0, 0, 0, 0,\n",
       "       0, 0, 0, 0, 0, 0, 0, 0, 0, 0, 0, 0, 0, 0, 0, 0, 0, 0, 0, 0, 0, 0,\n",
       "       0, 0, 0, 0, 0, 0, 1, 1, 1, 1, 1, 1, 1, 1, 1, 1, 1, 1, 1, 1, 1, 1,\n",
       "       1, 1, 1, 1, 1, 1, 1, 1, 1, 1, 1, 1, 1, 1, 1, 1, 1, 1, 1, 1, 1, 1,\n",
       "       1, 1, 1, 1, 1, 1, 1, 1, 1, 1, 1, 1, 2, 2, 2, 2, 2, 2, 2, 2, 2, 2,\n",
       "       2, 2, 2, 2, 2, 2, 2, 2, 2, 2, 2, 2, 2, 2, 2, 2, 2, 2, 2, 2, 2, 2,\n",
       "       2, 2, 2, 2, 2, 2, 2, 2, 2, 2, 2, 2, 2, 2, 2, 2, 2, 2])"
      ]
     },
     "execution_count": 8,
     "metadata": {},
     "output_type": "execute_result"
    }
   ],
   "source": [
    "#extraire les cibles (labels/target) du dataset (ici ce sont les espèces de la fleur d'Iris)\n",
    "y = iris.target\n",
    "\n",
    "#afficher y\n",
    "y"
   ]
  },
  {
   "cell_type": "code",
   "execution_count": 9,
   "id": "16ffc48d-431a-4926-b04d-22124e130b02",
   "metadata": {},
   "outputs": [
    {
     "data": {
      "text/plain": [
       "(150,)"
      ]
     },
     "execution_count": 9,
     "metadata": {},
     "output_type": "execute_result"
    }
   ],
   "source": [
    "#afficher la forme des cibles (labels/target) du dataset\n",
    "y.shape"
   ]
  },
  {
   "cell_type": "code",
   "execution_count": 10,
   "id": "2a06377d-f923-40ae-b61d-a3e28a54fff3",
   "metadata": {},
   "outputs": [
    {
     "data": {
      "text/plain": [
       "Text(0.5, 1.0, \"Répartition des espèces d'Iris\")"
      ]
     },
     "execution_count": 10,
     "metadata": {},
     "output_type": "execute_result"
    },
    {
     "data": {
      "image/png": "[encoded data removed]",
      "text/plain": [
       "<Figure size 640x480 with 1 Axes>"
      ]
     },
     "metadata": {},
     "output_type": "display_data"
    }
   ],
   "source": [
    "#créer un nuage de points avec les deux premières caractéristiques  \n",
    "#X[:, 0] correspond à la première caractéristique (longueur des sépales)  \n",
    "#X[:, 1] correspond à la deuxième caractéristique (largeur des sépales)  \n",
    "#c=y colorie les points en fonction des classes des fleurs d'Iris  \n",
    "#alpha=0.8 définit l'opacité des points (plus plus c'est opaque, plus il y a de points les uns sur les autres)\n",
    "plt.scatter(X[:, 0], X[:, 1], c=y, alpha=0.8)\n",
    "\n",
    "#afficher le graphique  \n",
    "plt.xlabel('Longueur des sépales')  #l'axe des x\n",
    "plt.ylabel('Largeur des sépales')  #l'axe des y\n",
    "plt.title('Répartition des espèces d\\'Iris')    #le titre du graphique"
   ]
  },
  {
   "cell_type": "code",
   "execution_count": 11,
   "id": "fa56b9e5-9cb6-4e84-b78f-f1d8bf8f2ffb",
   "metadata": {},
   "outputs": [
    {
     "name": "stdout",
     "output_type": "stream",
     "text": [
      "Train set (80% des données): (120, 4)\n",
      "Test set (20% des données): (30, 4)\n"
     ]
    }
   ],
   "source": [
    "#créer les tableaux X_train, X_test, y_train et y_test\n",
    "#en utilisant la fonction train_test_split() et les données X (features) et y (target)\n",
    "#définir le pourcentage de données avec test_size=0.2\n",
    "#càd 20% des données sont pour le test set et 80% des données sont pour le train set\n",
    "X_train, X_test, y_train, y_test = train_test_split(X, y, test_size=0.2, random_state= 5)\n",
    "\n",
    "#afficher la forme de X_train\n",
    "print('Train set (80% des données):', X_train.shape)\n",
    "\n",
    "#afficher la forme de X_test\n",
    "print('Test set (20% des données):', X_test.shape)"
   ]
  },
  {
   "cell_type": "code",
   "execution_count": 12,
   "id": "83ad2c1c-23a5-4f42-933a-51699b3d2447",
   "metadata": {},
   "outputs": [
    {
     "data": {
      "text/plain": [
       "Text(0.5, 1.0, \"Répartition des espèces d'Iris dans le test set\")"
      ]
     },
     "execution_count": 12,
     "metadata": {},
     "output_type": "execute_result"
    },
    {
     "data": {
      "image/png": "[encoded data removed]",
      "text/plain": [
       "<Figure size 1200x400 with 2 Axes>"
      ]
     },
     "metadata": {},
     "output_type": "display_data"
    }
   ],
   "source": [
    "#créer une figure avec des dimensions personalisées\n",
    "plt.figure(figsize= (12, 4))\n",
    "\n",
    "#créer des subplots pour afficher 2 graphs\n",
    "#1er graphique\n",
    "plt.subplot(121)\n",
    "\n",
    "#créer un nuage de points avec les deux premières caractéristiques de X_train \n",
    "#X_train[:, 0] correspond à la première caractéristique (longueur des sépales) de X_train\n",
    "#X_train[:, 1] correspond à la deuxième caractéristique (largeur des sépales) de X_train\n",
    "#c=y_train colorie les points en fonction des classes des iris de y_train\n",
    "#alpha=0.8 définit l'opacité des points (plus plus c'est opaque, plus il y a de points)\n",
    "plt.scatter(X_train[:, 0], X_train[:, 1], c=y_train, alpha=0.8)\n",
    "\n",
    "#afficher le 1er graphique\n",
    "plt.xlabel('Longueur des sépales')     #axe des x\n",
    "plt.ylabel('Largeur des sépales')      #axe des y\n",
    "plt.title('Répartition des espèces d\\'Iris dans le train set')   #titre du graphique\n",
    "\n",
    "#2ème graphique\n",
    "plt.subplot(122)\n",
    "\n",
    "#créer un nuage de points avec les deux premières caractéristiques de X_test \n",
    "#X_train[:, 0] correspond à la première caractéristique (longueur des sépales) de X_test\n",
    "#X_train[:, 1] correspond à la deuxième caractéristique (largeur des sépales) de X_test\n",
    "#c=y_test colorie les points en fonction des classes des iris de y_test\n",
    "#alpha=0.8 définit l'opacité des points (plus plus c'est opaque, plus il y a de points les uns sur les autres)\n",
    "plt.scatter(X_test[:, 0], X_test[:, 1], c=y_test, alpha=0.8)\n",
    "\n",
    "#afficher le 2ème graphique  \n",
    "plt.xlabel('Longueur des sépales')     #axe des x \n",
    "plt.ylabel('Largeur des sépales')     #axe des y\n",
    "plt.title('Répartition des espèces d\\'Iris dans le test set')   #titre du graphique"
   ]
  },
  {
   "cell_type": "code",
   "execution_count": 13,
   "id": "807223ad-7c3f-4a1a-a7e0-d46be133734b",
   "metadata": {},
   "outputs": [
    {
     "name": "stdout",
     "output_type": "stream",
     "text": [
      "Train score: 1.0\n"
     ]
    }
   ],
   "source": [
    "#créer un modèle de KNeighborsClassifier()\n",
    "#en fixant le nombre de voisins à 1\n",
    "model= KNeighborsClassifier(n_neighbors=1)\n",
    "\n",
    "#entrainer le modèle\n",
    "model.fit(X_train, y_train)\n",
    "\n",
    "#afficher le score\n",
    "print('Train score:', model.score(X_train, y_train))"
   ]
  },
  {
   "cell_type": "code",
   "execution_count": 14,
   "id": "e412b0cf-a6da-49f1-a786-b3fb51bdd03f",
   "metadata": {},
   "outputs": [],
   "source": [
    "#le score est de 100%\n",
    "#ça ne veut pas dire que le modèle réussira à 100% les prèdictions dans le futur\n",
    "#pour avoir une idée de la performance future du modèle, il le faut l'évaluer sur les données du test set\n",
    "# càd les données qu'il n'a jamais vu"
   ]
  },
  {
   "cell_type": "code",
   "execution_count": 15,
   "id": "47a5bd36-c0e6-460e-a7c0-55dc4f1f815a",
   "metadata": {},
   "outputs": [
    {
     "name": "stdout",
     "output_type": "stream",
     "text": [
      "Test score: 0.9\n"
     ]
    }
   ],
   "source": [
    "#afficher le score de l'évaluation à l'aide du test set\n",
    "print('Test score:', model.score(X_test, y_test))"
   ]
  },
  {
   "cell_type": "markdown",
   "id": "b9ae850e-04fe-420b-98f4-9981ba5e88ce",
   "metadata": {},
   "source": [
    "## Validation set : améliorer le modèle"
   ]
  },
  {
   "cell_type": "code",
   "execution_count": 17,
   "id": "34f81a3a-039f-4f77-a500-98e2369a6cf4",
   "metadata": {},
   "outputs": [
    {
     "name": "stdout",
     "output_type": "stream",
     "text": [
      "Train score: 0.975\n",
      "Test score: 0.9333333333333333\n"
     ]
    }
   ],
   "source": [
    "#pour améliorer la performance du modèle, on change le n_neighbors\n",
    "#(n_neighbors=3)\n",
    "\n",
    "#créer un modèle de KNeighborsClassifier()\n",
    "#en fixant le nombre de voisins à 3\n",
    "model= KNeighborsClassifier(n_neighbors=3)\n",
    "\n",
    "#entrainer le modèle\n",
    "model.fit(X_train, y_train)\n",
    "\n",
    "#afficher les scores\n",
    "print('Train score:', model.score(X_train, y_train))\n",
    "print('Test score:', model.score(X_test, y_test))"
   ]
  },
  {
   "cell_type": "code",
   "execution_count": 18,
   "id": "33f391a6-7513-489c-8c6b-9200f085437f",
   "metadata": {},
   "outputs": [],
   "source": [
    "#il y a une amélioration du est score\n",
    "# 0.93 > 0.9"
   ]
  },
  {
   "cell_type": "code",
   "execution_count": 19,
   "id": "c805d85e-f9d8-4f78-ba76-006082b4c615",
   "metadata": {},
   "outputs": [
    {
     "name": "stdout",
     "output_type": "stream",
     "text": [
      "Train score: 0.9833333333333333\n",
      "Test score: 0.9666666666666667\n"
     ]
    }
   ],
   "source": [
    "#pour améliorer la performance du modèle, on change le n_neighbors\n",
    "#(n_neighbors=6)\n",
    "\n",
    "#créer un modèle de KNeighborsClassifier()\n",
    "#en fixant le nombre de voisins à 6\n",
    "model= KNeighborsClassifier(n_neighbors=6)\n",
    "\n",
    "#entrainer le modèle\n",
    "model.fit(X_train, y_train)\n",
    "\n",
    "#afficher les scores\n",
    "print('Train score:', model.score(X_train, y_train))\n",
    "print('Test score:', model.score(X_test, y_test))"
   ]
  },
  {
   "cell_type": "code",
   "execution_count": 20,
   "id": "6e4624ac-f2cf-4533-b43e-833fd63a5cdc",
   "metadata": {},
   "outputs": [],
   "source": [
    "#il y a une amélioration du est score\n",
    "# 0.96 > 0.93 > 0.9"
   ]
  },
  {
   "cell_type": "code",
   "execution_count": 21,
   "id": "d03a02fc-d13d-4e70-a507-e925b56fc1f3",
   "metadata": {},
   "outputs": [
    {
     "data": {
      "text/plain": [
       "\"\\n- Le réglage du modèle:\\n\\nSi on règle le modèle en utilisant le test set (comme on est en train de faire), alors on ne pourra plus utiliser ces données (du test set)\\npour faire l'évaluation finale du modèle.\\nPour évaluer un modèle, il faut le soummettre à des données qu'il n'a jamais vu.\\nSi on règle le modèle sur les données du test set, alors il aura vu ces données, puisqu'il est réglé dessus.\\nPour cette raison, on découpe une 3ème partie du dataset, on l'appelle le validation set (val set).\\nLe validation set, permet de régler le modèle tout en gardant de côté les données du test set,\\npour évaluer la machine sur des données qu'elle n'aura jamais vu.\\n\\n- Comment utiliser le validation set et le test set:\\n\\nQuand on veut comparer 2 modèles de ML, par exp un KNeighborsClassifier avec n_neighbors=3 et un autre avec n_neighbors=6,\\non entraine les 2 modèles sur le train set, puis sur le validation set,\\nensuite on selectionne celui qui aura la meilleure peformance sur le validation set,\\non pourra enfin évaluer ce modèle sur le test set (afin d'avoir une idée de sa performance dans la vraie vie).\\n\""
      ]
     },
     "execution_count": 21,
     "metadata": {},
     "output_type": "execute_result"
    }
   ],
   "source": [
    "\"\"\"\n",
    "- Le réglage du modèle:\n",
    "\n",
    "Si on règle le modèle en utilisant le test set (comme on est en train de faire), alors on ne pourra plus utiliser ces données (du test set)\n",
    "pour faire l'évaluation finale du modèle.\n",
    "Pour évaluer un modèle, il faut le soummettre à des données qu'il n'a jamais vu.\n",
    "Si on règle le modèle sur les données du test set, alors il aura vu ces données, puisqu'il est réglé dessus.\n",
    "Pour cette raison, on découpe une 3ème partie du dataset, on l'appelle le validation set (val set).\n",
    "Le validation set, permet de régler le modèle tout en gardant de côté les données du test set,\n",
    "pour évaluer la machine sur des données qu'elle n'aura jamais vu.\n",
    "\n",
    "- Comment utiliser le validation set et le test set:\n",
    "\n",
    "Quand on veut comparer 2 modèles de ML, par exp un KNeighborsClassifier avec n_neighbors=3 et un autre avec n_neighbors=6,\n",
    "on entraine les 2 modèles sur le train set, puis sur le validation set,\n",
    "ensuite on selectionne celui qui aura la meilleure peformance sur le validation set,\n",
    "on pourra enfin évaluer ce modèle sur le test set (afin d'avoir une idée de sa performance dans la vraie vie).\n",
    "\"\"\""
   ]
  },
  {
   "cell_type": "markdown",
   "id": "3d72a542-a929-42fd-a1ba-b144e0bd2f36",
   "metadata": {},
   "source": [
    "- **Mais comment savoir si on a fait un bon découpage du dataset pour entrainer le modèle et l'évaluer? Comment être sûr du modèle le plus performant?**"
   ]
  },
  {
   "cell_type": "markdown",
   "id": "0a3f0458-4f13-42c9-8cf7-e2d1aae8f862",
   "metadata": {},
   "source": [
    "- Il existe une solution face à cette question : **la cross validation.**"
   ]
  },
  {
   "cell_type": "markdown",
   "id": "c0671fc9-8da1-47ab-bce1-0b2969ba3a3d",
   "metadata": {},
   "source": [
    "## Cross validation"
   ]
  },
  {
   "cell_type": "markdown",
   "id": "d941cccf-6fca-417b-990c-867c5b38e3c3",
   "metadata": {},
   "source": [
    "https://youtu.be/VoyMOVfCSfc?si=WiSQUw4NCitAN0OY - **Cross Validation (techniques expliquées)**"
   ]
  },
  {
   "cell_type": "markdown",
   "id": "395262f8-5e79-4429-8247-f473a314ddfe",
   "metadata": {},
   "source": [
    "- Évaluation du classificateur KNN avec une validation croisée à 5 plis en utilisant la précision comme métrique de performance"
   ]
  },
  {
   "cell_type": "code",
   "execution_count": 27,
   "id": "3ee77fcd-34cc-47b4-b6d0-f91418a2768f",
   "metadata": {},
   "outputs": [
    {
     "data": {
      "text/plain": [
       "array([1.        , 1.        , 1.        , 0.95833333, 0.95833333])"
      ]
     },
     "execution_count": 27,
     "metadata": {},
     "output_type": "execute_result"
    }
   ],
   "source": [
    "#cross validaton avec KNeighborsClassifier() et les données X_train et y_train\n",
    "#cv=5 représente le nombre de splits (plis)\n",
    "#scoring= 'accuracy' représente le métric utilisé pour évaluer le modèle\n",
    "cross_val_score(KNeighborsClassifier(), X_train, y_train, cv=5, scoring= 'accuracy')"
   ]
  },
  {
   "cell_type": "code",
   "execution_count": 28,
   "id": "b4975d34-ea62-471e-91ce-985a37b8666f",
   "metadata": {},
   "outputs": [],
   "source": [
    "#on obtient 5 scores pour les 5 splits (plis) de la cross validation"
   ]
  },
  {
   "cell_type": "markdown",
   "id": "3520fdf8-4ee5-46ef-a411-8012ed77d204",
   "metadata": {},
   "source": [
    "**Explication**\n",
    "- **cross_val_score :** Cette fonction est utilisée pour évaluer la performance d'un modèle par validation croisée. Cela signifie que le jeu de données est divisé en plusieurs sous-ensembles (ou \"splits\" ou \"plis\"), et le modèle est entraîné et testé plusieurs fois, chaque fois en utilisant un pli différent pour les tests.\n",
    "- **KNeighborsClassifier() :** C'est l'instanciation du classificateur des k plus proches voisins (KNN), un algorithme couramment utilisé pour des tâches de classification.\n",
    "- **X_train et y_train :** Ce sont respectivement les caractéristiques (features) et les étiquettes (labels/target) des données d'entraînement. X_train contient les données à partir desquelles le modèle apprend, tandis que y_train contient les classes ou catégories correspondantes (ici ce sont les espèces de la fleur d'Iris).\n",
    "- **cv=5 :** Indique que la validation croisée doit se faire en 5 plis, ce qui signifie que le modèle sera entraîné et testé 5 fois, chaque fois avec un pli différent comme ensemble de test.\n",
    "- **scoring='accuracy' :** Cela spécifie que la métrique d'évaluation pour la performance du modèle sera la précision. La précision est le rapport entre le nombre de prédictions correctes et le nombre total de prédictions."
   ]
  },
  {
   "cell_type": "code",
   "execution_count": 30,
   "id": "ff67ec38-6464-4788-9e0a-c556304275e9",
   "metadata": {},
   "outputs": [
    {
     "data": {
      "text/plain": [
       "0.9833333333333334"
      ]
     },
     "execution_count": 30,
     "metadata": {},
     "output_type": "execute_result"
    }
   ],
   "source": [
    "#on calcule la moyenne des 5 scores obtenus\n",
    "cross_val_score(KNeighborsClassifier(), X_train, y_train, cv=5, scoring= 'accuracy').mean()"
   ]
  },
  {
   "cell_type": "markdown",
   "id": "c07ae6bb-3b52-4206-bca3-6004e2700180",
   "metadata": {},
   "source": [
    "**On peut maintenant évaluer différents modèles pour retenir celui qui a la meilleure performance. En changeant la valeur de n_neighbors**"
   ]
  },
  {
   "cell_type": "code",
   "execution_count": 32,
   "id": "50858d5e-6a75-4b4c-bd65-ede224d04e94",
   "metadata": {},
   "outputs": [
    {
     "data": {
      "text/plain": [
       "0.975"
      ]
     },
     "execution_count": 32,
     "metadata": {},
     "output_type": "execute_result"
    }
   ],
   "source": [
    "#on calcule la moyenne des 5 scores\n",
    "#avec n_neighbors= 1\n",
    "cross_val_score(KNeighborsClassifier(1), X_train, y_train, cv=5, scoring= 'accuracy').mean()"
   ]
  },
  {
   "cell_type": "code",
   "execution_count": 33,
   "id": "cb40271d-a5bd-4e57-88f4-2d3c601397e0",
   "metadata": {},
   "outputs": [],
   "source": [
    "#on obtient un score de 97%"
   ]
  },
  {
   "cell_type": "code",
   "execution_count": 34,
   "id": "dcdc27f5-b717-4114-b477-a4fba63689c0",
   "metadata": {},
   "outputs": [
    {
     "data": {
      "text/plain": [
       "0.9666666666666668"
      ]
     },
     "execution_count": 34,
     "metadata": {},
     "output_type": "execute_result"
    }
   ],
   "source": [
    "#on calcule la moyenne des 5 scores\n",
    "#avec n_neighbors= 2\n",
    "cross_val_score(KNeighborsClassifier(2), X_train, y_train, cv=5, scoring= 'accuracy').mean()"
   ]
  },
  {
   "cell_type": "code",
   "execution_count": 35,
   "id": "4fd18602-eda7-4bdf-9c0e-a524f518462e",
   "metadata": {},
   "outputs": [
    {
     "data": {
      "text/plain": [
       "0.975"
      ]
     },
     "execution_count": 35,
     "metadata": {},
     "output_type": "execute_result"
    }
   ],
   "source": [
    "#on calcule la moyenne des 5 scores\n",
    "#avec n_neighbors= 3\n",
    "cross_val_score(KNeighborsClassifier(3), X_train, y_train, cv=5, scoring= 'accuracy').mean()"
   ]
  },
  {
   "cell_type": "code",
   "execution_count": 36,
   "id": "66d16c02-f7c4-48ab-bffb-3f203d66873c",
   "metadata": {},
   "outputs": [
    {
     "data": {
      "text/plain": [
       "0.9666666666666668"
      ]
     },
     "execution_count": 36,
     "metadata": {},
     "output_type": "execute_result"
    }
   ],
   "source": [
    "#on calcule la moyenne des 5 scores\n",
    "#avec n_neighbors= 4\n",
    "cross_val_score(KNeighborsClassifier(4), X_train, y_train, cv=5, scoring= 'accuracy').mean()"
   ]
  },
  {
   "cell_type": "code",
   "execution_count": 37,
   "id": "47866c47-a8fe-47b3-b450-62bfe73097cf",
   "metadata": {},
   "outputs": [
    {
     "data": {
      "text/plain": [
       "Text(0.5, 1.0, 'Validation croisée pour KNN')"
      ]
     },
     "execution_count": 37,
     "metadata": {},
     "output_type": "execute_result"
    },
    {
     "data": {
      "image/png": "[encoded data removed]",
      "text/plain": [
       "<Figure size 640x480 with 1 Axes>"
      ]
     },
     "metadata": {},
     "output_type": "display_data"
    }
   ],
   "source": [
    "#pour aller plus vite, on peut utiliser une boucle for\n",
    "val_score= []\n",
    "#cette liste vide sert à stocker les scores de validation pour chaque valeur de k\n",
    "\n",
    "#boucle for pour Tester les valeurs de k\n",
    "#la boucle parcourt les valeurs de k de 1 à 49\n",
    "#chaque valeur de k correspond au nombre de voisins (n_neighbors=k) dans l'algorithme KNN\n",
    "for k in range(1, 50):  \n",
    "    #calculer la précision moyenne à l'aide de la validation croisée pour chaque valeur de k  \n",
    "    score = cross_val_score(KNeighborsClassifier(n_neighbors=k), X_train, y_train, cv=5).mean()  \n",
    "    val_score.append(score)\n",
    "#à chaque itération, le modèle KNN est entraîné avec la valeur k actuelle.\n",
    "#la précision moyenne est calculée à l'aide de cross_val_score et est ajoutée à la liste val_score.\n",
    "\n",
    "# le tracé des scores de validation (val_score) en fonction des valeurs de k (range(1, 50))\n",
    "plt.plot(range(1, 50), val_score)\n",
    "\n",
    "#configurations des axes\n",
    "plt.xlabel('Nombre de voisins (k)')  #axe des x\n",
    "plt.ylabel('Précision moyenne')      #axe des y\n",
    "plt.title('Validation croisée pour KNN')    #titre du graphique"
   ]
  },
  {
   "cell_type": "code",
   "execution_count": 38,
   "id": "6b710137-23f3-4e61-8a4c-2b6fa70a1d48",
   "metadata": {},
   "outputs": [],
   "source": [
    "# on déduit la meilleure performance en choisissant la bonne valeur de k càd aux alentours de 10\n",
    "#qui correspond à un score de 98%"
   ]
  },
  {
   "cell_type": "markdown",
   "id": "c5855842-267b-45a4-9ca7-619e4fa908c8",
   "metadata": {},
   "source": [
    "Dans SKlearn, il y a une fonction qui perrmet de créer ce graphique (sans avoir à utiliser la boucle for): **La validation curve.**"
   ]
  },
  {
   "cell_type": "markdown",
   "id": "0234e38c-d071-4b1a-98db-04600b8a302b",
   "metadata": {},
   "source": [
    "## Validation curve"
   ]
  },
  {
   "cell_type": "markdown",
   "id": "4d9c623a-d3eb-4c5e-a0bb-ab68fd7f9eae",
   "metadata": {},
   "source": [
    "En général, on a la formule:\n",
    "**validation_curve(modèle, X_train, y_train, param_name='hyperparamètre', param_range=valeurs, cv=5)**\n",
    "- **modèle:** le modèle utilisé (ici on a KNeighborsClassifier()).\n",
    "- **X_train, y_train:** sont les données de l'entainement (train set).\n",
    "- **param_name='hyperparamètre':** **écris en chaîne de caractères**, est l'hyperparamètre du modèle qu'on est en train de régler (ici c'est n_neighbors=k).\n",
    "- **param_range=valeurs:** sous forme d'itérateur, on seclectionne les différentes valeurs de l'hyperparamètre qu'on veut tester(ici c'est un tableau numpy allant de 1 à 49, np.arange(1,50)).\n",
    "- **cv=5:** est le nombre de splits (plis)."
   ]
  },
  {
   "cell_type": "code",
   "execution_count": 42,
   "id": "f415e9a5-3909-4515-93e7-b496bee5607a",
   "metadata": {},
   "outputs": [],
   "source": [
    "#application\n",
    "#le modèle KNN\n",
    "model= KNeighborsClassifier()\n",
    "# les valeurs de k (nombre de voisins/n_neighbors)\n",
    "k = np.arange(1,50)\n",
    "\n",
    "#le calcul des scores d'entraînement et de validation pour chaque valeur de k  \n",
    "#train_score: Liste des scores d'entraînement.\n",
    "#val_score: Liste des scores de validation.\n",
    "train_score, val_score = validation_curve(model, X_train, y_train, param_name='n_neighbors', param_range=k, cv=5)"
   ]
  },
  {
   "cell_type": "code",
   "execution_count": 43,
   "id": "ce4a473c-bf7a-4c9f-9c0a-ec92e519f489",
   "metadata": {},
   "outputs": [
    {
     "data": {
      "text/plain": [
       "array([[1.        , 1.        , 0.95833333, 0.95833333, 0.95833333],\n",
       "       [0.95833333, 1.        , 0.95833333, 0.95833333, 0.95833333],\n",
       "       [1.        , 1.        , 0.95833333, 0.95833333, 0.95833333],\n",
       "       [1.        , 0.95833333, 0.95833333, 0.95833333, 0.95833333],\n",
       "       [1.        , 1.        , 1.        , 0.95833333, 0.95833333],\n",
       "       [0.95833333, 0.95833333, 0.95833333, 0.95833333, 0.95833333],\n",
       "       [1.        , 0.95833333, 0.95833333, 0.95833333, 0.95833333],\n",
       "       [1.        , 0.95833333, 0.95833333, 0.95833333, 0.95833333],\n",
       "       [1.        , 1.        , 1.        , 0.95833333, 0.95833333],\n",
       "       [1.        , 1.        , 0.95833333, 0.95833333, 0.95833333],\n",
       "       [1.        , 1.        , 1.        , 0.95833333, 0.95833333],\n",
       "       [1.        , 1.        , 0.95833333, 0.95833333, 0.95833333],\n",
       "       [1.        , 1.        , 1.        , 0.95833333, 0.95833333],\n",
       "       [1.        , 0.95833333, 1.        , 0.95833333, 0.95833333],\n",
       "       [1.        , 0.91666667, 1.        , 0.95833333, 0.95833333],\n",
       "       [1.        , 0.95833333, 1.        , 0.95833333, 0.95833333],\n",
       "       [1.        , 0.95833333, 1.        , 0.95833333, 0.95833333],\n",
       "       [0.95833333, 0.91666667, 0.95833333, 0.95833333, 0.95833333],\n",
       "       [0.95833333, 0.95833333, 0.95833333, 0.95833333, 0.95833333],\n",
       "       [0.95833333, 0.95833333, 0.91666667, 0.95833333, 0.95833333],\n",
       "       [0.95833333, 0.95833333, 0.91666667, 0.95833333, 0.95833333],\n",
       "       [0.95833333, 0.95833333, 0.91666667, 0.95833333, 0.95833333],\n",
       "       [0.95833333, 0.95833333, 0.91666667, 0.95833333, 0.95833333],\n",
       "       [0.95833333, 0.95833333, 0.91666667, 0.95833333, 0.95833333],\n",
       "       [0.95833333, 0.91666667, 0.91666667, 0.95833333, 0.91666667],\n",
       "       [0.95833333, 0.83333333, 0.91666667, 0.95833333, 0.95833333],\n",
       "       [0.95833333, 0.875     , 0.91666667, 0.95833333, 0.95833333],\n",
       "       [0.95833333, 0.83333333, 0.91666667, 0.95833333, 0.95833333],\n",
       "       [0.95833333, 0.83333333, 0.91666667, 0.95833333, 0.91666667],\n",
       "       [0.95833333, 0.83333333, 0.91666667, 1.        , 0.95833333],\n",
       "       [0.91666667, 0.79166667, 0.91666667, 1.        , 0.91666667],\n",
       "       [0.95833333, 0.79166667, 0.91666667, 1.        , 0.91666667],\n",
       "       [0.91666667, 0.79166667, 0.91666667, 0.95833333, 0.91666667],\n",
       "       [0.91666667, 0.83333333, 0.91666667, 0.95833333, 0.83333333],\n",
       "       [0.91666667, 0.79166667, 0.91666667, 0.95833333, 0.875     ],\n",
       "       [0.91666667, 0.79166667, 0.91666667, 1.        , 0.875     ],\n",
       "       [0.91666667, 0.79166667, 0.91666667, 1.        , 0.875     ],\n",
       "       [0.91666667, 0.79166667, 0.91666667, 1.        , 0.83333333],\n",
       "       [0.91666667, 0.79166667, 0.91666667, 0.95833333, 0.83333333],\n",
       "       [0.91666667, 0.79166667, 0.91666667, 1.        , 0.83333333],\n",
       "       [0.91666667, 0.79166667, 0.91666667, 1.        , 0.83333333],\n",
       "       [0.91666667, 0.79166667, 0.91666667, 1.        , 0.83333333],\n",
       "       [0.91666667, 0.79166667, 0.91666667, 0.95833333, 0.875     ],\n",
       "       [0.875     , 0.79166667, 0.91666667, 0.95833333, 0.83333333],\n",
       "       [0.91666667, 0.79166667, 0.875     , 0.95833333, 0.83333333],\n",
       "       [0.875     , 0.83333333, 0.875     , 1.        , 0.83333333],\n",
       "       [0.91666667, 0.79166667, 0.875     , 0.95833333, 0.83333333],\n",
       "       [0.91666667, 0.83333333, 0.91666667, 0.95833333, 0.83333333],\n",
       "       [0.91666667, 0.79166667, 0.91666667, 0.95833333, 0.875     ]])"
      ]
     },
     "execution_count": 43,
     "metadata": {},
     "output_type": "execute_result"
    }
   ],
   "source": [
    "#les scores de la cross validation (val_score)\n",
    "val_score"
   ]
  },
  {
   "cell_type": "code",
   "execution_count": 44,
   "id": "2af8f0ac-d24b-4400-9e36-e3b8c1cfb379",
   "metadata": {},
   "outputs": [
    {
     "data": {
      "text/plain": [
       "(49, 5)"
      ]
     },
     "execution_count": 44,
     "metadata": {},
     "output_type": "execute_result"
    }
   ],
   "source": [
    "#sa forme\n",
    "val_score.shape"
   ]
  },
  {
   "cell_type": "code",
   "execution_count": 45,
   "id": "007dbf39-d847-4fd4-bce3-1d6838b2fae3",
   "metadata": {},
   "outputs": [],
   "source": [
    "#les 49 lignes représentent les valeurs de n_neighbors testées\n",
    "#les 5 colonnes représentent les nombres de splits (plis) cv=5"
   ]
  },
  {
   "cell_type": "code",
   "execution_count": 46,
   "id": "83bef455-e525-466c-a614-48de7176d241",
   "metadata": {},
   "outputs": [
    {
     "data": {
      "text/plain": [
       "array([0.975     , 0.96666667, 0.975     , 0.96666667, 0.98333333,\n",
       "       0.95833333, 0.96666667, 0.96666667, 0.98333333, 0.975     ,\n",
       "       0.98333333, 0.975     , 0.98333333, 0.975     , 0.96666667,\n",
       "       0.975     , 0.975     , 0.95      , 0.95833333, 0.95      ,\n",
       "       0.95      , 0.95      , 0.95      , 0.95      , 0.93333333,\n",
       "       0.925     , 0.93333333, 0.925     , 0.91666667, 0.93333333,\n",
       "       0.90833333, 0.91666667, 0.9       , 0.89166667, 0.89166667,\n",
       "       0.9       , 0.9       , 0.89166667, 0.88333333, 0.89166667,\n",
       "       0.89166667, 0.89166667, 0.89166667, 0.875     , 0.875     ,\n",
       "       0.88333333, 0.875     , 0.89166667, 0.89166667])"
      ]
     },
     "execution_count": 46,
     "metadata": {},
     "output_type": "execute_result"
    }
   ],
   "source": [
    "#calculer la moyennes de val_score, selon chaque ligne (axis=1)\n",
    "val_score.mean(axis=1)"
   ]
  },
  {
   "cell_type": "code",
   "execution_count": 47,
   "id": "2dd23b7c-748b-4308-9ae2-b5363a24dcbf",
   "metadata": {},
   "outputs": [
    {
     "data": {
      "text/plain": [
       "Text(0.5, 1.0, 'Validation croisée pour KNN')"
      ]
     },
     "execution_count": 47,
     "metadata": {},
     "output_type": "execute_result"
    },
    {
     "data": {
      "image/png": "[encoded data removed]",
      "text/plain": [
       "<Figure size 640x480 with 1 Axes>"
      ]
     },
     "metadata": {},
     "output_type": "display_data"
    }
   ],
   "source": [
    "#afficher le graphique val_score en fonction des valeurs de k\n",
    "plt.plot(k, val_score.mean(axis=1)) #k en abscisses, et la moyennes des scores val_score en ordonnées\n",
    "\n",
    "#configurations des axes\n",
    "plt.xlabel('Nombre de voisins (k)')  #axe des x (les abscisses)\n",
    "plt.ylabel('Moyenne du score')      #axe des y (les ordonnées)\n",
    "plt.title('Validation croisée pour KNN')    #titre du graphique"
   ]
  },
  {
   "cell_type": "code",
   "execution_count": 48,
   "id": "1d6de493-ebe5-4318-9bc0-0495ddc28218",
   "metadata": {},
   "outputs": [
    {
     "data": {
      "text/plain": [
       "<matplotlib.legend.Legend at 0x19e3aae5a30>"
      ]
     },
     "execution_count": 48,
     "metadata": {},
     "output_type": "execute_result"
    },
    {
     "data": {
      "image/png": "[encoded data removed]",
      "text/plain": [
       "<Figure size 640x480 with 1 Axes>"
      ]
     },
     "metadata": {},
     "output_type": "display_data"
    }
   ],
   "source": [
    "#pour voir aussi les scores du train set (train_score) dans le même graphique\n",
    "#afficher le graphique de la moyenne de val_score en fonction des valeurs de k\n",
    "#k en abscisses, et la moyennes des scores val_score en ordonnées\n",
    "plt.plot(k, val_score.mean(axis=1), label= 'Validation')\n",
    "\n",
    "#afficher le graphique de la moyenne de train_score en fonction des valeurs de k\n",
    "#k en abscisses, et la moyennes des scores train_score en ordonnées\n",
    "plt.plot(k, train_score.mean(axis=1), label= 'Training')\n",
    "\n",
    "#configurations des axes \n",
    "plt.xlabel('Nombre de voisins (k)')  #axe des x (les abscisses)\n",
    "plt.ylabel('Moyenne du score')      #axe des y (les ordonnées)\n",
    "plt.title('Validation croisée pour KNN')    #titre du graphique\n",
    "plt.legend()    #ajouter une légende"
   ]
  },
  {
   "cell_type": "code",
   "execution_count": 49,
   "id": "f35dbe5c-0283-43ed-913c-7337d56e6d11",
   "metadata": {},
   "outputs": [],
   "source": [
    "#On déduit qu'on peut avoir 98% de performance en choisissant la bonne valeur de k càd environ 10"
   ]
  },
  {
   "cell_type": "markdown",
   "id": "4bc6f059-519d-4615-8291-75ab093c2cff",
   "metadata": {},
   "source": [
    "- Dans l'algorithme KNN, il existe d'autres paramètres que n_neighbors (le nombre de voisins). On a, comme exemples, le type de distance (distance de Manhattan ou distance euclidienne), on peut aussi choisir d'accorder, ou non, des coefficients sur les distances.\n",
    "\n",
    "**En réglant ces hyper-paramètres**, on peut, peut-être, avoir **une meilleure performance**.\n",
    "\n",
    "Pour tester toutes ces combinaisons, on utilise **GridSearchCV**."
   ]
  },
  {
   "cell_type": "markdown",
   "id": "92ab0c24-4f3a-494d-9bce-5e7770de79cd",
   "metadata": {},
   "source": [
    "## GridSearchCV"
   ]
  },
  {
   "cell_type": "markdown",
   "id": "51264c81-57d7-4d3e-8d48-f5f7220a247e",
   "metadata": {},
   "source": [
    "GridSearchCV permet de trouver le modèle avec les meilleurs hyper-paramètres en comparant les différentes performances de chaque combinaison grâce à la technique de cross-validation.\n",
    "\n",
    "- Sa formule:\n",
    "**Grid= GridSearchCV(modèle, param_grid, cv)**\n",
    "\n",
    "**Application:**\n",
    "\n",
    "Utiliser GridSearchCV pour effectuer une recherche d'hyperparamètres sur le classificateur KNeighborsClassifier, en testant différentes valeurs pour le nombre de voisins (n_neighbors) et les métriques de distance (metric):"
   ]
  },
  {
   "cell_type": "code",
   "execution_count": 53,
   "id": "0b3e3239-ae5f-4c75-ae8f-271bd638c2a3",
   "metadata": {},
   "outputs": [],
   "source": [
    "#créer un dictionnaire (une grille) qui contient les différents paramètres à régler\n",
    "#ici, n_neighbors varie de 1 à 19 et metric prend les valeurs 'euclidean' et 'manhattan'.\n",
    "param_grid = {\n",
    "    'n_neighbors' : np.arange(1,20),\n",
    "    'metric' : ['euclidean', 'manhattan']\n",
    "}\n",
    "\n",
    "#initialiser GridSearchCV\n",
    "#cv=5 signifie une cross validation à 5 splits\n",
    "grid = GridSearchCV(KNeighborsClassifier(), param_grid, cv=5)"
   ]
  },
  {
   "cell_type": "code",
   "execution_count": 54,
   "id": "e78eafc1-324a-4e7b-96b1-cc57d3ea58e0",
   "metadata": {},
   "outputs": [],
   "source": [
    "#au final, on a une grille qui contient plusieurs estimateurs"
   ]
  },
  {
   "cell_type": "code",
   "execution_count": 55,
   "id": "f5888291-5004-44eb-b781-10526534887d",
   "metadata": {},
   "outputs": [
    {
     "data": {
      "text/html": [
       "<style>#sk-container-id-1 {\n",
       "  /* Definition of color scheme common for light and dark mode */\n",
       "  --sklearn-color-text: black;\n",
       "  --sklearn-color-line: gray;\n",
       "  /* Definition of color scheme for unfitted estimators */\n",
       "  --sklearn-color-unfitted-level-0: #fff5e6;\n",
       "  --sklearn-color-unfitted-level-1: #f6e4d2;\n",
       "  --sklearn-color-unfitted-level-2: #ffe0b3;\n",
       "  --sklearn-color-unfitted-level-3: chocolate;\n",
       "  /* Definition of color scheme for fitted estimators */\n",
       "  --sklearn-color-fitted-level-0: #f0f8ff;\n",
       "  --sklearn-color-fitted-level-1: #d4ebff;\n",
       "  --sklearn-color-fitted-level-2: #b3dbfd;\n",
       "  --sklearn-color-fitted-level-3: cornflowerblue;\n",
       "\n",
       "  /* Specific color for light theme */\n",
       "  --sklearn-color-text-on-default-background: var(--sg-text-color, var(--theme-code-foreground, var(--jp-content-font-color1, black)));\n",
       "  --sklearn-color-background: var(--sg-background-color, var(--theme-background, var(--jp-layout-color0, white)));\n",
       "  --sklearn-color-border-box: var(--sg-text-color, var(--theme-code-foreground, var(--jp-content-font-color1, black)));\n",
       "  --sklearn-color-icon: #696969;\n",
       "\n",
       "  @media (prefers-color-scheme: dark) {\n",
       "    /* Redefinition of color scheme for dark theme */\n",
       "    --sklearn-color-text-on-default-background: var(--sg-text-color, var(--theme-code-foreground, var(--jp-content-font-color1, white)));\n",
       "    --sklearn-color-background: var(--sg-background-color, var(--theme-background, var(--jp-layout-color0, #111)));\n",
       "    --sklearn-color-border-box: var(--sg-text-color, var(--theme-code-foreground, var(--jp-content-font-color1, white)));\n",
       "    --sklearn-color-icon: #878787;\n",
       "  }\n",
       "}\n",
       "\n",
       "#sk-container-id-1 {\n",
       "  color: var(--sklearn-color-text);\n",
       "}\n",
       "\n",
       "#sk-container-id-1 pre {\n",
       "  padding: 0;\n",
       "}\n",
       "\n",
       "#sk-container-id-1 input.sk-hidden--visually {\n",
       "  border: 0;\n",
       "  clip: rect(1px 1px 1px 1px);\n",
       "  clip: rect(1px, 1px, 1px, 1px);\n",
       "  height: 1px;\n",
       "  margin: -1px;\n",
       "  overflow: hidden;\n",
       "  padding: 0;\n",
       "  position: absolute;\n",
       "  width: 1px;\n",
       "}\n",
       "\n",
       "#sk-container-id-1 div.sk-dashed-wrapped {\n",
       "  border: 1px dashed var(--sklearn-color-line);\n",
       "  margin: 0 0.4em 0.5em 0.4em;\n",
       "  box-sizing: border-box;\n",
       "  padding-bottom: 0.4em;\n",
       "  background-color: var(--sklearn-color-background);\n",
       "}\n",
       "\n",
       "#sk-container-id-1 div.sk-container {\n",
       "  /* jupyter's `normalize.less` sets `[hidden] { display: none; }`\n",
       "     but bootstrap.min.css set `[hidden] { display: none !important; }`\n",
       "     so we also need the `!important` here to be able to override the\n",
       "     default hidden behavior on the sphinx rendered scikit-learn.org.\n",
       "     See: https://github.com/scikit-learn/scikit-learn/issues/21755 */\n",
       "  display: inline-block !important;\n",
       "  position: relative;\n",
       "}\n",
       "\n",
       "#sk-container-id-1 div.sk-text-repr-fallback {\n",
       "  display: none;\n",
       "}\n",
       "\n",
       "div.sk-parallel-item,\n",
       "div.sk-serial,\n",
       "div.sk-item {\n",
       "  /* draw centered vertical line to link estimators */\n",
       "  background-image: linear-gradient(var(--sklearn-color-text-on-default-background), var(--sklearn-color-text-on-default-background));\n",
       "  background-size: 2px 100%;\n",
       "  background-repeat: no-repeat;\n",
       "  background-position: center center;\n",
       "}\n",
       "\n",
       "/* Parallel-specific style estimator block */\n",
       "\n",
       "#sk-container-id-1 div.sk-parallel-item::after {\n",
       "  content: \"\";\n",
       "  width: 100%;\n",
       "  border-bottom: 2px solid var(--sklearn-color-text-on-default-background);\n",
       "  flex-grow: 1;\n",
       "}\n",
       "\n",
       "#sk-container-id-1 div.sk-parallel {\n",
       "  display: flex;\n",
       "  align-items: stretch;\n",
       "  justify-content: center;\n",
       "  background-color: var(--sklearn-color-background);\n",
       "  position: relative;\n",
       "}\n",
       "\n",
       "#sk-container-id-1 div.sk-parallel-item {\n",
       "  display: flex;\n",
       "  flex-direction: column;\n",
       "}\n",
       "\n",
       "#sk-container-id-1 div.sk-parallel-item:first-child::after {\n",
       "  align-self: flex-end;\n",
       "  width: 50%;\n",
       "}\n",
       "\n",
       "#sk-container-id-1 div.sk-parallel-item:last-child::after {\n",
       "  align-self: flex-start;\n",
       "  width: 50%;\n",
       "}\n",
       "\n",
       "#sk-container-id-1 div.sk-parallel-item:only-child::after {\n",
       "  width: 0;\n",
       "}\n",
       "\n",
       "/* Serial-specific style estimator block */\n",
       "\n",
       "#sk-container-id-1 div.sk-serial {\n",
       "  display: flex;\n",
       "  flex-direction: column;\n",
       "  align-items: center;\n",
       "  background-color: var(--sklearn-color-background);\n",
       "  padding-right: 1em;\n",
       "  padding-left: 1em;\n",
       "}\n",
       "\n",
       "\n",
       "/* Toggleable style: style used for estimator/Pipeline/ColumnTransformer box that is\n",
       "clickable and can be expanded/collapsed.\n",
       "- Pipeline and ColumnTransformer use this feature and define the default style\n",
       "- Estimators will overwrite some part of the style using the `sk-estimator` class\n",
       "*/\n",
       "\n",
       "/* Pipeline and ColumnTransformer style (default) */\n",
       "\n",
       "#sk-container-id-1 div.sk-toggleable {\n",
       "  /* Default theme specific background. It is overwritten whether we have a\n",
       "  specific estimator or a Pipeline/ColumnTransformer */\n",
       "  background-color: var(--sklearn-color-background);\n",
       "}\n",
       "\n",
       "/* Toggleable label */\n",
       "#sk-container-id-1 label.sk-toggleable__label {\n",
       "  cursor: pointer;\n",
       "  display: block;\n",
       "  width: 100%;\n",
       "  margin-bottom: 0;\n",
       "  padding: 0.5em;\n",
       "  box-sizing: border-box;\n",
       "  text-align: center;\n",
       "}\n",
       "\n",
       "#sk-container-id-1 label.sk-toggleable__label-arrow:before {\n",
       "  /* Arrow on the left of the label */\n",
       "  content: \"▸\";\n",
       "  float: left;\n",
       "  margin-right: 0.25em;\n",
       "  color: var(--sklearn-color-icon);\n",
       "}\n",
       "\n",
       "#sk-container-id-1 label.sk-toggleable__label-arrow:hover:before {\n",
       "  color: var(--sklearn-color-text);\n",
       "}\n",
       "\n",
       "/* Toggleable content - dropdown */\n",
       "\n",
       "#sk-container-id-1 div.sk-toggleable__content {\n",
       "  max-height: 0;\n",
       "  max-width: 0;\n",
       "  overflow: hidden;\n",
       "  text-align: left;\n",
       "  /* unfitted */\n",
       "  background-color: var(--sklearn-color-unfitted-level-0);\n",
       "}\n",
       "\n",
       "#sk-container-id-1 div.sk-toggleable__content.fitted {\n",
       "  /* fitted */\n",
       "  background-color: var(--sklearn-color-fitted-level-0);\n",
       "}\n",
       "\n",
       "#sk-container-id-1 div.sk-toggleable__content pre {\n",
       "  margin: 0.2em;\n",
       "  border-radius: 0.25em;\n",
       "  color: var(--sklearn-color-text);\n",
       "  /* unfitted */\n",
       "  background-color: var(--sklearn-color-unfitted-level-0);\n",
       "}\n",
       "\n",
       "#sk-container-id-1 div.sk-toggleable__content.fitted pre {\n",
       "  /* unfitted */\n",
       "  background-color: var(--sklearn-color-fitted-level-0);\n",
       "}\n",
       "\n",
       "#sk-container-id-1 input.sk-toggleable__control:checked~div.sk-toggleable__content {\n",
       "  /* Expand drop-down */\n",
       "  max-height: 200px;\n",
       "  max-width: 100%;\n",
       "  overflow: auto;\n",
       "}\n",
       "\n",
       "#sk-container-id-1 input.sk-toggleable__control:checked~label.sk-toggleable__label-arrow:before {\n",
       "  content: \"▾\";\n",
       "}\n",
       "\n",
       "/* Pipeline/ColumnTransformer-specific style */\n",
       "\n",
       "#sk-container-id-1 div.sk-label input.sk-toggleable__control:checked~label.sk-toggleable__label {\n",
       "  color: var(--sklearn-color-text);\n",
       "  background-color: var(--sklearn-color-unfitted-level-2);\n",
       "}\n",
       "\n",
       "#sk-container-id-1 div.sk-label.fitted input.sk-toggleable__control:checked~label.sk-toggleable__label {\n",
       "  background-color: var(--sklearn-color-fitted-level-2);\n",
       "}\n",
       "\n",
       "/* Estimator-specific style */\n",
       "\n",
       "/* Colorize estimator box */\n",
       "#sk-container-id-1 div.sk-estimator input.sk-toggleable__control:checked~label.sk-toggleable__label {\n",
       "  /* unfitted */\n",
       "  background-color: var(--sklearn-color-unfitted-level-2);\n",
       "}\n",
       "\n",
       "#sk-container-id-1 div.sk-estimator.fitted input.sk-toggleable__control:checked~label.sk-toggleable__label {\n",
       "  /* fitted */\n",
       "  background-color: var(--sklearn-color-fitted-level-2);\n",
       "}\n",
       "\n",
       "#sk-container-id-1 div.sk-label label.sk-toggleable__label,\n",
       "#sk-container-id-1 div.sk-label label {\n",
       "  /* The background is the default theme color */\n",
       "  color: var(--sklearn-color-text-on-default-background);\n",
       "}\n",
       "\n",
       "/* On hover, darken the color of the background */\n",
       "#sk-container-id-1 div.sk-label:hover label.sk-toggleable__label {\n",
       "  color: var(--sklearn-color-text);\n",
       "  background-color: var(--sklearn-color-unfitted-level-2);\n",
       "}\n",
       "\n",
       "/* Label box, darken color on hover, fitted */\n",
       "#sk-container-id-1 div.sk-label.fitted:hover label.sk-toggleable__label.fitted {\n",
       "  color: var(--sklearn-color-text);\n",
       "  background-color: var(--sklearn-color-fitted-level-2);\n",
       "}\n",
       "\n",
       "/* Estimator label */\n",
       "\n",
       "#sk-container-id-1 div.sk-label label {\n",
       "  font-family: monospace;\n",
       "  font-weight: bold;\n",
       "  display: inline-block;\n",
       "  line-height: 1.2em;\n",
       "}\n",
       "\n",
       "#sk-container-id-1 div.sk-label-container {\n",
       "  text-align: center;\n",
       "}\n",
       "\n",
       "/* Estimator-specific */\n",
       "#sk-container-id-1 div.sk-estimator {\n",
       "  font-family: monospace;\n",
       "  border: 1px dotted var(--sklearn-color-border-box);\n",
       "  border-radius: 0.25em;\n",
       "  box-sizing: border-box;\n",
       "  margin-bottom: 0.5em;\n",
       "  /* unfitted */\n",
       "  background-color: var(--sklearn-color-unfitted-level-0);\n",
       "}\n",
       "\n",
       "#sk-container-id-1 div.sk-estimator.fitted {\n",
       "  /* fitted */\n",
       "  background-color: var(--sklearn-color-fitted-level-0);\n",
       "}\n",
       "\n",
       "/* on hover */\n",
       "#sk-container-id-1 div.sk-estimator:hover {\n",
       "  /* unfitted */\n",
       "  background-color: var(--sklearn-color-unfitted-level-2);\n",
       "}\n",
       "\n",
       "#sk-container-id-1 div.sk-estimator.fitted:hover {\n",
       "  /* fitted */\n",
       "  background-color: var(--sklearn-color-fitted-level-2);\n",
       "}\n",
       "\n",
       "/* Specification for estimator info (e.g. \"i\" and \"?\") */\n",
       "\n",
       "/* Common style for \"i\" and \"?\" */\n",
       "\n",
       ".sk-estimator-doc-link,\n",
       "a:link.sk-estimator-doc-link,\n",
       "a:visited.sk-estimator-doc-link {\n",
       "  float: right;\n",
       "  font-size: smaller;\n",
       "  line-height: 1em;\n",
       "  font-family: monospace;\n",
       "  background-color: var(--sklearn-color-background);\n",
       "  border-radius: 1em;\n",
       "  height: 1em;\n",
       "  width: 1em;\n",
       "  text-decoration: none !important;\n",
       "  margin-left: 1ex;\n",
       "  /* unfitted */\n",
       "  border: var(--sklearn-color-unfitted-level-1) 1pt solid;\n",
       "  color: var(--sklearn-color-unfitted-level-1);\n",
       "}\n",
       "\n",
       ".sk-estimator-doc-link.fitted,\n",
       "a:link.sk-estimator-doc-link.fitted,\n",
       "a:visited.sk-estimator-doc-link.fitted {\n",
       "  /* fitted */\n",
       "  border: var(--sklearn-color-fitted-level-1) 1pt solid;\n",
       "  color: var(--sklearn-color-fitted-level-1);\n",
       "}\n",
       "\n",
       "/* On hover */\n",
       "div.sk-estimator:hover .sk-estimator-doc-link:hover,\n",
       ".sk-estimator-doc-link:hover,\n",
       "div.sk-label-container:hover .sk-estimator-doc-link:hover,\n",
       ".sk-estimator-doc-link:hover {\n",
       "  /* unfitted */\n",
       "  background-color: var(--sklearn-color-unfitted-level-3);\n",
       "  color: var(--sklearn-color-background);\n",
       "  text-decoration: none;\n",
       "}\n",
       "\n",
       "div.sk-estimator.fitted:hover .sk-estimator-doc-link.fitted:hover,\n",
       ".sk-estimator-doc-link.fitted:hover,\n",
       "div.sk-label-container:hover .sk-estimator-doc-link.fitted:hover,\n",
       ".sk-estimator-doc-link.fitted:hover {\n",
       "  /* fitted */\n",
       "  background-color: var(--sklearn-color-fitted-level-3);\n",
       "  color: var(--sklearn-color-background);\n",
       "  text-decoration: none;\n",
       "}\n",
       "\n",
       "/* Span, style for the box shown on hovering the info icon */\n",
       ".sk-estimator-doc-link span {\n",
       "  display: none;\n",
       "  z-index: 9999;\n",
       "  position: relative;\n",
       "  font-weight: normal;\n",
       "  right: .2ex;\n",
       "  padding: .5ex;\n",
       "  margin: .5ex;\n",
       "  width: min-content;\n",
       "  min-width: 20ex;\n",
       "  max-width: 50ex;\n",
       "  color: var(--sklearn-color-text);\n",
       "  box-shadow: 2pt 2pt 4pt #999;\n",
       "  /* unfitted */\n",
       "  background: var(--sklearn-color-unfitted-level-0);\n",
       "  border: .5pt solid var(--sklearn-color-unfitted-level-3);\n",
       "}\n",
       "\n",
       ".sk-estimator-doc-link.fitted span {\n",
       "  /* fitted */\n",
       "  background: var(--sklearn-color-fitted-level-0);\n",
       "  border: var(--sklearn-color-fitted-level-3);\n",
       "}\n",
       "\n",
       ".sk-estimator-doc-link:hover span {\n",
       "  display: block;\n",
       "}\n",
       "\n",
       "/* \"?\"-specific style due to the `<a>` HTML tag */\n",
       "\n",
       "#sk-container-id-1 a.estimator_doc_link {\n",
       "  float: right;\n",
       "  font-size: 1rem;\n",
       "  line-height: 1em;\n",
       "  font-family: monospace;\n",
       "  background-color: var(--sklearn-color-background);\n",
       "  border-radius: 1rem;\n",
       "  height: 1rem;\n",
       "  width: 1rem;\n",
       "  text-decoration: none;\n",
       "  /* unfitted */\n",
       "  color: var(--sklearn-color-unfitted-level-1);\n",
       "  border: var(--sklearn-color-unfitted-level-1) 1pt solid;\n",
       "}\n",
       "\n",
       "#sk-container-id-1 a.estimator_doc_link.fitted {\n",
       "  /* fitted */\n",
       "  border: var(--sklearn-color-fitted-level-1) 1pt solid;\n",
       "  color: var(--sklearn-color-fitted-level-1);\n",
       "}\n",
       "\n",
       "/* On hover */\n",
       "#sk-container-id-1 a.estimator_doc_link:hover {\n",
       "  /* unfitted */\n",
       "  background-color: var(--sklearn-color-unfitted-level-3);\n",
       "  color: var(--sklearn-color-background);\n",
       "  text-decoration: none;\n",
       "}\n",
       "\n",
       "#sk-container-id-1 a.estimator_doc_link.fitted:hover {\n",
       "  /* fitted */\n",
       "  background-color: var(--sklearn-color-fitted-level-3);\n",
       "}\n",
       "</style><div id=\"sk-container-id-1\" class=\"sk-top-container\"><div class=\"sk-text-repr-fallback\"><pre>GridSearchCV(cv=5, estimator=KNeighborsClassifier(),\n",
       "             param_grid={&#x27;metric&#x27;: [&#x27;euclidean&#x27;, &#x27;manhattan&#x27;],\n",
       "                         &#x27;n_neighbors&#x27;: array([ 1,  2,  3,  4,  5,  6,  7,  8,  9, 10, 11, 12, 13, 14, 15, 16, 17,\n",
       "       18, 19])})</pre><b>In a Jupyter environment, please rerun this cell to show the HTML representation or trust the notebook. <br />On GitHub, the HTML representation is unable to render, please try loading this page with nbviewer.org.</b></div><div class=\"sk-container\" hidden><div class=\"sk-item sk-dashed-wrapped\"><div class=\"sk-label-container\"><div class=\"sk-label fitted sk-toggleable\"><input class=\"sk-toggleable__control sk-hidden--visually\" id=\"sk-estimator-id-1\" type=\"checkbox\" ><label for=\"sk-estimator-id-1\" class=\"sk-toggleable__label fitted sk-toggleable__label-arrow fitted\">&nbsp;&nbsp;GridSearchCV<a class=\"sk-estimator-doc-link fitted\" rel=\"noreferrer\" target=\"_blank\" href=\"https://scikit-learn.org/1.5/modules/generated/sklearn.model_selection.GridSearchCV.html\">?<span>Documentation for GridSearchCV</span></a><span class=\"sk-estimator-doc-link fitted\">i<span>Fitted</span></span></label><div class=\"sk-toggleable__content fitted\"><pre>GridSearchCV(cv=5, estimator=KNeighborsClassifier(),\n",
       "             param_grid={&#x27;metric&#x27;: [&#x27;euclidean&#x27;, &#x27;manhattan&#x27;],\n",
       "                         &#x27;n_neighbors&#x27;: array([ 1,  2,  3,  4,  5,  6,  7,  8,  9, 10, 11, 12, 13, 14, 15, 16, 17,\n",
       "       18, 19])})</pre></div> </div></div><div class=\"sk-parallel\"><div class=\"sk-parallel-item\"><div class=\"sk-item\"><div class=\"sk-label-container\"><div class=\"sk-label fitted sk-toggleable\"><input class=\"sk-toggleable__control sk-hidden--visually\" id=\"sk-estimator-id-2\" type=\"checkbox\" ><label for=\"sk-estimator-id-2\" class=\"sk-toggleable__label fitted sk-toggleable__label-arrow fitted\">best_estimator_: KNeighborsClassifier</label><div class=\"sk-toggleable__content fitted\"><pre>KNeighborsClassifier(metric=&#x27;euclidean&#x27;)</pre></div> </div></div><div class=\"sk-serial\"><div class=\"sk-item\"><div class=\"sk-estimator fitted sk-toggleable\"><input class=\"sk-toggleable__control sk-hidden--visually\" id=\"sk-estimator-id-3\" type=\"checkbox\" ><label for=\"sk-estimator-id-3\" class=\"sk-toggleable__label fitted sk-toggleable__label-arrow fitted\">&nbsp;KNeighborsClassifier<a class=\"sk-estimator-doc-link fitted\" rel=\"noreferrer\" target=\"_blank\" href=\"https://scikit-learn.org/1.5/modules/generated/sklearn.neighbors.KNeighborsClassifier.html\">?<span>Documentation for KNeighborsClassifier</span></a></label><div class=\"sk-toggleable__content fitted\"><pre>KNeighborsClassifier(metric=&#x27;euclidean&#x27;)</pre></div> </div></div></div></div></div></div></div></div></div>"
      ],
      "text/plain": [
       "GridSearchCV(cv=5, estimator=KNeighborsClassifier(),\n",
       "             param_grid={'metric': ['euclidean', 'manhattan'],\n",
       "                         'n_neighbors': array([ 1,  2,  3,  4,  5,  6,  7,  8,  9, 10, 11, 12, 13, 14, 15, 16, 17,\n",
       "       18, 19])})"
      ]
     },
     "execution_count": 55,
     "metadata": {},
     "output_type": "execute_result"
    }
   ],
   "source": [
    "#entraîner cette grille avec la méthode fit()\n",
    "#en passant les données du train set\n",
    "grid.fit(X_train, y_train)"
   ]
  },
  {
   "cell_type": "code",
   "execution_count": 56,
   "id": "d5d5a0d3-1a44-4663-aba1-c8cff8826487",
   "metadata": {},
   "outputs": [
    {
     "name": "stdout",
     "output_type": "stream",
     "text": [
      "Meilleurs paramètres : {'metric': 'euclidean', 'n_neighbors': 5}\n",
      "Meilleur score : 0.9833333333333334\n"
     ]
    }
   ],
   "source": [
    "#une fois l'entraînement terminé\n",
    "#on peut voir le modèle qui a eu le meilleur score\n",
    "#et donc les meilleurs hyperparamètres trouvés par la recherche de grille et le score correspondant:\n",
    "print(\"Meilleurs paramètres :\", grid.best_params_)  \n",
    "print(\"Meilleur score :\", grid.best_score_)"
   ]
  },
  {
   "cell_type": "code",
   "execution_count": 57,
   "id": "fcd3cad0-6c9a-4afc-a869-ca13ae52fb66",
   "metadata": {},
   "outputs": [],
   "source": [
    "#enregistrer le modèle dqns la variable model\n",
    "model = grid.best_estimator_"
   ]
  },
  {
   "cell_type": "code",
   "execution_count": 58,
   "id": "f222e713-3a0d-4ccc-ac29-6306d710fb69",
   "metadata": {},
   "outputs": [
    {
     "name": "stdout",
     "output_type": "stream",
     "text": [
      "Score sur l'ensemble de test : 0.9333333333333333\n"
     ]
    }
   ],
   "source": [
    "#Le modèle est ensuite évalué sur les données (l'ensemble de test) X_test et y_test\n",
    "#pour obtenir une estimation de performance dans la vraie vie\n",
    "test_score = grid.score(X_test, y_test)\n",
    "\n",
    "#afficher le score sur l'ensemble de test\n",
    "print(\"Score sur l'ensemble de test :\", test_score)"
   ]
  },
  {
   "cell_type": "markdown",
   "id": "f232a1da-4705-4ffd-a1e3-698640401196",
   "metadata": {},
   "source": [
    "- On peut ensuite utiliser une autre mesure pour évaluer la performance du modèle.\n",
    "\n",
    "On peut, par exemple, utiliser **la confusion matrix** pour montrer **les erreurs** (de classement) dans le modèle**."
   ]
  },
  {
   "cell_type": "code",
   "execution_count": 60,
   "id": "ae985822-c259-4c86-96de-46a639cb687b",
   "metadata": {},
   "outputs": [
    {
     "data": {
      "text/plain": [
       "array([[ 8,  0,  0],\n",
       "       [ 0,  9,  2],\n",
       "       [ 0,  0, 11]], dtype=int64)"
      ]
     },
     "execution_count": 60,
     "metadata": {},
     "output_type": "execute_result"
    }
   ],
   "source": [
    "#on utilise le modèle pour prédire les classes sur les données de test\n",
    "y_pred = model.predict(X_test)\n",
    "\n",
    "#calculer la matrice de confusion en comparant les vraies étiquettes avec celles prédites\n",
    "confusion_matrix(y_test, y_pred)"
   ]
  },
  {
   "cell_type": "markdown",
   "id": "cbd0dcd6-d4a7-4df3-89e7-6b5308288ecf",
   "metadata": {},
   "source": [
    "**Interprétation de la Matrice de Confusion (cm):**\n",
    "\n",
    "On obtient une matrice carrée:\n",
    "\n",
    "- **Les lignes** de la matrice de confusion **représentent les classes vraies**, tandis que les **colonnes représentent les classes prédites**.\n",
    "- Chaque entrée (cm[i][j]) dans la matrice indique le nombre d'observations de la classe réelle i qui ont été prédites comme appartenant à la classe j.\n",
    "- **Un modèle parfait aura toutes ses prédictions sur la diagonale (c’est-à-dire que toutes les prévisions sont correctes).**"
   ]
  },
  {
   "cell_type": "code",
   "execution_count": 62,
   "id": "eb44fc9a-8b9b-488c-833f-f6c2ad81c4ec",
   "metadata": {},
   "outputs": [
    {
     "data": {
      "text/plain": [
       "\"\\nici, on a:\\nune matrice carrée de dimensions 3x3 pcq'on a 3 espèces de fleurs d'Iris dans le dataset.\\n- Les lignes:\\n1ère ligne: classe 1 (ou 1ère classe) dans la vraie fleur\\n2ème ligne: classe 2 dans la vraie fleur\\n3ème ligne: classe 3 dans la vraie fleur\\n\\n- Les colonnes:\\n1ère colonne: classe 1 dans la prédiction\\n2ème colonne: classe 2 dans la prédiction\\n3ème colonne: classe 3 dans la prédiction\\n\\nDans l'expemple, on a:\\n\\n* 1ère ligne:\\nles 8 fleurs (de la classe 1 de la vraie fleur) sont bien rangées dans la 1ère classe de la prédiction\\n(bonne prédiction de la classe des fleurs)\\n\\n* 2ème ligne:\\nparmi les 11 fleurs de la 2ème classe, 9 sont bien classées dans la classe 2\\net 2 sont classés dans la classe 3 dans la prédiction\\n\\n* 3ème ligne:\\nles 11 fleurs (de la classe 1 de la vraie fleur) sont bien rangées dans la 1ère classe de la prédiction\\n(bonne prédiction de la classe des fleurs)\\n\""
      ]
     },
     "execution_count": 62,
     "metadata": {},
     "output_type": "execute_result"
    }
   ],
   "source": [
    "'''\n",
    "ici, on a:\n",
    "une matrice carrée de dimensions 3x3 pcq'on a 3 espèces de fleurs d'Iris dans le dataset.\n",
    "- Les lignes:\n",
    "1ère ligne: classe 1 (ou 1ère classe) dans la vraie fleur\n",
    "2ème ligne: classe 2 dans la vraie fleur\n",
    "3ème ligne: classe 3 dans la vraie fleur\n",
    "\n",
    "- Les colonnes:\n",
    "1ère colonne: classe 1 dans la prédiction\n",
    "2ème colonne: classe 2 dans la prédiction\n",
    "3ème colonne: classe 3 dans la prédiction\n",
    "\n",
    "Dans l'expemple, on a:\n",
    "\n",
    "* 1ère ligne:\n",
    "les 8 fleurs (de la classe 1 de la vraie fleur) sont bien rangées dans la 1ère classe de la prédiction\n",
    "(bonne prédiction de la classe des fleurs)\n",
    "\n",
    "* 2ème ligne:\n",
    "parmi les 11 fleurs de la 2ème classe, 9 sont bien classées dans la classe 2\n",
    "et 2 sont classés dans la classe 3 dans la prédiction\n",
    "\n",
    "* 3ème ligne:\n",
    "les 11 fleurs (de la classe 1 de la vraie fleur) sont bien rangées dans la 1ère classe de la prédiction\n",
    "(bonne prédiction de la classe des fleurs)\n",
    "'''"
   ]
  },
  {
   "cell_type": "markdown",
   "id": "63d8397c-a8e4-4dfb-a4ea-795ed5bd90f2",
   "metadata": {},
   "source": [
    "## Learning curve(s)"
   ]
  },
  {
   "cell_type": "markdown",
   "id": "356a78f4-1620-4efa-9d3a-52c28ede9fee",
   "metadata": {},
   "source": [
    "La courbe d'apprentissage montre l'évolution de la performance du modèle en fonction de la quantité de données qu'on lui fournit.\n",
    "\n",
    "Typiquement, plus il y a de données, meilleure sera la performance du modèle. Mais la performance finit toujours par atteindre un plafond et ne peut plus être améliorée, et quand c'est le cas, c'est inutile d'avoir plus de données.\n",
    "\n",
    "Sa formule: **learning_curve(model, X, y, train_sizes, cv=5)**"
   ]
  },
  {
   "cell_type": "code",
   "execution_count": 65,
   "id": "7a530705-123b-4a29-8a47-36144b85838f",
   "metadata": {},
   "outputs": [
    {
     "data": {
      "text/plain": [
       "array([0.2, 0.4, 0.6, 0.8, 1. ])"
      ]
     },
     "execution_count": 65,
     "metadata": {},
     "output_type": "execute_result"
    }
   ],
   "source": [
    "#train_sizes:les tailles d'échantillon d'entraînement utilisées pour évaluer le modèle\n",
    "#0.2, 0.4, 0.6, 0.8, et 1.0 représentent 20% , 40%, 60%, 80% et 100%\n",
    "train_sizes=np.linspace(0.2, 1.0, 5)\n",
    "\n",
    "#afficher train_sizes\n",
    "train_sizes"
   ]
  },
  {
   "cell_type": "code",
   "execution_count": 66,
   "id": "3532aa69-07da-4495-b62e-b62785337f34",
   "metadata": {},
   "outputs": [
    {
     "name": "stdout",
     "output_type": "stream",
     "text": [
      "Tailles d'entraînement : [19 38 57 76 96]\n",
      "Scores d'entraînement moyens : [0.98947368 1.         0.99649123 0.98684211 0.98125   ]\n",
      "Scores de validation moyens : [0.95833333 0.98333333 0.98333333 0.975      0.98333333]\n"
     ]
    }
   ],
   "source": [
    "#train_sizes:les tailles d'échantillon d'entraînement utilisées pour évaluer le modèle\n",
    "#train_scores et val_scores:les scores de précision pour les ensembles d'entraînement et de validation\n",
    "N, train_score, val_score = learning_curve(model, X_train, y_train, train_sizes=np.linspace(0.2, 1.0, 5), cv=5)\n",
    "\n",
    "#afficher les tailles d'échantillon utilisées dans l'évaluation\n",
    "print(\"Tailles d'entraînement :\", N)\n",
    "\n",
    "#afficher les scores d'entraînement et de validation moyens pour chaque taille d'échantillon\n",
    "print(\"Scores d'entraînement moyens :\", train_score.mean(axis=1))  \n",
    "print(\"Scores de validation moyens :\", val_score.mean(axis=1))"
   ]
  },
  {
   "cell_type": "code",
   "execution_count": 67,
   "id": "4737e961-3d53-4f97-8d75-09453ca4bf56",
   "metadata": {},
   "outputs": [
    {
     "data": {
      "text/plain": [
       "\"\\nTailles d'entraînement : [0.2 0.4 0.6 0.8 1. ]\\n\\nsignifie que, si le dataset contient 100 exemples de fleurs, alors on aura:\\n\\n20 points pour le 1er lot.\\n40 points pour le 2ème lot.\\n60 points pour le 3ème lot.\\n80 points pour le 4ème lot.\\n100 points pour le 5ème lot.\\n\\nCes différentes quantitées sont retrouvées dans la variable N qui est retournée par la fonction learning_curve().\\nEn ce cas, on voit que si on découpe X_train et y_train avec ces pourcentages, on obtiendra dans:\\n\\n-le 1er lot, 19 points\\n-le 2ème lot, 38 points\\n-le 3ème lot, 57 points\\n-le 4ème lot, 76 points\\n-le 5ème lot, 96 points\\n\""
      ]
     },
     "execution_count": 67,
     "metadata": {},
     "output_type": "execute_result"
    }
   ],
   "source": [
    "\"\"\"\n",
    "Tailles d'entraînement : [0.2 0.4 0.6 0.8 1. ]\n",
    "\n",
    "signifie que, si le dataset contient 100 exemples de fleurs, alors on aura:\n",
    "\n",
    "20 points pour le 1er lot.\n",
    "40 points pour le 2ème lot.\n",
    "60 points pour le 3ème lot.\n",
    "80 points pour le 4ème lot.\n",
    "100 points pour le 5ème lot.\n",
    "\n",
    "Ces différentes quantitées sont retrouvées dans la variable N qui est retournée par la fonction learning_curve().\n",
    "En ce cas, on voit que si on découpe X_train et y_train avec ces pourcentages, on obtiendra dans:\n",
    "\n",
    "-le 1er lot, 19 points\n",
    "-le 2ème lot, 38 points\n",
    "-le 3ème lot, 57 points\n",
    "-le 4ème lot, 76 points\n",
    "-le 5ème lot, 96 points\n",
    "\"\"\""
   ]
  },
  {
   "cell_type": "code",
   "execution_count": 68,
   "id": "356b974c-f8f8-4252-9c8e-612104e597b3",
   "metadata": {
    "scrolled": true
   },
   "outputs": [
    {
     "name": "stdout",
     "output_type": "stream",
     "text": [
      "Tailles d'entraînement : [ 9 19 28 38 48 57 67 76 86 96]\n",
      "Scores d'entraînement moyens : [0.91111111 0.98947368 1.         1.         0.99583333 0.99649123\n",
      " 0.98507463 0.98684211 0.97674419 0.98125   ]\n",
      "Scores de validation moyens : [0.68333333 0.95833333 0.98333333 0.98333333 0.975      0.98333333\n",
      " 0.975      0.975      0.98333333 0.98333333]\n"
     ]
    },
    {
     "data": {
      "text/plain": [
       "<matplotlib.legend.Legend at 0x19e3aae5dc0>"
      ]
     },
     "execution_count": 68,
     "metadata": {},
     "output_type": "execute_result"
    },
    {
     "data": {
      "image/png": "[encoded data removed]",
      "text/plain": [
       "<Figure size 640x480 with 1 Axes>"
      ]
     },
     "metadata": {},
     "output_type": "display_data"
    }
   ],
   "source": [
    "#train_sizes:les tailles d'échantillon d'entraînement utilisées pour évaluer le modèle\n",
    "#train_scores et val_scores:les scores de précision pour les ensembles d'entraînement et de validation\n",
    "#train_sizes=np.linspace(0.1, 1.0, 10)\n",
    "#train_sizes définit 10 tailles échantillonnées linéairement entre 10% et 100% de l'échantillon d'entraînement total\n",
    "\n",
    "#calculer les courbes d'apprentissage  \n",
    "N, train_score, val_score = learning_curve(model, X_train, y_train, train_sizes=np.linspace(0.1, 1.0, 10), cv=5)\n",
    "\n",
    "#afficher les tailles d'échantillon utilisées dans l'évaluation.\n",
    "print(\"Tailles d'entraînement :\", N)\n",
    "\n",
    "#afficher les scores d'entraînement et de validation moyens pour chaque taille d'échantillon\n",
    "print(\"Scores d'entraînement moyens :\", train_score.mean(axis=1))  \n",
    "print(\"Scores de validation moyens :\", val_score.mean(axis=1))\n",
    "\n",
    "plt.plot(N, train_score.mean(axis=1), label= 'Training')  #1ère courbe du training\n",
    "\n",
    "plt.plot(N, val_score.mean(axis=1), label= 'Validation')  #2ème courbe de la validation\n",
    "\n",
    "#configurations des axes  \n",
    "plt.xlabel('Taille d\\'échantillon d\\'entraînement')  #étiquette de l'axe des x  \n",
    "plt.ylabel('Score (Précision)')  #étiquette de l'axe des y  \n",
    "plt.title('Courbes d\\'apprentissage pour KNN')  #titre du graphique  \n",
    "plt.legend()  #afficher la légende pour les courbes"
   ]
  },
  {
   "cell_type": "code",
   "execution_count": 69,
   "id": "d1814ce3-f46e-4158-a06c-9dba1578b20d",
   "metadata": {},
   "outputs": [],
   "source": [
    "#on voit que la performance du modèle ne s'améliore plus à partie du moment où on a environ 60 points dans le dataset\n",
    "#il est peu probable qu'on aura des meilleures performances en ayant 100, 200, ou 1000 points ( dans le dataset)\n",
    "#c'est important à savoir pcq c'est cher de récolter des informations (pour le dataset)\n",
    "#on ne veut pas sépenser de l'argent pour rien!"
   ]
  },
  {
   "cell_type": "markdown",
   "id": "8d8968a8-bba0-46c6-91a5-13cd9424054c",
   "metadata": {},
   "source": [
    "**L'utilité des Courbes d'Apprentissage:**\n",
    "\n",
    "Les courbes d'apprentissage montrent comment un modèle apprend à partir d'un nombre croissant de données d'entraînement. En observant ces courbes :\n",
    "\n",
    "- **Overfitting (sur-apprentissage) :** Si le **score d'entraînement est élevé** tandis que le **score de validation est faible à des tailles d'échantillon élevées**, cela indique que le modèle est trop complexe et s'adapte trop aux données d'entraînement.\n",
    "- **Underfitting (sous-apprentissage) :** Si **les deux scores sont faibles**, le modèle est probablement trop simple pour saisir les tendances sous-jacentes des données."
   ]
  },
  {
   "cell_type": "code",
   "execution_count": null,
   "id": "fdc0a549-a2a4-4dfb-aa19-c9aa8eaff7a2",
   "metadata": {},
   "outputs": [],
   "source": []
  }
 ],
 "metadata": {
  "kernelspec": {
   "display_name": "Python 3 (ipykernel)",
   "language": "python",
   "name": "python3"
  },
  "language_info": {
   "codemirror_mode": {
    "name": "ipython",
    "version": 3
   },
   "file_extension": ".py",
   "mimetype": "text/x-python",
   "name": "python",
   "nbconvert_exporter": "python",
   "pygments_lexer": "ipython3",
   "version": "3.12.7"
  }
 },
 "nbformat": 4,
 "nbformat_minor": 5
}
