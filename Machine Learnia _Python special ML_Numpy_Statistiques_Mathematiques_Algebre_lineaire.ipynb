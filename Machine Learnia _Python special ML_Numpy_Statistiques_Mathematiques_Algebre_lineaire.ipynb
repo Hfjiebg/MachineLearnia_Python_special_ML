{
 "cells": [
  {
   "cell_type": "markdown",
   "id": "f050469c-0ab1-45a7-a13a-f0305dc16ebd",
   "metadata": {},
   "source": [
    "# Numpy: Statistiques, mathématiques et algèbre linéaire"
   ]
  },
  {
   "cell_type": "markdown",
   "id": "55091716-fe54-4b1a-80b7-84c7f65e082f",
   "metadata": {},
   "source": [
    "URL : https://youtu.be/RwFiNlL4Q8g?si=bAYbSq3Cw9Imc70t"
   ]
  },
  {
   "cell_type": "code",
   "execution_count": 178,
   "id": "592ab30f-cf1f-4ad3-99ca-88458c51eb1c",
   "metadata": {},
   "outputs": [],
   "source": [
    "import numpy as np"
   ]
  },
  {
   "cell_type": "code",
   "execution_count": 179,
   "id": "983d6027-dee6-4fc5-9fe9-2764987420f0",
   "metadata": {},
   "outputs": [
    {
     "data": {
      "text/plain": [
       "array([[5, 0, 3],\n",
       "       [3, 7, 9]])"
      ]
     },
     "execution_count": 179,
     "metadata": {},
     "output_type": "execute_result"
    }
   ],
   "source": [
    "#Pour que les valeurs ne changent pas\n",
    "#si on veut changer les éléments de A, on change le 0\n",
    "np.random.seed(0)\n",
    "\n",
    "#A est un tableau de dimensions (2,3), càd 2 lignes et 3 colonnes\n",
    "# et qui a des valeurs int compris entre 0 et 10\n",
    "A = np.random.randint(0, 10, [2,3])\n",
    "\n",
    "#afficher A\n",
    "A"
   ]
  },
  {
   "cell_type": "markdown",
   "id": "dabe7768-ed8f-48a3-a20b-3fd308a3e657",
   "metadata": {},
   "source": [
    "## Méthodes basiques nd.array"
   ]
  },
  {
   "cell_type": "markdown",
   "id": "4768eeeb-1e1f-4191-a3ff-ef9be34b92f6",
   "metadata": {},
   "source": [
    "### La somme: sum()"
   ]
  },
  {
   "cell_type": "code",
   "execution_count": 182,
   "id": "50d79ff6-6806-419f-b5a9-a93231b9d899",
   "metadata": {},
   "outputs": [
    {
     "data": {
      "text/plain": [
       "array([[5, 0, 3],\n",
       "       [3, 7, 9]])"
      ]
     },
     "execution_count": 182,
     "metadata": {},
     "output_type": "execute_result"
    }
   ],
   "source": [
    "#afficher A\n",
    "A"
   ]
  },
  {
   "cell_type": "code",
   "execution_count": 183,
   "id": "346c77bc-63b9-4f62-8368-bad577bfebfc",
   "metadata": {},
   "outputs": [
    {
     "data": {
      "text/plain": [
       "27"
      ]
     },
     "execution_count": 183,
     "metadata": {},
     "output_type": "execute_result"
    }
   ],
   "source": [
    "#la somme de tous les éléments du tableau\n",
    "A.sum()"
   ]
  },
  {
   "cell_type": "code",
   "execution_count": 184,
   "id": "e0817851-6e4d-45a1-b835-1deef25f41bf",
   "metadata": {},
   "outputs": [
    {
     "data": {
      "text/plain": [
       "array([ 8,  7, 12])"
      ]
     },
     "execution_count": 184,
     "metadata": {},
     "output_type": "execute_result"
    }
   ],
   "source": [
    "#la somme de tous les éléments du tableau, pour axis=0 (l'axe vertical)\n",
    "A.sum(axis=0)"
   ]
  },
  {
   "cell_type": "code",
   "execution_count": 185,
   "id": "e4f49fe2-5e4b-45bf-bd79-716d43187336",
   "metadata": {},
   "outputs": [
    {
     "data": {
      "text/plain": [
       "array([ 8, 19])"
      ]
     },
     "execution_count": 185,
     "metadata": {},
     "output_type": "execute_result"
    }
   ],
   "source": [
    "#la somme de tous les éléments du tableau, pour axis=1 (l'axe horizontal)\n",
    "A.sum(axis=1)"
   ]
  },
  {
   "cell_type": "markdown",
   "id": "01e39937-2297-467a-8263-5a2ef29e3e4b",
   "metadata": {},
   "source": [
    "### La somme cumulée: cumsum()"
   ]
  },
  {
   "cell_type": "code",
   "execution_count": 187,
   "id": "d595c5cb-c2bd-4676-883a-d84376799b71",
   "metadata": {},
   "outputs": [
    {
     "data": {
      "text/plain": [
       "array([[5, 0, 3],\n",
       "       [3, 7, 9]])"
      ]
     },
     "execution_count": 187,
     "metadata": {},
     "output_type": "execute_result"
    }
   ],
   "source": [
    "#afficher A\n",
    "A"
   ]
  },
  {
   "cell_type": "code",
   "execution_count": 188,
   "id": "856b1ba6-3906-4641-bf3b-ad32759a764a",
   "metadata": {},
   "outputs": [
    {
     "data": {
      "text/plain": [
       "array([ 5,  5,  8, 11, 18, 27])"
      ]
     },
     "execution_count": 188,
     "metadata": {},
     "output_type": "execute_result"
    }
   ],
   "source": [
    "#la somme cumulée de tous les éléments du tableau\n",
    "A.cumsum()"
   ]
  },
  {
   "cell_type": "code",
   "execution_count": 189,
   "id": "a0173be2-ae8f-4d5a-b2a6-0d35ab481cb6",
   "metadata": {},
   "outputs": [
    {
     "data": {
      "text/plain": [
       "array([[ 5,  0,  3],\n",
       "       [ 8,  7, 12]])"
      ]
     },
     "execution_count": 189,
     "metadata": {},
     "output_type": "execute_result"
    }
   ],
   "source": [
    "#la somme cumulée de tous les éléments du tableau, pour axis=0 (l'axe vertical)\n",
    "A.cumsum(axis=0)"
   ]
  },
  {
   "cell_type": "code",
   "execution_count": 190,
   "id": "a8ea86a5-aa94-432c-8509-869ef82c6f1d",
   "metadata": {},
   "outputs": [
    {
     "data": {
      "text/plain": [
       "array([[ 5,  5,  8],\n",
       "       [ 3, 10, 19]])"
      ]
     },
     "execution_count": 190,
     "metadata": {},
     "output_type": "execute_result"
    }
   ],
   "source": [
    "#la somme cumulée de tous les éléments du tableau, pour axis=1 (l'axe horizontal)\n",
    "A.cumsum(axis=1)"
   ]
  },
  {
   "cell_type": "markdown",
   "id": "c56a570c-d17e-4fee-ad17-735ad2b0b2fb",
   "metadata": {},
   "source": [
    "### Le produit, le produit cumulé: prod(), cumprod()"
   ]
  },
  {
   "cell_type": "code",
   "execution_count": 192,
   "id": "ec457446-d1b5-43b1-8b85-0a4a9c674ac1",
   "metadata": {},
   "outputs": [
    {
     "data": {
      "text/plain": [
       "array([[5, 0, 3],\n",
       "       [3, 7, 9]])"
      ]
     },
     "execution_count": 192,
     "metadata": {},
     "output_type": "execute_result"
    }
   ],
   "source": [
    "#afficher A\n",
    "A"
   ]
  },
  {
   "cell_type": "code",
   "execution_count": 193,
   "id": "de37d62a-8359-49a9-9806-424bb9825efb",
   "metadata": {},
   "outputs": [
    {
     "data": {
      "text/plain": [
       "0"
      ]
     },
     "execution_count": 193,
     "metadata": {},
     "output_type": "execute_result"
    }
   ],
   "source": [
    "#le produit de tous les éléments du tableau A\n",
    "A.prod()"
   ]
  },
  {
   "cell_type": "code",
   "execution_count": 194,
   "id": "f86fb47a-3469-4e24-925b-8720b93f1948",
   "metadata": {},
   "outputs": [
    {
     "data": {
      "text/plain": [
       "array([5, 0, 0, 0, 0, 0])"
      ]
     },
     "execution_count": 194,
     "metadata": {},
     "output_type": "execute_result"
    }
   ],
   "source": [
    "#le produit cumulé de tous les éléments du tableau A\n",
    "A.cumprod()"
   ]
  },
  {
   "cell_type": "markdown",
   "id": "64fefd89-80be-4d3f-a396-a4226e3430fe",
   "metadata": {},
   "source": [
    "### Le minimum, le maximum: min(), max()"
   ]
  },
  {
   "cell_type": "markdown",
   "id": "90bf4516-2739-4af5-a4c0-8fc3917635dd",
   "metadata": {},
   "source": [
    "#### La valeur minimale: min()"
   ]
  },
  {
   "cell_type": "code",
   "execution_count": 197,
   "id": "fcafa171-dfd5-4fa2-864c-c2bf8dde504d",
   "metadata": {},
   "outputs": [
    {
     "data": {
      "text/plain": [
       "array([[5, 0, 3],\n",
       "       [3, 7, 9]])"
      ]
     },
     "execution_count": 197,
     "metadata": {},
     "output_type": "execute_result"
    }
   ],
   "source": [
    "#afficher A\n",
    "A"
   ]
  },
  {
   "cell_type": "code",
   "execution_count": 198,
   "id": "ecdcbca5-d2f8-45f6-b932-d5e2b71eb0b7",
   "metadata": {},
   "outputs": [
    {
     "data": {
      "text/plain": [
       "0"
      ]
     },
     "execution_count": 198,
     "metadata": {},
     "output_type": "execute_result"
    }
   ],
   "source": [
    "#Le minimum du tableau A\n",
    "A.min()"
   ]
  },
  {
   "cell_type": "code",
   "execution_count": 199,
   "id": "0e66ea4b-0c8c-4f56-be66-bea6f1e1e3cb",
   "metadata": {},
   "outputs": [
    {
     "data": {
      "text/plain": [
       "array([3, 0, 3])"
      ]
     },
     "execution_count": 199,
     "metadata": {},
     "output_type": "execute_result"
    }
   ],
   "source": [
    "#Le minimum du tableau A pour axis=0\n",
    "A.min(axis=0)"
   ]
  },
  {
   "cell_type": "markdown",
   "id": "9b91fc0b-bf47-49ee-95cb-7204b41cc377",
   "metadata": {},
   "source": [
    "#### La position de la valeur minimale: argmin()"
   ]
  },
  {
   "cell_type": "code",
   "execution_count": 201,
   "id": "2e2af3ac-2448-419b-bd34-a6a8b4062eca",
   "metadata": {},
   "outputs": [
    {
     "data": {
      "text/plain": [
       "1"
      ]
     },
     "execution_count": 201,
     "metadata": {},
     "output_type": "execute_result"
    }
   ],
   "source": [
    "#la position du minimum dans le tableau A\n",
    "A.argmin()"
   ]
  },
  {
   "cell_type": "code",
   "execution_count": 202,
   "id": "f6da49f8-d963-4395-84d9-3da6fe9d5de5",
   "metadata": {},
   "outputs": [
    {
     "data": {
      "text/plain": [
       "array([1, 0, 0], dtype=int64)"
      ]
     },
     "execution_count": 202,
     "metadata": {},
     "output_type": "execute_result"
    }
   ],
   "source": [
    "#la position du minimum dans le tableau A selon axis=0\n",
    "A.argmin(axis=0)"
   ]
  },
  {
   "cell_type": "code",
   "execution_count": 203,
   "id": "04f3baed-733c-48c1-b6d3-fa77108b615d",
   "metadata": {},
   "outputs": [
    {
     "data": {
      "text/plain": [
       "\"\\nLe minimum du tableau A pour axis=0 est:\\narray([3, 0, 3])\\n\\n3 occupe l'indexe 1 dans l'axis=0, dans la 1ere colonne\\n0 occupe l'indexe 0 dans l'axis=0, dans la 2eme colonne\\n3 occupe l'indexe 0 dans l'axis=0, dans la 3eme colonne\\n\""
      ]
     },
     "execution_count": 203,
     "metadata": {},
     "output_type": "execute_result"
    }
   ],
   "source": [
    "'''\n",
    "Le minimum du tableau A pour axis=0 est:\n",
    "array([3, 0, 3])\n",
    "\n",
    "3 occupe l'indexe 1 dans l'axis=0, dans la 1ere colonne\n",
    "0 occupe l'indexe 0 dans l'axis=0, dans la 2eme colonne\n",
    "3 occupe l'indexe 0 dans l'axis=0, dans la 3eme colonne\n",
    "'''"
   ]
  },
  {
   "cell_type": "markdown",
   "id": "cf515f96-e55e-4bec-a770-a74cca11f662",
   "metadata": {},
   "source": [
    "**Remarque:**\n",
    "\n",
    "Comme il y a les methodes **min() et argmin()**, il y a les methodes **max() et argmax()**. On peut les appliquer de la meme maniere."
   ]
  },
  {
   "cell_type": "markdown",
   "id": "a39433f2-9e40-4403-896d-d9be89b91314",
   "metadata": {},
   "source": [
    "### sort() et argsort()"
   ]
  },
  {
   "cell_type": "markdown",
   "id": "d6d6cfce-a2d2-4bdf-be41-bbcadc95a98a",
   "metadata": {},
   "source": [
    "#### sort()"
   ]
  },
  {
   "cell_type": "code",
   "execution_count": 207,
   "id": "7b916497-5009-4912-9916-b3539d5c7ddf",
   "metadata": {},
   "outputs": [
    {
     "data": {
      "text/plain": [
       "array([[1, 4],\n",
       "       [7, 5]])"
      ]
     },
     "execution_count": 207,
     "metadata": {},
     "output_type": "execute_result"
    }
   ],
   "source": [
    "#tableau B\n",
    "B = np.array([[1,4], [7,5]])\n",
    "\n",
    "#afficher B\n",
    "B"
   ]
  },
  {
   "cell_type": "code",
   "execution_count": 208,
   "id": "80cbd1eb-2187-46e0-b102-64ee46be562f",
   "metadata": {},
   "outputs": [
    {
     "data": {
      "text/plain": [
       "array([[1, 4],\n",
       "       [7, 5]])"
      ]
     },
     "execution_count": 208,
     "metadata": {},
     "output_type": "execute_result"
    }
   ],
   "source": [
    "#ordonner selon axis=0\n",
    "B.sort(axis=0)\n",
    "\n",
    "#afficher B\n",
    "B"
   ]
  },
  {
   "cell_type": "code",
   "execution_count": 209,
   "id": "5b018893-6c7e-41ea-8775-0a8226a0f7a9",
   "metadata": {},
   "outputs": [
    {
     "data": {
      "text/plain": [
       "array([[1, 4],\n",
       "       [5, 7]])"
      ]
     },
     "execution_count": 209,
     "metadata": {},
     "output_type": "execute_result"
    }
   ],
   "source": [
    "#ordonner selon axis=1\n",
    "B.sort(axis=1)\n",
    "\n",
    "#afficher B\n",
    "B"
   ]
  },
  {
   "cell_type": "markdown",
   "id": "05a48f98-2bee-49ae-ad41-4ccb7a773c9d",
   "metadata": {},
   "source": [
    "#### argsort()"
   ]
  },
  {
   "cell_type": "markdown",
   "id": "04e4156b-9a01-4bc9-a14a-d719ef48e664",
   "metadata": {},
   "source": [
    "- Tableau a 1 dimension:"
   ]
  },
  {
   "cell_type": "code",
   "execution_count": 212,
   "id": "805ac5ab-95fa-47a6-8692-836465943f62",
   "metadata": {},
   "outputs": [
    {
     "data": {
      "text/plain": [
       "array([3, 1, 2])"
      ]
     },
     "execution_count": 212,
     "metadata": {},
     "output_type": "execute_result"
    }
   ],
   "source": [
    "#tableau C avec 1 dimension\n",
    "C = np.array([3, 1, 2])\n",
    "\n",
    "#afficher C\n",
    "C"
   ]
  },
  {
   "cell_type": "code",
   "execution_count": 213,
   "id": "87068583-ff24-405a-a631-9be7c3715cc1",
   "metadata": {},
   "outputs": [
    {
     "data": {
      "text/plain": [
       "array([1, 2, 0], dtype=int64)"
      ]
     },
     "execution_count": 213,
     "metadata": {},
     "output_type": "execute_result"
    }
   ],
   "source": [
    "#la façon dont il faut trier les indexes du + petit au + grand\n",
    "np.argsort(C)"
   ]
  },
  {
   "cell_type": "code",
   "execution_count": 214,
   "id": "8aa9aa13-d421-4f5f-80b6-4643af103457",
   "metadata": {},
   "outputs": [],
   "source": [
    "# 1 < 2 < 3\n",
    "#indexe 1, indexe 2, indexe 0"
   ]
  },
  {
   "cell_type": "markdown",
   "id": "525d4d7c-3bc4-48e7-8868-6bce1507cf5e",
   "metadata": {},
   "source": [
    "- Tableau a 2 dimensions:"
   ]
  },
  {
   "cell_type": "code",
   "execution_count": 216,
   "id": "fe175040-218e-4519-a625-c6394a1ace28",
   "metadata": {},
   "outputs": [
    {
     "data": {
      "text/plain": [
       "array([[0, 3],\n",
       "       [2, 2]])"
      ]
     },
     "execution_count": 216,
     "metadata": {},
     "output_type": "execute_result"
    }
   ],
   "source": [
    "#tableau D avec 2 dimensions\n",
    "D = np.array([[0, 3], [2, 2]])\n",
    "D"
   ]
  },
  {
   "cell_type": "code",
   "execution_count": 217,
   "id": "5adbf15a-6f8a-47a2-865e-13996308df8f",
   "metadata": {},
   "outputs": [
    {
     "data": {
      "text/plain": [
       "array([[0, 1],\n",
       "       [1, 0]], dtype=int64)"
      ]
     },
     "execution_count": 217,
     "metadata": {},
     "output_type": "execute_result"
    }
   ],
   "source": [
    "#ordonner le tableau selon axis=0\n",
    "np.argsort(D, axis=0)"
   ]
  },
  {
   "cell_type": "code",
   "execution_count": 218,
   "id": "83481d78-bfe4-4ad0-bfb2-9fb8325ee433",
   "metadata": {},
   "outputs": [],
   "source": [
    "#pour la 1ère colonne\n",
    "# 0 < 2\n",
    "# l'indexe de 0 est 0, l'indexe de 2 est 1\n",
    "\n",
    "#pour la 2ème colonne\n",
    "# 2 < 3\n",
    "# l'indexe de 2 est 1, l'indexe de 3 est 0"
   ]
  },
  {
   "cell_type": "code",
   "execution_count": 219,
   "id": "9e132e2c-182a-47ad-b49e-9734ff5d32e7",
   "metadata": {},
   "outputs": [
    {
     "data": {
      "text/plain": [
       "array([[0, 1],\n",
       "       [0, 1]], dtype=int64)"
      ]
     },
     "execution_count": 219,
     "metadata": {},
     "output_type": "execute_result"
    }
   ],
   "source": [
    "#ordonner le tableau selon axis=1\n",
    "np.argsort(D, axis=1)"
   ]
  },
  {
   "cell_type": "code",
   "execution_count": 220,
   "id": "0572a6bf-3f35-48d5-b5f1-74ecac6911e8",
   "metadata": {},
   "outputs": [],
   "source": [
    "#pour la 1ère ligne\n",
    "# 0 < 3\n",
    "# l'indexe de 0 est: 0, l'indexe de 3 est: 1\n",
    "\n",
    "#pour la 2ème ligne\n",
    "# 2 =< 2\n",
    "# l'indexe de 2 est: 0, l'indexe de 2 est: 1"
   ]
  },
  {
   "cell_type": "markdown",
   "id": "1f879e25-aaef-4ab8-8f8f-6fe26109ba70",
   "metadata": {},
   "source": [
    "### exp(), log(), cos(), sin()"
   ]
  },
  {
   "cell_type": "code",
   "execution_count": 222,
   "id": "b4ca6929-dc3b-425c-9d40-8645af808066",
   "metadata": {},
   "outputs": [
    {
     "data": {
      "text/plain": [
       "array([[1, 4],\n",
       "       [5, 7]])"
      ]
     },
     "execution_count": 222,
     "metadata": {},
     "output_type": "execute_result"
    }
   ],
   "source": [
    "#afficher B\n",
    "B"
   ]
  },
  {
   "cell_type": "code",
   "execution_count": 223,
   "id": "49cdfccc-1ac5-4228-bd7c-5c18ec2a50ec",
   "metadata": {},
   "outputs": [
    {
     "data": {
      "text/plain": [
       "array([[   2.71828183,   54.59815003],\n",
       "       [ 148.4131591 , 1096.63315843]])"
      ]
     },
     "execution_count": 223,
     "metadata": {},
     "output_type": "execute_result"
    }
   ],
   "source": [
    "np.exp(B)"
   ]
  },
  {
   "cell_type": "code",
   "execution_count": 224,
   "id": "9f29d568-8407-46f3-8865-f606a5feb151",
   "metadata": {},
   "outputs": [
    {
     "data": {
      "text/plain": [
       "array([[0.        , 1.38629436],\n",
       "       [1.60943791, 1.94591015]])"
      ]
     },
     "execution_count": 224,
     "metadata": {},
     "output_type": "execute_result"
    }
   ],
   "source": [
    "np.log(B)"
   ]
  },
  {
   "cell_type": "code",
   "execution_count": 225,
   "id": "04bbaa91-1cae-4e0f-9132-dc94084c32d1",
   "metadata": {},
   "outputs": [
    {
     "data": {
      "text/plain": [
       "array([[ 0.54030231, -0.65364362],\n",
       "       [ 0.28366219,  0.75390225]])"
      ]
     },
     "execution_count": 225,
     "metadata": {},
     "output_type": "execute_result"
    }
   ],
   "source": [
    "np.cos(B)"
   ]
  },
  {
   "cell_type": "code",
   "execution_count": 226,
   "id": "090fb2ea-5d44-4840-86e4-b265704ce973",
   "metadata": {},
   "outputs": [
    {
     "data": {
      "text/plain": [
       "array([[ 0.84147098, -0.7568025 ],\n",
       "       [-0.95892427,  0.6569866 ]])"
      ]
     },
     "execution_count": 226,
     "metadata": {},
     "output_type": "execute_result"
    }
   ],
   "source": [
    "np.sin(B)"
   ]
  },
  {
   "cell_type": "code",
   "execution_count": 227,
   "id": "83fa8232-515b-4631-bbab-f966695222d1",
   "metadata": {},
   "outputs": [
    {
     "data": {
      "text/plain": [
       "array([[  1.17520119,  27.2899172 ],\n",
       "       [ 74.20321058, 548.31612327]])"
      ]
     },
     "execution_count": 227,
     "metadata": {},
     "output_type": "execute_result"
    }
   ],
   "source": [
    "np.sinh(B)"
   ]
  },
  {
   "cell_type": "markdown",
   "id": "65d71fec-31d7-4c5a-b5a2-e3b7871a00a7",
   "metadata": {},
   "source": [
    "# Statistiques"
   ]
  },
  {
   "cell_type": "markdown",
   "id": "d3b32628-7570-44e7-9526-3bbc3fa398f9",
   "metadata": {},
   "source": [
    "### mean()"
   ]
  },
  {
   "cell_type": "code",
   "execution_count": 230,
   "id": "99e508ef-3a07-433b-bfe0-956742ac06b7",
   "metadata": {},
   "outputs": [
    {
     "data": {
      "text/plain": [
       "array([[5, 0, 3],\n",
       "       [3, 7, 9]])"
      ]
     },
     "execution_count": 230,
     "metadata": {},
     "output_type": "execute_result"
    }
   ],
   "source": [
    "#afficher A\n",
    "A"
   ]
  },
  {
   "cell_type": "code",
   "execution_count": 231,
   "id": "a1e3e497-96ed-4ad7-8ea0-4d889ddea5ba",
   "metadata": {},
   "outputs": [
    {
     "data": {
      "text/plain": [
       "4.5"
      ]
     },
     "execution_count": 231,
     "metadata": {},
     "output_type": "execute_result"
    }
   ],
   "source": [
    "#moyenne du tableau A\n",
    "A.mean()"
   ]
  },
  {
   "cell_type": "code",
   "execution_count": 232,
   "id": "3b2444f5-d38a-4f39-8522-47fe1c8389e4",
   "metadata": {},
   "outputs": [
    {
     "data": {
      "text/plain": [
       "array([4. , 3.5, 6. ])"
      ]
     },
     "execution_count": 232,
     "metadata": {},
     "output_type": "execute_result"
    }
   ],
   "source": [
    "#moyenne du tableau A selon axis=0\n",
    "A.mean(axis=0)"
   ]
  },
  {
   "cell_type": "code",
   "execution_count": 233,
   "id": "91b2fb6d-d39a-400b-b90b-2613f3f24146",
   "metadata": {},
   "outputs": [
    {
     "data": {
      "text/plain": [
       "array([2.66666667, 6.33333333])"
      ]
     },
     "execution_count": 233,
     "metadata": {},
     "output_type": "execute_result"
    }
   ],
   "source": [
    "#moyenne du tableau A selon axis=1\n",
    "A.mean(axis=1)"
   ]
  },
  {
   "cell_type": "markdown",
   "id": "586fe05b-b052-4c53-8841-06b03afc92d0",
   "metadata": {},
   "source": [
    "### std()"
   ]
  },
  {
   "cell_type": "code",
   "execution_count": 235,
   "id": "a0a9867e-9a24-4350-8dbe-7ea06ed027c1",
   "metadata": {},
   "outputs": [
    {
     "data": {
      "text/plain": [
       "2.9297326385411577"
      ]
     },
     "execution_count": 235,
     "metadata": {},
     "output_type": "execute_result"
    }
   ],
   "source": [
    "#écart type du tableau A\n",
    "A.std()"
   ]
  },
  {
   "cell_type": "markdown",
   "id": "232b0e5f-33b1-4b37-b71b-236c424b6715",
   "metadata": {},
   "source": [
    "### var()"
   ]
  },
  {
   "cell_type": "code",
   "execution_count": 237,
   "id": "150b4a19-a657-4dd4-ba37-594dc32e9baf",
   "metadata": {},
   "outputs": [
    {
     "data": {
      "text/plain": [
       "8.583333333333334"
      ]
     },
     "execution_count": 237,
     "metadata": {},
     "output_type": "execute_result"
    }
   ],
   "source": [
    "#variance du tableau A\n",
    "A.var()"
   ]
  },
  {
   "cell_type": "markdown",
   "id": "89ad8ccf-598b-479e-b09a-7651ec02ddde",
   "metadata": {},
   "source": [
    "### corrcoef: calculer des corrélations entre lignes ou colonnes"
   ]
  },
  {
   "cell_type": "code",
   "execution_count": 239,
   "id": "1c7f4381-076c-41ae-ba61-34f47f00ecfe",
   "metadata": {},
   "outputs": [
    {
     "data": {
      "text/plain": [
       "array([[5, 0, 3],\n",
       "       [3, 7, 9]])"
      ]
     },
     "execution_count": 239,
     "metadata": {},
     "output_type": "execute_result"
    }
   ],
   "source": [
    "A"
   ]
  },
  {
   "cell_type": "code",
   "execution_count": 240,
   "id": "066c73d1-27dd-4537-9f78-48add5eee0ba",
   "metadata": {},
   "outputs": [
    {
     "data": {
      "text/plain": [
       "array([[ 1.        , -0.56362148],\n",
       "       [-0.56362148,  1.        ]])"
      ]
     },
     "execution_count": 240,
     "metadata": {},
     "output_type": "execute_result"
    }
   ],
   "source": [
    "#matrice de corrélation\n",
    "np.corrcoef(A)"
   ]
  },
  {
   "cell_type": "code",
   "execution_count": 241,
   "id": "16c0324d-f796-4edb-8a38-8e05fd163720",
   "metadata": {},
   "outputs": [
    {
     "data": {
      "text/plain": [
       "-0.5636214801906779"
      ]
     },
     "execution_count": 241,
     "metadata": {},
     "output_type": "execute_result"
    }
   ],
   "source": [
    "#pour accéder à la valeur -0.56362148 dans la matrice de corrélation précédente\n",
    "#le coefficient de correlation qui se trouve à la 1ère ligne, 2ème colonne:\n",
    "np.corrcoef(A)[0,1]"
   ]
  },
  {
   "cell_type": "markdown",
   "id": "0f246883-68d1-45f0-992d-6e820eb213b2",
   "metadata": {},
   "source": [
    "### np.unique: compter le nombre repetitions dans notre dataset"
   ]
  },
  {
   "cell_type": "code",
   "execution_count": 243,
   "id": "3b21b278-cd2f-4846-9416-03d4d841560b",
   "metadata": {},
   "outputs": [
    {
     "data": {
      "text/plain": [
       "array([[5, 0, 3],\n",
       "       [3, 7, 9]])"
      ]
     },
     "execution_count": 243,
     "metadata": {},
     "output_type": "execute_result"
    }
   ],
   "source": [
    "#afficher A\n",
    "A"
   ]
  },
  {
   "cell_type": "code",
   "execution_count": 244,
   "id": "70656ff1-8e68-458f-930d-2bb88bcdd06f",
   "metadata": {},
   "outputs": [
    {
     "data": {
      "text/plain": [
       "(array([0, 3, 5, 7, 9]), array([1, 2, 1, 1, 1], dtype=int64))"
      ]
     },
     "execution_count": 244,
     "metadata": {},
     "output_type": "execute_result"
    }
   ],
   "source": [
    "#les éléments du tableau A et le nombre de répétitions de ces éléments\n",
    "np.unique(A, return_counts=True)"
   ]
  },
  {
   "cell_type": "markdown",
   "id": "7c4af124-66d1-4fe7-a941-b4113005795a",
   "metadata": {},
   "source": [
    "**Exemple:**"
   ]
  },
  {
   "cell_type": "markdown",
   "id": "0c3c130d-ad61-4fc9-a8f6-f233b91e25f0",
   "metadata": {},
   "source": [
    "- np.unique():"
   ]
  },
  {
   "cell_type": "code",
   "execution_count": 247,
   "id": "3ba72ea3-0dd2-4b5c-a57e-bbda9365766f",
   "metadata": {},
   "outputs": [
    {
     "data": {
      "text/plain": [
       "array([[5, 0, 3, 3, 7],\n",
       "       [9, 3, 5, 2, 4],\n",
       "       [7, 6, 8, 8, 1],\n",
       "       [6, 7, 7, 8, 1],\n",
       "       [5, 9, 8, 9, 4]])"
      ]
     },
     "execution_count": 247,
     "metadata": {},
     "output_type": "execute_result"
    }
   ],
   "source": [
    "np.random.seed(0)\n",
    "\n",
    "#X est un tableau de dimensions (5,5), càd 5 lignes et 5 colonnes\n",
    "# et qui a des valeurs int comprises entre 0 et 10\n",
    "X = np.random.randint(0, 10, [5,5])\n",
    "\n",
    "#afficher X\n",
    "X"
   ]
  },
  {
   "cell_type": "code",
   "execution_count": 248,
   "id": "b2d10bca-9bbd-448d-84c7-a2633fbbf6c5",
   "metadata": {},
   "outputs": [
    {
     "data": {
      "text/plain": [
       "(array([0, 1, 2, 3, 4, 5, 6, 7, 8, 9]),\n",
       " array([1, 2, 1, 3, 2, 3, 2, 4, 4, 3], dtype=int64))"
      ]
     },
     "execution_count": 248,
     "metadata": {},
     "output_type": "execute_result"
    }
   ],
   "source": [
    "#les éléments du tableau X et le nombre de répétitions de ces éléments\n",
    "np.unique(X, return_counts=True)"
   ]
  },
  {
   "cell_type": "markdown",
   "id": "c4db61f2-c84c-42d4-94e2-8e59462e6098",
   "metadata": {},
   "source": [
    "- Utiliser np.unique() avec argsort():\n",
    "\n",
    "Classer les **2 tableaux, values** (les elements du tableau Numpy) et **counts** (les nombres de repetitions des elements du tableau Numpy) afin de trouver quelles sont les elements qui apparaissent le + souvent (ou le - souvent) dans le dataset."
   ]
  },
  {
   "cell_type": "code",
   "execution_count": 250,
   "id": "ffa12447-f113-44aa-928d-9ac1245e6f1f",
   "metadata": {},
   "outputs": [],
   "source": [
    "#créer les 2 tableaux values et counts d'après le tableau X\n",
    "values, counts = np.unique(X, return_counts=True)"
   ]
  },
  {
   "cell_type": "code",
   "execution_count": 251,
   "id": "4ebf4806-4061-4169-be5e-909373ee2a4d",
   "metadata": {},
   "outputs": [
    {
     "data": {
      "text/plain": [
       "array([0, 1, 2, 3, 4, 5, 6, 7, 8, 9])"
      ]
     },
     "execution_count": 251,
     "metadata": {},
     "output_type": "execute_result"
    }
   ],
   "source": [
    "#afficher le tableau values\n",
    "values"
   ]
  },
  {
   "cell_type": "code",
   "execution_count": 252,
   "id": "7f723ec2-cf44-4935-81f0-29b9c49ffb0d",
   "metadata": {},
   "outputs": [
    {
     "data": {
      "text/plain": [
       "array([1, 2, 1, 3, 2, 3, 2, 4, 4, 3], dtype=int64)"
      ]
     },
     "execution_count": 252,
     "metadata": {},
     "output_type": "execute_result"
    }
   ],
   "source": [
    "#afficher le tableau counts\n",
    "counts"
   ]
  },
  {
   "cell_type": "code",
   "execution_count": 253,
   "id": "b6f93d8c-9824-408e-b761-60067b871ff2",
   "metadata": {},
   "outputs": [
    {
     "data": {
      "text/plain": [
       "array([0, 2, 1, 4, 6, 3, 5, 9, 7, 8], dtype=int64)"
      ]
     },
     "execution_count": 253,
     "metadata": {},
     "output_type": "execute_result"
    }
   ],
   "source": [
    "#un tableau les différents indexes qui permettent de trier counts\n",
    "counts.argsort()"
   ]
  },
  {
   "cell_type": "code",
   "execution_count": 254,
   "id": "70de88aa-b126-44ab-a15b-8617ba165a52",
   "metadata": {},
   "outputs": [],
   "source": [
    "#explication:\n",
    "#dans le tableau counts.argsort() on a les indexes qui correspondent au tri (par ordre croissant) des valeurs du tableau counts\n",
    "#le tri des éléments du tableau counts (par ordre croissant):\n",
    "# 1 =< 1 < 2 =< 2 =< 2 < 3 =< 3 =< 3 < 4 =< 4\n",
    "#les indexes de 1 sont: 0 et 2 dans le tableau counts\n",
    "#les indexes de 2 sont: 1, 4, et 6 dans le tableau counts\n",
    "#les indexes de 3 sont: 3, 5 et 9 dans le tableau counts\n",
    "#les indexes de 4 sont: 7 et 8 dans le tableau counts"
   ]
  },
  {
   "cell_type": "code",
   "execution_count": 255,
   "id": "96840d65-aff2-4df1-9ad4-28a13e462d26",
   "metadata": {},
   "outputs": [
    {
     "data": {
      "text/plain": [
       "array([0, 2, 1, 4, 6, 3, 5, 9, 7, 8])"
      ]
     },
     "execution_count": 255,
     "metadata": {},
     "output_type": "execute_result"
    }
   ],
   "source": [
    "#injecter les indexes de counts.argsort() a l'intérieur du tableau values\n",
    "values[counts.argsort()]"
   ]
  },
  {
   "cell_type": "code",
   "execution_count": 256,
   "id": "35b94bab-10e4-4e92-8f26-41b1cd641cab",
   "metadata": {},
   "outputs": [],
   "source": [
    "#explication:\n",
    "#les valeurs qui apparaîssent le + souvent dans le tableau X:\n",
    "# 8, puis 7, puis 9, puis 5,...etc\n",
    "# 0 apparaît le - souvent, et 8 apparaît le + souvent dans le tableau X"
   ]
  },
  {
   "cell_type": "code",
   "execution_count": 257,
   "id": "4e77037b-c1b1-40e9-8b65-9f478838e8d1",
   "metadata": {},
   "outputs": [
    {
     "data": {
      "text/plain": [
       "(array([0, 1, 2, 3, 4, 5, 6, 7, 8, 9]),\n",
       " array([1, 2, 1, 3, 2, 3, 2, 4, 4, 3], dtype=int64))"
      ]
     },
     "execution_count": 257,
     "metadata": {},
     "output_type": "execute_result"
    }
   ],
   "source": [
    "#pour s'assurer des resultats: (vu précédemment)\n",
    "#les éléments du tableau X et le nombre de répétitions de ces éléments\n",
    "np.unique(X, return_counts=True)"
   ]
  },
  {
   "cell_type": "code",
   "execution_count": 258,
   "id": "0ca4f3eb-1e09-4a58-9888-46b8cd21e871",
   "metadata": {},
   "outputs": [
    {
     "name": "stdout",
     "output_type": "stream",
     "text": [
      "La valeur 0 apparait 1 fois dans le dataset.\n",
      "La valeur 2 apparait 1 fois dans le dataset.\n",
      "La valeur 1 apparait 2 fois dans le dataset.\n",
      "La valeur 4 apparait 2 fois dans le dataset.\n",
      "La valeur 6 apparait 2 fois dans le dataset.\n",
      "La valeur 3 apparait 3 fois dans le dataset.\n",
      "La valeur 5 apparait 3 fois dans le dataset.\n",
      "La valeur 9 apparait 3 fois dans le dataset.\n",
      "La valeur 7 apparait 4 fois dans le dataset.\n",
      "La valeur 8 apparait 4 fois dans le dataset.\n"
     ]
    }
   ],
   "source": [
    "#pour rendre les resultats du tri présentables:\n",
    "for i, j in zip (values[counts.argsort()], counts[counts.argsort()]):\n",
    "    print(f'La valeur {i} apparait {j} fois dans le dataset.')"
   ]
  },
  {
   "cell_type": "markdown",
   "id": "297e85a9-4e2e-418a-92a5-19176712a556",
   "metadata": {},
   "source": [
    "### Nan (= not a number), np.nanmean(), np.nanstd()"
   ]
  },
  {
   "cell_type": "code",
   "execution_count": 260,
   "id": "e74aa7cf-bf3e-4fa3-b478-1b27199b5a75",
   "metadata": {},
   "outputs": [
    {
     "data": {
      "text/plain": [
       "array([[ 0.44386323,  0.33367433,         nan, -0.20515826,  0.3130677 ],\n",
       "       [-0.85409574, -2.55298982,  0.6536186 ,  0.8644362 , -0.74216502],\n",
       "       [ 2.26975462, -1.45436567,  0.04575852, -0.18718385,  1.53277921],\n",
       "       [ 1.46935877,  0.15494743,  0.37816252, -0.88778575, -1.98079647],\n",
       "       [-0.34791215,  0.15634897,  1.23029068,         nan, -0.38732682]])"
      ]
     },
     "execution_count": 260,
     "metadata": {},
     "output_type": "execute_result"
    }
   ],
   "source": [
    "# créer une tableau (5,5) avec des valeurs aléatoires suivant une distribution normale standard  \n",
    "A = np.random.randn(5, 5)  \n",
    "\n",
    "# introductuire des valeurs manquantes (NaN) dans la matrice  \n",
    "A[0, 2] = np.nan  # Remplace la valeur à la position (0, 2) par NaN  \n",
    "A[4, 3] = np.nan  # Remplace la valeur à la position (4, 3) par NaN  \n",
    "\n",
    "# afficher la matrice avec des valeurs NaN  \n",
    "A"
   ]
  },
  {
   "cell_type": "code",
   "execution_count": 261,
   "id": "174c01a1-b6b6-4948-92d6-74e00f1fc5f6",
   "metadata": {},
   "outputs": [
    {
     "data": {
      "text/plain": [
       "nan"
      ]
     },
     "execution_count": 261,
     "metadata": {},
     "output_type": "execute_result"
    }
   ],
   "source": [
    "#La moyenne de A\n",
    "A.mean()"
   ]
  },
  {
   "cell_type": "code",
   "execution_count": 262,
   "id": "595725eb-0daa-4405-9930-cc53ce447860",
   "metadata": {},
   "outputs": [
    {
     "data": {
      "text/plain": [
       "0.010707879575141632"
      ]
     },
     "execution_count": 262,
     "metadata": {},
     "output_type": "execute_result"
    }
   ],
   "source": [
    "#calculer la moyenne de A en ignorant les nan\n",
    "np.nanmean(A)"
   ]
  },
  {
   "cell_type": "code",
   "execution_count": 263,
   "id": "e533a1d3-6620-40fc-9872-77300e58f375",
   "metadata": {},
   "outputs": [
    {
     "data": {
      "text/plain": [
       "1.213857100788078"
      ]
     },
     "execution_count": 263,
     "metadata": {},
     "output_type": "execute_result"
    }
   ],
   "source": [
    "#calculer la variance de A en ignorant les nan\n",
    "np.nanvar(A)"
   ]
  },
  {
   "cell_type": "code",
   "execution_count": 264,
   "id": "20fa443b-5073-4ac1-9179-520660d44a41",
   "metadata": {},
   "outputs": [
    {
     "data": {
      "text/plain": [
       "1.1017518326683546"
      ]
     },
     "execution_count": 264,
     "metadata": {},
     "output_type": "execute_result"
    }
   ],
   "source": [
    "#calculer l'ecart type de A en ignorant les nan\n",
    "np.nanstd(A)"
   ]
  },
  {
   "cell_type": "markdown",
   "id": "9405db15-fed8-4cae-98eb-a920d505cc6c",
   "metadata": {},
   "source": [
    "### Compter les NaNs dans un tableau Numpy et filtrer les NaNs avec le boolean indexing"
   ]
  },
  {
   "cell_type": "code",
   "execution_count": 266,
   "id": "53788470-8b7a-4673-9098-79f6794bead3",
   "metadata": {},
   "outputs": [
    {
     "data": {
      "text/plain": [
       "array([[ 0.44386323,  0.33367433,         nan, -0.20515826,  0.3130677 ],\n",
       "       [-0.85409574, -2.55298982,  0.6536186 ,  0.8644362 , -0.74216502],\n",
       "       [ 2.26975462, -1.45436567,  0.04575852, -0.18718385,  1.53277921],\n",
       "       [ 1.46935877,  0.15494743,  0.37816252, -0.88778575, -1.98079647],\n",
       "       [-0.34791215,  0.15634897,  1.23029068,         nan, -0.38732682]])"
      ]
     },
     "execution_count": 266,
     "metadata": {},
     "output_type": "execute_result"
    }
   ],
   "source": [
    "#afficher A\n",
    "A"
   ]
  },
  {
   "cell_type": "code",
   "execution_count": 267,
   "id": "e0d1255c-d538-490f-8afd-002865633906",
   "metadata": {},
   "outputs": [
    {
     "data": {
      "text/plain": [
       "array([[False, False,  True, False, False],\n",
       "       [False, False, False, False, False],\n",
       "       [False, False, False, False, False],\n",
       "       [False, False, False, False, False],\n",
       "       [False, False, False,  True, False]])"
      ]
     },
     "execution_count": 267,
     "metadata": {},
     "output_type": "execute_result"
    }
   ],
   "source": [
    "#l'emplacement des NaNs:\n",
    "np.isnan(A)  #donne un masque"
   ]
  },
  {
   "cell_type": "code",
   "execution_count": 268,
   "id": "67d53b00-7f2a-4a7d-a7c4-1b7c2f5ece65",
   "metadata": {},
   "outputs": [
    {
     "data": {
      "text/plain": [
       "2"
      ]
     },
     "execution_count": 268,
     "metadata": {},
     "output_type": "execute_result"
    }
   ],
   "source": [
    "#nombre d'apparition des NaNs dans le tableau A\n",
    "np.isnan(A).sum()   #la somme des True, dans le masque np.isnan(A)"
   ]
  },
  {
   "cell_type": "code",
   "execution_count": 269,
   "id": "c91d39f5-fa21-416b-a28a-af34a59252c4",
   "metadata": {},
   "outputs": [
    {
     "data": {
      "text/plain": [
       "0.08"
      ]
     },
     "execution_count": 269,
     "metadata": {},
     "output_type": "execute_result"
    }
   ],
   "source": [
    "#le rapport (et donc le %) de NaN par rapport au tableau numpy\n",
    "#diviser le nombre d'apparition des NaN par le nombre d'éléments dans le tableau\n",
    "np.isnan(A).sum()/A.size  "
   ]
  },
  {
   "cell_type": "code",
   "execution_count": 270,
   "id": "4ede91de-ccb9-4163-baf3-e53b4031af86",
   "metadata": {},
   "outputs": [
    {
     "data": {
      "text/plain": [
       "array([[ 0.44386323,  0.33367433,  0.        , -0.20515826,  0.3130677 ],\n",
       "       [-0.85409574, -2.55298982,  0.6536186 ,  0.8644362 , -0.74216502],\n",
       "       [ 2.26975462, -1.45436567,  0.04575852, -0.18718385,  1.53277921],\n",
       "       [ 1.46935877,  0.15494743,  0.37816252, -0.88778575, -1.98079647],\n",
       "       [-0.34791215,  0.15634897,  1.23029068,  0.        , -0.38732682]])"
      ]
     },
     "execution_count": 270,
     "metadata": {},
     "output_type": "execute_result"
    }
   ],
   "source": [
    "#remplacer les éléments NaN par 0 dans le tableau A\n",
    "A[np.isnan(A)] = 0\n",
    "\n",
    "#afficher A\n",
    "A"
   ]
  },
  {
   "cell_type": "markdown",
   "id": "f5784a9c-f81d-4831-ac21-c52abe4687b9",
   "metadata": {},
   "source": [
    "## Algèbre linéaire (partie manquante)"
   ]
  },
  {
   "cell_type": "code",
   "execution_count": null,
   "id": "16e31613-d4e1-4135-911d-cf9c935cc301",
   "metadata": {},
   "outputs": [],
   "source": []
  }
 ],
 "metadata": {
  "kernelspec": {
   "display_name": "Python 3 (ipykernel)",
   "language": "python",
   "name": "python3"
  },
  "language_info": {
   "codemirror_mode": {
    "name": "ipython",
    "version": 3
   },
   "file_extension": ".py",
   "mimetype": "text/x-python",
   "name": "python",
   "nbconvert_exporter": "python",
   "pygments_lexer": "ipython3",
   "version": "3.12.7"
  }
 },
 "nbformat": 4,
 "nbformat_minor": 5
}
